{
  "nbformat": 4,
  "nbformat_minor": 0,
  "metadata": {
    "colab": {
      "name": "Depression analysis from tweets (Model Building).ipynb",
      "provenance": [],
      "mount_file_id": "1D0FSUFkfeQXVPogFSXcZGaG9BPN2LNtF",
      "authorship_tag": "ABX9TyO/oSh4BXZHT7Z20DXL6RiB",
      "include_colab_link": true
    },
    "kernelspec": {
      "name": "python3",
      "display_name": "Python 3"
    },
    "accelerator": "GPU"
  },
  "cells": [
    {
      "cell_type": "markdown",
      "metadata": {
        "id": "view-in-github",
        "colab_type": "text"
      },
      "source": [
        "<a href=\"https://colab.research.google.com/github/sayantikag98/Depression_Analysis/blob/master/Depression_analysis_from_tweets_(Model_Building).ipynb\" target=\"_parent\"><img src=\"https://colab.research.google.com/assets/colab-badge.svg\" alt=\"Open In Colab\"/></a>"
      ]
    },
    {
      "cell_type": "code",
      "metadata": {
        "id": "0rLt8vB4Yytj",
        "colab_type": "code",
        "colab": {}
      },
      "source": [
        "import nltk"
      ],
      "execution_count": 1,
      "outputs": []
    },
    {
      "cell_type": "code",
      "metadata": {
        "id": "jmRxzdH4ZXcS",
        "colab_type": "code",
        "colab": {
          "base_uri": "https://localhost:8080/",
          "height": 1000
        },
        "outputId": "8218c869-ba17-4915-c482-ea93efff9c93"
      },
      "source": [
        "nltk.download('all')"
      ],
      "execution_count": 2,
      "outputs": [
        {
          "output_type": "stream",
          "text": [
            "[nltk_data] Downloading collection 'all'\n",
            "[nltk_data]    | \n",
            "[nltk_data]    | Downloading package abc to /root/nltk_data...\n",
            "[nltk_data]    |   Unzipping corpora/abc.zip.\n",
            "[nltk_data]    | Downloading package alpino to /root/nltk_data...\n",
            "[nltk_data]    |   Unzipping corpora/alpino.zip.\n",
            "[nltk_data]    | Downloading package biocreative_ppi to\n",
            "[nltk_data]    |     /root/nltk_data...\n",
            "[nltk_data]    |   Unzipping corpora/biocreative_ppi.zip.\n",
            "[nltk_data]    | Downloading package brown to /root/nltk_data...\n",
            "[nltk_data]    |   Unzipping corpora/brown.zip.\n",
            "[nltk_data]    | Downloading package brown_tei to /root/nltk_data...\n",
            "[nltk_data]    |   Unzipping corpora/brown_tei.zip.\n",
            "[nltk_data]    | Downloading package cess_cat to /root/nltk_data...\n",
            "[nltk_data]    |   Unzipping corpora/cess_cat.zip.\n",
            "[nltk_data]    | Downloading package cess_esp to /root/nltk_data...\n",
            "[nltk_data]    |   Unzipping corpora/cess_esp.zip.\n",
            "[nltk_data]    | Downloading package chat80 to /root/nltk_data...\n",
            "[nltk_data]    |   Unzipping corpora/chat80.zip.\n",
            "[nltk_data]    | Downloading package city_database to\n",
            "[nltk_data]    |     /root/nltk_data...\n",
            "[nltk_data]    |   Unzipping corpora/city_database.zip.\n",
            "[nltk_data]    | Downloading package cmudict to /root/nltk_data...\n",
            "[nltk_data]    |   Unzipping corpora/cmudict.zip.\n",
            "[nltk_data]    | Downloading package comparative_sentences to\n",
            "[nltk_data]    |     /root/nltk_data...\n",
            "[nltk_data]    |   Unzipping corpora/comparative_sentences.zip.\n",
            "[nltk_data]    | Downloading package comtrans to /root/nltk_data...\n",
            "[nltk_data]    | Downloading package conll2000 to /root/nltk_data...\n",
            "[nltk_data]    |   Unzipping corpora/conll2000.zip.\n",
            "[nltk_data]    | Downloading package conll2002 to /root/nltk_data...\n",
            "[nltk_data]    |   Unzipping corpora/conll2002.zip.\n",
            "[nltk_data]    | Downloading package conll2007 to /root/nltk_data...\n",
            "[nltk_data]    | Downloading package crubadan to /root/nltk_data...\n",
            "[nltk_data]    |   Unzipping corpora/crubadan.zip.\n",
            "[nltk_data]    | Downloading package dependency_treebank to\n",
            "[nltk_data]    |     /root/nltk_data...\n",
            "[nltk_data]    |   Unzipping corpora/dependency_treebank.zip.\n",
            "[nltk_data]    | Downloading package dolch to /root/nltk_data...\n",
            "[nltk_data]    |   Unzipping corpora/dolch.zip.\n",
            "[nltk_data]    | Downloading package europarl_raw to\n",
            "[nltk_data]    |     /root/nltk_data...\n",
            "[nltk_data]    |   Unzipping corpora/europarl_raw.zip.\n",
            "[nltk_data]    | Downloading package floresta to /root/nltk_data...\n",
            "[nltk_data]    |   Unzipping corpora/floresta.zip.\n",
            "[nltk_data]    | Downloading package framenet_v15 to\n",
            "[nltk_data]    |     /root/nltk_data...\n",
            "[nltk_data]    |   Unzipping corpora/framenet_v15.zip.\n",
            "[nltk_data]    | Downloading package framenet_v17 to\n",
            "[nltk_data]    |     /root/nltk_data...\n",
            "[nltk_data]    |   Unzipping corpora/framenet_v17.zip.\n",
            "[nltk_data]    | Downloading package gazetteers to /root/nltk_data...\n",
            "[nltk_data]    |   Unzipping corpora/gazetteers.zip.\n",
            "[nltk_data]    | Downloading package genesis to /root/nltk_data...\n",
            "[nltk_data]    |   Unzipping corpora/genesis.zip.\n",
            "[nltk_data]    | Downloading package gutenberg to /root/nltk_data...\n",
            "[nltk_data]    |   Unzipping corpora/gutenberg.zip.\n",
            "[nltk_data]    | Downloading package ieer to /root/nltk_data...\n",
            "[nltk_data]    |   Unzipping corpora/ieer.zip.\n",
            "[nltk_data]    | Downloading package inaugural to /root/nltk_data...\n",
            "[nltk_data]    |   Unzipping corpora/inaugural.zip.\n",
            "[nltk_data]    | Downloading package indian to /root/nltk_data...\n",
            "[nltk_data]    |   Unzipping corpora/indian.zip.\n",
            "[nltk_data]    | Downloading package jeita to /root/nltk_data...\n",
            "[nltk_data]    | Downloading package kimmo to /root/nltk_data...\n",
            "[nltk_data]    |   Unzipping corpora/kimmo.zip.\n",
            "[nltk_data]    | Downloading package knbc to /root/nltk_data...\n",
            "[nltk_data]    | Downloading package lin_thesaurus to\n",
            "[nltk_data]    |     /root/nltk_data...\n",
            "[nltk_data]    |   Unzipping corpora/lin_thesaurus.zip.\n",
            "[nltk_data]    | Downloading package mac_morpho to /root/nltk_data...\n",
            "[nltk_data]    |   Unzipping corpora/mac_morpho.zip.\n",
            "[nltk_data]    | Downloading package machado to /root/nltk_data...\n",
            "[nltk_data]    | Downloading package masc_tagged to /root/nltk_data...\n",
            "[nltk_data]    | Downloading package moses_sample to\n",
            "[nltk_data]    |     /root/nltk_data...\n",
            "[nltk_data]    |   Unzipping models/moses_sample.zip.\n",
            "[nltk_data]    | Downloading package movie_reviews to\n",
            "[nltk_data]    |     /root/nltk_data...\n",
            "[nltk_data]    |   Unzipping corpora/movie_reviews.zip.\n",
            "[nltk_data]    | Downloading package names to /root/nltk_data...\n",
            "[nltk_data]    |   Unzipping corpora/names.zip.\n",
            "[nltk_data]    | Downloading package nombank.1.0 to /root/nltk_data...\n",
            "[nltk_data]    | Downloading package nps_chat to /root/nltk_data...\n",
            "[nltk_data]    |   Unzipping corpora/nps_chat.zip.\n",
            "[nltk_data]    | Downloading package omw to /root/nltk_data...\n",
            "[nltk_data]    |   Unzipping corpora/omw.zip.\n",
            "[nltk_data]    | Downloading package opinion_lexicon to\n",
            "[nltk_data]    |     /root/nltk_data...\n",
            "[nltk_data]    |   Unzipping corpora/opinion_lexicon.zip.\n",
            "[nltk_data]    | Downloading package paradigms to /root/nltk_data...\n",
            "[nltk_data]    |   Unzipping corpora/paradigms.zip.\n",
            "[nltk_data]    | Downloading package pil to /root/nltk_data...\n",
            "[nltk_data]    |   Unzipping corpora/pil.zip.\n",
            "[nltk_data]    | Downloading package pl196x to /root/nltk_data...\n",
            "[nltk_data]    |   Unzipping corpora/pl196x.zip.\n",
            "[nltk_data]    | Downloading package ppattach to /root/nltk_data...\n",
            "[nltk_data]    |   Unzipping corpora/ppattach.zip.\n",
            "[nltk_data]    | Downloading package problem_reports to\n",
            "[nltk_data]    |     /root/nltk_data...\n",
            "[nltk_data]    |   Unzipping corpora/problem_reports.zip.\n",
            "[nltk_data]    | Downloading package propbank to /root/nltk_data...\n",
            "[nltk_data]    | Downloading package ptb to /root/nltk_data...\n",
            "[nltk_data]    |   Unzipping corpora/ptb.zip.\n",
            "[nltk_data]    | Downloading package product_reviews_1 to\n",
            "[nltk_data]    |     /root/nltk_data...\n",
            "[nltk_data]    |   Unzipping corpora/product_reviews_1.zip.\n",
            "[nltk_data]    | Downloading package product_reviews_2 to\n",
            "[nltk_data]    |     /root/nltk_data...\n",
            "[nltk_data]    |   Unzipping corpora/product_reviews_2.zip.\n",
            "[nltk_data]    | Downloading package pros_cons to /root/nltk_data...\n",
            "[nltk_data]    |   Unzipping corpora/pros_cons.zip.\n",
            "[nltk_data]    | Downloading package qc to /root/nltk_data...\n",
            "[nltk_data]    |   Unzipping corpora/qc.zip.\n",
            "[nltk_data]    | Downloading package reuters to /root/nltk_data...\n",
            "[nltk_data]    | Downloading package rte to /root/nltk_data...\n",
            "[nltk_data]    |   Unzipping corpora/rte.zip.\n",
            "[nltk_data]    | Downloading package semcor to /root/nltk_data...\n",
            "[nltk_data]    | Downloading package senseval to /root/nltk_data...\n",
            "[nltk_data]    |   Unzipping corpora/senseval.zip.\n",
            "[nltk_data]    | Downloading package sentiwordnet to\n",
            "[nltk_data]    |     /root/nltk_data...\n",
            "[nltk_data]    |   Unzipping corpora/sentiwordnet.zip.\n",
            "[nltk_data]    | Downloading package sentence_polarity to\n",
            "[nltk_data]    |     /root/nltk_data...\n",
            "[nltk_data]    |   Unzipping corpora/sentence_polarity.zip.\n",
            "[nltk_data]    | Downloading package shakespeare to /root/nltk_data...\n",
            "[nltk_data]    |   Unzipping corpora/shakespeare.zip.\n",
            "[nltk_data]    | Downloading package sinica_treebank to\n",
            "[nltk_data]    |     /root/nltk_data...\n",
            "[nltk_data]    |   Unzipping corpora/sinica_treebank.zip.\n",
            "[nltk_data]    | Downloading package smultron to /root/nltk_data...\n",
            "[nltk_data]    |   Unzipping corpora/smultron.zip.\n",
            "[nltk_data]    | Downloading package state_union to /root/nltk_data...\n",
            "[nltk_data]    |   Unzipping corpora/state_union.zip.\n",
            "[nltk_data]    | Downloading package stopwords to /root/nltk_data...\n",
            "[nltk_data]    |   Unzipping corpora/stopwords.zip.\n",
            "[nltk_data]    | Downloading package subjectivity to\n",
            "[nltk_data]    |     /root/nltk_data...\n",
            "[nltk_data]    |   Unzipping corpora/subjectivity.zip.\n",
            "[nltk_data]    | Downloading package swadesh to /root/nltk_data...\n",
            "[nltk_data]    |   Unzipping corpora/swadesh.zip.\n",
            "[nltk_data]    | Downloading package switchboard to /root/nltk_data...\n",
            "[nltk_data]    |   Unzipping corpora/switchboard.zip.\n",
            "[nltk_data]    | Downloading package timit to /root/nltk_data...\n",
            "[nltk_data]    |   Unzipping corpora/timit.zip.\n",
            "[nltk_data]    | Downloading package toolbox to /root/nltk_data...\n",
            "[nltk_data]    |   Unzipping corpora/toolbox.zip.\n",
            "[nltk_data]    | Downloading package treebank to /root/nltk_data...\n",
            "[nltk_data]    |   Unzipping corpora/treebank.zip.\n",
            "[nltk_data]    | Downloading package twitter_samples to\n",
            "[nltk_data]    |     /root/nltk_data...\n",
            "[nltk_data]    |   Unzipping corpora/twitter_samples.zip.\n",
            "[nltk_data]    | Downloading package udhr to /root/nltk_data...\n",
            "[nltk_data]    |   Unzipping corpora/udhr.zip.\n",
            "[nltk_data]    | Downloading package udhr2 to /root/nltk_data...\n",
            "[nltk_data]    |   Unzipping corpora/udhr2.zip.\n",
            "[nltk_data]    | Downloading package unicode_samples to\n",
            "[nltk_data]    |     /root/nltk_data...\n",
            "[nltk_data]    |   Unzipping corpora/unicode_samples.zip.\n",
            "[nltk_data]    | Downloading package universal_treebanks_v20 to\n",
            "[nltk_data]    |     /root/nltk_data...\n",
            "[nltk_data]    | Downloading package verbnet to /root/nltk_data...\n",
            "[nltk_data]    |   Unzipping corpora/verbnet.zip.\n",
            "[nltk_data]    | Downloading package verbnet3 to /root/nltk_data...\n",
            "[nltk_data]    |   Unzipping corpora/verbnet3.zip.\n",
            "[nltk_data]    | Downloading package webtext to /root/nltk_data...\n",
            "[nltk_data]    |   Unzipping corpora/webtext.zip.\n",
            "[nltk_data]    | Downloading package wordnet to /root/nltk_data...\n",
            "[nltk_data]    |   Unzipping corpora/wordnet.zip.\n",
            "[nltk_data]    | Downloading package wordnet_ic to /root/nltk_data...\n",
            "[nltk_data]    |   Unzipping corpora/wordnet_ic.zip.\n",
            "[nltk_data]    | Downloading package words to /root/nltk_data...\n",
            "[nltk_data]    |   Unzipping corpora/words.zip.\n",
            "[nltk_data]    | Downloading package ycoe to /root/nltk_data...\n",
            "[nltk_data]    |   Unzipping corpora/ycoe.zip.\n",
            "[nltk_data]    | Downloading package rslp to /root/nltk_data...\n",
            "[nltk_data]    |   Unzipping stemmers/rslp.zip.\n",
            "[nltk_data]    | Downloading package maxent_treebank_pos_tagger to\n",
            "[nltk_data]    |     /root/nltk_data...\n",
            "[nltk_data]    |   Unzipping taggers/maxent_treebank_pos_tagger.zip.\n",
            "[nltk_data]    | Downloading package universal_tagset to\n",
            "[nltk_data]    |     /root/nltk_data...\n",
            "[nltk_data]    |   Unzipping taggers/universal_tagset.zip.\n",
            "[nltk_data]    | Downloading package maxent_ne_chunker to\n",
            "[nltk_data]    |     /root/nltk_data...\n",
            "[nltk_data]    |   Unzipping chunkers/maxent_ne_chunker.zip.\n",
            "[nltk_data]    | Downloading package punkt to /root/nltk_data...\n",
            "[nltk_data]    |   Unzipping tokenizers/punkt.zip.\n",
            "[nltk_data]    | Downloading package book_grammars to\n",
            "[nltk_data]    |     /root/nltk_data...\n",
            "[nltk_data]    |   Unzipping grammars/book_grammars.zip.\n",
            "[nltk_data]    | Downloading package sample_grammars to\n",
            "[nltk_data]    |     /root/nltk_data...\n",
            "[nltk_data]    |   Unzipping grammars/sample_grammars.zip.\n",
            "[nltk_data]    | Downloading package spanish_grammars to\n",
            "[nltk_data]    |     /root/nltk_data...\n",
            "[nltk_data]    |   Unzipping grammars/spanish_grammars.zip.\n",
            "[nltk_data]    | Downloading package basque_grammars to\n",
            "[nltk_data]    |     /root/nltk_data...\n",
            "[nltk_data]    |   Unzipping grammars/basque_grammars.zip.\n",
            "[nltk_data]    | Downloading package large_grammars to\n",
            "[nltk_data]    |     /root/nltk_data...\n",
            "[nltk_data]    |   Unzipping grammars/large_grammars.zip.\n",
            "[nltk_data]    | Downloading package tagsets to /root/nltk_data...\n",
            "[nltk_data]    |   Unzipping help/tagsets.zip.\n",
            "[nltk_data]    | Downloading package snowball_data to\n",
            "[nltk_data]    |     /root/nltk_data...\n",
            "[nltk_data]    | Downloading package bllip_wsj_no_aux to\n",
            "[nltk_data]    |     /root/nltk_data...\n",
            "[nltk_data]    |   Unzipping models/bllip_wsj_no_aux.zip.\n",
            "[nltk_data]    | Downloading package word2vec_sample to\n",
            "[nltk_data]    |     /root/nltk_data...\n",
            "[nltk_data]    |   Unzipping models/word2vec_sample.zip.\n",
            "[nltk_data]    | Downloading package panlex_swadesh to\n",
            "[nltk_data]    |     /root/nltk_data...\n",
            "[nltk_data]    | Downloading package mte_teip5 to /root/nltk_data...\n",
            "[nltk_data]    |   Unzipping corpora/mte_teip5.zip.\n",
            "[nltk_data]    | Downloading package averaged_perceptron_tagger to\n",
            "[nltk_data]    |     /root/nltk_data...\n",
            "[nltk_data]    |   Unzipping taggers/averaged_perceptron_tagger.zip.\n",
            "[nltk_data]    | Downloading package averaged_perceptron_tagger_ru to\n",
            "[nltk_data]    |     /root/nltk_data...\n",
            "[nltk_data]    |   Unzipping\n",
            "[nltk_data]    |       taggers/averaged_perceptron_tagger_ru.zip.\n",
            "[nltk_data]    | Downloading package perluniprops to\n",
            "[nltk_data]    |     /root/nltk_data...\n",
            "[nltk_data]    |   Unzipping misc/perluniprops.zip.\n",
            "[nltk_data]    | Downloading package nonbreaking_prefixes to\n",
            "[nltk_data]    |     /root/nltk_data...\n",
            "[nltk_data]    |   Unzipping corpora/nonbreaking_prefixes.zip.\n",
            "[nltk_data]    | Downloading package vader_lexicon to\n",
            "[nltk_data]    |     /root/nltk_data...\n",
            "[nltk_data]    | Downloading package porter_test to /root/nltk_data...\n",
            "[nltk_data]    |   Unzipping stemmers/porter_test.zip.\n",
            "[nltk_data]    | Downloading package wmt15_eval to /root/nltk_data...\n",
            "[nltk_data]    |   Unzipping models/wmt15_eval.zip.\n",
            "[nltk_data]    | Downloading package mwa_ppdb to /root/nltk_data...\n",
            "[nltk_data]    |   Unzipping misc/mwa_ppdb.zip.\n",
            "[nltk_data]    | \n",
            "[nltk_data]  Done downloading collection all\n"
          ],
          "name": "stdout"
        },
        {
          "output_type": "execute_result",
          "data": {
            "text/plain": [
              "True"
            ]
          },
          "metadata": {
            "tags": []
          },
          "execution_count": 2
        }
      ]
    },
    {
      "cell_type": "code",
      "metadata": {
        "id": "bqJ0cFwLZdqX",
        "colab_type": "code",
        "colab": {}
      },
      "source": [
        "import pandas as pd\n",
        "df_combined=pd.read_csv('drive/My Drive/pre_final1.csv',parse_dates=['date'],encoding='utf-8')"
      ],
      "execution_count": 3,
      "outputs": []
    },
    {
      "cell_type": "code",
      "metadata": {
        "id": "cQcQlobBacgZ",
        "colab_type": "code",
        "colab": {
          "base_uri": "https://localhost:8080/",
          "height": 955
        },
        "outputId": "d9c230e5-a7ed-444f-bde1-5429be188324"
      },
      "source": [
        "df_combined"
      ],
      "execution_count": 4,
      "outputs": [
        {
          "output_type": "execute_result",
          "data": {
            "text/html": [
              "<div>\n",
              "<style scoped>\n",
              "    .dataframe tbody tr th:only-of-type {\n",
              "        vertical-align: middle;\n",
              "    }\n",
              "\n",
              "    .dataframe tbody tr th {\n",
              "        vertical-align: top;\n",
              "    }\n",
              "\n",
              "    .dataframe thead th {\n",
              "        text-align: right;\n",
              "    }\n",
              "</style>\n",
              "<table border=\"1\" class=\"dataframe\">\n",
              "  <thead>\n",
              "    <tr style=\"text-align: right;\">\n",
              "      <th></th>\n",
              "      <th>date</th>\n",
              "      <th>username</th>\n",
              "      <th>to</th>\n",
              "      <th>replies</th>\n",
              "      <th>retweets</th>\n",
              "      <th>favorites</th>\n",
              "      <th>text</th>\n",
              "      <th>geo</th>\n",
              "      <th>mentions</th>\n",
              "      <th>hashtags</th>\n",
              "      <th>id</th>\n",
              "      <th>permalink</th>\n",
              "      <th>sentences</th>\n",
              "      <th>text_tokenized</th>\n",
              "      <th>stemming_stopwordsRemoved</th>\n",
              "      <th>lemmatized_stopwordsRemoved</th>\n",
              "    </tr>\n",
              "  </thead>\n",
              "  <tbody>\n",
              "    <tr>\n",
              "      <th>0</th>\n",
              "      <td>2020-08-14 23:40:49</td>\n",
              "      <td>DalrympleWill</td>\n",
              "      <td>HearaichHerald</td>\n",
              "      <td>2</td>\n",
              "      <td>0</td>\n",
              "      <td>3</td>\n",
              "      <td>Andrew do send me a copy! Love to read it</td>\n",
              "      <td>NaN</td>\n",
              "      <td>NaN</td>\n",
              "      <td>NaN</td>\n",
              "      <td>1294418731251138562</td>\n",
              "      <td>https://twitter.com/DalrympleWill/status/12944...</td>\n",
              "      <td>Andrew do send me a copy! Love to read it</td>\n",
              "      <td>['Andrew', 'do', 'send', 'me', 'a', 'copy', '!...</td>\n",
              "      <td>andrew send copi love read</td>\n",
              "      <td>andrew send copy love read</td>\n",
              "    </tr>\n",
              "    <tr>\n",
              "      <th>1</th>\n",
              "      <td>2020-08-14 23:29:59</td>\n",
              "      <td>lostboy54</td>\n",
              "      <td>ishkarnBHANDARI</td>\n",
              "      <td>10</td>\n",
              "      <td>85</td>\n",
              "      <td>403</td>\n",
              "      <td>This is all coming true. You were right @ishka...</td>\n",
              "      <td>NaN</td>\n",
              "      <td>@ishkarnBHANDARIhttps</td>\n",
              "      <td>NaN</td>\n",
              "      <td>1294416005674889216</td>\n",
              "      <td>https://twitter.com/lostboy54/status/129441600...</td>\n",
              "      <td>This is all coming true. You were right @ishka...</td>\n",
              "      <td>['This', 'is', 'all', 'coming', 'true', '.', '...</td>\n",
              "      <td>come true right ishkarnbhandarihttp twitter co...</td>\n",
              "      <td>coming true right ishkarnbhandarihttps twitter...</td>\n",
              "    </tr>\n",
              "    <tr>\n",
              "      <th>2</th>\n",
              "      <td>2020-08-14 23:27:45</td>\n",
              "      <td>srijanpalsingh</td>\n",
              "      <td>NaN</td>\n",
              "      <td>3</td>\n",
              "      <td>34</td>\n",
              "      <td>151</td>\n",
              "      <td>Wishing everyone a very happy Independence Day...</td>\n",
              "      <td>NaN</td>\n",
              "      <td>NaN</td>\n",
              "      <td>#India #JaiHind #Kalam #IndependenceDay #Indep...</td>\n",
              "      <td>1294415445609472000</td>\n",
              "      <td>https://twitter.com/srijanpalsingh/status/1294...</td>\n",
              "      <td>Wishing everyone a very happy Independence Day...</td>\n",
              "      <td>['Wishing', 'everyone', 'a', 'very', 'happy', ...</td>\n",
              "      <td>wish everyon happi independ day time gratitud ...</td>\n",
              "      <td>wishing everyone happy independence day time g...</td>\n",
              "    </tr>\n",
              "    <tr>\n",
              "      <th>3</th>\n",
              "      <td>2020-08-14 23:09:49</td>\n",
              "      <td>AAlHamoud7</td>\n",
              "      <td>NaN</td>\n",
              "      <td>0</td>\n",
              "      <td>0</td>\n",
              "      <td>7</td>\n",
              "      <td>I don’t usually approach first, so when I do, ...</td>\n",
              "      <td>NaN</td>\n",
              "      <td>NaN</td>\n",
              "      <td>NaN</td>\n",
              "      <td>1294410930458173440</td>\n",
              "      <td>https://twitter.com/AAlHamoud7/status/12944109...</td>\n",
              "      <td>I don’t usually approach first, so when I do, ...</td>\n",
              "      <td>['I', 'don', '’', 't', 'usually', 'approach', ...</td>\n",
              "      <td>usual approach first probabl special</td>\n",
              "      <td>usually approach first probably special</td>\n",
              "    </tr>\n",
              "    <tr>\n",
              "      <th>4</th>\n",
              "      <td>2020-08-14 22:21:57</td>\n",
              "      <td>MeerraChopra</td>\n",
              "      <td>NaN</td>\n",
              "      <td>28</td>\n",
              "      <td>19</td>\n",
              "      <td>278</td>\n",
              "      <td>#GunjanSaxena is such a brilliant film that ul...</td>\n",
              "      <td>NaN</td>\n",
              "      <td>@TripathiiPankaj</td>\n",
              "      <td>#GunjanSaxena #jhanvikapoor #sharansharma</td>\n",
              "      <td>1294398885654220800</td>\n",
              "      <td>https://twitter.com/MeerraChopra/status/129439...</td>\n",
              "      <td>#GunjanSaxena is such a brilliant film that ul...</td>\n",
              "      <td>['#', 'GunjanSaxena', 'is', 'such', 'a', 'bril...</td>\n",
              "      <td>gunjansaxena brilliant film ull get adrenalin ...</td>\n",
              "      <td>gunjansaxena brilliant film ull get adrenaline...</td>\n",
              "    </tr>\n",
              "    <tr>\n",
              "      <th>...</th>\n",
              "      <td>...</td>\n",
              "      <td>...</td>\n",
              "      <td>...</td>\n",
              "      <td>...</td>\n",
              "      <td>...</td>\n",
              "      <td>...</td>\n",
              "      <td>...</td>\n",
              "      <td>...</td>\n",
              "      <td>...</td>\n",
              "      <td>...</td>\n",
              "      <td>...</td>\n",
              "      <td>...</td>\n",
              "      <td>...</td>\n",
              "      <td>...</td>\n",
              "      <td>...</td>\n",
              "      <td>...</td>\n",
              "    </tr>\n",
              "    <tr>\n",
              "      <th>266472</th>\n",
              "      <td>2010-09-14 07:26:25</td>\n",
              "      <td>krist0ph3r</td>\n",
              "      <td>NaN</td>\n",
              "      <td>0</td>\n",
              "      <td>0</td>\n",
              "      <td>0</td>\n",
              "      <td>I stand corrected. there is, indeed, a vaccine...</td>\n",
              "      <td>NaN</td>\n",
              "      <td>@mizarcle</td>\n",
              "      <td>NaN</td>\n",
              "      <td>24456504000</td>\n",
              "      <td>https://twitter.com/krist0ph3r/status/24456504000</td>\n",
              "      <td>I stand corrected. there is, indeed, a vaccine...</td>\n",
              "      <td>['I', 'stand', 'corrected', '.', 'there', 'is'...</td>\n",
              "      <td>stand correct inde vaccin cervic cancer except...</td>\n",
              "      <td>stand corrected indeed vaccine cervical cancer...</td>\n",
              "    </tr>\n",
              "    <tr>\n",
              "      <th>266473</th>\n",
              "      <td>2010-09-14 07:15:04</td>\n",
              "      <td>krist0ph3r</td>\n",
              "      <td>NaN</td>\n",
              "      <td>0</td>\n",
              "      <td>0</td>\n",
              "      <td>0</td>\n",
              "      <td>#iWant! RT @24HoursLoot The Four Elements of a...</td>\n",
              "      <td>NaN</td>\n",
              "      <td>@24HoursLoot</td>\n",
              "      <td>#iWant</td>\n",
              "      <td>24456008845</td>\n",
              "      <td>https://twitter.com/krist0ph3r/status/24456008845</td>\n",
              "      <td>#iWant! RT @24HoursLoot The Four Elements of a...</td>\n",
              "      <td>['#', 'iWant', '!', 'RT', '@', '24HoursLoot', ...</td>\n",
              "      <td>iwant rt hoursloot four element human geek lif...</td>\n",
              "      <td>iwant rt hoursloot four element human geek lif...</td>\n",
              "    </tr>\n",
              "    <tr>\n",
              "      <th>266474</th>\n",
              "      <td>2010-09-14 07:12:15</td>\n",
              "      <td>krist0ph3r</td>\n",
              "      <td>NaN</td>\n",
              "      <td>0</td>\n",
              "      <td>0</td>\n",
              "      <td>0</td>\n",
              "      <td>there's a vaccine? don't think cancer can be v...</td>\n",
              "      <td>NaN</td>\n",
              "      <td>@mizarcle</td>\n",
              "      <td>NaN</td>\n",
              "      <td>24455883030</td>\n",
              "      <td>https://twitter.com/krist0ph3r/status/24455883030</td>\n",
              "      <td>there's a vaccine? don't think cancer can be v...</td>\n",
              "      <td>['there', \"'s\", 'a', 'vaccine', '?', 'do', \"n'...</td>\n",
              "      <td>vaccin think cancer vaccin rt mizarcl anyon ta...</td>\n",
              "      <td>vaccine think cancer vaccinated rt mizarcle an...</td>\n",
              "    </tr>\n",
              "    <tr>\n",
              "      <th>266475</th>\n",
              "      <td>2010-09-14 07:10:56</td>\n",
              "      <td>krist0ph3r</td>\n",
              "      <td>NaN</td>\n",
              "      <td>0</td>\n",
              "      <td>0</td>\n",
              "      <td>0</td>\n",
              "      <td>#nowplaying gareth emery - exposure #awesomeness</td>\n",
              "      <td>NaN</td>\n",
              "      <td>NaN</td>\n",
              "      <td>#nowplaying #awesomeness</td>\n",
              "      <td>24455823620</td>\n",
              "      <td>https://twitter.com/krist0ph3r/status/24455823620</td>\n",
              "      <td>#nowplaying gareth emery - exposure #awesomeness</td>\n",
              "      <td>['#', 'nowplaying', 'gareth', 'emery', '-', 'e...</td>\n",
              "      <td>nowplay gareth emeri exposur awesom</td>\n",
              "      <td>nowplaying gareth emery exposure awesomeness</td>\n",
              "    </tr>\n",
              "    <tr>\n",
              "      <th>266476</th>\n",
              "      <td>2010-09-14 05:21:30</td>\n",
              "      <td>krist0ph3r</td>\n",
              "      <td>NaN</td>\n",
              "      <td>0</td>\n",
              "      <td>0</td>\n",
              "      <td>0</td>\n",
              "      <td>friend was waiting for me to step into office ...</td>\n",
              "      <td>NaN</td>\n",
              "      <td>NaN</td>\n",
              "      <td>NaN</td>\n",
              "      <td>24450570759</td>\n",
              "      <td>https://twitter.com/krist0ph3r/status/24450570759</td>\n",
              "      <td>friend was waiting for me to step into office ...</td>\n",
              "      <td>['friend', 'was', 'waiting', 'for', 'me', 'to'...</td>\n",
              "      <td>friend wait step offic tell news suzuki firebl...</td>\n",
              "      <td>friend waiting step office tell news suzuki fi...</td>\n",
              "    </tr>\n",
              "  </tbody>\n",
              "</table>\n",
              "<p>266477 rows × 16 columns</p>\n",
              "</div>"
            ],
            "text/plain": [
              "                      date  ...                        lemmatized_stopwordsRemoved\n",
              "0      2020-08-14 23:40:49  ...                         andrew send copy love read\n",
              "1      2020-08-14 23:29:59  ...  coming true right ishkarnbhandarihttps twitter...\n",
              "2      2020-08-14 23:27:45  ...  wishing everyone happy independence day time g...\n",
              "3      2020-08-14 23:09:49  ...            usually approach first probably special\n",
              "4      2020-08-14 22:21:57  ...  gunjansaxena brilliant film ull get adrenaline...\n",
              "...                    ...  ...                                                ...\n",
              "266472 2010-09-14 07:26:25  ...  stand corrected indeed vaccine cervical cancer...\n",
              "266473 2010-09-14 07:15:04  ...  iwant rt hoursloot four element human geek lif...\n",
              "266474 2010-09-14 07:12:15  ...  vaccine think cancer vaccinated rt mizarcle an...\n",
              "266475 2010-09-14 07:10:56  ...       nowplaying gareth emery exposure awesomeness\n",
              "266476 2010-09-14 05:21:30  ...  friend waiting step office tell news suzuki fi...\n",
              "\n",
              "[266477 rows x 16 columns]"
            ]
          },
          "metadata": {
            "tags": []
          },
          "execution_count": 4
        }
      ]
    },
    {
      "cell_type": "code",
      "metadata": {
        "id": "2YVvA8jNcANp",
        "colab_type": "code",
        "colab": {
          "base_uri": "https://localhost:8080/",
          "height": 35
        },
        "outputId": "76737f09-30d1-4ce4-e719-d606dc1cfc1f"
      },
      "source": [
        "df_combined.shape[0]-df_combined.stemming_stopwordsRemoved.isna().sum()    ### to check for the number of non-null rows according to a particular column\n",
        "\n"
      ],
      "execution_count": 5,
      "outputs": [
        {
          "output_type": "execute_result",
          "data": {
            "text/plain": [
              "266329"
            ]
          },
          "metadata": {
            "tags": []
          },
          "execution_count": 5
        }
      ]
    },
    {
      "cell_type": "code",
      "metadata": {
        "id": "c2PgZFRYoKtE",
        "colab_type": "code",
        "colab": {
          "base_uri": "https://localhost:8080/",
          "height": 35
        },
        "outputId": "9b802d7a-36da-4c3a-eb3e-d6ff2765a630"
      },
      "source": [
        "df_combined.lemmatized_stopwordsRemoved.isna().sum()    ### to check for the number of null rows"
      ],
      "execution_count": 6,
      "outputs": [
        {
          "output_type": "execute_result",
          "data": {
            "text/plain": [
              "148"
            ]
          },
          "metadata": {
            "tags": []
          },
          "execution_count": 6
        }
      ]
    },
    {
      "cell_type": "code",
      "metadata": {
        "id": "LX0JTmince6y",
        "colab_type": "code",
        "colab": {}
      },
      "source": [
        "df_combined.dropna(subset=['stemming_stopwordsRemoved'],inplace=True)    ### to drop the rows containing null values"
      ],
      "execution_count": 7,
      "outputs": []
    },
    {
      "cell_type": "code",
      "metadata": {
        "id": "D5oKBZPVeMT4",
        "colab_type": "code",
        "colab": {
          "base_uri": "https://localhost:8080/",
          "height": 35
        },
        "outputId": "d9833453-52b5-4357-80bc-0c69a3a13a1c"
      },
      "source": [
        "df_combined.stemming_stopwordsRemoved.isna().sum()     ### final check on null value rows"
      ],
      "execution_count": 8,
      "outputs": [
        {
          "output_type": "execute_result",
          "data": {
            "text/plain": [
              "0"
            ]
          },
          "metadata": {
            "tags": []
          },
          "execution_count": 8
        }
      ]
    },
    {
      "cell_type": "code",
      "metadata": {
        "id": "DLXVwIiTob6C",
        "colab_type": "code",
        "colab": {
          "base_uri": "https://localhost:8080/",
          "height": 35
        },
        "outputId": "0c4288d4-cde0-436a-d4c5-41dd8c66b18e"
      },
      "source": [
        "df_combined.lemmatized_stopwordsRemoved.isna().sum()"
      ],
      "execution_count": 9,
      "outputs": [
        {
          "output_type": "execute_result",
          "data": {
            "text/plain": [
              "0"
            ]
          },
          "metadata": {
            "tags": []
          },
          "execution_count": 9
        }
      ]
    },
    {
      "cell_type": "code",
      "metadata": {
        "id": "gyMbilXUeM21",
        "colab_type": "code",
        "colab": {}
      },
      "source": [
        "sentences=df_combined.stemming_stopwordsRemoved.tolist()     ### to convert a particular column into a list"
      ],
      "execution_count": 10,
      "outputs": []
    },
    {
      "cell_type": "code",
      "metadata": {
        "id": "SxczE7LBofVe",
        "colab_type": "code",
        "colab": {}
      },
      "source": [
        "sentences1=df_combined.lemmatized_stopwordsRemoved.tolist()"
      ],
      "execution_count": 11,
      "outputs": []
    },
    {
      "cell_type": "markdown",
      "metadata": {
        "id": "GLPw-yN2bVkO",
        "colab_type": "text"
      },
      "source": [
        "**BAG OF WORDS**"
      ]
    },
    {
      "cell_type": "code",
      "metadata": {
        "id": "iXBitDh3bfzM",
        "colab_type": "code",
        "colab": {
          "base_uri": "https://localhost:8080/",
          "height": 139
        },
        "outputId": "ce613db8-025a-41b4-b744-bc11f35f7439"
      },
      "source": [
        "from sklearn.feature_extraction.text import CountVectorizer\n",
        "cv=CountVectorizer(max_features=2500)\n",
        "X1=cv.fit_transform(sentences).toarray()   ### for stemming\n",
        "X1   ### array of features"
      ],
      "execution_count": 12,
      "outputs": [
        {
          "output_type": "execute_result",
          "data": {
            "text/plain": [
              "array([[0, 0, 0, ..., 0, 0, 0],\n",
              "       [0, 0, 0, ..., 0, 0, 0],\n",
              "       [0, 0, 0, ..., 0, 0, 0],\n",
              "       ...,\n",
              "       [0, 0, 0, ..., 0, 0, 0],\n",
              "       [0, 0, 0, ..., 0, 0, 0],\n",
              "       [0, 0, 0, ..., 0, 0, 0]])"
            ]
          },
          "metadata": {
            "tags": []
          },
          "execution_count": 12
        }
      ]
    },
    {
      "cell_type": "code",
      "metadata": {
        "id": "DT-kTRtemat_",
        "colab_type": "code",
        "colab": {
          "base_uri": "https://localhost:8080/",
          "height": 55
        },
        "outputId": "ca167547-6a20-46ac-8006-e4bc6281033c"
      },
      "source": [
        "print(cv.get_feature_names())  ### to get the feature names      ###### for stemming"
      ],
      "execution_count": 13,
      "outputs": [
        {
          "output_type": "stream",
          "text": [
            "['aa', 'aap', 'ab', 'abdul', 'abdullah', 'abhi', 'abil', 'abl', 'abroad', 'absolut', 'abt', 'abus', 'accept', 'access', 'accid', 'accord', 'account', 'accus', 'achiev', 'acknowledg', 'across', 'act', 'action', 'activ', 'activist', 'actor', 'actress', 'actual', 'ad', 'add', 'address', 'adityampaul', 'administr', 'admir', 'admit', 'ador', 'advanc', 'advic', 'advis', 'affair', 'affect', 'afghan', 'afghanistan', 'afraid', 'afternoon', 'age', 'agenc', 'agenda', 'agent', 'ago', 'agre', 'ah', 'ahead', 'ahm', 'ahmedabad', 'aid', 'air', 'aircraft', 'airlin', 'airport', 'ajith', 'ajithian', 'ak', 'akshaykumar', 'al', 'album', 'alcohol', 'alert', 'ali', 'aliv', 'allah', 'alleg', 'allow', 'almost', 'alon', 'along', 'alreadi', 'also', 'alway', 'amaz', 'ambassador', 'ambrin', 'ameen', 'amend', 'american', 'amit', 'amitshah', 'among', 'amount', 'amp', 'anand', 'android', 'angel', 'anger', 'angri', 'ani', 'anim', 'ann', 'anna', 'anniversari', 'announc', 'annoy', 'anoth', 'anselmo', 'answer', 'anti', 'anu', 'anurag', 'anuragbasu', 'anymor', 'anyon', 'anyth', 'anyway', 'anywher', 'ap', 'apart', 'apolog', 'app', 'appar', 'appeal', 'appear', 'appl', 'appli', 'appoint', 'appreci', 'approach', 'approv', 'april', 'arab', 'area', 'argu', 'argument', 'arm', 'armi', 'arnab', 'around', 'arrambam', 'arrang', 'arrest', 'arriv', 'arsen', 'art', 'articl', 'articleshow', 'artist', 'arun', 'arvind', 'arvindkejriw', 'asharamji', 'ashish', 'asia', 'asian', 'asim', 'asimriaz', 'ask', 'assam', 'assembl', 'asset', 'assist', 'associ', 'atleast', 'attach', 'attack', 'attempt', 'attend', 'attent', 'attitud', 'attract', 'audienc', 'aug', 'august', 'aur', 'australia', 'author', 'auto', 'avail', 'averag', 'avoid', 'await', 'awar', 'award', 'away', 'awesom', 'azhar', 'ba', 'baat', 'baba', 'babi', 'bacardidevi', 'bacci', 'back', 'background', 'bad', 'badli', 'bag', 'bail', 'balaji', 'balanc', 'ball', 'balochistan', 'ban', 'band', 'bandra', 'bang', 'bangalor', 'bangkok', 'bangladesh', 'bank', 'bapu', 'bar', 'barun', 'barunsobtisay', 'base', 'basi', 'basic', 'bat', 'batteri', 'battl', 'bay', 'bb', 'bbc', 'bbhuttozardari', 'bdutt', 'beach', 'bear', 'beat', 'beauti', 'beautifulpakistan', 'beautifulplc', 'becam', 'becom', 'bed', 'beef', 'beer', 'beg', 'begin', 'behav', 'behaviour', 'behind', 'beingsalmankhan', 'believ', 'belong', 'belov', 'benefit', 'bengal', 'bengaluru', 'best', 'bet', 'better', 'beyond', 'bhai', 'bhaijaan', 'bharat', 'bhi', 'big', 'biggboss', 'bigger', 'biggest', 'bihar', 'bike', 'bill', 'billion', 'bird', 'birth', 'birthday', 'bit', 'bjp', 'black', 'blahssom', 'blame', 'blast', 'bless', 'blind', 'block', 'blockbust', 'blog', 'blood', 'bloodi', 'blow', 'blue', 'bm', 'bn', 'board', 'boat', 'bodi', 'bollywood', 'bomb', 'bombay', 'bond', 'book', 'border', 'bore', 'born', 'boss', 'bother', 'bought', 'bowl', 'box', 'boy', 'brain', 'brand', 'brave', 'break', 'breakfast', 'breath', 'brian', 'bridg', 'brilliant', 'bring', 'british', 'bro', 'broke', 'broken', 'brother', 'brought', 'brutal', 'bs', 'bt', 'btl', 'btw', 'bu', 'buddha', 'budget', 'build', 'built', 'burn', 'busi', 'button', 'buy', 'bye', 'caa', 'cabinet', 'cake', 'calam', 'call', 'calm', 'came', 'camera', 'camp', 'campaign', 'cancel', 'candid', 'cannot', 'cant', 'capabl', 'capit', 'captain', 'captur', 'car', 'card', 'care', 'career', 'carri', 'case', 'cash', 'cast', 'cat', 'catch', 'caught', 'caus', 'cbi', 'cc', 'celebr', 'cell', 'center', 'centr', 'central', 'centuri', 'ceremoni', 'certain', 'certainli', 'chair', 'chairman', 'challeng', 'champion', 'chanc', 'chang', 'changkyun', 'channel', 'chant', 'char', 'charact', 'charg', 'chat', 'cheap', 'cheat', 'check', 'cheer', 'chennai', 'chicken', 'chidambaram', 'chief', 'child', 'childhood', 'children', 'chill', 'china', 'chines', 'chloejfern', 'chocol', 'choic', 'choos', 'chowk', 'christian', 'christma', 'church', 'cinema', 'citi', 'citizen', 'citizenship', 'civil', 'civilian', 'claim', 'class', 'classic', 'clean', 'clear', 'clearli', 'click', 'clip', 'close', 'cloth', 'club', 'cm', 'cmo', 'co', 'coach', 'code', 'coffe', 'cold', 'colleagu', 'collect', 'colleg', 'colombo', 'coloni', 'color', 'colorstv', 'colour', 'com', 'combin', 'come', 'comedi', 'comfort', 'command', 'comment', 'commiss', 'commit', 'committe', 'common', 'commun', 'compani', 'compar', 'competit', 'complain', 'complaint', 'complet', 'complex', 'concept', 'concern', 'condemn', 'condit', 'condol', 'conduct', 'confer', 'confid', 'confirm', 'confus', 'cong', 'congi', 'congrat', 'congratul', 'congress', 'connect', 'consid', 'consist', 'constitu', 'constitut', 'construct', 'consum', 'contact', 'content', 'contest', 'continu', 'contribut', 'control', 'convers', 'convert', 'convict', 'convinc', 'cook', 'cool', 'cop', 'copi', 'core', 'corner', 'corona', 'coronaviru', 'corpor', 'correct', 'corrupt', 'cost', 'could', 'council', 'count', 'counter', 'countri', 'coupl', 'courag', 'cours', 'court', 'courtesi', 'courtland', 'cover', 'covid', 'cow', 'coz', 'cr', 'crap', 'crash', 'crazi', 'creat', 'credit', 'cri', 'cricket', 'crime', 'crimin', 'crisi', 'critic', 'crore', 'cross', 'crowd', 'crush', 'cultur', 'cup', 'curfew', 'current', 'custom', 'cut', 'cute', 'cuz', 'cwc', 'cycl', 'da', 'dabangg', 'dad', 'daili', 'dalit', 'damag', 'damn', 'danc', 'danger', 'dare', 'dark', 'data', 'date', 'daughter', 'dawn', 'day', 'de', 'dead', 'deal', 'dear', 'death', 'debat', 'debut', 'dec', 'decad', 'decemb', 'decent', 'decid', 'decis', 'declar', 'dedic', 'deep', 'deepli', 'deeseelici', 'defeat', 'defenc', 'defend', 'defin', 'definit', 'degre', 'delay', 'delet', 'delhi', 'deliv', 'deliveri', 'demand', 'democraci', 'democrat', 'deni', 'depart', 'depend', 'depress', 'dept', 'derickpaul', 'dermott', 'describ', 'deserv', 'design', 'desir', 'desper', 'despit', 'destin', 'destroy', 'detail', 'determin', 'dev', 'develop', 'devic', 'dg', 'dharma', 'dhishkiaun', 'dhoni', 'dhruvster', 'di', 'dialogu', 'diari', 'didnt', 'die', 'diet', 'differ', 'difficult', 'digit', 'dil', 'din', 'dinner', 'diplomat', 'dir', 'direct', 'directli', 'director', 'disappoint', 'disast', 'discharg', 'discuss', 'disgust', 'display', 'distanc', 'distribut', 'district', 'disturb', 'divid', 'divin', 'divis', 'diwali', 'dlvr', 'dm', 'dna', 'doct', 'doctor', 'document', 'doesnt', 'dog', 'dogandfootyfan', 'domest', 'domi', 'donat', 'done', 'donechannel', 'dont', 'door', 'doubl', 'doubt', 'download', 'dp', 'dr', 'drama', 'draw', 'dream', 'dress', 'dri', 'drink', 'drive', 'driver', 'drop', 'drug', 'drunk', 'dubai', 'dude', 'due', 'dumb', 'duncan', 'duti', 'ear', 'earli', 'earlier', 'earn', 'earth', 'easi', 'easili', 'east', 'eat', 'ec', 'econom', 'economi', 'ed', 'edit', 'editor', 'educ', 'effect', 'effort', 'egg', 'eid', 'either', 'ek', 'ektaravikapoor', 'ektarkapoor', 'elect', 'electr', 'elit', 'elmiro', 'els', 'email', 'embarrass', 'emerg', 'emot', 'employe', 'empti', 'en', 'encount', 'encourag', 'end', 'enemi', 'energi', 'engag', 'engin', 'england', 'english', 'enjoy', 'enough', 'ensur', 'enter', 'entertain', 'entir', 'entri', 'environ', 'envoy', 'epic', 'episod', 'equal', 'era', 'especi', 'essenti', 'establish', 'etc', 'even', 'event', 'ever', 'everi', 'everybodi', 'everyday', 'everyon', 'everyth', 'everywher', 'evid', 'evil', 'ex', 'exactli', 'exam', 'exampl', 'excel', 'except', 'exchang', 'excit', 'exclus', 'excus', 'execut', 'exercis', 'exist', 'exit', 'expect', 'expens', 'experi', 'expert', 'explain', 'expos', 'express', 'extend', 'extra', 'extrem', 'eye', 'face', 'facebook', 'facil', 'fact', 'fadnavi', 'fail', 'failur', 'fair', 'faith', 'fake', 'fall', 'fals', 'famili', 'famou', 'fan', 'fandom', 'fantast', 'far', 'faridamalick', 'farmer', 'fashion', 'fast', 'fat', 'father', 'fav', 'favorit', 'favour', 'favourit', 'fawad', 'fawadakhan', 'fawadkhan', 'fb', 'fear', 'featur', 'feb', 'feder', 'feed', 'feel', 'feet', 'fellow', 'felt', 'femal', 'festiv', 'ff', 'field', 'fight', 'fighter', 'figur', 'file', 'fill', 'film', 'final', 'financ', 'financi', 'find', 'fine', 'finger', 'finish', 'fir', 'fire', 'first', 'fish', 'fit', 'five', 'fix', 'flag', 'flash', 'fli', 'flight', 'flood', 'floor', 'flow', 'flower', 'fm', 'focu', 'folk', 'follow', 'food', 'fool', 'footbal', 'forc', 'foreign', 'forev', 'forget', 'forgiv', 'forgot', 'forgotten', 'form', 'former', 'fort', 'forward', 'fought', 'found', 'four', 'foursquar', 'fr', 'frame', 'franc', 'fraud', 'free', 'freedom', 'french', 'fresh', 'fri', 'friday', 'friend', 'friendli', 'friendship', 'friendspic', 'frm', 'front', 'fruit', 'ft', 'fubar', 'fuck', 'fulfil', 'full', 'fulli', 'fun', 'function', 'fund', 'funni', 'futur', 'ga', 'gain', 'galaxi', 'game', 'gandhi', 'gang', 'ganga', 'garden', 'gate', 'gather', 'gave', 'gay', 'gaya', 'gb', 'gd', 'gdp', 'gedeldrak', 'gem', 'gen', 'gender', 'gener', 'geniu', 'genuin', 'get', 'ghaatidanc', 'ghat', 'gift', 'girl', 'give', 'given', 'gl', 'glad', 'glass', 'global', 'go', 'goa', 'goal', 'god', 'goe', 'goi', 'gold', 'golden', 'gone', 'gonna', 'goo', 'good', 'googl', 'goon', 'gorgeou', 'got', 'govern', 'governor', 'govt', 'grace', 'grand', 'grant', 'graviti', 'great', 'greatest', 'green', 'greet', 'ground', 'group', 'grow', 'growth', 'gsurya', 'gud', 'guess', 'guest', 'guid', 'gujarat', 'gun', 'guptrogu', 'gurmeetramrahim', 'guru', 'gut', 'guy', 'guyz', 'ha', 'hack', 'haha', 'hahaha', 'hahahaha', 'hai', 'hain', 'hair', 'half', 'hand', 'handl', 'handsom', 'hang', 'happen', 'happi', 'harass', 'hard', 'haryana', 'hashtag', 'hat', 'hate', 'hater', 'hatr', 'hayat', 'hc', 'head', 'headlin', 'health', 'healthi', 'hear', 'heard', 'heart', 'heat', 'heaven', 'heavi', 'hehe', 'height', 'held', 'hell', 'hello', 'help', 'henc', 'heritag', 'hero', 'hey', 'hi', 'hide', 'high', 'higher', 'highest', 'highli', 'highlight', 'highway', 'hike', 'hilari', 'hill', 'hind', 'hindi', 'hindu', 'hinduism', 'hinnaz', 'histor', 'histori', 'hit', 'hiway', 'hm', 'hmm', 'hmmm', 'ho', 'hold', 'holi', 'holiday', 'home', 'hon', 'honest', 'honour', 'hope', 'hospit', 'host', 'hot', 'hotel', 'hour', 'hous', 'howev', 'hq', 'hr', 'ht', 'html', 'http', 'httweet', 'hu', 'hua', 'hug', 'huge', 'hum', 'human', 'humbl', 'hundr', 'hurt', 'husband', 'hv', 'hve', 'hyderabad', 'ia', 'iaf', 'iam', 'iamsrk', 'ibnliv', 'ice', 'icon', 'id', 'idea', 'ident', 'identifi', 'ideolog', 'idiot', 'ig', 'ignor', 'igshid', 'ik', 'ill', 'illeg', 'im', 'imag', 'imagin', 'immedi', 'impact', 'implement', 'import', 'impos', 'imposs', 'impress', 'improv', 'imran', 'imrankhanpti', 'inc', 'incid', 'incindia', 'includ', 'inclus', 'incom', 'increas', 'incred', 'inde', 'independ', 'india', 'indian', 'indianexpress', 'indiatim', 'indiatoday', 'indic', 'indira', 'individu', 'industri', 'infect', 'influenc', 'info', 'inform', 'initi', 'injur', 'innoc', 'insid', 'insight', 'inspir', 'instagr', 'instagram', 'instal', 'instead', 'institut', 'insult', 'integr', 'intellectu', 'intellig', 'intent', 'interact', 'interest', 'intern', 'internet', 'interview', 'introduc', 'invest', 'investig', 'invit', 'involv', 'io', 'ionacrv', 'iphon', 'ipl', 'iran', 'irbm', 'iron', 'irrit', 'isi', 'islam', 'islamabad', 'islamist', 'island', 'israel', 'issu', 'item', 'itsmuralimohan', 'jai', 'jail', 'jam', 'jammu', 'jan', 'januari', 'japan', 'jawaharl', 'ji', 'jihadi', 'jk', 'jnu', 'jo', 'job', 'join', 'joint', 'joke', 'journal', 'journalist', 'journey', 'joy', 'jstabila', 'judg', 'juli', 'jump', 'june', 'justic', 'justifi', 'ka', 'kabul', 'kajolatun', 'kapoor', 'kar', 'karachi', 'karnataka', 'kasautiizindagiikay', 'kasautiizindagiikayp', 'kashmir', 'kashmiri', 'ke', 'keep', 'kejriw', 'kept', 'kerala', 'key', 'kg', 'khan', 'khervelin', 'khoobsurat', 'ki', 'kick', 'kid', 'kill', 'killer', 'kind', 'kinda', 'kindli', 'king', 'kirraak', 'kirraakp', 'kiss', 'kl', 'km', 'knew', 'know', 'knowledg', 'known', 'ko', 'kolkata', 'kp', 'krishna', 'krist', 'kuch', 'kudo', 'kumar', 'kya', 'la', 'labour', 'lac', 'lack', 'ladakh', 'ladi', 'laghateparth', 'laghateparthp', 'lahor', 'lake', 'lakh', 'land', 'languag', 'lanka', 'lankan', 'larg', 'largest', 'last', 'late', 'later', 'latest', 'laugh', 'launch', 'law', 'lawyer', 'layman', 'le', 'lead', 'leader', 'leadership', 'leagu', 'learn', 'least', 'leav', 'led', 'left', 'leg', 'legal', 'legend', 'less', 'lesson', 'let', 'letter', 'level', 'liber', 'lie', 'life', 'lifetim', 'lift', 'light', 'like', 'limit', 'line', 'link', 'list', 'listen', 'liter', 'littl', 'live', 'lk', 'lka', 'lo', 'load', 'loan', 'local', 'locat', 'lock', 'lockdown', 'log', 'logic', 'lok', 'lol', 'lolalolih', 'london', 'long', 'longer', 'look', 'loos', 'lord', 'lose', 'loss', 'lost', 'lot', 'love', 'lover', 'low', 'lower', 'luck', 'lucki', 'luisaolvera', 'lumia', 'lunch', 'luv', 'ly', 'lynch', 'lyric', 'mad', 'made', 'magazin', 'magic', 'mahafre', 'maharashtra', 'mai', 'mail', 'main', 'maintain', 'major', 'make', 'maker', 'maldiv', 'male', 'malik', 'mall', 'man', 'manag', 'mani', 'manmohan', 'manner', 'manu', 'map', 'march', 'mark', 'market', 'marri', 'marriag', 'martyr', 'mask', 'mass', 'massiv', 'master', 'match', 'matter', 'max', 'may', 'mayb', 'meal', 'mean', 'meant', 'measur', 'meat', 'media', 'medic', 'medicin', 'medium', 'meet', 'mein', 'member', 'memori', 'men', 'mental', 'mention', 'mere', 'mess', 'messag', 'met', 'metro', 'michelleburley', 'mid', 'middl', 'midnight', 'might', 'migrant', 'mil', 'militari', 'milk', 'million', 'min', 'mind', 'mine', 'minist', 'ministri', 'minor', 'minut', 'mirror', 'miss', 'mission', 'mistak', 'misus', 'mix', 'mla', 'mm', 'mma', 'mob', 'mobil', 'mode', 'model', 'modern', 'modi', 'mohsinmalvi', 'mom', 'moment', 'monday', 'money', 'monsta', 'month', 'mood', 'moon', 'moral', 'morn', 'morningp', 'moron', 'mosqu', 'mostli', 'mother', 'motiv', 'moumita', 'mountain', 'mouth', 'move', 'movement', 'movi', 'mp', 'mpa', 'mqm', 'mr', 'mrmarkcrossley', 'mrugajabhav', 'ms', 'msg', 'msgthefilm', 'much', 'mughal', 'muhammad', 'multipl', 'mumbai', 'murder', 'muse', 'museum', 'music', 'muslim', 'must', 'mymussoori', 'na', 'nahi', 'nail', 'najwamariami', 'name', 'namo', 'narendra', 'narendramodi', 'narr', 'natashabaig', 'nation', 'nationalist', 'natur', 'naveen', 'navi', 'ncp', 'nd', 'nda', 'ndtv', 'ne', 'near', 'nearli', 'necessari', 'need', 'neg', 'nehru', 'neighbour', 'neither', 'nepal', 'nesoron', 'net', 'netaji', 'network', 'never', 'new', 'news', 'newspap', 'next', 'nice', 'nieuwemarlean', 'night', 'nobodi', 'nokia', 'nomin', 'non', 'none', 'nonsens', 'nope', 'normal', 'north', 'note', 'noth', 'notic', 'notif', 'nov', 'novemb', 'nrc', 'nt', 'number', 'object', 'observ', 'obsess', 'obvious', 'occas', 'occupi', 'octob', 'odisha', 'offer', 'offic', 'offici', 'officialmonstax', 'offl', 'often', 'oh', 'oil', 'ok', 'okay', 'old', 'om', 'omg', 'one', 'oneblackcoffe', 'onlin', 'op', 'open', 'oper', 'opindia', 'opinion', 'opportun', 'oppos', 'opposit', 'option', 'order', 'org', 'organ', 'organis', 'origin', 'other', 'otherwis', 'ou', 'outrag', 'outsid', 'owner', 'pack', 'packag', 'page', 'paid', 'pain', 'paint', 'pak', 'pakistan', 'pakistani', 'pandem', 'pandit', 'paper', 'pappu', 'paramsingh', 'parent', 'park', 'parliament', 'part', 'parth', 'parthsamthaan', 'parti', 'particip', 'partner', 'pass', 'passeng', 'passion', 'past', 'patel', 'path', 'pathet', 'patient', 'patriot', 'pay', 'pc', 'pe', 'peac', 'peak', 'peopl', 'per', 'perfect', 'perform', 'perhap', 'period', 'perman', 'person', 'personnel', 'peshawar', 'petrol', 'ph', 'phase', 'phone', 'photo', 'photograph', 'phuket', 'phukettopteam', 'physic', 'pic', 'pick', 'pictur', 'piec', 'pilot', 'pk', 'pl', 'place', 'plan', 'plane', 'plant', 'platform', 'play', 'player', 'pleas', 'pleasur', 'plu', 'plz', 'pm', 'pmoindia', 'point', 'polic', 'polici', 'polit', 'politician', 'poll', 'pollut', 'poor', 'pop', 'popul', 'popular', 'portray', 'posit', 'possibl', 'post', 'poster', 'potenti', 'power', 'ppl', 'ppp', 'pr', 'practic', 'pradesh', 'pragya', 'prais', 'pramila', 'pray', 'prayer', 'pre', 'preciou', 'predict', 'prefer', 'prepar', 'prerna', 'presenc', 'present', 'presid', 'press', 'pressur', 'pretend', 'pretti', 'prevent', 'previou', 'prg', 'price', 'pride', 'prime', 'principl', 'print', 'prioriti', 'prison', 'privat', 'privileg', 'priyanka', 'pro', 'probabl', 'probe', 'problem', 'process', 'produc', 'product', 'profession', 'profil', 'program', 'progress', 'project', 'promis', 'promo', 'promot', 'proof', 'propaganda', 'proper', 'properti', 'propos', 'protect', 'protest', 'proud', 'prove', 'provid', 'provinc', 'ps', 'pti', 'public', 'publish', 'pull', 'pulwama', 'pune', 'punish', 'punjab', 'punjabirooh', 'pure', 'puri', 'purpos', 'push', 'put', 'qualiti', 'quarantin', 'queen', 'question', 'quick', 'quiet', 'quit', 'quot', 'race', 'rafal', 'raha', 'rahul', 'rahulgandhi', 'railway', 'rain', 'rais', 'raj', 'raja', 'rajasthan', 'rajiv', 'ralli', 'ram', 'ramcharan', 'random', 'rang', 'rank', 'rape', 'rapist', 'rare', 'rate', 'rather', 'ration', 'rd', 'reach', 'react', 'reaction', 'read', 'readi', 'real', 'realis', 'realiti', 'realiz', 'realli', 'reason', 'receiv', 'recent', 'recommend', 'record', 'recov', 'recoveri', 'red', 'redd', 'reduc', 'refer', 'reflect', 'reform', 'refus', 'regard', 'region', 'regist', 'regret', 'regular', 'rein', 'reject', 'rel', 'relat', 'relationship', 'relax', 'releas', 'relief', 'religi', 'religion', 'remain', 'remark', 'rememb', 'remind', 'remov', 'renu', 'repeat', 'replac', 'repli', 'report', 'repres', 'republ', 'request', 'requir', 'rescu', 'research', 'reserv', 'resid', 'resign', 'resolut', 'resolv', 'resort', 'respect', 'respond', 'respons', 'rest', 'restaur', 'restor', 'restrict', 'result', 'retir', 'return', 'retweet', 'reveal', 'review', 'rice', 'rich', 'richa', 'ride', 'ridicul', 'right', 'riot', 'rip', 'rise', 'risk', 'river', 'road', 'rock', 'roger', 'role', 'roll', 'romant', 'room', 'root', 'rose', 'round', 'rout', 'royal', 'rs', 'rss', 'rt', 'ruin', 'rule', 'run', 'russia', 'russian', 'sab', 'sabha', 'sachin', 'sacrific', 'sad', 'saddahaq', 'sadli', 'safe', 'safeti', 'said', 'saint', 'sake', 'sakshikumar', 'salari', 'sale', 'salman', 'salut', 'samsung', 'sanjay', 'sant', 'saranave', 'sardesairajdeep', 'sat', 'saturday', 'saudi', 'savarkar', 'save', 'saw', 'say', 'sb', 'sc', 'scam', 'scare', 'scene', 'schedul', 'scheme', 'schmmuck', 'school', 'scienc', 'score', 'scream', 'screen', 'script', 'scroll', 'se', 'sea', 'search', 'season', 'seat', 'sec', 'second', 'secret', 'secretari', 'section', 'sector', 'secular', 'secur', 'see', 'seek', 'seem', 'seen', 'select', 'self', 'selfi', 'sell', 'sena', 'send', 'senior', 'sens', 'sent', 'separ', 'septemb', 'serdargoknur', 'seri', 'seriou', 'serious', 'serv', 'servic', 'session', 'set', 'settl', 'sever', 'sewag', 'sex', 'sexual', 'sg', 'shah', 'shall', 'shame', 'shameless', 'share', 'sharma', 'shd', 'shift', 'shine', 'ship', 'shirt', 'shit', 'shiv', 'shock', 'shoot', 'shop', 'short', 'shot', 'shout', 'show', 'shower', 'shown', 'shri', 'shut', 'si', 'sick', 'side', 'sidhant', 'sigh', 'sight', 'sign', 'sikh', 'silenc', 'silent', 'similar', 'simpl', 'simpli', 'sinc', 'sindh', 'sing', 'singer', 'singh', 'singl', 'sir', 'sister', 'sit', 'site', 'situat', 'siva', 'six', 'size', 'sk', 'skill', 'skin', 'sky', 'sl', 'slap', 'sleep', 'slogan', 'slow', 'sm', 'small', 'smart', 'smile', 'smita', 'smoke', 'social', 'societi', 'soft', 'sold', 'soldier', 'solut', 'solv', 'somebodi', 'somehow', 'someon', 'someth', 'sometim', 'somewher', 'son', 'sonam', 'song', 'sonia', 'soon', 'sooo', 'sorri', 'sort', 'soul', 'sound', 'sourc', 'south', 'sp', 'space', 'speak', 'speaker', 'special', 'speech', 'speed', 'spend', 'spent', 'spirit', 'spiritu', 'spoke', 'spokesperson', 'sponsor', 'sport', 'spot', 'spread', 'sq', 'sri', 'srilanka', 'srinagar', 'ss', 'st', 'stadium', 'staff', 'stage', 'stan', 'stand', 'standard', 'star', 'starindia', 'starplu', 'start', 'startvuk', 'state', 'statement', 'station', 'statu', 'stay', 'step', 'stick', 'stigmabas', 'still', 'stock', 'stone', 'stop', 'store', 'stori', 'str', 'straight', 'strang', 'strategi', 'stream', 'street', 'strength', 'stress', 'strike', 'strong', 'strongli', 'struggl', 'stuck', 'student', 'studi', 'studio', 'stuff', 'stun', 'stupid', 'style', 'sub', 'subject', 'success', 'suddenli', 'suffer', 'suggest', 'suicid', 'suit', 'sukhieb', 'sumde', 'summer', 'sun', 'sunday', 'sunitag', 'sunni', 'sunset', 'super', 'superb', 'superstar', 'suppli', 'support', 'suppos', 'suprem', 'surat', 'sure', 'suriya', 'surpris', 'surviv', 'sushant', 'suspect', 'suspend', 'swami', 'swear', 'sweet', 'sweetbisma', 'switch', 'sy', 'symbian', 'system', 'szama', 'tabl', 'tag', 'take', 'taken', 'talent', 'taliban', 'talk', 'tamil', 'tannokhan', 'target', 'task', 'tast', 'taught', 'tax', 'tea', 'teach', 'teacher', 'team', 'tear', 'teaser', 'tech', 'technolog', 'tell', 'telugu', 'temjenao', 'templ', 'term', 'terribl', 'territori', 'terror', 'terrorist', 'test', 'text', 'textualoffend', 'th', 'tha', 'thai', 'thailand', 'thailandp', 'thala', 'thalapathi', 'thank', 'thankyou', 'thanx', 'that', 'theatr', 'theori', 'thi', 'thing', 'think', 'third', 'though', 'thought', 'thousand', 'thread', 'threat', 'threaten', 'three', 'throw', 'thru', 'tht', 'thursday', 'thx', 'ticket', 'tie', 'tiger', 'till', 'time', 'timelin', 'timesnow', 'timesofindia', 'tire', 'titl', 'tl', 'tn', 'today', 'togeth', 'toh', 'toi', 'told', 'toler', 'tomorrow', 'tonight', 'took', 'top', 'topic', 'tortur', 'total', 'tou', 'touch', 'tough', 'tour', 'tourism', 'tourist', 'toward', 'town', 'track', 'trade', 'tradit', 'traffic', 'trailer', 'train', 'transfer', 'translat', 'transport', 'trap', 'travel', 'treat', 'treatment', 'tree', 'trend', 'tri', 'tribut', 'trip', 'troll', 'troubl', 'true', 'truli', 'trump', 'trust', 'truth', 'tu', 'tum', 'tune', 'turn', 'tv', 'tw', 'tweet', 'tweetsav', 'twice', 'twist', 'twitpic', 'twitter', 'two', 'twss', 'type', 'uae', 'ugli', 'uk', 'ultim', 'un', 'understand', 'unfollow', 'unfortun', 'union', 'unit', 'univers', 'unless', 'unlik', 'unsc', 'upa', 'upcom', 'updat', 'upload', 'upon', 'ur', 'urdu', 'urg', 'urstrulymahesh', 'us', 'usa', 'use', 'useless', 'user', 'usual', 'utm', 'valley', 'valu', 'vantaskigoli', 'varanasi', 'variou', 'veeram', 'vehicl', 'version', 'via', 'victim', 'victori', 'video', 'vidya', 'vietnam', 'view', 'vijay', 'villag', 'vinayak', 'violat', 'violenc', 'violent', 'virgizapoteca', 'viru', 'visa', 'vishnu', 'visibl', 'vision', 'visit', 'vivek', 'vj', 'vk', 'vodkahol', 'voic', 'volunt', 'vote', 'voter', 'vs', 'wait', 'wake', 'wala', 'walk', 'wall', 'wanna', 'want', 'war', 'warm', 'warn', 'warrior', 'wash', 'wast', 'wat', 'watch', 'water', 'wave', 'way', 'weak', 'weapon', 'wear', 'weather', 'websit', 'wed', 'week', 'weekend', 'weight', 'weird', 'welcom', 'well', 'went', 'west', 'western', 'whatev', 'whatsapp', 'whenev', 'whether', 'white', 'whitemughalsfan', 'whole', 'whose', 'wht', 'wicket', 'wide', 'wife', 'wilmerdon', 'win', 'wind', 'window', 'wing', 'winner', 'winter', 'wionew', 'wise', 'wish', 'wit', 'within', 'without', 'wl', 'wo', 'woke', 'woman', 'women', 'wonder', 'wont', 'word', 'work', 'worker', 'world', 'worldwid', 'worri', 'wors', 'worship', 'worst', 'worth', 'would', 'wow', 'write', 'writer', 'written', 'wrong', 'wrote', 'wtf', 'wud', 'www', 'xd', 'ya', 'yaar', 'ye', 'yeah', 'year', 'yeh', 'yellow', 'yesh', 'yesterday', 'yet', 'yfrog', 'yo', 'yoga', 'young', 'youth', 'youtu', 'youtub', 'yr', 'yumjaoleima', 'yup', 'zero', 'zone']\n"
          ],
          "name": "stdout"
        }
      ]
    },
    {
      "cell_type": "code",
      "metadata": {
        "id": "7k9wzoSjow2x",
        "colab_type": "code",
        "colab": {
          "base_uri": "https://localhost:8080/",
          "height": 139
        },
        "outputId": "0faef6fb-93e7-4c3d-90a4-fec2625de126"
      },
      "source": [
        "X1_1=cv.fit_transform(sentences1).toarray()    ### for lemmatization\n",
        "X1_1"
      ],
      "execution_count": 14,
      "outputs": [
        {
          "output_type": "execute_result",
          "data": {
            "text/plain": [
              "array([[0, 0, 0, ..., 0, 0, 0],\n",
              "       [0, 0, 0, ..., 0, 0, 0],\n",
              "       [0, 0, 0, ..., 0, 0, 0],\n",
              "       ...,\n",
              "       [0, 0, 0, ..., 0, 0, 0],\n",
              "       [0, 0, 0, ..., 0, 0, 0],\n",
              "       [0, 0, 0, ..., 0, 0, 0]])"
            ]
          },
          "metadata": {
            "tags": []
          },
          "execution_count": 14
        }
      ]
    },
    {
      "cell_type": "code",
      "metadata": {
        "id": "FYRggGtCpDi3",
        "colab_type": "code",
        "colab": {
          "base_uri": "https://localhost:8080/",
          "height": 55
        },
        "outputId": "19783504-8ebb-4d7a-b38e-67d7f0c5438f"
      },
      "source": [
        "print(cv.get_feature_names())  ### for lemmatization"
      ],
      "execution_count": 15,
      "outputs": [
        {
          "output_type": "stream",
          "text": [
            "['aa', 'aap', 'ab', 'abdul', 'abdullah', 'abhi', 'ability', 'able', 'abroad', 'absolutely', 'abt', 'abuse', 'accept', 'accepted', 'access', 'accident', 'according', 'account', 'accused', 'achieve', 'achievement', 'across', 'act', 'acting', 'action', 'active', 'activist', 'activity', 'actor', 'actress', 'actually', 'ad', 'add', 'added', 'address', 'adityampaul', 'administration', 'adorable', 'advance', 'advice', 'affair', 'affected', 'afghan', 'afghanistan', 'afraid', 'afternoon', 'age', 'agency', 'agenda', 'agent', 'ago', 'agree', 'agreed', 'ah', 'ahead', 'ahmed', 'ahmedabad', 'air', 'aircraft', 'airline', 'airport', 'ajith', 'ajithians', 'ak', 'akshaykumar', 'al', 'album', 'alcohol', 'alert', 'ali', 'alive', 'allah', 'allow', 'allowed', 'almost', 'alone', 'along', 'already', 'also', 'always', 'amazing', 'ambassador', 'ambrin', 'ameen', 'american', 'amit', 'amitshah', 'among', 'amount', 'amp', 'anand', 'android', 'angel', 'anger', 'angry', 'ani', 'animal', 'ann', 'anna', 'anniversary', 'announced', 'announcement', 'another', 'anselmo', 'answer', 'anti', 'anu', 'anurag', 'anuragbasu', 'anymore', 'anyone', 'anything', 'anyway', 'anywhere', 'ap', 'apart', 'app', 'apparently', 'appeal', 'apple', 'appreciate', 'approach', 'apps', 'april', 'area', 'argument', 'arm', 'armed', 'army', 'arnab', 'around', 'arrambam', 'arrest', 'arrested', 'arrived', 'arsenal', 'art', 'article', 'articleshow', 'artist', 'arun', 'arvind', 'arvindkejriwal', 'asharamji', 'ashish', 'asia', 'asian', 'asim', 'asimriaz', 'ask', 'asked', 'asking', 'asks', 'assam', 'assembly', 'asset', 'atleast', 'attack', 'attacked', 'attempt', 'attend', 'attention', 'attitude', 'audience', 'aug', 'august', 'aur', 'australia', 'authority', 'auto', 'available', 'average', 'avoid', 'award', 'aware', 'away', 'awesome', 'azhar', 'ba', 'baat', 'baba', 'baby', 'bacardidevi', 'bacci', 'back', 'background', 'bad', 'badly', 'bag', 'bail', 'balaji', 'ball', 'balochistan', 'ban', 'band', 'bandra', 'bang', 'bangalore', 'bangkok', 'bangladesh', 'bank', 'banned', 'bapu', 'bar', 'barun', 'barunsobtisays', 'base', 'based', 'basic', 'basically', 'basis', 'battery', 'battle', 'bay', 'bb', 'bbc', 'bbhuttozardari', 'bdutt', 'beach', 'bear', 'beat', 'beautiful', 'beautifulpakistan', 'beautifulplcs', 'beauty', 'became', 'become', 'becomes', 'becoming', 'bed', 'beef', 'beer', 'begin', 'beginning', 'behind', 'beingsalmankhan', 'belief', 'believe', 'beloved', 'benefit', 'bengal', 'bengaluru', 'best', 'bet', 'better', 'beyond', 'bhai', 'bhaijaan', 'bharat', 'bhi', 'big', 'biggboss', 'bigger', 'biggest', 'bihar', 'bike', 'bill', 'billion', 'bird', 'birth', 'birthday', 'bit', 'bjp', 'black', 'blahssome', 'blame', 'blast', 'bless', 'blessed', 'blessing', 'block', 'blockbuster', 'blocked', 'blog', 'blood', 'bloody', 'blue', 'bm', 'bn', 'board', 'boat', 'body', 'bollywood', 'bomb', 'bombay', 'bond', 'book', 'border', 'bored', 'boring', 'born', 'bos', 'bought', 'box', 'boy', 'brain', 'brand', 'brave', 'break', 'breakfast', 'breaking', 'breath', 'brian', 'bridge', 'brilliant', 'bring', 'bringing', 'brings', 'british', 'bro', 'broke', 'broken', 'brother', 'brought', 'bt', 'btl', 'bts', 'btw', 'buddha', 'budget', 'build', 'building', 'built', 'bus', 'business', 'busy', 'button', 'buy', 'buying', 'bye', 'caa', 'cabinet', 'cake', 'calamity', 'call', 'called', 'calling', 'calm', 'came', 'camera', 'camp', 'campaign', 'candidate', 'cannot', 'cant', 'capital', 'captain', 'car', 'card', 'care', 'career', 'careful', 'carry', 'case', 'cash', 'cast', 'caste', 'cat', 'catch', 'caught', 'cause', 'cbi', 'cc', 'celebrate', 'celebrating', 'celebration', 'cell', 'center', 'central', 'centre', 'century', 'ceremony', 'certain', 'certainly', 'chairman', 'challenge', 'champion', 'chance', 'change', 'changed', 'changing', 'changkyun', 'channel', 'char', 'character', 'charge', 'chat', 'cheap', 'check', 'cheer', 'chennai', 'chicken', 'chidambaram', 'chief', 'child', 'childhood', 'china', 'chinese', 'chloejferns', 'chocolate', 'choice', 'choose', 'christian', 'christmas', 'church', 'cinema', 'citizen', 'citizenship', 'city', 'civil', 'civilian', 'claim', 'class', 'clean', 'clear', 'clearly', 'click', 'clip', 'close', 'closed', 'clothes', 'club', 'cm', 'cmo', 'co', 'code', 'coffee', 'cold', 'colleague', 'collection', 'college', 'colombo', 'color', 'colorstv', 'colour', 'com', 'come', 'comedy', 'coming', 'comment', 'commission', 'committed', 'committee', 'common', 'communal', 'community', 'company', 'compare', 'complaint', 'complete', 'completely', 'complex', 'concept', 'concern', 'concerned', 'condemn', 'condition', 'condolence', 'conference', 'confidence', 'confirmed', 'confused', 'cong', 'congi', 'congrats', 'congratulation', 'congress', 'consider', 'considered', 'considering', 'constituency', 'constitution', 'contact', 'content', 'contest', 'continue', 'continues', 'contribution', 'control', 'conversation', 'cool', 'cop', 'copy', 'core', 'corner', 'corona', 'coronavirus', 'correct', 'corrupt', 'corruption', 'cost', 'could', 'council', 'count', 'counter', 'country', 'couple', 'courage', 'course', 'court', 'courtesy', 'courtlands', 'cover', 'covid', 'cow', 'coz', 'cr', 'crap', 'crazy', 'create', 'created', 'creating', 'credit', 'cricket', 'crime', 'criminal', 'crisis', 'critical', 'crore', 'cross', 'crossed', 'crowd', 'crush', 'cry', 'culture', 'cup', 'curfew', 'current', 'currently', 'cut', 'cute', 'cuz', 'cwc', 'da', 'dabangg', 'dad', 'daily', 'damage', 'damn', 'dance', 'dancing', 'dangerous', 'dare', 'dark', 'data', 'date', 'daughter', 'dawn', 'day', 'de', 'dead', 'deal', 'dear', 'death', 'debate', 'debut', 'dec', 'decade', 'december', 'decent', 'decide', 'decided', 'decision', 'declared', 'dedicated', 'deep', 'deeply', 'deeseelicious', 'defeat', 'defence', 'definitely', 'degree', 'delhi', 'delivery', 'demand', 'democracy', 'democratic', 'department', 'dept', 'derickpauls', 'dermott', 'deserve', 'deserves', 'design', 'despite', 'destroy', 'destroyed', 'detail', 'dev', 'development', 'device', 'dg', 'dharma', 'dhishkiaun', 'dhoni', 'di', 'dialogue', 'diary', 'didnt', 'die', 'died', 'diet', 'difference', 'different', 'difficult', 'digital', 'dil', 'din', 'dinner', 'dir', 'direct', 'directed', 'direction', 'directly', 'director', 'disaster', 'discharged', 'discus', 'discussion', 'disgusting', 'display', 'distance', 'district', 'divine', 'diwali', 'dlvr', 'dm', 'dna', 'doct', 'doctor', 'doesnt', 'dog', 'dogandfootyfan', 'domestic', 'domi', 'done', 'donechannel', 'dont', 'door', 'double', 'doubt', 'dp', 'dr', 'drama', 'dream', 'dress', 'drink', 'drinking', 'drive', 'driver', 'driving', 'drop', 'drug', 'drunk', 'dubai', 'dude', 'due', 'dumb', 'duncan', 'duty', 'dy', 'dying', 'earlier', 'early', 'earth', 'easily', 'east', 'easy', 'eat', 'eating', 'ec', 'economic', 'economy', 'ed', 'editor', 'educated', 'education', 'effect', 'effort', 'egg', 'eid', 'either', 'ek', 'ektaravikapoor', 'ektarkapoor', 'elected', 'election', 'electricity', 'elite', 'elmiro', 'else', 'email', 'emergency', 'emotion', 'emotional', 'employee', 'empty', 'en', 'encounter', 'end', 'ending', 'enemy', 'energy', 'england', 'english', 'enjoy', 'enjoying', 'enough', 'ensure', 'enter', 'entertainment', 'entire', 'entry', 'environment', 'envoy', 'epic', 'episode', 'equal', 'era', 'especially', 'essential', 'etc', 'even', 'evening', 'event', 'ever', 'every', 'everybody', 'everyday', 'everyone', 'everything', 'everywhere', 'evidence', 'evil', 'ex', 'exactly', 'exam', 'example', 'excellent', 'except', 'excited', 'exclusive', 'excuse', 'exercise', 'exist', 'expect', 'expectation', 'expected', 'expecting', 'expensive', 'experience', 'expert', 'explain', 'expose', 'exposed', 'express', 'expression', 'extra', 'extremely', 'eye', 'face', 'facebook', 'facility', 'facing', 'fact', 'fadnavis', 'fail', 'failed', 'failure', 'fair', 'faith', 'fake', 'fall', 'falling', 'false', 'family', 'famous', 'fan', 'fandom', 'fantastic', 'far', 'faridamalick', 'farmer', 'fast', 'fat', 'father', 'fav', 'favorite', 'favour', 'favourite', 'fawad', 'fawadakhan', 'fawadkhan', 'fb', 'fear', 'feature', 'feb', 'federer', 'feel', 'feeling', 'fellow', 'felt', 'female', 'festival', 'ff', 'field', 'fight', 'fighter', 'fighting', 'figure', 'file', 'filled', 'film', 'final', 'finally', 'finance', 'financial', 'find', 'finding', 'fine', 'finger', 'finish', 'finished', 'fir', 'fire', 'first', 'fit', 'five', 'fix', 'flag', 'flash', 'flight', 'flood', 'floor', 'flower', 'fly', 'flying', 'fm', 'focus', 'folk', 'follow', 'followed', 'follower', 'following', 'food', 'fool', 'foot', 'football', 'force', 'forced', 'foreign', 'foreigner', 'forever', 'forget', 'forgive', 'forgot', 'forgotten', 'form', 'former', 'forward', 'fought', 'found', 'four', 'foursquare', 'fr', 'france', 'fraud', 'free', 'freedom', 'french', 'fresh', 'friday', 'friend', 'friendly', 'friendship', 'friendspic', 'frm', 'front', 'fruit', 'ft', 'fubar', 'fuck', 'fucking', 'full', 'fully', 'fun', 'fund', 'funny', 'future', 'gain', 'galaxy', 'game', 'gandhi', 'gang', 'ganga', 'garden', 'gate', 'gave', 'gaya', 'gb', 'gd', 'gdp', 'gedeldrake', 'gem', 'gen', 'gender', 'general', 'generation', 'genius', 'gentleman', 'genuine', 'get', 'getting', 'ghaatidancer', 'ghat', 'gift', 'girl', 'give', 'given', 'giving', 'gl', 'glad', 'glass', 'global', 'go', 'goa', 'goal', 'god', 'goi', 'going', 'gold', 'golden', 'gone', 'gonna', 'goo', 'good', 'google', 'goon', 'gorgeous', 'got', 'governance', 'government', 'governor', 'govt', 'grace', 'grand', 'gravity', 'great', 'greatest', 'green', 'greeting', 'ground', 'group', 'grow', 'growing', 'growth', 'gsurya', 'gud', 'guess', 'guest', 'gujarat', 'gun', 'guptrogue', 'gurmeetramrahim', 'guru', 'guy', 'guyz', 'ha', 'haha', 'hahaha', 'hahahaha', 'hai', 'hain', 'hair', 'half', 'hand', 'handle', 'handsome', 'happen', 'happened', 'happening', 'happens', 'happiness', 'happy', 'hard', 'haryana', 'hashtag', 'hat', 'hate', 'hater', 'hatred', 'hayat', 'hc', 'head', 'headline', 'health', 'healthy', 'hear', 'heard', 'hearing', 'heart', 'heaven', 'heavy', 'hehe', 'height', 'held', 'hell', 'hello', 'help', 'helped', 'helping', 'hence', 'heritage', 'hero', 'hey', 'hi', 'hide', 'high', 'higher', 'highest', 'highlight', 'highly', 'highway', 'hill', 'hind', 'hindi', 'hindu', 'hinduism', 'hinnaz', 'historic', 'history', 'hit', 'hiway', 'hm', 'hmm', 'hmmm', 'ho', 'hold', 'holding', 'holi', 'holiday', 'holy', 'home', 'hon', 'honest', 'honour', 'hope', 'hopefully', 'hoping', 'hospital', 'host', 'hot', 'hotel', 'hour', 'house', 'however', 'hq', 'hr', 'ht', 'html', 'http', 'httweets', 'hu', 'hua', 'hug', 'huge', 'hum', 'human', 'humanity', 'humble', 'hundred', 'hurt', 'husband', 'hv', 'hve', 'hyderabad', 'ia', 'iaf', 'iam', 'iamsrk', 'ibnlive', 'ice', 'icon', 'id', 'idea', 'identity', 'ideology', 'idiot', 'ig', 'ignore', 'igshid', 'ik', 'ill', 'illegal', 'im', 'image', 'imagine', 'immediately', 'impact', 'important', 'impossible', 'impression', 'imran', 'imrankhanpti', 'inc', 'incident', 'incindia', 'including', 'income', 'increase', 'increased', 'incredible', 'indeed', 'independence', 'independent', 'india', 'indian', 'indianexpress', 'indiatimes', 'indiatoday', 'indira', 'individual', 'industry', 'infected', 'info', 'information', 'initiative', 'injured', 'innocent', 'inside', 'insight', 'inspiration', 'instagr', 'instagram', 'instead', 'institution', 'insult', 'intellectual', 'intelligence', 'interest', 'interested', 'interesting', 'internal', 'international', 'internet', 'interview', 'investigation', 'invite', 'involved', 'io', 'ionacrv', 'iphone', 'ipl', 'iran', 'irbm', 'isi', 'islam', 'islamabad', 'islamic', 'islamist', 'island', 'israel', 'issue', 'issued', 'item', 'itsmuralimohan', 'jai', 'jail', 'jammu', 'jan', 'january', 'japan', 'jawaharlal', 'ji', 'jk', 'jnu', 'jo', 'job', 'join', 'joined', 'joining', 'joint', 'joke', 'journalism', 'journalist', 'journey', 'joy', 'jstabila', 'judge', 'july', 'jump', 'june', 'justice', 'ka', 'kabul', 'kajolatun', 'kapoor', 'kar', 'karachi', 'karnataka', 'kasautiizindagiikay', 'kasautiizindagiikaypic', 'kashmir', 'kashmiri', 'ke', 'keep', 'keeping', 'kejriwal', 'kept', 'kerala', 'key', 'kg', 'khan', 'khervelin', 'khoobsurat', 'ki', 'kick', 'kid', 'kill', 'killed', 'killer', 'killing', 'kind', 'kinda', 'kindly', 'king', 'kirraak', 'kirraakpic', 'kiss', 'kl', 'km', 'knew', 'know', 'knowing', 'knowledge', 'known', 'ko', 'kolkata', 'kp', 'krishna', 'krist', 'kuch', 'kudos', 'kumar', 'kya', 'la', 'lac', 'lack', 'ladakh', 'lady', 'laghateparth', 'laghateparthpic', 'lahore', 'lake', 'lakh', 'land', 'language', 'lanka', 'large', 'largest', 'last', 'late', 'later', 'latest', 'laugh', 'launch', 'launched', 'law', 'lawyer', 'layman', 'le', 'lead', 'leader', 'leadership', 'leading', 'leaf', 'league', 'learn', 'learned', 'learning', 'least', 'leave', 'leaving', 'led', 'left', 'leg', 'legal', 'legend', 'lesson', 'let', 'letter', 'level', 'liberal', 'lie', 'life', 'lifetime', 'light', 'like', 'liked', 'likely', 'limit', 'line', 'link', 'list', 'listen', 'listening', 'literally', 'little', 'live', 'lived', 'living', 'lk', 'lka', 'load', 'loan', 'local', 'location', 'lockdown', 'log', 'logic', 'lok', 'lol', 'lolalolih', 'london', 'long', 'longer', 'look', 'looked', 'looking', 'lord', 'lose', 'losing', 'loss', 'lost', 'lot', 'love', 'loved', 'lovely', 'lover', 'loving', 'low', 'lower', 'luck', 'lucky', 'luisaolvera', 'lumia', 'lunch', 'luv', 'ly', 'mad', 'made', 'magazine', 'magic', 'mahafreed', 'maharashtra', 'mai', 'mail', 'main', 'major', 'majority', 'make', 'maker', 'making', 'maldives', 'male', 'malik', 'mall', 'man', 'managed', 'management', 'manner', 'manu', 'many', 'map', 'march', 'mark', 'market', 'marriage', 'married', 'martyr', 'mask', 'mass', 'massive', 'master', 'match', 'matter', 'max', 'may', 'maybe', 'meal', 'mean', 'meaning', 'meant', 'measure', 'meat', 'medical', 'medicine', 'medium', 'meet', 'meeting', 'mein', 'member', 'memory', 'men', 'mental', 'mention', 'mentioned', 'mere', 'mess', 'message', 'met', 'metro', 'michelleburley', 'mid', 'middle', 'midnight', 'might', 'migrant', 'mil', 'military', 'million', 'min', 'mind', 'mine', 'minister', 'ministry', 'minority', 'minute', 'mirror', 'miss', 'missed', 'missing', 'mission', 'mistake', 'mla', 'mlas', 'mm', 'mma', 'mob', 'mobile', 'mode', 'model', 'modern', 'modi', 'mohsinmalvi', 'mom', 'moment', 'monday', 'money', 'monsta', 'month', 'mood', 'moon', 'moral', 'morning', 'morningpic', 'moron', 'mosque', 'mostly', 'mother', 'moumita', 'mountain', 'mouth', 'move', 'moved', 'movement', 'movie', 'moving', 'mp', 'mpa', 'mqm', 'mr', 'mrmarkcrossley', 'mrugajabhave', 'msg', 'msgthefilm', 'much', 'muhammad', 'multiple', 'mumbai', 'murder', 'mused', 'museum', 'music', 'musical', 'muslim', 'must', 'mymussoorie', 'na', 'nahi', 'najwamariami', 'name', 'named', 'narendra', 'narendramodi', 'narrative', 'natashabaig', 'nation', 'national', 'natural', 'nature', 'naveen', 'navy', 'ncp', 'nd', 'nda', 'ndtv', 'ne', 'near', 'nearly', 'necessary', 'need', 'needed', 'negative', 'nehru', 'neither', 'nepal', 'nesoron', 'net', 'network', 'never', 'new', 'news', 'newspaper', 'next', 'nice', 'nieuwemarlean', 'night', 'nobody', 'nokia', 'non', 'none', 'nonsense', 'nope', 'normal', 'north', 'note', 'nothing', 'notice', 'noticed', 'notification', 'nov', 'november', 'nrc', 'nt', 'number', 'obviously', 'occasion', 'october', 'odisha', 'offer', 'office', 'officer', 'official', 'officially', 'officialmonstax', 'offl', 'often', 'oh', 'oil', 'ok', 'okay', 'old', 'om', 'omg', 'one', 'oneblackcoffee', 'online', 'open', 'opened', 'opening', 'operation', 'opindia', 'opinion', 'opportunity', 'opposition', 'option', 'order', 'org', 'original', 'others', 'otherwise', 'ou', 'outrage', 'outside', 'owner', 'page', 'paid', 'pain', 'pak', 'pakistan', 'pakistani', 'pandemic', 'paper', 'pappu', 'parent', 'park', 'parliament', 'part', 'parth', 'parthsamthaan', 'partner', 'party', 'pas', 'passed', 'passenger', 'passing', 'passion', 'past', 'patel', 'path', 'pathetic', 'patient', 'pay', 'paying', 'pc', 'pe', 'peace', 'peaceful', 'peak', 'people', 'per', 'perfect', 'performance', 'perhaps', 'period', 'person', 'personal', 'personality', 'personnel', 'peshawar', 'petrol', 'ph', 'phase', 'phone', 'photo', 'phuket', 'phukettopteam', 'pic', 'pick', 'picture', 'piece', 'pilot', 'pk', 'pl', 'place', 'plan', 'plane', 'planned', 'planning', 'plant', 'platform', 'play', 'played', 'player', 'playing', 'please', 'pleasure', 'pls', 'plus', 'plz', 'pm', 'pmoindia', 'point', 'police', 'policy', 'political', 'politician', 'politics', 'poll', 'poor', 'popular', 'population', 'position', 'positive', 'possible', 'post', 'posted', 'poster', 'power', 'powerful', 'ppl', 'ppp', 'pr', 'practice', 'pradesh', 'pragya', 'praise', 'pramila', 'pray', 'prayer', 'pre', 'precious', 'prefer', 'prerna', 'presence', 'present', 'president', 'press', 'pressure', 'pretty', 'previous', 'prg', 'price', 'pride', 'prime', 'priority', 'private', 'priyanka', 'pro', 'probably', 'problem', 'process', 'producer', 'product', 'production', 'prof', 'professional', 'profile', 'program', 'progress', 'project', 'promise', 'promote', 'promotion', 'proof', 'propaganda', 'proper', 'property', 'protect', 'protection', 'protest', 'proud', 'prove', 'proved', 'provide', 'province', 'pti', 'public', 'pull', 'pulwama', 'pune', 'punjab', 'punjabirooh', 'pure', 'puri', 'purpose', 'push', 'put', 'putting', 'quality', 'quarantine', 'queen', 'question', 'quick', 'quiet', 'quite', 'quote', 'race', 'rafale', 'raha', 'rahul', 'rahulgandhi', 'railway', 'rain', 'raise', 'raised', 'raj', 'raja', 'rajasthan', 'rajiv', 'rally', 'ram', 'ramcharan', 'random', 'rape', 'rapist', 'rare', 'rate', 'rather', 'rd', 'reach', 'reached', 'reaction', 'read', 'reading', 'ready', 'real', 'realise', 'reality', 'realize', 'really', 'reason', 'received', 'recent', 'recently', 'record', 'recovered', 'recovery', 'red', 'redd', 'reform', 'refuse', 'refused', 'regard', 'regarding', 'region', 'regret', 'regular', 'related', 'relation', 'relationship', 'release', 'released', 'releasing', 'relief', 'religion', 'religious', 'remain', 'remains', 'remark', 'remember', 'reminds', 'remove', 'removed', 'repeat', 'reply', 'report', 'reported', 'reporting', 'republic', 'request', 'research', 'resident', 'resolution', 'resort', 'respect', 'respected', 'response', 'responsibility', 'responsible', 'rest', 'restaurant', 'result', 'return', 'retweet', 'review', 'rice', 'rich', 'richa', 'ride', 'right', 'riot', 'rip', 'rise', 'risk', 'river', 'road', 'rock', 'rocking', 'roger', 'role', 'roll', 'romantic', 'room', 'root', 'rose', 'round', 'route', 'royal', 'rt', 'rule', 'ruling', 'run', 'running', 'russia', 'russian', 'sab', 'sabha', 'sachin', 'sacrifice', 'sad', 'saddahaq', 'sadly', 'safe', 'safety', 'said', 'saint', 'sake', 'sakshikumar', 'salary', 'sale', 'salman', 'salute', 'samsung', 'sanjay', 'sant', 'saranaveed', 'sardesairajdeep', 'sat', 'saturday', 'saudi', 'save', 'saved', 'saving', 'saw', 'say', 'saying', 'sb', 'sc', 'scam', 'scared', 'scene', 'schedule', 'scheme', 'schmmuck', 'school', 'science', 'score', 'screen', 'script', 'se', 'sea', 'search', 'season', 'seat', 'sec', 'second', 'secret', 'secretary', 'section', 'sector', 'secular', 'secularism', 'security', 'see', 'seeing', 'seek', 'seem', 'seems', 'seen', 'self', 'selfie', 'sell', 'selling', 'sena', 'send', 'sending', 'senior', 'sense', 'sent', 'september', 'serdargoknur', 'series', 'serious', 'seriously', 'serve', 'service', 'serving', 'session', 'set', 'setting', 'several', 'sewage', 'sg', 'shah', 'shall', 'shame', 'shameful', 'shameless', 'share', 'shared', 'sharing', 'sharma', 'shd', 'ship', 'shirt', 'shit', 'shiv', 'shocked', 'shocking', 'shoot', 'shooting', 'shop', 'short', 'shot', 'show', 'showed', 'showing', 'shown', 'shri', 'shut', 'si', 'sick', 'side', 'sidhant', 'sigh', 'sign', 'signed', 'sikh', 'silence', 'silent', 'similar', 'simple', 'simply', 'since', 'sindh', 'singer', 'singh', 'singing', 'single', 'sir', 'sister', 'sit', 'site', 'sitting', 'situation', 'siva', 'six', 'size', 'skill', 'skin', 'sky', 'sl', 'sleep', 'sleeping', 'slogan', 'slow', 'sm', 'small', 'smart', 'smile', 'smiling', 'smita', 'social', 'society', 'soft', 'sold', 'soldier', 'solution', 'somebody', 'somehow', 'someone', 'something', 'sometimes', 'somewhere', 'son', 'sonam', 'song', 'sonia', 'soon', 'sooo', 'sorry', 'sort', 'soul', 'sound', 'source', 'south', 'sp', 'space', 'speak', 'speaker', 'speaking', 'speaks', 'special', 'specially', 'speech', 'speed', 'spend', 'spent', 'spirit', 'spiritual', 'spoke', 'spokesperson', 'sport', 'spot', 'spread', 'spreading', 'sq', 'sri', 'srilanka', 'srinagar', 'st', 'stadium', 'staff', 'stage', 'stand', 'standard', 'standing', 'star', 'starindia', 'starplus', 'start', 'started', 'starting', 'startvuk', 'state', 'statement', 'station', 'statue', 'status', 'stay', 'staying', 'step', 'stigmabase', 'still', 'stock', 'stone', 'stop', 'stopped', 'store', 'story', 'str', 'straight', 'strange', 'strategy', 'street', 'strength', 'strike', 'strong', 'strongly', 'struggle', 'stuck', 'student', 'studio', 'study', 'stuff', 'stunning', 'stupid', 'style', 'sub', 'subject', 'success', 'successful', 'suddenly', 'suffering', 'suggest', 'suggestion', 'suicide', 'suit', 'sukhieb', 'sumdee', 'summer', 'sun', 'sunday', 'sunitag', 'sunny', 'sunset', 'super', 'superb', 'superstar', 'supply', 'support', 'supported', 'supporter', 'supporting', 'supposed', 'supreme', 'surat', 'sure', 'surely', 'suriya', 'surprise', 'surprised', 'sushant', 'swamy', 'sweet', 'sweetbisma', 'symbian', 'system', 'szama', 'tag', 'take', 'taken', 'taking', 'talent', 'talented', 'taliban', 'talk', 'talking', 'tamil', 'tannokhan', 'target', 'taste', 'taught', 'tax', 'tea', 'teach', 'teacher', 'team', 'tear', 'teaser', 'tech', 'tell', 'telling', 'telugu', 'temjenao', 'temple', 'term', 'terrible', 'territory', 'terror', 'terrorism', 'terrorist', 'test', 'tested', 'testing', 'text', 'textualoffender', 'th', 'tha', 'thai', 'thailand', 'thailandpic', 'thala', 'thalapathy', 'thank', 'thanks', 'thankyou', 'thanx', 'thats', 'theatre', 'theory', 'thing', 'think', 'thinking', 'third', 'though', 'thought', 'thousand', 'thread', 'threat', 'three', 'throw', 'thru', 'tht', 'thursday', 'thx', 'ticket', 'tie', 'tiger', 'till', 'time', 'timeline', 'timesnow', 'timesofindia', 'tired', 'title', 'tl', 'tn', 'today', 'together', 'toh', 'toi', 'told', 'tomorrow', 'tonight', 'took', 'top', 'topic', 'total', 'totally', 'tou', 'touch', 'tough', 'tour', 'tourism', 'tourist', 'towards', 'town', 'track', 'trade', 'tradition', 'traffic', 'trailer', 'train', 'training', 'travel', 'treat', 'treated', 'treatment', 'tree', 'trend', 'trending', 'tribute', 'tried', 'trip', 'troll', 'trouble', 'true', 'truly', 'trump', 'trust', 'truth', 'try', 'trying', 'tu', 'tum', 'tune', 'turn', 'turned', 'tv', 'tw', 'tweet', 'tweeted', 'tweeting', 'tweetsav', 'twice', 'twitpic', 'twitter', 'two', 'twss', 'type', 'uae', 'ugly', 'uk', 'ultimate', 'un', 'understand', 'understanding', 'unfortunately', 'union', 'unit', 'united', 'universe', 'university', 'unless', 'unlike', 'unsc', 'upa', 'upcoming', 'update', 'updated', 'upon', 'ur', 'urdu', 'urge', 'urstrulymahesh', 'usa', 'use', 'used', 'useless', 'user', 'using', 'usual', 'usually', 'utm', 'valley', 'value', 'vantaskigoli', 'varanasi', 'various', 'veeram', 'vehicle', 'version', 'via', 'victim', 'victory', 'video', 'vidya', 'vietnam', 'view', 'vijay', 'village', 'vinayak', 'violation', 'violence', 'violent', 'virgizapoteca', 'virus', 'visa', 'vishnu', 'vision', 'visit', 'visited', 'visiting', 'vj', 'vk', 'vodkaholic', 'voice', 'volunteer', 'vote', 'voted', 'voter', 'voting', 'wait', 'waiting', 'wake', 'walk', 'walking', 'wall', 'wanna', 'want', 'wanted', 'war', 'warm', 'warrior', 'waste', 'wat', 'watch', 'watched', 'watching', 'water', 'way', 'weak', 'weapon', 'wear', 'wearing', 'weather', 'website', 'wedding', 'week', 'weekend', 'weight', 'weird', 'welcome', 'well', 'went', 'west', 'western', 'whatever', 'whatsapp', 'whenever', 'whether', 'white', 'whitemughalsfan', 'whole', 'whose', 'wht', 'wicket', 'wife', 'wilmerdon', 'win', 'wind', 'window', 'wing', 'winner', 'winning', 'winter', 'wionews', 'wise', 'wish', 'wishing', 'within', 'without', 'witness', 'wl', 'wo', 'woke', 'woman', 'wonder', 'wonderful', 'wondering', 'wont', 'word', 'work', 'worked', 'worker', 'working', 'world', 'worldwide', 'worried', 'worry', 'worse', 'worst', 'worth', 'would', 'wow', 'write', 'writer', 'writing', 'written', 'wrong', 'wrote', 'wtf', 'wud', 'www', 'ya', 'yaar', 'ye', 'yeah', 'year', 'yeh', 'yellow', 'yes', 'yesh', 'yesterday', 'yet', 'yfrog', 'yo', 'yoga', 'young', 'youth', 'youtu', 'youtube', 'yr', 'yumjaoleima', 'yup', 'zero', 'zone']\n"
          ],
          "name": "stdout"
        }
      ]
    },
    {
      "cell_type": "code",
      "metadata": {
        "id": "DPE6xHz6tmIh",
        "colab_type": "code",
        "colab": {
          "base_uri": "https://localhost:8080/",
          "height": 35
        },
        "outputId": "292fab9e-2066-4b05-cbd7-6bbaabc714f2"
      },
      "source": [
        "X1.shape"
      ],
      "execution_count": 17,
      "outputs": [
        {
          "output_type": "execute_result",
          "data": {
            "text/plain": [
              "(266329, 2500)"
            ]
          },
          "metadata": {
            "tags": []
          },
          "execution_count": 17
        }
      ]
    },
    {
      "cell_type": "markdown",
      "metadata": {
        "id": "cZsbCgNNeseY",
        "colab_type": "text"
      },
      "source": [
        "**TERM FREQUENCY - INVERSE DOCUMENT FREQUENCY**"
      ]
    },
    {
      "cell_type": "code",
      "metadata": {
        "id": "Ez1k49b7b4_R",
        "colab_type": "code",
        "colab": {}
      },
      "source": [
        "from sklearn.feature_extraction.text import TfidfVectorizer\n",
        "tfidf=TfidfVectorizer(max_features=1000)\n",
        "X2=tfidf.fit_transform(sentences).toarray()     ### for stemming\n",
        "X2   ### array of features"
      ],
      "execution_count": null,
      "outputs": []
    },
    {
      "cell_type": "code",
      "metadata": {
        "id": "7sA780nYgljK",
        "colab_type": "code",
        "colab": {}
      },
      "source": [
        "print(tfidf.get_feature_names())   ### to get the feature names"
      ],
      "execution_count": null,
      "outputs": []
    },
    {
      "cell_type": "code",
      "metadata": {
        "id": "8knRU5c-m5VP",
        "colab_type": "code",
        "colab": {}
      },
      "source": [
        "X2_1=tfidf.fit_transform(sentences1).toarray()    ### lemmatization\n",
        "X2_1"
      ],
      "execution_count": null,
      "outputs": []
    },
    {
      "cell_type": "code",
      "metadata": {
        "id": "Zo1125Yzq6Xy",
        "colab_type": "code",
        "colab": {}
      },
      "source": [
        "print(tfidf.get_feature_names())"
      ],
      "execution_count": null,
      "outputs": []
    }
  ]
}
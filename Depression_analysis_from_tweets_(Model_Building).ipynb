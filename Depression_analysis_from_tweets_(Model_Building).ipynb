{
  "nbformat": 4,
  "nbformat_minor": 0,
  "metadata": {
    "colab": {
      "name": "Depression analysis from tweets (Model Building).ipynb",
      "provenance": [],
      "collapsed_sections": [],
      "mount_file_id": "1D0FSUFkfeQXVPogFSXcZGaG9BPN2LNtF",
      "authorship_tag": "ABX9TyPGeZlgv3cWBRGYy1eDle3F",
      "include_colab_link": true
    },
    "kernelspec": {
      "name": "python3",
      "display_name": "Python 3"
    },
    "accelerator": "GPU"
  },
  "cells": [
    {
      "cell_type": "markdown",
      "metadata": {
        "id": "view-in-github",
        "colab_type": "text"
      },
      "source": [
        "<a href=\"https://colab.research.google.com/github/sayantikag98/Depression_Analysis/blob/master/Depression_analysis_from_tweets_(Model_Building).ipynb\" target=\"_parent\"><img src=\"https://colab.research.google.com/assets/colab-badge.svg\" alt=\"Open In Colab\"/></a>"
      ]
    },
    {
      "cell_type": "code",
      "metadata": {
        "id": "0rLt8vB4Yytj",
        "colab_type": "code",
        "colab": {}
      },
      "source": [
        "import nltk    ### nltk library"
      ],
      "execution_count": 1,
      "outputs": []
    },
    {
      "cell_type": "code",
      "metadata": {
        "id": "jmRxzdH4ZXcS",
        "colab_type": "code",
        "colab": {
          "base_uri": "https://localhost:8080/",
          "height": 832
        },
        "outputId": "294351e5-d453-4ca5-a2a4-e9113515c8df"
      },
      "source": [
        "nltk.download('popular')"
      ],
      "execution_count": 2,
      "outputs": [
        {
          "output_type": "stream",
          "text": [
            "[nltk_data] Downloading collection 'popular'\n",
            "[nltk_data]    | \n",
            "[nltk_data]    | Downloading package cmudict to /root/nltk_data...\n",
            "[nltk_data]    |   Unzipping corpora/cmudict.zip.\n",
            "[nltk_data]    | Downloading package gazetteers to /root/nltk_data...\n",
            "[nltk_data]    |   Unzipping corpora/gazetteers.zip.\n",
            "[nltk_data]    | Downloading package genesis to /root/nltk_data...\n",
            "[nltk_data]    |   Unzipping corpora/genesis.zip.\n",
            "[nltk_data]    | Downloading package gutenberg to /root/nltk_data...\n",
            "[nltk_data]    |   Unzipping corpora/gutenberg.zip.\n",
            "[nltk_data]    | Downloading package inaugural to /root/nltk_data...\n",
            "[nltk_data]    |   Unzipping corpora/inaugural.zip.\n",
            "[nltk_data]    | Downloading package movie_reviews to\n",
            "[nltk_data]    |     /root/nltk_data...\n",
            "[nltk_data]    |   Unzipping corpora/movie_reviews.zip.\n",
            "[nltk_data]    | Downloading package names to /root/nltk_data...\n",
            "[nltk_data]    |   Unzipping corpora/names.zip.\n",
            "[nltk_data]    | Downloading package shakespeare to /root/nltk_data...\n",
            "[nltk_data]    |   Unzipping corpora/shakespeare.zip.\n",
            "[nltk_data]    | Downloading package stopwords to /root/nltk_data...\n",
            "[nltk_data]    |   Unzipping corpora/stopwords.zip.\n",
            "[nltk_data]    | Downloading package treebank to /root/nltk_data...\n",
            "[nltk_data]    |   Unzipping corpora/treebank.zip.\n",
            "[nltk_data]    | Downloading package twitter_samples to\n",
            "[nltk_data]    |     /root/nltk_data...\n",
            "[nltk_data]    |   Unzipping corpora/twitter_samples.zip.\n",
            "[nltk_data]    | Downloading package omw to /root/nltk_data...\n",
            "[nltk_data]    |   Unzipping corpora/omw.zip.\n",
            "[nltk_data]    | Downloading package wordnet to /root/nltk_data...\n",
            "[nltk_data]    |   Unzipping corpora/wordnet.zip.\n",
            "[nltk_data]    | Downloading package wordnet_ic to /root/nltk_data...\n",
            "[nltk_data]    |   Unzipping corpora/wordnet_ic.zip.\n",
            "[nltk_data]    | Downloading package words to /root/nltk_data...\n",
            "[nltk_data]    |   Unzipping corpora/words.zip.\n",
            "[nltk_data]    | Downloading package maxent_ne_chunker to\n",
            "[nltk_data]    |     /root/nltk_data...\n",
            "[nltk_data]    |   Unzipping chunkers/maxent_ne_chunker.zip.\n",
            "[nltk_data]    | Downloading package punkt to /root/nltk_data...\n",
            "[nltk_data]    |   Unzipping tokenizers/punkt.zip.\n",
            "[nltk_data]    | Downloading package snowball_data to\n",
            "[nltk_data]    |     /root/nltk_data...\n",
            "[nltk_data]    | Downloading package averaged_perceptron_tagger to\n",
            "[nltk_data]    |     /root/nltk_data...\n",
            "[nltk_data]    |   Unzipping taggers/averaged_perceptron_tagger.zip.\n",
            "[nltk_data]    | \n",
            "[nltk_data]  Done downloading collection popular\n"
          ],
          "name": "stdout"
        },
        {
          "output_type": "execute_result",
          "data": {
            "text/plain": [
              "True"
            ]
          },
          "metadata": {
            "tags": []
          },
          "execution_count": 2
        }
      ]
    },
    {
      "cell_type": "code",
      "metadata": {
        "id": "bqJ0cFwLZdqX",
        "colab_type": "code",
        "colab": {}
      },
      "source": [
        "import pandas as pd                ### reading data file\n",
        "df_combined=pd.read_csv('drive/My Drive/pre_final1.csv',parse_dates=['date'],encoding='utf-8')"
      ],
      "execution_count": 3,
      "outputs": []
    },
    {
      "cell_type": "code",
      "metadata": {
        "id": "cQcQlobBacgZ",
        "colab_type": "code",
        "colab": {
          "base_uri": "https://localhost:8080/",
          "height": 955
        },
        "outputId": "23556c54-6b4f-45ac-c815-a9bd48abd1ce"
      },
      "source": [
        "df_combined"
      ],
      "execution_count": 4,
      "outputs": [
        {
          "output_type": "execute_result",
          "data": {
            "text/html": [
              "<div>\n",
              "<style scoped>\n",
              "    .dataframe tbody tr th:only-of-type {\n",
              "        vertical-align: middle;\n",
              "    }\n",
              "\n",
              "    .dataframe tbody tr th {\n",
              "        vertical-align: top;\n",
              "    }\n",
              "\n",
              "    .dataframe thead th {\n",
              "        text-align: right;\n",
              "    }\n",
              "</style>\n",
              "<table border=\"1\" class=\"dataframe\">\n",
              "  <thead>\n",
              "    <tr style=\"text-align: right;\">\n",
              "      <th></th>\n",
              "      <th>date</th>\n",
              "      <th>username</th>\n",
              "      <th>to</th>\n",
              "      <th>replies</th>\n",
              "      <th>retweets</th>\n",
              "      <th>favorites</th>\n",
              "      <th>text</th>\n",
              "      <th>geo</th>\n",
              "      <th>mentions</th>\n",
              "      <th>hashtags</th>\n",
              "      <th>id</th>\n",
              "      <th>permalink</th>\n",
              "      <th>sentences</th>\n",
              "      <th>text_tokenized</th>\n",
              "      <th>stemming_stopwordsRemoved</th>\n",
              "      <th>lemmatized_stopwordsRemoved</th>\n",
              "    </tr>\n",
              "  </thead>\n",
              "  <tbody>\n",
              "    <tr>\n",
              "      <th>0</th>\n",
              "      <td>2020-08-14 23:40:49</td>\n",
              "      <td>DalrympleWill</td>\n",
              "      <td>HearaichHerald</td>\n",
              "      <td>2</td>\n",
              "      <td>0</td>\n",
              "      <td>3</td>\n",
              "      <td>Andrew do send me a copy! Love to read it</td>\n",
              "      <td>NaN</td>\n",
              "      <td>NaN</td>\n",
              "      <td>NaN</td>\n",
              "      <td>1294418731251138562</td>\n",
              "      <td>https://twitter.com/DalrympleWill/status/12944...</td>\n",
              "      <td>Andrew do send me a copy! Love to read it</td>\n",
              "      <td>['Andrew', 'do', 'send', 'me', 'a', 'copy', '!...</td>\n",
              "      <td>andrew send copi love read</td>\n",
              "      <td>andrew send copy love read</td>\n",
              "    </tr>\n",
              "    <tr>\n",
              "      <th>1</th>\n",
              "      <td>2020-08-14 23:29:59</td>\n",
              "      <td>lostboy54</td>\n",
              "      <td>ishkarnBHANDARI</td>\n",
              "      <td>10</td>\n",
              "      <td>85</td>\n",
              "      <td>403</td>\n",
              "      <td>This is all coming true. You were right @ishka...</td>\n",
              "      <td>NaN</td>\n",
              "      <td>@ishkarnBHANDARIhttps</td>\n",
              "      <td>NaN</td>\n",
              "      <td>1294416005674889216</td>\n",
              "      <td>https://twitter.com/lostboy54/status/129441600...</td>\n",
              "      <td>This is all coming true. You were right @ishka...</td>\n",
              "      <td>['This', 'is', 'all', 'coming', 'true', '.', '...</td>\n",
              "      <td>come true right ishkarnbhandarihttp twitter co...</td>\n",
              "      <td>coming true right ishkarnbhandarihttps twitter...</td>\n",
              "    </tr>\n",
              "    <tr>\n",
              "      <th>2</th>\n",
              "      <td>2020-08-14 23:27:45</td>\n",
              "      <td>srijanpalsingh</td>\n",
              "      <td>NaN</td>\n",
              "      <td>3</td>\n",
              "      <td>34</td>\n",
              "      <td>151</td>\n",
              "      <td>Wishing everyone a very happy Independence Day...</td>\n",
              "      <td>NaN</td>\n",
              "      <td>NaN</td>\n",
              "      <td>#India #JaiHind #Kalam #IndependenceDay #Indep...</td>\n",
              "      <td>1294415445609472000</td>\n",
              "      <td>https://twitter.com/srijanpalsingh/status/1294...</td>\n",
              "      <td>Wishing everyone a very happy Independence Day...</td>\n",
              "      <td>['Wishing', 'everyone', 'a', 'very', 'happy', ...</td>\n",
              "      <td>wish everyon happi independ day time gratitud ...</td>\n",
              "      <td>wishing everyone happy independence day time g...</td>\n",
              "    </tr>\n",
              "    <tr>\n",
              "      <th>3</th>\n",
              "      <td>2020-08-14 23:09:49</td>\n",
              "      <td>AAlHamoud7</td>\n",
              "      <td>NaN</td>\n",
              "      <td>0</td>\n",
              "      <td>0</td>\n",
              "      <td>7</td>\n",
              "      <td>I don’t usually approach first, so when I do, ...</td>\n",
              "      <td>NaN</td>\n",
              "      <td>NaN</td>\n",
              "      <td>NaN</td>\n",
              "      <td>1294410930458173440</td>\n",
              "      <td>https://twitter.com/AAlHamoud7/status/12944109...</td>\n",
              "      <td>I don’t usually approach first, so when I do, ...</td>\n",
              "      <td>['I', 'don', '’', 't', 'usually', 'approach', ...</td>\n",
              "      <td>usual approach first probabl special</td>\n",
              "      <td>usually approach first probably special</td>\n",
              "    </tr>\n",
              "    <tr>\n",
              "      <th>4</th>\n",
              "      <td>2020-08-14 22:21:57</td>\n",
              "      <td>MeerraChopra</td>\n",
              "      <td>NaN</td>\n",
              "      <td>28</td>\n",
              "      <td>19</td>\n",
              "      <td>278</td>\n",
              "      <td>#GunjanSaxena is such a brilliant film that ul...</td>\n",
              "      <td>NaN</td>\n",
              "      <td>@TripathiiPankaj</td>\n",
              "      <td>#GunjanSaxena #jhanvikapoor #sharansharma</td>\n",
              "      <td>1294398885654220800</td>\n",
              "      <td>https://twitter.com/MeerraChopra/status/129439...</td>\n",
              "      <td>#GunjanSaxena is such a brilliant film that ul...</td>\n",
              "      <td>['#', 'GunjanSaxena', 'is', 'such', 'a', 'bril...</td>\n",
              "      <td>gunjansaxena brilliant film ull get adrenalin ...</td>\n",
              "      <td>gunjansaxena brilliant film ull get adrenaline...</td>\n",
              "    </tr>\n",
              "    <tr>\n",
              "      <th>...</th>\n",
              "      <td>...</td>\n",
              "      <td>...</td>\n",
              "      <td>...</td>\n",
              "      <td>...</td>\n",
              "      <td>...</td>\n",
              "      <td>...</td>\n",
              "      <td>...</td>\n",
              "      <td>...</td>\n",
              "      <td>...</td>\n",
              "      <td>...</td>\n",
              "      <td>...</td>\n",
              "      <td>...</td>\n",
              "      <td>...</td>\n",
              "      <td>...</td>\n",
              "      <td>...</td>\n",
              "      <td>...</td>\n",
              "    </tr>\n",
              "    <tr>\n",
              "      <th>266472</th>\n",
              "      <td>2010-09-14 07:26:25</td>\n",
              "      <td>krist0ph3r</td>\n",
              "      <td>NaN</td>\n",
              "      <td>0</td>\n",
              "      <td>0</td>\n",
              "      <td>0</td>\n",
              "      <td>I stand corrected. there is, indeed, a vaccine...</td>\n",
              "      <td>NaN</td>\n",
              "      <td>@mizarcle</td>\n",
              "      <td>NaN</td>\n",
              "      <td>24456504000</td>\n",
              "      <td>https://twitter.com/krist0ph3r/status/24456504000</td>\n",
              "      <td>I stand corrected. there is, indeed, a vaccine...</td>\n",
              "      <td>['I', 'stand', 'corrected', '.', 'there', 'is'...</td>\n",
              "      <td>stand correct inde vaccin cervic cancer except...</td>\n",
              "      <td>stand corrected indeed vaccine cervical cancer...</td>\n",
              "    </tr>\n",
              "    <tr>\n",
              "      <th>266473</th>\n",
              "      <td>2010-09-14 07:15:04</td>\n",
              "      <td>krist0ph3r</td>\n",
              "      <td>NaN</td>\n",
              "      <td>0</td>\n",
              "      <td>0</td>\n",
              "      <td>0</td>\n",
              "      <td>#iWant! RT @24HoursLoot The Four Elements of a...</td>\n",
              "      <td>NaN</td>\n",
              "      <td>@24HoursLoot</td>\n",
              "      <td>#iWant</td>\n",
              "      <td>24456008845</td>\n",
              "      <td>https://twitter.com/krist0ph3r/status/24456008845</td>\n",
              "      <td>#iWant! RT @24HoursLoot The Four Elements of a...</td>\n",
              "      <td>['#', 'iWant', '!', 'RT', '@', '24HoursLoot', ...</td>\n",
              "      <td>iwant rt hoursloot four element human geek lif...</td>\n",
              "      <td>iwant rt hoursloot four element human geek lif...</td>\n",
              "    </tr>\n",
              "    <tr>\n",
              "      <th>266474</th>\n",
              "      <td>2010-09-14 07:12:15</td>\n",
              "      <td>krist0ph3r</td>\n",
              "      <td>NaN</td>\n",
              "      <td>0</td>\n",
              "      <td>0</td>\n",
              "      <td>0</td>\n",
              "      <td>there's a vaccine? don't think cancer can be v...</td>\n",
              "      <td>NaN</td>\n",
              "      <td>@mizarcle</td>\n",
              "      <td>NaN</td>\n",
              "      <td>24455883030</td>\n",
              "      <td>https://twitter.com/krist0ph3r/status/24455883030</td>\n",
              "      <td>there's a vaccine? don't think cancer can be v...</td>\n",
              "      <td>['there', \"'s\", 'a', 'vaccine', '?', 'do', \"n'...</td>\n",
              "      <td>vaccin think cancer vaccin rt mizarcl anyon ta...</td>\n",
              "      <td>vaccine think cancer vaccinated rt mizarcle an...</td>\n",
              "    </tr>\n",
              "    <tr>\n",
              "      <th>266475</th>\n",
              "      <td>2010-09-14 07:10:56</td>\n",
              "      <td>krist0ph3r</td>\n",
              "      <td>NaN</td>\n",
              "      <td>0</td>\n",
              "      <td>0</td>\n",
              "      <td>0</td>\n",
              "      <td>#nowplaying gareth emery - exposure #awesomeness</td>\n",
              "      <td>NaN</td>\n",
              "      <td>NaN</td>\n",
              "      <td>#nowplaying #awesomeness</td>\n",
              "      <td>24455823620</td>\n",
              "      <td>https://twitter.com/krist0ph3r/status/24455823620</td>\n",
              "      <td>#nowplaying gareth emery - exposure #awesomeness</td>\n",
              "      <td>['#', 'nowplaying', 'gareth', 'emery', '-', 'e...</td>\n",
              "      <td>nowplay gareth emeri exposur awesom</td>\n",
              "      <td>nowplaying gareth emery exposure awesomeness</td>\n",
              "    </tr>\n",
              "    <tr>\n",
              "      <th>266476</th>\n",
              "      <td>2010-09-14 05:21:30</td>\n",
              "      <td>krist0ph3r</td>\n",
              "      <td>NaN</td>\n",
              "      <td>0</td>\n",
              "      <td>0</td>\n",
              "      <td>0</td>\n",
              "      <td>friend was waiting for me to step into office ...</td>\n",
              "      <td>NaN</td>\n",
              "      <td>NaN</td>\n",
              "      <td>NaN</td>\n",
              "      <td>24450570759</td>\n",
              "      <td>https://twitter.com/krist0ph3r/status/24450570759</td>\n",
              "      <td>friend was waiting for me to step into office ...</td>\n",
              "      <td>['friend', 'was', 'waiting', 'for', 'me', 'to'...</td>\n",
              "      <td>friend wait step offic tell news suzuki firebl...</td>\n",
              "      <td>friend waiting step office tell news suzuki fi...</td>\n",
              "    </tr>\n",
              "  </tbody>\n",
              "</table>\n",
              "<p>266477 rows × 16 columns</p>\n",
              "</div>"
            ],
            "text/plain": [
              "                      date  ...                        lemmatized_stopwordsRemoved\n",
              "0      2020-08-14 23:40:49  ...                         andrew send copy love read\n",
              "1      2020-08-14 23:29:59  ...  coming true right ishkarnbhandarihttps twitter...\n",
              "2      2020-08-14 23:27:45  ...  wishing everyone happy independence day time g...\n",
              "3      2020-08-14 23:09:49  ...            usually approach first probably special\n",
              "4      2020-08-14 22:21:57  ...  gunjansaxena brilliant film ull get adrenaline...\n",
              "...                    ...  ...                                                ...\n",
              "266472 2010-09-14 07:26:25  ...  stand corrected indeed vaccine cervical cancer...\n",
              "266473 2010-09-14 07:15:04  ...  iwant rt hoursloot four element human geek lif...\n",
              "266474 2010-09-14 07:12:15  ...  vaccine think cancer vaccinated rt mizarcle an...\n",
              "266475 2010-09-14 07:10:56  ...       nowplaying gareth emery exposure awesomeness\n",
              "266476 2010-09-14 05:21:30  ...  friend waiting step office tell news suzuki fi...\n",
              "\n",
              "[266477 rows x 16 columns]"
            ]
          },
          "metadata": {
            "tags": []
          },
          "execution_count": 4
        }
      ]
    },
    {
      "cell_type": "code",
      "metadata": {
        "id": "2YVvA8jNcANp",
        "colab_type": "code",
        "colab": {
          "base_uri": "https://localhost:8080/",
          "height": 35
        },
        "outputId": "239ba734-7ebe-4194-9793-fb1239e74694"
      },
      "source": [
        "df_combined.shape[0]-df_combined.stemming_stopwordsRemoved.isna().sum()    ### to check for the number of non-null rows according to a particular column"
      ],
      "execution_count": 5,
      "outputs": [
        {
          "output_type": "execute_result",
          "data": {
            "text/plain": [
              "266329"
            ]
          },
          "metadata": {
            "tags": []
          },
          "execution_count": 5
        }
      ]
    },
    {
      "cell_type": "code",
      "metadata": {
        "id": "c2PgZFRYoKtE",
        "colab_type": "code",
        "colab": {
          "base_uri": "https://localhost:8080/",
          "height": 35
        },
        "outputId": "e0877fd5-2e14-4d64-9c24-3a93500a5d66"
      },
      "source": [
        "df_combined.lemmatized_stopwordsRemoved.isna().sum()    ### to check for the number of null rows"
      ],
      "execution_count": 6,
      "outputs": [
        {
          "output_type": "execute_result",
          "data": {
            "text/plain": [
              "148"
            ]
          },
          "metadata": {
            "tags": []
          },
          "execution_count": 6
        }
      ]
    },
    {
      "cell_type": "code",
      "metadata": {
        "id": "LX0JTmince6y",
        "colab_type": "code",
        "colab": {}
      },
      "source": [
        "df_combined.dropna(subset=['stemming_stopwordsRemoved'],inplace=True)    ### to drop the rows containing null values"
      ],
      "execution_count": 7,
      "outputs": []
    },
    {
      "cell_type": "code",
      "metadata": {
        "id": "aTtA6F8AB_VL",
        "colab_type": "code",
        "colab": {
          "base_uri": "https://localhost:8080/",
          "height": 955
        },
        "outputId": "a610342f-d4e5-46c2-96ae-fb9900d36dbc"
      },
      "source": [
        "df_combined.reset_index(inplace=True,drop=True)    ### to reset index\n",
        "df_combined"
      ],
      "execution_count": 8,
      "outputs": [
        {
          "output_type": "execute_result",
          "data": {
            "text/html": [
              "<div>\n",
              "<style scoped>\n",
              "    .dataframe tbody tr th:only-of-type {\n",
              "        vertical-align: middle;\n",
              "    }\n",
              "\n",
              "    .dataframe tbody tr th {\n",
              "        vertical-align: top;\n",
              "    }\n",
              "\n",
              "    .dataframe thead th {\n",
              "        text-align: right;\n",
              "    }\n",
              "</style>\n",
              "<table border=\"1\" class=\"dataframe\">\n",
              "  <thead>\n",
              "    <tr style=\"text-align: right;\">\n",
              "      <th></th>\n",
              "      <th>date</th>\n",
              "      <th>username</th>\n",
              "      <th>to</th>\n",
              "      <th>replies</th>\n",
              "      <th>retweets</th>\n",
              "      <th>favorites</th>\n",
              "      <th>text</th>\n",
              "      <th>geo</th>\n",
              "      <th>mentions</th>\n",
              "      <th>hashtags</th>\n",
              "      <th>id</th>\n",
              "      <th>permalink</th>\n",
              "      <th>sentences</th>\n",
              "      <th>text_tokenized</th>\n",
              "      <th>stemming_stopwordsRemoved</th>\n",
              "      <th>lemmatized_stopwordsRemoved</th>\n",
              "    </tr>\n",
              "  </thead>\n",
              "  <tbody>\n",
              "    <tr>\n",
              "      <th>0</th>\n",
              "      <td>2020-08-14 23:40:49</td>\n",
              "      <td>DalrympleWill</td>\n",
              "      <td>HearaichHerald</td>\n",
              "      <td>2</td>\n",
              "      <td>0</td>\n",
              "      <td>3</td>\n",
              "      <td>Andrew do send me a copy! Love to read it</td>\n",
              "      <td>NaN</td>\n",
              "      <td>NaN</td>\n",
              "      <td>NaN</td>\n",
              "      <td>1294418731251138562</td>\n",
              "      <td>https://twitter.com/DalrympleWill/status/12944...</td>\n",
              "      <td>Andrew do send me a copy! Love to read it</td>\n",
              "      <td>['Andrew', 'do', 'send', 'me', 'a', 'copy', '!...</td>\n",
              "      <td>andrew send copi love read</td>\n",
              "      <td>andrew send copy love read</td>\n",
              "    </tr>\n",
              "    <tr>\n",
              "      <th>1</th>\n",
              "      <td>2020-08-14 23:29:59</td>\n",
              "      <td>lostboy54</td>\n",
              "      <td>ishkarnBHANDARI</td>\n",
              "      <td>10</td>\n",
              "      <td>85</td>\n",
              "      <td>403</td>\n",
              "      <td>This is all coming true. You were right @ishka...</td>\n",
              "      <td>NaN</td>\n",
              "      <td>@ishkarnBHANDARIhttps</td>\n",
              "      <td>NaN</td>\n",
              "      <td>1294416005674889216</td>\n",
              "      <td>https://twitter.com/lostboy54/status/129441600...</td>\n",
              "      <td>This is all coming true. You were right @ishka...</td>\n",
              "      <td>['This', 'is', 'all', 'coming', 'true', '.', '...</td>\n",
              "      <td>come true right ishkarnbhandarihttp twitter co...</td>\n",
              "      <td>coming true right ishkarnbhandarihttps twitter...</td>\n",
              "    </tr>\n",
              "    <tr>\n",
              "      <th>2</th>\n",
              "      <td>2020-08-14 23:27:45</td>\n",
              "      <td>srijanpalsingh</td>\n",
              "      <td>NaN</td>\n",
              "      <td>3</td>\n",
              "      <td>34</td>\n",
              "      <td>151</td>\n",
              "      <td>Wishing everyone a very happy Independence Day...</td>\n",
              "      <td>NaN</td>\n",
              "      <td>NaN</td>\n",
              "      <td>#India #JaiHind #Kalam #IndependenceDay #Indep...</td>\n",
              "      <td>1294415445609472000</td>\n",
              "      <td>https://twitter.com/srijanpalsingh/status/1294...</td>\n",
              "      <td>Wishing everyone a very happy Independence Day...</td>\n",
              "      <td>['Wishing', 'everyone', 'a', 'very', 'happy', ...</td>\n",
              "      <td>wish everyon happi independ day time gratitud ...</td>\n",
              "      <td>wishing everyone happy independence day time g...</td>\n",
              "    </tr>\n",
              "    <tr>\n",
              "      <th>3</th>\n",
              "      <td>2020-08-14 23:09:49</td>\n",
              "      <td>AAlHamoud7</td>\n",
              "      <td>NaN</td>\n",
              "      <td>0</td>\n",
              "      <td>0</td>\n",
              "      <td>7</td>\n",
              "      <td>I don’t usually approach first, so when I do, ...</td>\n",
              "      <td>NaN</td>\n",
              "      <td>NaN</td>\n",
              "      <td>NaN</td>\n",
              "      <td>1294410930458173440</td>\n",
              "      <td>https://twitter.com/AAlHamoud7/status/12944109...</td>\n",
              "      <td>I don’t usually approach first, so when I do, ...</td>\n",
              "      <td>['I', 'don', '’', 't', 'usually', 'approach', ...</td>\n",
              "      <td>usual approach first probabl special</td>\n",
              "      <td>usually approach first probably special</td>\n",
              "    </tr>\n",
              "    <tr>\n",
              "      <th>4</th>\n",
              "      <td>2020-08-14 22:21:57</td>\n",
              "      <td>MeerraChopra</td>\n",
              "      <td>NaN</td>\n",
              "      <td>28</td>\n",
              "      <td>19</td>\n",
              "      <td>278</td>\n",
              "      <td>#GunjanSaxena is such a brilliant film that ul...</td>\n",
              "      <td>NaN</td>\n",
              "      <td>@TripathiiPankaj</td>\n",
              "      <td>#GunjanSaxena #jhanvikapoor #sharansharma</td>\n",
              "      <td>1294398885654220800</td>\n",
              "      <td>https://twitter.com/MeerraChopra/status/129439...</td>\n",
              "      <td>#GunjanSaxena is such a brilliant film that ul...</td>\n",
              "      <td>['#', 'GunjanSaxena', 'is', 'such', 'a', 'bril...</td>\n",
              "      <td>gunjansaxena brilliant film ull get adrenalin ...</td>\n",
              "      <td>gunjansaxena brilliant film ull get adrenaline...</td>\n",
              "    </tr>\n",
              "    <tr>\n",
              "      <th>...</th>\n",
              "      <td>...</td>\n",
              "      <td>...</td>\n",
              "      <td>...</td>\n",
              "      <td>...</td>\n",
              "      <td>...</td>\n",
              "      <td>...</td>\n",
              "      <td>...</td>\n",
              "      <td>...</td>\n",
              "      <td>...</td>\n",
              "      <td>...</td>\n",
              "      <td>...</td>\n",
              "      <td>...</td>\n",
              "      <td>...</td>\n",
              "      <td>...</td>\n",
              "      <td>...</td>\n",
              "      <td>...</td>\n",
              "    </tr>\n",
              "    <tr>\n",
              "      <th>266324</th>\n",
              "      <td>2010-09-14 07:26:25</td>\n",
              "      <td>krist0ph3r</td>\n",
              "      <td>NaN</td>\n",
              "      <td>0</td>\n",
              "      <td>0</td>\n",
              "      <td>0</td>\n",
              "      <td>I stand corrected. there is, indeed, a vaccine...</td>\n",
              "      <td>NaN</td>\n",
              "      <td>@mizarcle</td>\n",
              "      <td>NaN</td>\n",
              "      <td>24456504000</td>\n",
              "      <td>https://twitter.com/krist0ph3r/status/24456504000</td>\n",
              "      <td>I stand corrected. there is, indeed, a vaccine...</td>\n",
              "      <td>['I', 'stand', 'corrected', '.', 'there', 'is'...</td>\n",
              "      <td>stand correct inde vaccin cervic cancer except...</td>\n",
              "      <td>stand corrected indeed vaccine cervical cancer...</td>\n",
              "    </tr>\n",
              "    <tr>\n",
              "      <th>266325</th>\n",
              "      <td>2010-09-14 07:15:04</td>\n",
              "      <td>krist0ph3r</td>\n",
              "      <td>NaN</td>\n",
              "      <td>0</td>\n",
              "      <td>0</td>\n",
              "      <td>0</td>\n",
              "      <td>#iWant! RT @24HoursLoot The Four Elements of a...</td>\n",
              "      <td>NaN</td>\n",
              "      <td>@24HoursLoot</td>\n",
              "      <td>#iWant</td>\n",
              "      <td>24456008845</td>\n",
              "      <td>https://twitter.com/krist0ph3r/status/24456008845</td>\n",
              "      <td>#iWant! RT @24HoursLoot The Four Elements of a...</td>\n",
              "      <td>['#', 'iWant', '!', 'RT', '@', '24HoursLoot', ...</td>\n",
              "      <td>iwant rt hoursloot four element human geek lif...</td>\n",
              "      <td>iwant rt hoursloot four element human geek lif...</td>\n",
              "    </tr>\n",
              "    <tr>\n",
              "      <th>266326</th>\n",
              "      <td>2010-09-14 07:12:15</td>\n",
              "      <td>krist0ph3r</td>\n",
              "      <td>NaN</td>\n",
              "      <td>0</td>\n",
              "      <td>0</td>\n",
              "      <td>0</td>\n",
              "      <td>there's a vaccine? don't think cancer can be v...</td>\n",
              "      <td>NaN</td>\n",
              "      <td>@mizarcle</td>\n",
              "      <td>NaN</td>\n",
              "      <td>24455883030</td>\n",
              "      <td>https://twitter.com/krist0ph3r/status/24455883030</td>\n",
              "      <td>there's a vaccine? don't think cancer can be v...</td>\n",
              "      <td>['there', \"'s\", 'a', 'vaccine', '?', 'do', \"n'...</td>\n",
              "      <td>vaccin think cancer vaccin rt mizarcl anyon ta...</td>\n",
              "      <td>vaccine think cancer vaccinated rt mizarcle an...</td>\n",
              "    </tr>\n",
              "    <tr>\n",
              "      <th>266327</th>\n",
              "      <td>2010-09-14 07:10:56</td>\n",
              "      <td>krist0ph3r</td>\n",
              "      <td>NaN</td>\n",
              "      <td>0</td>\n",
              "      <td>0</td>\n",
              "      <td>0</td>\n",
              "      <td>#nowplaying gareth emery - exposure #awesomeness</td>\n",
              "      <td>NaN</td>\n",
              "      <td>NaN</td>\n",
              "      <td>#nowplaying #awesomeness</td>\n",
              "      <td>24455823620</td>\n",
              "      <td>https://twitter.com/krist0ph3r/status/24455823620</td>\n",
              "      <td>#nowplaying gareth emery - exposure #awesomeness</td>\n",
              "      <td>['#', 'nowplaying', 'gareth', 'emery', '-', 'e...</td>\n",
              "      <td>nowplay gareth emeri exposur awesom</td>\n",
              "      <td>nowplaying gareth emery exposure awesomeness</td>\n",
              "    </tr>\n",
              "    <tr>\n",
              "      <th>266328</th>\n",
              "      <td>2010-09-14 05:21:30</td>\n",
              "      <td>krist0ph3r</td>\n",
              "      <td>NaN</td>\n",
              "      <td>0</td>\n",
              "      <td>0</td>\n",
              "      <td>0</td>\n",
              "      <td>friend was waiting for me to step into office ...</td>\n",
              "      <td>NaN</td>\n",
              "      <td>NaN</td>\n",
              "      <td>NaN</td>\n",
              "      <td>24450570759</td>\n",
              "      <td>https://twitter.com/krist0ph3r/status/24450570759</td>\n",
              "      <td>friend was waiting for me to step into office ...</td>\n",
              "      <td>['friend', 'was', 'waiting', 'for', 'me', 'to'...</td>\n",
              "      <td>friend wait step offic tell news suzuki firebl...</td>\n",
              "      <td>friend waiting step office tell news suzuki fi...</td>\n",
              "    </tr>\n",
              "  </tbody>\n",
              "</table>\n",
              "<p>266329 rows × 16 columns</p>\n",
              "</div>"
            ],
            "text/plain": [
              "                      date  ...                        lemmatized_stopwordsRemoved\n",
              "0      2020-08-14 23:40:49  ...                         andrew send copy love read\n",
              "1      2020-08-14 23:29:59  ...  coming true right ishkarnbhandarihttps twitter...\n",
              "2      2020-08-14 23:27:45  ...  wishing everyone happy independence day time g...\n",
              "3      2020-08-14 23:09:49  ...            usually approach first probably special\n",
              "4      2020-08-14 22:21:57  ...  gunjansaxena brilliant film ull get adrenaline...\n",
              "...                    ...  ...                                                ...\n",
              "266324 2010-09-14 07:26:25  ...  stand corrected indeed vaccine cervical cancer...\n",
              "266325 2010-09-14 07:15:04  ...  iwant rt hoursloot four element human geek lif...\n",
              "266326 2010-09-14 07:12:15  ...  vaccine think cancer vaccinated rt mizarcle an...\n",
              "266327 2010-09-14 07:10:56  ...       nowplaying gareth emery exposure awesomeness\n",
              "266328 2010-09-14 05:21:30  ...  friend waiting step office tell news suzuki fi...\n",
              "\n",
              "[266329 rows x 16 columns]"
            ]
          },
          "metadata": {
            "tags": []
          },
          "execution_count": 8
        }
      ]
    },
    {
      "cell_type": "code",
      "metadata": {
        "id": "D5oKBZPVeMT4",
        "colab_type": "code",
        "colab": {
          "base_uri": "https://localhost:8080/",
          "height": 35
        },
        "outputId": "a4220d84-f4f1-4ba1-8116-500d3f3dd079"
      },
      "source": [
        "df_combined.stemming_stopwordsRemoved.isna().sum()     ### final check on null value rows"
      ],
      "execution_count": 9,
      "outputs": [
        {
          "output_type": "execute_result",
          "data": {
            "text/plain": [
              "0"
            ]
          },
          "metadata": {
            "tags": []
          },
          "execution_count": 9
        }
      ]
    },
    {
      "cell_type": "code",
      "metadata": {
        "id": "DLXVwIiTob6C",
        "colab_type": "code",
        "colab": {
          "base_uri": "https://localhost:8080/",
          "height": 35
        },
        "outputId": "fa623411-e1c4-466f-e4da-e3917aa6d9ba"
      },
      "source": [
        "df_combined.lemmatized_stopwordsRemoved.isna().sum()"
      ],
      "execution_count": 10,
      "outputs": [
        {
          "output_type": "execute_result",
          "data": {
            "text/plain": [
              "0"
            ]
          },
          "metadata": {
            "tags": []
          },
          "execution_count": 10
        }
      ]
    },
    {
      "cell_type": "code",
      "metadata": {
        "id": "gyMbilXUeM21",
        "colab_type": "code",
        "colab": {}
      },
      "source": [
        "sentences=df_combined.stemming_stopwordsRemoved.tolist()     ### to convert a particular column into a list"
      ],
      "execution_count": 11,
      "outputs": []
    },
    {
      "cell_type": "code",
      "metadata": {
        "id": "SxczE7LBofVe",
        "colab_type": "code",
        "colab": {}
      },
      "source": [
        "sentences1=df_combined.lemmatized_stopwordsRemoved.tolist()"
      ],
      "execution_count": 12,
      "outputs": []
    },
    {
      "cell_type": "markdown",
      "metadata": {
        "id": "GLPw-yN2bVkO",
        "colab_type": "text"
      },
      "source": [
        "# **BAG OF WORDS**"
      ]
    },
    {
      "cell_type": "code",
      "metadata": {
        "id": "iXBitDh3bfzM",
        "colab_type": "code",
        "colab": {}
      },
      "source": [
        "# from sklearn.feature_extraction.text import CountVectorizer\n",
        "# cv=CountVectorizer(max_features=2500)\n",
        "# X1=cv.fit_transform(sentences).toarray()   ### for stemming\n",
        "# X1   ### array of features"
      ],
      "execution_count": 13,
      "outputs": []
    },
    {
      "cell_type": "code",
      "metadata": {
        "id": "DT-kTRtemat_",
        "colab_type": "code",
        "colab": {}
      },
      "source": [
        "# print(cv.get_feature_names())  ### to get the feature names      ###### for stemming\n",
        "# print(cv.get_params())"
      ],
      "execution_count": 14,
      "outputs": []
    },
    {
      "cell_type": "code",
      "metadata": {
        "id": "rVjzwSgoV7Q2",
        "colab_type": "code",
        "colab": {}
      },
      "source": [
        "# print(cv.vocabulary_)"
      ],
      "execution_count": 15,
      "outputs": []
    },
    {
      "cell_type": "code",
      "metadata": {
        "id": "ceQ6tITsIcmY",
        "colab_type": "code",
        "colab": {}
      },
      "source": [
        "# df_bow=pd.DataFrame(X1,columns=cv.get_feature_names())\n",
        "# df_bow"
      ],
      "execution_count": 16,
      "outputs": []
    },
    {
      "cell_type": "code",
      "metadata": {
        "id": "7k9wzoSjow2x",
        "colab_type": "code",
        "colab": {}
      },
      "source": [
        "# X1_1=cv.fit_transform(sentences1).toarray()    ### for lemmatization\n",
        "# X1_1"
      ],
      "execution_count": 17,
      "outputs": []
    },
    {
      "cell_type": "code",
      "metadata": {
        "id": "FYRggGtCpDi3",
        "colab_type": "code",
        "colab": {}
      },
      "source": [
        "# print(cv.get_feature_names())  ### for lemmatization"
      ],
      "execution_count": 18,
      "outputs": []
    },
    {
      "cell_type": "code",
      "metadata": {
        "id": "DPE6xHz6tmIh",
        "colab_type": "code",
        "colab": {}
      },
      "source": [
        "# X1.shape"
      ],
      "execution_count": 19,
      "outputs": []
    },
    {
      "cell_type": "markdown",
      "metadata": {
        "id": "cZsbCgNNeseY",
        "colab_type": "text"
      },
      "source": [
        "# **TERM FREQUENCY - INVERSE DOCUMENT FREQUENCY**"
      ]
    },
    {
      "cell_type": "code",
      "metadata": {
        "id": "Ez1k49b7b4_R",
        "colab_type": "code",
        "colab": {}
      },
      "source": [
        "# from sklearn.feature_extraction.text import TfidfVectorizer\n",
        "# tfidf=TfidfVectorizer(max_features=1000)\n",
        "# X2=tfidf.fit_transform(sentences).toarray()     ### for stemming\n",
        "# X2   ### array of features"
      ],
      "execution_count": 20,
      "outputs": []
    },
    {
      "cell_type": "code",
      "metadata": {
        "id": "7sA780nYgljK",
        "colab_type": "code",
        "colab": {}
      },
      "source": [
        "# print(tfidf.get_feature_names())   ### to get the feature names"
      ],
      "execution_count": 21,
      "outputs": []
    },
    {
      "cell_type": "code",
      "metadata": {
        "id": "8knRU5c-m5VP",
        "colab_type": "code",
        "colab": {}
      },
      "source": [
        "# X2_1=tfidf.fit_transform(sentences1).toarray()    ### lemmatization\n",
        "# X2_1"
      ],
      "execution_count": 22,
      "outputs": []
    },
    {
      "cell_type": "code",
      "metadata": {
        "id": "Zo1125Yzq6Xy",
        "colab_type": "code",
        "colab": {}
      },
      "source": [
        "# print(tfidf.get_feature_names())"
      ],
      "execution_count": 23,
      "outputs": []
    },
    {
      "cell_type": "markdown",
      "metadata": {
        "id": "H7H6xNIl4zsI",
        "colab_type": "text"
      },
      "source": [
        "# **WORD2VEC**"
      ]
    },
    {
      "cell_type": "code",
      "metadata": {
        "id": "fIRunvhk4yiR",
        "colab_type": "code",
        "colab": {}
      },
      "source": [
        "from gensim.models import Word2Vec    ## Word Embedding\n",
        "import re\n",
        "from nltk.corpus import stopwords"
      ],
      "execution_count": 24,
      "outputs": []
    },
    {
      "cell_type": "code",
      "metadata": {
        "id": "YCqAUpEU9sOZ",
        "colab_type": "code",
        "colab": {}
      },
      "source": [
        "senten=[]"
      ],
      "execution_count": 25,
      "outputs": []
    },
    {
      "cell_type": "code",
      "metadata": {
        "id": "NoLwqPRoj_pU",
        "colab_type": "code",
        "colab": {}
      },
      "source": [
        "for i in range(len(df_combined.text)):\n",
        "  words=re.sub(\"[^A-Za-z]\",\" \",df_combined.text[i])   ### to remove characters other than A-Z and a-z\n",
        "  words=words.lower()         ### to convert to lower case\n",
        "  senten.append(words)"
      ],
      "execution_count": 26,
      "outputs": []
    },
    {
      "cell_type": "code",
      "metadata": {
        "id": "D-12DWKDXmkb",
        "colab_type": "code",
        "colab": {}
      },
      "source": [
        "senten_1=[]\n",
        "\n",
        "for i in range(len(senten)):\n",
        "  words=[]\n",
        "  for word in senten[i].split():\n",
        "    if (word not in set (stopwords.words('english'))):    ### to remove stopwords\n",
        "      words.append(word)\n",
        "  senten_1.append(list(words))\n"
      ],
      "execution_count": 27,
      "outputs": []
    },
    {
      "cell_type": "code",
      "metadata": {
        "id": "zlEeKZ8bW5uF",
        "colab_type": "code",
        "colab": {
          "base_uri": "https://localhost:8080/",
          "height": 35
        },
        "outputId": "a4deb689-314f-432e-adf8-6c406d0c8e44"
      },
      "source": [
        "nltk.word_tokenize(senten[7])    ### word tokenize"
      ],
      "execution_count": 28,
      "outputs": [
        {
          "output_type": "execute_result",
          "data": {
            "text/plain": [
              "['please', 'say', 'something', 'for', 'amaal', 'mallik', 'askshreya']"
            ]
          },
          "metadata": {
            "tags": []
          },
          "execution_count": 28
        }
      ]
    },
    {
      "cell_type": "code",
      "metadata": {
        "id": "s5sCWErWgVO7",
        "colab_type": "code",
        "colab": {
          "base_uri": "https://localhost:8080/",
          "height": 35
        },
        "outputId": "f7695ee1-58ca-4a25-b825-79ac706e3dca"
      },
      "source": [
        "senten_1[7]"
      ],
      "execution_count": 29,
      "outputs": [
        {
          "output_type": "execute_result",
          "data": {
            "text/plain": [
              "['please', 'say', 'something', 'amaal', 'mallik', 'askshreya']"
            ]
          },
          "metadata": {
            "tags": []
          },
          "execution_count": 29
        }
      ]
    },
    {
      "cell_type": "code",
      "metadata": {
        "id": "CKkuoNRAFnXS",
        "colab_type": "code",
        "colab": {
          "base_uri": "https://localhost:8080/",
          "height": 955
        },
        "outputId": "c4ddfcba-bb70-4f51-b734-0a1d02195d2b"
      },
      "source": [
        "df_combined.insert(13, \"sentences_Modified\", senten_1)\n",
        "df_combined"
      ],
      "execution_count": 30,
      "outputs": [
        {
          "output_type": "execute_result",
          "data": {
            "text/html": [
              "<div>\n",
              "<style scoped>\n",
              "    .dataframe tbody tr th:only-of-type {\n",
              "        vertical-align: middle;\n",
              "    }\n",
              "\n",
              "    .dataframe tbody tr th {\n",
              "        vertical-align: top;\n",
              "    }\n",
              "\n",
              "    .dataframe thead th {\n",
              "        text-align: right;\n",
              "    }\n",
              "</style>\n",
              "<table border=\"1\" class=\"dataframe\">\n",
              "  <thead>\n",
              "    <tr style=\"text-align: right;\">\n",
              "      <th></th>\n",
              "      <th>date</th>\n",
              "      <th>username</th>\n",
              "      <th>to</th>\n",
              "      <th>replies</th>\n",
              "      <th>retweets</th>\n",
              "      <th>favorites</th>\n",
              "      <th>text</th>\n",
              "      <th>geo</th>\n",
              "      <th>mentions</th>\n",
              "      <th>hashtags</th>\n",
              "      <th>id</th>\n",
              "      <th>permalink</th>\n",
              "      <th>sentences</th>\n",
              "      <th>sentences_Modified</th>\n",
              "      <th>text_tokenized</th>\n",
              "      <th>stemming_stopwordsRemoved</th>\n",
              "      <th>lemmatized_stopwordsRemoved</th>\n",
              "    </tr>\n",
              "  </thead>\n",
              "  <tbody>\n",
              "    <tr>\n",
              "      <th>0</th>\n",
              "      <td>2020-08-14 23:40:49</td>\n",
              "      <td>DalrympleWill</td>\n",
              "      <td>HearaichHerald</td>\n",
              "      <td>2</td>\n",
              "      <td>0</td>\n",
              "      <td>3</td>\n",
              "      <td>Andrew do send me a copy! Love to read it</td>\n",
              "      <td>NaN</td>\n",
              "      <td>NaN</td>\n",
              "      <td>NaN</td>\n",
              "      <td>1294418731251138562</td>\n",
              "      <td>https://twitter.com/DalrympleWill/status/12944...</td>\n",
              "      <td>Andrew do send me a copy! Love to read it</td>\n",
              "      <td>[andrew, send, copy, love, read]</td>\n",
              "      <td>['Andrew', 'do', 'send', 'me', 'a', 'copy', '!...</td>\n",
              "      <td>andrew send copi love read</td>\n",
              "      <td>andrew send copy love read</td>\n",
              "    </tr>\n",
              "    <tr>\n",
              "      <th>1</th>\n",
              "      <td>2020-08-14 23:29:59</td>\n",
              "      <td>lostboy54</td>\n",
              "      <td>ishkarnBHANDARI</td>\n",
              "      <td>10</td>\n",
              "      <td>85</td>\n",
              "      <td>403</td>\n",
              "      <td>This is all coming true. You were right @ishka...</td>\n",
              "      <td>NaN</td>\n",
              "      <td>@ishkarnBHANDARIhttps</td>\n",
              "      <td>NaN</td>\n",
              "      <td>1294416005674889216</td>\n",
              "      <td>https://twitter.com/lostboy54/status/129441600...</td>\n",
              "      <td>This is all coming true. You were right @ishka...</td>\n",
              "      <td>[coming, true, right, ishkarnbhandarihttps, tw...</td>\n",
              "      <td>['This', 'is', 'all', 'coming', 'true', '.', '...</td>\n",
              "      <td>come true right ishkarnbhandarihttp twitter co...</td>\n",
              "      <td>coming true right ishkarnbhandarihttps twitter...</td>\n",
              "    </tr>\n",
              "    <tr>\n",
              "      <th>2</th>\n",
              "      <td>2020-08-14 23:27:45</td>\n",
              "      <td>srijanpalsingh</td>\n",
              "      <td>NaN</td>\n",
              "      <td>3</td>\n",
              "      <td>34</td>\n",
              "      <td>151</td>\n",
              "      <td>Wishing everyone a very happy Independence Day...</td>\n",
              "      <td>NaN</td>\n",
              "      <td>NaN</td>\n",
              "      <td>#India #JaiHind #Kalam #IndependenceDay #Indep...</td>\n",
              "      <td>1294415445609472000</td>\n",
              "      <td>https://twitter.com/srijanpalsingh/status/1294...</td>\n",
              "      <td>Wishing everyone a very happy Independence Day...</td>\n",
              "      <td>[wishing, everyone, happy, independence, day, ...</td>\n",
              "      <td>['Wishing', 'everyone', 'a', 'very', 'happy', ...</td>\n",
              "      <td>wish everyon happi independ day time gratitud ...</td>\n",
              "      <td>wishing everyone happy independence day time g...</td>\n",
              "    </tr>\n",
              "    <tr>\n",
              "      <th>3</th>\n",
              "      <td>2020-08-14 23:09:49</td>\n",
              "      <td>AAlHamoud7</td>\n",
              "      <td>NaN</td>\n",
              "      <td>0</td>\n",
              "      <td>0</td>\n",
              "      <td>7</td>\n",
              "      <td>I don’t usually approach first, so when I do, ...</td>\n",
              "      <td>NaN</td>\n",
              "      <td>NaN</td>\n",
              "      <td>NaN</td>\n",
              "      <td>1294410930458173440</td>\n",
              "      <td>https://twitter.com/AAlHamoud7/status/12944109...</td>\n",
              "      <td>I don’t usually approach first, so when I do, ...</td>\n",
              "      <td>[usually, approach, first, probably, special]</td>\n",
              "      <td>['I', 'don', '’', 't', 'usually', 'approach', ...</td>\n",
              "      <td>usual approach first probabl special</td>\n",
              "      <td>usually approach first probably special</td>\n",
              "    </tr>\n",
              "    <tr>\n",
              "      <th>4</th>\n",
              "      <td>2020-08-14 22:21:57</td>\n",
              "      <td>MeerraChopra</td>\n",
              "      <td>NaN</td>\n",
              "      <td>28</td>\n",
              "      <td>19</td>\n",
              "      <td>278</td>\n",
              "      <td>#GunjanSaxena is such a brilliant film that ul...</td>\n",
              "      <td>NaN</td>\n",
              "      <td>@TripathiiPankaj</td>\n",
              "      <td>#GunjanSaxena #jhanvikapoor #sharansharma</td>\n",
              "      <td>1294398885654220800</td>\n",
              "      <td>https://twitter.com/MeerraChopra/status/129439...</td>\n",
              "      <td>#GunjanSaxena is such a brilliant film that ul...</td>\n",
              "      <td>[gunjansaxena, brilliant, film, ull, get, adre...</td>\n",
              "      <td>['#', 'GunjanSaxena', 'is', 'such', 'a', 'bril...</td>\n",
              "      <td>gunjansaxena brilliant film ull get adrenalin ...</td>\n",
              "      <td>gunjansaxena brilliant film ull get adrenaline...</td>\n",
              "    </tr>\n",
              "    <tr>\n",
              "      <th>...</th>\n",
              "      <td>...</td>\n",
              "      <td>...</td>\n",
              "      <td>...</td>\n",
              "      <td>...</td>\n",
              "      <td>...</td>\n",
              "      <td>...</td>\n",
              "      <td>...</td>\n",
              "      <td>...</td>\n",
              "      <td>...</td>\n",
              "      <td>...</td>\n",
              "      <td>...</td>\n",
              "      <td>...</td>\n",
              "      <td>...</td>\n",
              "      <td>...</td>\n",
              "      <td>...</td>\n",
              "      <td>...</td>\n",
              "      <td>...</td>\n",
              "    </tr>\n",
              "    <tr>\n",
              "      <th>266324</th>\n",
              "      <td>2010-09-14 07:26:25</td>\n",
              "      <td>krist0ph3r</td>\n",
              "      <td>NaN</td>\n",
              "      <td>0</td>\n",
              "      <td>0</td>\n",
              "      <td>0</td>\n",
              "      <td>I stand corrected. there is, indeed, a vaccine...</td>\n",
              "      <td>NaN</td>\n",
              "      <td>@mizarcle</td>\n",
              "      <td>NaN</td>\n",
              "      <td>24456504000</td>\n",
              "      <td>https://twitter.com/krist0ph3r/status/24456504000</td>\n",
              "      <td>I stand corrected. there is, indeed, a vaccine...</td>\n",
              "      <td>[stand, corrected, indeed, vaccine, cervical, ...</td>\n",
              "      <td>['I', 'stand', 'corrected', '.', 'there', 'is'...</td>\n",
              "      <td>stand correct inde vaccin cervic cancer except...</td>\n",
              "      <td>stand corrected indeed vaccine cervical cancer...</td>\n",
              "    </tr>\n",
              "    <tr>\n",
              "      <th>266325</th>\n",
              "      <td>2010-09-14 07:15:04</td>\n",
              "      <td>krist0ph3r</td>\n",
              "      <td>NaN</td>\n",
              "      <td>0</td>\n",
              "      <td>0</td>\n",
              "      <td>0</td>\n",
              "      <td>#iWant! RT @24HoursLoot The Four Elements of a...</td>\n",
              "      <td>NaN</td>\n",
              "      <td>@24HoursLoot</td>\n",
              "      <td>#iWant</td>\n",
              "      <td>24456008845</td>\n",
              "      <td>https://twitter.com/krist0ph3r/status/24456008845</td>\n",
              "      <td>#iWant! RT @24HoursLoot The Four Elements of a...</td>\n",
              "      <td>[iwant, rt, hoursloot, four, elements, human, ...</td>\n",
              "      <td>['#', 'iWant', '!', 'RT', '@', '24HoursLoot', ...</td>\n",
              "      <td>iwant rt hoursloot four element human geek lif...</td>\n",
              "      <td>iwant rt hoursloot four element human geek lif...</td>\n",
              "    </tr>\n",
              "    <tr>\n",
              "      <th>266326</th>\n",
              "      <td>2010-09-14 07:12:15</td>\n",
              "      <td>krist0ph3r</td>\n",
              "      <td>NaN</td>\n",
              "      <td>0</td>\n",
              "      <td>0</td>\n",
              "      <td>0</td>\n",
              "      <td>there's a vaccine? don't think cancer can be v...</td>\n",
              "      <td>NaN</td>\n",
              "      <td>@mizarcle</td>\n",
              "      <td>NaN</td>\n",
              "      <td>24455883030</td>\n",
              "      <td>https://twitter.com/krist0ph3r/status/24455883030</td>\n",
              "      <td>there's a vaccine? don't think cancer can be v...</td>\n",
              "      <td>[vaccine, think, cancer, vaccinated, rt, mizar...</td>\n",
              "      <td>['there', \"'s\", 'a', 'vaccine', '?', 'do', \"n'...</td>\n",
              "      <td>vaccin think cancer vaccin rt mizarcl anyon ta...</td>\n",
              "      <td>vaccine think cancer vaccinated rt mizarcle an...</td>\n",
              "    </tr>\n",
              "    <tr>\n",
              "      <th>266327</th>\n",
              "      <td>2010-09-14 07:10:56</td>\n",
              "      <td>krist0ph3r</td>\n",
              "      <td>NaN</td>\n",
              "      <td>0</td>\n",
              "      <td>0</td>\n",
              "      <td>0</td>\n",
              "      <td>#nowplaying gareth emery - exposure #awesomeness</td>\n",
              "      <td>NaN</td>\n",
              "      <td>NaN</td>\n",
              "      <td>#nowplaying #awesomeness</td>\n",
              "      <td>24455823620</td>\n",
              "      <td>https://twitter.com/krist0ph3r/status/24455823620</td>\n",
              "      <td>#nowplaying gareth emery - exposure #awesomeness</td>\n",
              "      <td>[nowplaying, gareth, emery, exposure, awesomen...</td>\n",
              "      <td>['#', 'nowplaying', 'gareth', 'emery', '-', 'e...</td>\n",
              "      <td>nowplay gareth emeri exposur awesom</td>\n",
              "      <td>nowplaying gareth emery exposure awesomeness</td>\n",
              "    </tr>\n",
              "    <tr>\n",
              "      <th>266328</th>\n",
              "      <td>2010-09-14 05:21:30</td>\n",
              "      <td>krist0ph3r</td>\n",
              "      <td>NaN</td>\n",
              "      <td>0</td>\n",
              "      <td>0</td>\n",
              "      <td>0</td>\n",
              "      <td>friend was waiting for me to step into office ...</td>\n",
              "      <td>NaN</td>\n",
              "      <td>NaN</td>\n",
              "      <td>NaN</td>\n",
              "      <td>24450570759</td>\n",
              "      <td>https://twitter.com/krist0ph3r/status/24450570759</td>\n",
              "      <td>friend was waiting for me to step into office ...</td>\n",
              "      <td>[friend, waiting, step, office, tell, news, su...</td>\n",
              "      <td>['friend', 'was', 'waiting', 'for', 'me', 'to'...</td>\n",
              "      <td>friend wait step offic tell news suzuki firebl...</td>\n",
              "      <td>friend waiting step office tell news suzuki fi...</td>\n",
              "    </tr>\n",
              "  </tbody>\n",
              "</table>\n",
              "<p>266329 rows × 17 columns</p>\n",
              "</div>"
            ],
            "text/plain": [
              "                      date  ...                        lemmatized_stopwordsRemoved\n",
              "0      2020-08-14 23:40:49  ...                         andrew send copy love read\n",
              "1      2020-08-14 23:29:59  ...  coming true right ishkarnbhandarihttps twitter...\n",
              "2      2020-08-14 23:27:45  ...  wishing everyone happy independence day time g...\n",
              "3      2020-08-14 23:09:49  ...            usually approach first probably special\n",
              "4      2020-08-14 22:21:57  ...  gunjansaxena brilliant film ull get adrenaline...\n",
              "...                    ...  ...                                                ...\n",
              "266324 2010-09-14 07:26:25  ...  stand corrected indeed vaccine cervical cancer...\n",
              "266325 2010-09-14 07:15:04  ...  iwant rt hoursloot four element human geek lif...\n",
              "266326 2010-09-14 07:12:15  ...  vaccine think cancer vaccinated rt mizarcle an...\n",
              "266327 2010-09-14 07:10:56  ...       nowplaying gareth emery exposure awesomeness\n",
              "266328 2010-09-14 05:21:30  ...  friend waiting step office tell news suzuki fi...\n",
              "\n",
              "[266329 rows x 17 columns]"
            ]
          },
          "metadata": {
            "tags": []
          },
          "execution_count": 30
        }
      ]
    },
    {
      "cell_type": "code",
      "metadata": {
        "id": "La5ZaeB2qvYA",
        "colab_type": "code",
        "colab": {
          "base_uri": "https://localhost:8080/",
          "height": 372
        },
        "outputId": "cb5714ba-3c6c-4812-b780-8a4fd85b3b61"
      },
      "source": [
        "count_plot=nltk.FreqDist(senten_1[900])\n",
        "\n",
        "count_plot.plot()"
      ],
      "execution_count": 31,
      "outputs": [
        {
          "output_type": "display_data",
          "data": {
            "image/png": "[encoded data removed]",
            "text/plain": [
              "<Figure size 432x288 with 1 Axes>"
            ]
          },
          "metadata": {
            "tags": [],
            "needs_background": "light"
          }
        }
      ]
    },
    {
      "cell_type": "code",
      "metadata": {
        "id": "0WTJXy6wHWRc",
        "colab_type": "code",
        "colab": {}
      },
      "source": [
        "## Training the Word2Vec model\n",
        "model=Word2Vec(senten_1,min_count=1) ### min_count kept 1 so that no word is ignored"
      ],
      "execution_count": 32,
      "outputs": []
    },
    {
      "cell_type": "code",
      "metadata": {
        "id": "44a8mMDL4drN",
        "colab_type": "code",
        "colab": {
          "base_uri": "https://localhost:8080/",
          "height": 35
        },
        "outputId": "465a3a95-c22e-4880-d5d7-85910df7c3dd"
      },
      "source": [
        "print(model) ## to print the summary of the model"
      ],
      "execution_count": 33,
      "outputs": [
        {
          "output_type": "stream",
          "text": [
            "Word2Vec(vocab=252218, size=100, alpha=0.025)\n"
          ],
          "name": "stdout"
        }
      ]
    },
    {
      "cell_type": "code",
      "metadata": {
        "id": "vazZpbwgHrq4",
        "colab_type": "code",
        "colab": {
          "base_uri": "https://localhost:8080/",
          "height": 35
        },
        "outputId": "3f96058a-a6fb-4130-d9af-08e87fa8681f"
      },
      "source": [
        "word=list(model.wv.vocab)   ### to print the summary of the vocab\n",
        "word[0]"
      ],
      "execution_count": 34,
      "outputs": [
        {
          "output_type": "execute_result",
          "data": {
            "application/vnd.google.colaboratory.intrinsic+json": {
              "type": "string"
            },
            "text/plain": [
              "'andrew'"
            ]
          },
          "metadata": {
            "tags": []
          },
          "execution_count": 34
        }
      ]
    },
    {
      "cell_type": "code",
      "metadata": {
        "id": "IxPCT3P1PnXL",
        "colab_type": "code",
        "colab": {
          "base_uri": "https://localhost:8080/",
          "height": 89
        },
        "outputId": "0b11248c-0206-4691-a5e6-0488bcf97d78"
      },
      "source": [
        "X = model[model.wv.vocab]   ### feature representation matrix\n",
        "X.shape"
      ],
      "execution_count": 35,
      "outputs": [
        {
          "output_type": "stream",
          "text": [
            "/usr/local/lib/python3.6/dist-packages/ipykernel_launcher.py:1: DeprecationWarning: Call to deprecated `__getitem__` (Method will be removed in 4.0.0, use self.wv.__getitem__() instead).\n",
            "  \"\"\"Entry point for launching an IPython kernel.\n"
          ],
          "name": "stderr"
        },
        {
          "output_type": "execute_result",
          "data": {
            "text/plain": [
              "(252218, 100)"
            ]
          },
          "metadata": {
            "tags": []
          },
          "execution_count": 35
        }
      ]
    },
    {
      "cell_type": "code",
      "metadata": {
        "id": "u2rpSYmraA5q",
        "colab_type": "code",
        "colab": {}
      },
      "source": [
        "#for i,val in enumerate(word):\n",
        "df_word2vec=pd.DataFrame(X)\n"
      ],
      "execution_count": 36,
      "outputs": []
    },
    {
      "cell_type": "code",
      "metadata": {
        "id": "pFcV13G0iAY2",
        "colab_type": "code",
        "colab": {
          "base_uri": "https://localhost:8080/",
          "height": 435
        },
        "outputId": "27111e0a-8f8f-4697-fbd3-ccc283c90fcf"
      },
      "source": [
        "df_word2vec.insert(0,'Vocab_name',word)\n",
        "df_word2vec.set_index('Vocab_name') \n",
        "df_word2vec=df_word2vec.transpose(copy=False) \n",
        "df_word2vec.columns = df_word2vec.iloc[0]\n",
        "df_word2vec = df_word2vec[1:]\n",
        "df_word2vec\n",
        "\n",
        "\n"
      ],
      "execution_count": 37,
      "outputs": [
        {
          "output_type": "execute_result",
          "data": {
            "text/html": [
              "<div>\n",
              "<style scoped>\n",
              "    .dataframe tbody tr th:only-of-type {\n",
              "        vertical-align: middle;\n",
              "    }\n",
              "\n",
              "    .dataframe tbody tr th {\n",
              "        vertical-align: top;\n",
              "    }\n",
              "\n",
              "    .dataframe thead th {\n",
              "        text-align: right;\n",
              "    }\n",
              "</style>\n",
              "<table border=\"1\" class=\"dataframe\">\n",
              "  <thead>\n",
              "    <tr style=\"text-align: right;\">\n",
              "      <th>Vocab_name</th>\n",
              "      <th>andrew</th>\n",
              "      <th>send</th>\n",
              "      <th>copy</th>\n",
              "      <th>love</th>\n",
              "      <th>read</th>\n",
              "      <th>coming</th>\n",
              "      <th>true</th>\n",
              "      <th>right</th>\n",
              "      <th>ishkarnbhandarihttps</th>\n",
              "      <th>twitter</th>\n",
              "      <th>com</th>\n",
              "      <th>ishkarnbhandari</th>\n",
              "      <th>status</th>\n",
              "      <th>wishing</th>\n",
              "      <th>everyone</th>\n",
              "      <th>happy</th>\n",
              "      <th>independence</th>\n",
              "      <th>day</th>\n",
              "      <th>time</th>\n",
              "      <th>gratitude</th>\n",
              "      <th>got</th>\n",
              "      <th>us</th>\n",
              "      <th>proud</th>\n",
              "      <th>made</th>\n",
              "      <th>possible</th>\n",
              "      <th>india</th>\n",
              "      <th>thrive</th>\n",
              "      <th>independent</th>\n",
              "      <th>nation</th>\n",
              "      <th>jaihind</th>\n",
              "      <th>kalam</th>\n",
              "      <th>independenceday</th>\n",
              "      <th>august</th>\n",
              "      <th>pic</th>\n",
              "      <th>sbtfbrfooc</th>\n",
              "      <th>usually</th>\n",
              "      <th>approach</th>\n",
              "      <th>first</th>\n",
              "      <th>probably</th>\n",
              "      <th>special</th>\n",
              "      <th>...</th>\n",
              "      <th>oocytes</th>\n",
              "      <th>vericose</th>\n",
              "      <th>mercplus</th>\n",
              "      <th>manyoo</th>\n",
              "      <th>kelli</th>\n",
              "      <th>kelis</th>\n",
              "      <th>pigtails</th>\n",
              "      <th>exclaimed</th>\n",
              "      <th>wotd</th>\n",
              "      <th>naruhodo</th>\n",
              "      <th>biprorshee</th>\n",
              "      <th>bipples</th>\n",
              "      <th>buhahaha</th>\n",
              "      <th>mikhail</th>\n",
              "      <th>journalismromance</th>\n",
              "      <th>gtalkers</th>\n",
              "      <th>footlong</th>\n",
              "      <th>iphonefresh</th>\n",
              "      <th>afleck</th>\n",
              "      <th>thanksforthereminder</th>\n",
              "      <th>amex</th>\n",
              "      <th>socialexperiment</th>\n",
              "      <th>notsponsoredbygilette</th>\n",
              "      <th>seeekritly</th>\n",
              "      <th>howtopissoffwhitepeople</th>\n",
              "      <th>gossipmongering</th>\n",
              "      <th>boybashing</th>\n",
              "      <th>somebodykeeelhim</th>\n",
              "      <th>latereaction</th>\n",
              "      <th>netrey</th>\n",
              "      <th>espirit</th>\n",
              "      <th>feeshy</th>\n",
              "      <th>wazaaaaaaaaaaaa</th>\n",
              "      <th>bumbolatty</th>\n",
              "      <th>coconatty</th>\n",
              "      <th>thekasarupesh</th>\n",
              "      <th>faacking</th>\n",
              "      <th>fooked</th>\n",
              "      <th>curhdj</th>\n",
              "      <th>fireblade</th>\n",
              "    </tr>\n",
              "  </thead>\n",
              "  <tbody>\n",
              "    <tr>\n",
              "      <th>0</th>\n",
              "      <td>-0.0277769</td>\n",
              "      <td>0.176839</td>\n",
              "      <td>-0.822323</td>\n",
              "      <td>-0.231476</td>\n",
              "      <td>-1.09432</td>\n",
              "      <td>-0.593212</td>\n",
              "      <td>0.0175803</td>\n",
              "      <td>-0.345221</td>\n",
              "      <td>0.0180311</td>\n",
              "      <td>0.158812</td>\n",
              "      <td>1.51894</td>\n",
              "      <td>0.0732748</td>\n",
              "      <td>2.25636</td>\n",
              "      <td>-1.22142</td>\n",
              "      <td>-1.81549</td>\n",
              "      <td>-1.66511</td>\n",
              "      <td>0.144143</td>\n",
              "      <td>-1.41065</td>\n",
              "      <td>-0.285344</td>\n",
              "      <td>-0.191596</td>\n",
              "      <td>-1.77707</td>\n",
              "      <td>-0.294024</td>\n",
              "      <td>-0.429205</td>\n",
              "      <td>-1.51284</td>\n",
              "      <td>0.310361</td>\n",
              "      <td>1.76525</td>\n",
              "      <td>-0.0463316</td>\n",
              "      <td>0.229862</td>\n",
              "      <td>1.26789</td>\n",
              "      <td>0.248065</td>\n",
              "      <td>-0.0553235</td>\n",
              "      <td>-0.13407</td>\n",
              "      <td>0.0421725</td>\n",
              "      <td>0.904236</td>\n",
              "      <td>-0.000192608</td>\n",
              "      <td>-0.939949</td>\n",
              "      <td>0.0744501</td>\n",
              "      <td>-1.56541</td>\n",
              "      <td>-1.06167</td>\n",
              "      <td>-0.564844</td>\n",
              "      <td>...</td>\n",
              "      <td>-0.00995251</td>\n",
              "      <td>-0.00338865</td>\n",
              "      <td>-0.0201439</td>\n",
              "      <td>-0.0106377</td>\n",
              "      <td>-0.0162732</td>\n",
              "      <td>-0.0168111</td>\n",
              "      <td>0.00144172</td>\n",
              "      <td>0.00240645</td>\n",
              "      <td>-0.0152652</td>\n",
              "      <td>-0.011038</td>\n",
              "      <td>-0.0062565</td>\n",
              "      <td>-0.00828392</td>\n",
              "      <td>-0.000591261</td>\n",
              "      <td>-0.00797288</td>\n",
              "      <td>-0.00244242</td>\n",
              "      <td>-0.000839556</td>\n",
              "      <td>-0.00518756</td>\n",
              "      <td>0.00176809</td>\n",
              "      <td>-0.00406176</td>\n",
              "      <td>0.0050472</td>\n",
              "      <td>-0.00605644</td>\n",
              "      <td>0.0126213</td>\n",
              "      <td>0.00323554</td>\n",
              "      <td>0.000941067</td>\n",
              "      <td>-0.00226695</td>\n",
              "      <td>0.00175506</td>\n",
              "      <td>-0.0153388</td>\n",
              "      <td>-0.0106924</td>\n",
              "      <td>-0.00781007</td>\n",
              "      <td>0.0019577</td>\n",
              "      <td>-0.00652454</td>\n",
              "      <td>-0.012726</td>\n",
              "      <td>-0.0054945</td>\n",
              "      <td>-0.0150566</td>\n",
              "      <td>-0.0236982</td>\n",
              "      <td>-0.00426268</td>\n",
              "      <td>-0.0092878</td>\n",
              "      <td>-0.0196918</td>\n",
              "      <td>-0.00530352</td>\n",
              "      <td>-0.00675607</td>\n",
              "    </tr>\n",
              "    <tr>\n",
              "      <th>1</th>\n",
              "      <td>-0.250087</td>\n",
              "      <td>0.093448</td>\n",
              "      <td>0.0715826</td>\n",
              "      <td>-0.700638</td>\n",
              "      <td>0.22949</td>\n",
              "      <td>0.83762</td>\n",
              "      <td>-0.955159</td>\n",
              "      <td>0.971266</td>\n",
              "      <td>0.0063771</td>\n",
              "      <td>-3.28319</td>\n",
              "      <td>-1.25718</td>\n",
              "      <td>-0.112172</td>\n",
              "      <td>-6.27217</td>\n",
              "      <td>-1.8848</td>\n",
              "      <td>-0.0158039</td>\n",
              "      <td>-3.3009</td>\n",
              "      <td>-0.847261</td>\n",
              "      <td>-0.845892</td>\n",
              "      <td>0.524779</td>\n",
              "      <td>-0.391265</td>\n",
              "      <td>1.60227</td>\n",
              "      <td>-0.0532657</td>\n",
              "      <td>-1.84428</td>\n",
              "      <td>-0.401614</td>\n",
              "      <td>-0.176744</td>\n",
              "      <td>-1.23494</td>\n",
              "      <td>-0.255974</td>\n",
              "      <td>-0.228196</td>\n",
              "      <td>-0.761837</td>\n",
              "      <td>-0.797954</td>\n",
              "      <td>0.0502229</td>\n",
              "      <td>-0.279502</td>\n",
              "      <td>0.310597</td>\n",
              "      <td>-2.57238</td>\n",
              "      <td>0.00882382</td>\n",
              "      <td>-0.184024</td>\n",
              "      <td>-0.347414</td>\n",
              "      <td>-0.889433</td>\n",
              "      <td>-0.0365563</td>\n",
              "      <td>0.564558</td>\n",
              "      <td>...</td>\n",
              "      <td>-0.0123577</td>\n",
              "      <td>-0.00881835</td>\n",
              "      <td>-0.0167138</td>\n",
              "      <td>0.00546857</td>\n",
              "      <td>-0.0235965</td>\n",
              "      <td>-0.0391252</td>\n",
              "      <td>-0.00822701</td>\n",
              "      <td>-0.00448549</td>\n",
              "      <td>-0.00312842</td>\n",
              "      <td>-0.00201699</td>\n",
              "      <td>-0.0247763</td>\n",
              "      <td>-0.0609623</td>\n",
              "      <td>-0.0302359</td>\n",
              "      <td>-0.0258875</td>\n",
              "      <td>-0.0041201</td>\n",
              "      <td>0.00917436</td>\n",
              "      <td>-0.00150918</td>\n",
              "      <td>-0.0114908</td>\n",
              "      <td>-0.0140758</td>\n",
              "      <td>-0.013789</td>\n",
              "      <td>-0.0310486</td>\n",
              "      <td>-0.0105044</td>\n",
              "      <td>-0.0145967</td>\n",
              "      <td>-0.0121922</td>\n",
              "      <td>-0.0095152</td>\n",
              "      <td>-0.00885192</td>\n",
              "      <td>-0.01336</td>\n",
              "      <td>-0.0209203</td>\n",
              "      <td>-0.00952284</td>\n",
              "      <td>-0.0298275</td>\n",
              "      <td>-0.00680047</td>\n",
              "      <td>-0.00556499</td>\n",
              "      <td>-0.00825537</td>\n",
              "      <td>-0.0330614</td>\n",
              "      <td>-0.0405949</td>\n",
              "      <td>-0.00187782</td>\n",
              "      <td>-0.0073121</td>\n",
              "      <td>-0.00867448</td>\n",
              "      <td>-0.0320375</td>\n",
              "      <td>0.00480649</td>\n",
              "    </tr>\n",
              "    <tr>\n",
              "      <th>2</th>\n",
              "      <td>-0.0880312</td>\n",
              "      <td>0.282912</td>\n",
              "      <td>0.169687</td>\n",
              "      <td>2.752</td>\n",
              "      <td>-0.713699</td>\n",
              "      <td>0.487735</td>\n",
              "      <td>1.14406</td>\n",
              "      <td>-0.997954</td>\n",
              "      <td>-0.00393097</td>\n",
              "      <td>-0.650379</td>\n",
              "      <td>-3.58396</td>\n",
              "      <td>-0.0298411</td>\n",
              "      <td>-2.68306</td>\n",
              "      <td>1.26807</td>\n",
              "      <td>0.0523531</td>\n",
              "      <td>1.13643</td>\n",
              "      <td>-1.34285</td>\n",
              "      <td>-2.32713</td>\n",
              "      <td>-0.0807245</td>\n",
              "      <td>0.434031</td>\n",
              "      <td>-0.509946</td>\n",
              "      <td>0.368576</td>\n",
              "      <td>-0.917264</td>\n",
              "      <td>-1.50494</td>\n",
              "      <td>-0.318088</td>\n",
              "      <td>-1.32971</td>\n",
              "      <td>0.0967666</td>\n",
              "      <td>-0.608308</td>\n",
              "      <td>-1.34507</td>\n",
              "      <td>0.163764</td>\n",
              "      <td>-0.18086</td>\n",
              "      <td>-0.12149</td>\n",
              "      <td>-0.440155</td>\n",
              "      <td>-0.492591</td>\n",
              "      <td>-0.0143163</td>\n",
              "      <td>0.0415294</td>\n",
              "      <td>-0.140894</td>\n",
              "      <td>-0.850023</td>\n",
              "      <td>-0.166328</td>\n",
              "      <td>-1.06129</td>\n",
              "      <td>...</td>\n",
              "      <td>0.0142719</td>\n",
              "      <td>0.00915594</td>\n",
              "      <td>0.00445142</td>\n",
              "      <td>0.0029977</td>\n",
              "      <td>0.0243941</td>\n",
              "      <td>0.0050714</td>\n",
              "      <td>0.00219536</td>\n",
              "      <td>-0.0113788</td>\n",
              "      <td>0.00287549</td>\n",
              "      <td>-0.00218226</td>\n",
              "      <td>0.0166122</td>\n",
              "      <td>0.0134979</td>\n",
              "      <td>0.00321669</td>\n",
              "      <td>0.00795932</td>\n",
              "      <td>-0.0185045</td>\n",
              "      <td>0.00520944</td>\n",
              "      <td>0.00166977</td>\n",
              "      <td>0.0084072</td>\n",
              "      <td>0.00171443</td>\n",
              "      <td>0.00141268</td>\n",
              "      <td>0.00538519</td>\n",
              "      <td>0.00376296</td>\n",
              "      <td>-0.00370538</td>\n",
              "      <td>0.00174441</td>\n",
              "      <td>-0.00348226</td>\n",
              "      <td>-0.000451995</td>\n",
              "      <td>0.00427681</td>\n",
              "      <td>0.00141894</td>\n",
              "      <td>0.00572766</td>\n",
              "      <td>0.00231503</td>\n",
              "      <td>-0.00501904</td>\n",
              "      <td>0.00646568</td>\n",
              "      <td>0.000164028</td>\n",
              "      <td>0.00442013</td>\n",
              "      <td>-0.0145387</td>\n",
              "      <td>0.0180067</td>\n",
              "      <td>-0.00286237</td>\n",
              "      <td>0.0063936</td>\n",
              "      <td>0.0183609</td>\n",
              "      <td>-0.0131097</td>\n",
              "    </tr>\n",
              "    <tr>\n",
              "      <th>3</th>\n",
              "      <td>0.127827</td>\n",
              "      <td>-1.47179</td>\n",
              "      <td>-0.308274</td>\n",
              "      <td>-0.223875</td>\n",
              "      <td>0.316001</td>\n",
              "      <td>-1.00989</td>\n",
              "      <td>0.570426</td>\n",
              "      <td>0.438917</td>\n",
              "      <td>0.0218405</td>\n",
              "      <td>-0.992967</td>\n",
              "      <td>2.19616</td>\n",
              "      <td>0.0516364</td>\n",
              "      <td>3.1569</td>\n",
              "      <td>-0.342181</td>\n",
              "      <td>-1.82103</td>\n",
              "      <td>-1.52057</td>\n",
              "      <td>-0.182473</td>\n",
              "      <td>-3.21358</td>\n",
              "      <td>-1.51977</td>\n",
              "      <td>-0.418707</td>\n",
              "      <td>-0.73211</td>\n",
              "      <td>-4.14466</td>\n",
              "      <td>-0.903299</td>\n",
              "      <td>-0.86634</td>\n",
              "      <td>-1.34493</td>\n",
              "      <td>1.16718</td>\n",
              "      <td>-0.0571752</td>\n",
              "      <td>0.0189074</td>\n",
              "      <td>-0.680414</td>\n",
              "      <td>-0.239185</td>\n",
              "      <td>-0.266851</td>\n",
              "      <td>-0.160323</td>\n",
              "      <td>-0.0123814</td>\n",
              "      <td>0.242275</td>\n",
              "      <td>0.00341368</td>\n",
              "      <td>-0.465278</td>\n",
              "      <td>-0.179581</td>\n",
              "      <td>-0.562907</td>\n",
              "      <td>-0.173914</td>\n",
              "      <td>-1.61299</td>\n",
              "      <td>...</td>\n",
              "      <td>-0.00247588</td>\n",
              "      <td>-0.000726709</td>\n",
              "      <td>-0.0045777</td>\n",
              "      <td>0.0159573</td>\n",
              "      <td>0.0140115</td>\n",
              "      <td>-0.00695149</td>\n",
              "      <td>-0.0034577</td>\n",
              "      <td>-0.00363656</td>\n",
              "      <td>-0.00574374</td>\n",
              "      <td>-0.0119291</td>\n",
              "      <td>-0.00181106</td>\n",
              "      <td>-0.00627584</td>\n",
              "      <td>-0.000648997</td>\n",
              "      <td>0.00614853</td>\n",
              "      <td>0.00546664</td>\n",
              "      <td>-0.00390919</td>\n",
              "      <td>0.00758943</td>\n",
              "      <td>0.0030864</td>\n",
              "      <td>0.00538504</td>\n",
              "      <td>-0.00193373</td>\n",
              "      <td>0.00943942</td>\n",
              "      <td>0.00226616</td>\n",
              "      <td>0.000782511</td>\n",
              "      <td>0.000753949</td>\n",
              "      <td>0.00551326</td>\n",
              "      <td>0.00782034</td>\n",
              "      <td>-0.00116935</td>\n",
              "      <td>-0.00279864</td>\n",
              "      <td>-0.000200256</td>\n",
              "      <td>-0.0138164</td>\n",
              "      <td>0.00616116</td>\n",
              "      <td>-0.0121164</td>\n",
              "      <td>-0.00208532</td>\n",
              "      <td>-0.00704329</td>\n",
              "      <td>9.4376e-05</td>\n",
              "      <td>-0.0108609</td>\n",
              "      <td>-0.0161998</td>\n",
              "      <td>0.00522018</td>\n",
              "      <td>-0.00181182</td>\n",
              "      <td>-0.0160633</td>\n",
              "    </tr>\n",
              "    <tr>\n",
              "      <th>4</th>\n",
              "      <td>-0.17749</td>\n",
              "      <td>0.684706</td>\n",
              "      <td>-0.732194</td>\n",
              "      <td>0.0260772</td>\n",
              "      <td>0.344688</td>\n",
              "      <td>0.944755</td>\n",
              "      <td>-0.620941</td>\n",
              "      <td>0.435905</td>\n",
              "      <td>-0.00215997</td>\n",
              "      <td>0.915561</td>\n",
              "      <td>-0.815123</td>\n",
              "      <td>-0.0613493</td>\n",
              "      <td>-0.523169</td>\n",
              "      <td>-1.84024</td>\n",
              "      <td>0.851789</td>\n",
              "      <td>-1.77238</td>\n",
              "      <td>0.0292577</td>\n",
              "      <td>1.33626</td>\n",
              "      <td>1.58451</td>\n",
              "      <td>-0.0774289</td>\n",
              "      <td>1.21119</td>\n",
              "      <td>0.225588</td>\n",
              "      <td>-2.86384</td>\n",
              "      <td>-0.47728</td>\n",
              "      <td>1.36223</td>\n",
              "      <td>-0.634811</td>\n",
              "      <td>0.0757456</td>\n",
              "      <td>0.77414</td>\n",
              "      <td>1.31804</td>\n",
              "      <td>-0.407734</td>\n",
              "      <td>-0.114954</td>\n",
              "      <td>-0.141267</td>\n",
              "      <td>0.958173</td>\n",
              "      <td>-2.52989</td>\n",
              "      <td>0.00766307</td>\n",
              "      <td>0.867902</td>\n",
              "      <td>0.879479</td>\n",
              "      <td>0.720164</td>\n",
              "      <td>1.10049</td>\n",
              "      <td>-1.66126</td>\n",
              "      <td>...</td>\n",
              "      <td>0.012527</td>\n",
              "      <td>-0.00994063</td>\n",
              "      <td>-0.00109839</td>\n",
              "      <td>-0.000135753</td>\n",
              "      <td>-0.0012494</td>\n",
              "      <td>-0.0107561</td>\n",
              "      <td>0.00291717</td>\n",
              "      <td>-0.00210807</td>\n",
              "      <td>-0.012923</td>\n",
              "      <td>-0.0175713</td>\n",
              "      <td>-0.00580211</td>\n",
              "      <td>-0.0408537</td>\n",
              "      <td>-0.0115281</td>\n",
              "      <td>-0.0144835</td>\n",
              "      <td>-0.00865403</td>\n",
              "      <td>0.004277</td>\n",
              "      <td>-0.00234449</td>\n",
              "      <td>-0.00919853</td>\n",
              "      <td>-0.00663532</td>\n",
              "      <td>-0.00825843</td>\n",
              "      <td>0.00038727</td>\n",
              "      <td>8.25492e-05</td>\n",
              "      <td>0.00239364</td>\n",
              "      <td>-0.00435202</td>\n",
              "      <td>-0.00699098</td>\n",
              "      <td>0.0014375</td>\n",
              "      <td>-0.012839</td>\n",
              "      <td>-0.00377629</td>\n",
              "      <td>-0.0157983</td>\n",
              "      <td>0.00834652</td>\n",
              "      <td>-0.014856</td>\n",
              "      <td>0.00302387</td>\n",
              "      <td>-0.00247661</td>\n",
              "      <td>-0.0232077</td>\n",
              "      <td>-0.033579</td>\n",
              "      <td>-0.0246549</td>\n",
              "      <td>-0.00156009</td>\n",
              "      <td>-0.00864967</td>\n",
              "      <td>-0.0030848</td>\n",
              "      <td>-0.0189888</td>\n",
              "    </tr>\n",
              "    <tr>\n",
              "      <th>...</th>\n",
              "      <td>...</td>\n",
              "      <td>...</td>\n",
              "      <td>...</td>\n",
              "      <td>...</td>\n",
              "      <td>...</td>\n",
              "      <td>...</td>\n",
              "      <td>...</td>\n",
              "      <td>...</td>\n",
              "      <td>...</td>\n",
              "      <td>...</td>\n",
              "      <td>...</td>\n",
              "      <td>...</td>\n",
              "      <td>...</td>\n",
              "      <td>...</td>\n",
              "      <td>...</td>\n",
              "      <td>...</td>\n",
              "      <td>...</td>\n",
              "      <td>...</td>\n",
              "      <td>...</td>\n",
              "      <td>...</td>\n",
              "      <td>...</td>\n",
              "      <td>...</td>\n",
              "      <td>...</td>\n",
              "      <td>...</td>\n",
              "      <td>...</td>\n",
              "      <td>...</td>\n",
              "      <td>...</td>\n",
              "      <td>...</td>\n",
              "      <td>...</td>\n",
              "      <td>...</td>\n",
              "      <td>...</td>\n",
              "      <td>...</td>\n",
              "      <td>...</td>\n",
              "      <td>...</td>\n",
              "      <td>...</td>\n",
              "      <td>...</td>\n",
              "      <td>...</td>\n",
              "      <td>...</td>\n",
              "      <td>...</td>\n",
              "      <td>...</td>\n",
              "      <td>...</td>\n",
              "      <td>...</td>\n",
              "      <td>...</td>\n",
              "      <td>...</td>\n",
              "      <td>...</td>\n",
              "      <td>...</td>\n",
              "      <td>...</td>\n",
              "      <td>...</td>\n",
              "      <td>...</td>\n",
              "      <td>...</td>\n",
              "      <td>...</td>\n",
              "      <td>...</td>\n",
              "      <td>...</td>\n",
              "      <td>...</td>\n",
              "      <td>...</td>\n",
              "      <td>...</td>\n",
              "      <td>...</td>\n",
              "      <td>...</td>\n",
              "      <td>...</td>\n",
              "      <td>...</td>\n",
              "      <td>...</td>\n",
              "      <td>...</td>\n",
              "      <td>...</td>\n",
              "      <td>...</td>\n",
              "      <td>...</td>\n",
              "      <td>...</td>\n",
              "      <td>...</td>\n",
              "      <td>...</td>\n",
              "      <td>...</td>\n",
              "      <td>...</td>\n",
              "      <td>...</td>\n",
              "      <td>...</td>\n",
              "      <td>...</td>\n",
              "      <td>...</td>\n",
              "      <td>...</td>\n",
              "      <td>...</td>\n",
              "      <td>...</td>\n",
              "      <td>...</td>\n",
              "      <td>...</td>\n",
              "      <td>...</td>\n",
              "      <td>...</td>\n",
              "    </tr>\n",
              "    <tr>\n",
              "      <th>95</th>\n",
              "      <td>-0.10558</td>\n",
              "      <td>-0.514109</td>\n",
              "      <td>-0.27999</td>\n",
              "      <td>-2.511</td>\n",
              "      <td>-0.2007</td>\n",
              "      <td>-1.41118</td>\n",
              "      <td>-2.05406</td>\n",
              "      <td>-1.70344</td>\n",
              "      <td>-0.0035955</td>\n",
              "      <td>-0.406895</td>\n",
              "      <td>-2.33703</td>\n",
              "      <td>0.0177096</td>\n",
              "      <td>0.0954879</td>\n",
              "      <td>-0.50906</td>\n",
              "      <td>-0.488521</td>\n",
              "      <td>-1.62944</td>\n",
              "      <td>0.452573</td>\n",
              "      <td>-0.271471</td>\n",
              "      <td>0.867939</td>\n",
              "      <td>-0.452426</td>\n",
              "      <td>-1.45893</td>\n",
              "      <td>-1.59408</td>\n",
              "      <td>-1.58454</td>\n",
              "      <td>-0.705892</td>\n",
              "      <td>-0.352197</td>\n",
              "      <td>-0.651668</td>\n",
              "      <td>-0.178936</td>\n",
              "      <td>0.0529147</td>\n",
              "      <td>-0.263397</td>\n",
              "      <td>-0.0459623</td>\n",
              "      <td>-0.0509928</td>\n",
              "      <td>-0.0949258</td>\n",
              "      <td>0.450965</td>\n",
              "      <td>-0.462595</td>\n",
              "      <td>0.00470117</td>\n",
              "      <td>-0.561695</td>\n",
              "      <td>-0.210267</td>\n",
              "      <td>-1.57855</td>\n",
              "      <td>-0.922691</td>\n",
              "      <td>-0.110837</td>\n",
              "      <td>...</td>\n",
              "      <td>-0.012951</td>\n",
              "      <td>-0.0124421</td>\n",
              "      <td>-0.0143134</td>\n",
              "      <td>-0.00518596</td>\n",
              "      <td>-0.0174834</td>\n",
              "      <td>-0.011082</td>\n",
              "      <td>-0.00726604</td>\n",
              "      <td>0.000998622</td>\n",
              "      <td>0.00530076</td>\n",
              "      <td>-0.00518391</td>\n",
              "      <td>-0.0212824</td>\n",
              "      <td>-0.0298759</td>\n",
              "      <td>-0.0117991</td>\n",
              "      <td>-0.0163911</td>\n",
              "      <td>0.00857479</td>\n",
              "      <td>-0.00270103</td>\n",
              "      <td>0.000114662</td>\n",
              "      <td>-0.00453522</td>\n",
              "      <td>-0.00648422</td>\n",
              "      <td>-0.00658842</td>\n",
              "      <td>-0.00419756</td>\n",
              "      <td>-9.39113e-05</td>\n",
              "      <td>-0.00604811</td>\n",
              "      <td>-0.00346428</td>\n",
              "      <td>-0.00644166</td>\n",
              "      <td>0.00378931</td>\n",
              "      <td>-0.0122303</td>\n",
              "      <td>-0.00512942</td>\n",
              "      <td>-0.00501369</td>\n",
              "      <td>-0.00562627</td>\n",
              "      <td>-0.0119948</td>\n",
              "      <td>0.000668331</td>\n",
              "      <td>0.00152581</td>\n",
              "      <td>-0.0163315</td>\n",
              "      <td>-0.0393198</td>\n",
              "      <td>0.00220909</td>\n",
              "      <td>-0.0042727</td>\n",
              "      <td>-0.0118531</td>\n",
              "      <td>-0.0110224</td>\n",
              "      <td>0.00791397</td>\n",
              "    </tr>\n",
              "    <tr>\n",
              "      <th>96</th>\n",
              "      <td>0.341943</td>\n",
              "      <td>-0.00742596</td>\n",
              "      <td>0.457244</td>\n",
              "      <td>-1.13227</td>\n",
              "      <td>1.31641</td>\n",
              "      <td>0.0936447</td>\n",
              "      <td>0.379506</td>\n",
              "      <td>0.486611</td>\n",
              "      <td>-8.94967e-05</td>\n",
              "      <td>-0.166021</td>\n",
              "      <td>0.441636</td>\n",
              "      <td>0.110516</td>\n",
              "      <td>1.29033</td>\n",
              "      <td>0.40168</td>\n",
              "      <td>-0.817002</td>\n",
              "      <td>-0.617803</td>\n",
              "      <td>0.143022</td>\n",
              "      <td>-0.335065</td>\n",
              "      <td>0.140184</td>\n",
              "      <td>0.0553088</td>\n",
              "      <td>-0.33652</td>\n",
              "      <td>-1.28687</td>\n",
              "      <td>-0.116502</td>\n",
              "      <td>-0.417232</td>\n",
              "      <td>-0.860195</td>\n",
              "      <td>-1.7979</td>\n",
              "      <td>0.0438319</td>\n",
              "      <td>0.187946</td>\n",
              "      <td>-0.484987</td>\n",
              "      <td>0.442297</td>\n",
              "      <td>0.0736504</td>\n",
              "      <td>0.285815</td>\n",
              "      <td>-0.968467</td>\n",
              "      <td>-0.115683</td>\n",
              "      <td>-0.0139329</td>\n",
              "      <td>-0.413051</td>\n",
              "      <td>0.0612047</td>\n",
              "      <td>-1.24649</td>\n",
              "      <td>-0.538427</td>\n",
              "      <td>-1.45454</td>\n",
              "      <td>...</td>\n",
              "      <td>-0.0102172</td>\n",
              "      <td>0.00388706</td>\n",
              "      <td>0.0122792</td>\n",
              "      <td>0.0175249</td>\n",
              "      <td>0.033749</td>\n",
              "      <td>0.0282239</td>\n",
              "      <td>-0.0157234</td>\n",
              "      <td>0.00891989</td>\n",
              "      <td>0.0112797</td>\n",
              "      <td>0.0183522</td>\n",
              "      <td>0.0386916</td>\n",
              "      <td>0.0581619</td>\n",
              "      <td>0.0209913</td>\n",
              "      <td>0.0239141</td>\n",
              "      <td>0.00783537</td>\n",
              "      <td>-0.00121532</td>\n",
              "      <td>0.00167719</td>\n",
              "      <td>0.0183756</td>\n",
              "      <td>0.00955187</td>\n",
              "      <td>0.0117716</td>\n",
              "      <td>0.0262251</td>\n",
              "      <td>0.00928432</td>\n",
              "      <td>0.000118505</td>\n",
              "      <td>0.00729265</td>\n",
              "      <td>0.0147289</td>\n",
              "      <td>-0.00878743</td>\n",
              "      <td>0.0139927</td>\n",
              "      <td>0.0204911</td>\n",
              "      <td>0.0231532</td>\n",
              "      <td>-0.0112444</td>\n",
              "      <td>0.00547001</td>\n",
              "      <td>-0.00479994</td>\n",
              "      <td>0.00693442</td>\n",
              "      <td>0.0324993</td>\n",
              "      <td>0.0331153</td>\n",
              "      <td>-0.00244939</td>\n",
              "      <td>0.0103948</td>\n",
              "      <td>0.0142355</td>\n",
              "      <td>-0.00462337</td>\n",
              "      <td>0.019213</td>\n",
              "    </tr>\n",
              "    <tr>\n",
              "      <th>97</th>\n",
              "      <td>-0.162551</td>\n",
              "      <td>-0.916304</td>\n",
              "      <td>-0.817197</td>\n",
              "      <td>0.842477</td>\n",
              "      <td>-1.11955</td>\n",
              "      <td>-0.232459</td>\n",
              "      <td>-0.564067</td>\n",
              "      <td>-1.2608</td>\n",
              "      <td>0.0134382</td>\n",
              "      <td>0.0813435</td>\n",
              "      <td>-0.41479</td>\n",
              "      <td>-0.0495122</td>\n",
              "      <td>-0.234228</td>\n",
              "      <td>0.255012</td>\n",
              "      <td>-1.98818</td>\n",
              "      <td>0.661067</td>\n",
              "      <td>-0.390904</td>\n",
              "      <td>1.27469</td>\n",
              "      <td>-3.00809</td>\n",
              "      <td>0.0160363</td>\n",
              "      <td>-0.0827207</td>\n",
              "      <td>-1.40468</td>\n",
              "      <td>1.1919</td>\n",
              "      <td>-0.354475</td>\n",
              "      <td>-0.782719</td>\n",
              "      <td>0.0924511</td>\n",
              "      <td>-0.0617515</td>\n",
              "      <td>-0.466865</td>\n",
              "      <td>0.322143</td>\n",
              "      <td>-0.206969</td>\n",
              "      <td>-0.28007</td>\n",
              "      <td>0.0592552</td>\n",
              "      <td>-0.289488</td>\n",
              "      <td>4.764</td>\n",
              "      <td>0.0125881</td>\n",
              "      <td>-0.833932</td>\n",
              "      <td>-0.71272</td>\n",
              "      <td>-1.94165</td>\n",
              "      <td>-0.904449</td>\n",
              "      <td>-0.96176</td>\n",
              "      <td>...</td>\n",
              "      <td>0.00714141</td>\n",
              "      <td>0.00125091</td>\n",
              "      <td>0.00118394</td>\n",
              "      <td>0.0103627</td>\n",
              "      <td>0.00168809</td>\n",
              "      <td>-0.00455457</td>\n",
              "      <td>-0.000579041</td>\n",
              "      <td>-0.014071</td>\n",
              "      <td>-0.00600956</td>\n",
              "      <td>-0.00232941</td>\n",
              "      <td>-0.0241944</td>\n",
              "      <td>-0.0261562</td>\n",
              "      <td>0.000393763</td>\n",
              "      <td>-0.00544265</td>\n",
              "      <td>-0.00555043</td>\n",
              "      <td>0.00446718</td>\n",
              "      <td>0.00456608</td>\n",
              "      <td>0.00123941</td>\n",
              "      <td>-0.00298097</td>\n",
              "      <td>-0.00955744</td>\n",
              "      <td>-0.00337712</td>\n",
              "      <td>-0.00045923</td>\n",
              "      <td>0.00321446</td>\n",
              "      <td>-0.00250262</td>\n",
              "      <td>0.00885239</td>\n",
              "      <td>-0.00267228</td>\n",
              "      <td>-0.00928267</td>\n",
              "      <td>-0.0051531</td>\n",
              "      <td>-0.00206517</td>\n",
              "      <td>0.000910784</td>\n",
              "      <td>-0.00846093</td>\n",
              "      <td>-0.0118934</td>\n",
              "      <td>-0.00552699</td>\n",
              "      <td>-0.0198614</td>\n",
              "      <td>-0.0276008</td>\n",
              "      <td>0.00311789</td>\n",
              "      <td>-0.0157211</td>\n",
              "      <td>-0.00998059</td>\n",
              "      <td>0.0203691</td>\n",
              "      <td>-0.0217409</td>\n",
              "    </tr>\n",
              "    <tr>\n",
              "      <th>98</th>\n",
              "      <td>0.0926243</td>\n",
              "      <td>0.153715</td>\n",
              "      <td>-0.426477</td>\n",
              "      <td>0.323692</td>\n",
              "      <td>-0.945374</td>\n",
              "      <td>0.022718</td>\n",
              "      <td>0.825306</td>\n",
              "      <td>-0.546064</td>\n",
              "      <td>0.00299541</td>\n",
              "      <td>-0.726518</td>\n",
              "      <td>3.37005</td>\n",
              "      <td>0.0666059</td>\n",
              "      <td>0.391345</td>\n",
              "      <td>1.74817</td>\n",
              "      <td>0.0789509</td>\n",
              "      <td>0.101325</td>\n",
              "      <td>-0.425574</td>\n",
              "      <td>2.43518</td>\n",
              "      <td>-0.645933</td>\n",
              "      <td>0.915708</td>\n",
              "      <td>-0.733911</td>\n",
              "      <td>0.738324</td>\n",
              "      <td>0.521361</td>\n",
              "      <td>-0.62863</td>\n",
              "      <td>0.355058</td>\n",
              "      <td>0.232871</td>\n",
              "      <td>0.128634</td>\n",
              "      <td>0.223488</td>\n",
              "      <td>1.00684</td>\n",
              "      <td>0.637509</td>\n",
              "      <td>0.52852</td>\n",
              "      <td>0.26866</td>\n",
              "      <td>0.291822</td>\n",
              "      <td>1.35668</td>\n",
              "      <td>0.00530475</td>\n",
              "      <td>0.295742</td>\n",
              "      <td>0.198421</td>\n",
              "      <td>-1.66472</td>\n",
              "      <td>-0.234968</td>\n",
              "      <td>-0.0661861</td>\n",
              "      <td>...</td>\n",
              "      <td>0.00957346</td>\n",
              "      <td>0.0137261</td>\n",
              "      <td>-0.00320438</td>\n",
              "      <td>0.00213027</td>\n",
              "      <td>0.0169992</td>\n",
              "      <td>0.0162201</td>\n",
              "      <td>-0.00318975</td>\n",
              "      <td>-0.00610399</td>\n",
              "      <td>0.010348</td>\n",
              "      <td>0.0125173</td>\n",
              "      <td>0.0219501</td>\n",
              "      <td>0.0321121</td>\n",
              "      <td>0.00973186</td>\n",
              "      <td>0.0042459</td>\n",
              "      <td>-0.0208717</td>\n",
              "      <td>0.00749714</td>\n",
              "      <td>-0.00413911</td>\n",
              "      <td>-0.000760868</td>\n",
              "      <td>-0.00056848</td>\n",
              "      <td>0.00783662</td>\n",
              "      <td>0.0146515</td>\n",
              "      <td>0.0170673</td>\n",
              "      <td>0.0175376</td>\n",
              "      <td>-0.00996014</td>\n",
              "      <td>0.00704551</td>\n",
              "      <td>0.0031153</td>\n",
              "      <td>0.0058037</td>\n",
              "      <td>0.00209154</td>\n",
              "      <td>0.0122766</td>\n",
              "      <td>0.00104905</td>\n",
              "      <td>-0.00707667</td>\n",
              "      <td>0.00597004</td>\n",
              "      <td>0.00877754</td>\n",
              "      <td>0.0295117</td>\n",
              "      <td>0.0248205</td>\n",
              "      <td>0.0236562</td>\n",
              "      <td>-0.000461739</td>\n",
              "      <td>-0.000141575</td>\n",
              "      <td>-0.00691319</td>\n",
              "      <td>0.00887749</td>\n",
              "    </tr>\n",
              "    <tr>\n",
              "      <th>99</th>\n",
              "      <td>-0.175407</td>\n",
              "      <td>0.550958</td>\n",
              "      <td>-0.00383607</td>\n",
              "      <td>1.18815</td>\n",
              "      <td>-0.00338854</td>\n",
              "      <td>-0.941515</td>\n",
              "      <td>-0.671539</td>\n",
              "      <td>-2.05476</td>\n",
              "      <td>0.00653707</td>\n",
              "      <td>0.896995</td>\n",
              "      <td>1.24559</td>\n",
              "      <td>0.0127022</td>\n",
              "      <td>3.22668</td>\n",
              "      <td>1.47204</td>\n",
              "      <td>-0.223921</td>\n",
              "      <td>1.47051</td>\n",
              "      <td>0.341374</td>\n",
              "      <td>1.4863</td>\n",
              "      <td>-0.589433</td>\n",
              "      <td>0.00541524</td>\n",
              "      <td>-1.34589</td>\n",
              "      <td>-0.376182</td>\n",
              "      <td>0.774873</td>\n",
              "      <td>-0.131426</td>\n",
              "      <td>-0.362332</td>\n",
              "      <td>-1.29559</td>\n",
              "      <td>-0.143951</td>\n",
              "      <td>-1.01307</td>\n",
              "      <td>-0.309425</td>\n",
              "      <td>0.276322</td>\n",
              "      <td>-0.312961</td>\n",
              "      <td>0.0480894</td>\n",
              "      <td>-0.499773</td>\n",
              "      <td>0.863885</td>\n",
              "      <td>0.00924692</td>\n",
              "      <td>-0.343282</td>\n",
              "      <td>-0.96724</td>\n",
              "      <td>-0.149911</td>\n",
              "      <td>-0.769098</td>\n",
              "      <td>0.720543</td>\n",
              "      <td>...</td>\n",
              "      <td>-0.0164561</td>\n",
              "      <td>-0.00379475</td>\n",
              "      <td>-0.0136148</td>\n",
              "      <td>-0.0151195</td>\n",
              "      <td>-0.0109536</td>\n",
              "      <td>-0.00528403</td>\n",
              "      <td>0.00362015</td>\n",
              "      <td>-0.00901263</td>\n",
              "      <td>-0.0071933</td>\n",
              "      <td>-0.002731</td>\n",
              "      <td>-0.0103295</td>\n",
              "      <td>-0.00881035</td>\n",
              "      <td>-0.0104192</td>\n",
              "      <td>0.0037425</td>\n",
              "      <td>0.00217306</td>\n",
              "      <td>0.00555904</td>\n",
              "      <td>0.00247878</td>\n",
              "      <td>-2.42643e-05</td>\n",
              "      <td>0.00668441</td>\n",
              "      <td>-0.00165259</td>\n",
              "      <td>-0.000821716</td>\n",
              "      <td>-0.0012451</td>\n",
              "      <td>-0.00755831</td>\n",
              "      <td>0.00337955</td>\n",
              "      <td>-0.000660261</td>\n",
              "      <td>-0.0120364</td>\n",
              "      <td>-0.00176685</td>\n",
              "      <td>0.0014032</td>\n",
              "      <td>-0.00122084</td>\n",
              "      <td>0.00692737</td>\n",
              "      <td>-0.00467874</td>\n",
              "      <td>0.0103905</td>\n",
              "      <td>-0.00407336</td>\n",
              "      <td>-0.0101474</td>\n",
              "      <td>-0.0148373</td>\n",
              "      <td>0.0214259</td>\n",
              "      <td>-0.00678595</td>\n",
              "      <td>0.000484891</td>\n",
              "      <td>0.00602639</td>\n",
              "      <td>0.0149063</td>\n",
              "    </tr>\n",
              "  </tbody>\n",
              "</table>\n",
              "<p>100 rows × 252218 columns</p>\n",
              "</div>"
            ],
            "text/plain": [
              "Vocab_name     andrew        send  ...      curhdj   fireblade\n",
              "0          -0.0277769    0.176839  ... -0.00530352 -0.00675607\n",
              "1           -0.250087    0.093448  ...  -0.0320375  0.00480649\n",
              "2          -0.0880312    0.282912  ...   0.0183609  -0.0131097\n",
              "3            0.127827    -1.47179  ... -0.00181182  -0.0160633\n",
              "4            -0.17749    0.684706  ...  -0.0030848  -0.0189888\n",
              "..                ...         ...  ...         ...         ...\n",
              "95           -0.10558   -0.514109  ...  -0.0110224  0.00791397\n",
              "96           0.341943 -0.00742596  ... -0.00462337    0.019213\n",
              "97          -0.162551   -0.916304  ...   0.0203691  -0.0217409\n",
              "98          0.0926243    0.153715  ... -0.00691319  0.00887749\n",
              "99          -0.175407    0.550958  ...  0.00602639   0.0149063\n",
              "\n",
              "[100 rows x 252218 columns]"
            ]
          },
          "metadata": {
            "tags": []
          },
          "execution_count": 37
        }
      ]
    },
    {
      "cell_type": "code",
      "metadata": {
        "id": "rj7RpWuN65Xk",
        "colab_type": "code",
        "colab": {
          "base_uri": "https://localhost:8080/",
          "height": 225
        },
        "outputId": "28179ab1-cc69-4dee-e4c9-1f4b0fec3119"
      },
      "source": [
        "df_word2vec['read']"
      ],
      "execution_count": 38,
      "outputs": [
        {
          "output_type": "execute_result",
          "data": {
            "text/plain": [
              "0       -1.09432\n",
              "1        0.22949\n",
              "2      -0.713699\n",
              "3       0.316001\n",
              "4       0.344688\n",
              "         ...    \n",
              "95       -0.2007\n",
              "96       1.31641\n",
              "97      -1.11955\n",
              "98     -0.945374\n",
              "99   -0.00338854\n",
              "Name: read, Length: 100, dtype: object"
            ]
          },
          "metadata": {
            "tags": []
          },
          "execution_count": 38
        }
      ]
    },
    {
      "cell_type": "code",
      "metadata": {
        "id": "xpm_2lorH1ax",
        "colab_type": "code",
        "colab": {
          "base_uri": "https://localhost:8080/",
          "height": 436
        },
        "outputId": "6090858e-efa5-4a6d-e4cb-af7d3cbe30c6"
      },
      "source": [
        "## to find the vector for a particular word\n",
        "vector=model['depression']\n",
        "vector"
      ],
      "execution_count": 39,
      "outputs": [
        {
          "output_type": "stream",
          "text": [
            "/usr/local/lib/python3.6/dist-packages/ipykernel_launcher.py:2: DeprecationWarning: Call to deprecated `__getitem__` (Method will be removed in 4.0.0, use self.wv.__getitem__() instead).\n",
            "  \n"
          ],
          "name": "stderr"
        },
        {
          "output_type": "execute_result",
          "data": {
            "text/plain": [
              "array([-0.3881858 , -0.02480574, -0.02192747, -0.23995546,  0.84881043,\n",
              "       -0.40929466,  0.19443966, -0.14522605, -0.54180115, -0.26339784,\n",
              "       -0.11948755,  0.36732307,  0.40501785, -0.39898106,  0.31367975,\n",
              "       -0.16415691,  0.97770905,  0.8603503 , -0.08417332,  0.19974871,\n",
              "        0.8575926 , -0.7720136 ,  0.12568322,  0.09196255, -0.5155333 ,\n",
              "        0.11038345, -0.13796084, -0.48792905, -0.21447553, -0.49606082,\n",
              "        0.19814995,  0.03896255, -0.344325  ,  0.63316345,  0.5527681 ,\n",
              "       -0.29333392, -0.44408208,  0.89982444,  0.9964574 , -0.39863926,\n",
              "       -0.07330284, -0.44021356, -0.27940091,  0.65985024, -0.14510092,\n",
              "        0.24137825,  0.34263363,  0.5312732 ,  0.32408285, -0.43866956,\n",
              "        0.14948198, -0.66407883,  0.31419826, -0.63942266, -0.48522165,\n",
              "        0.40399933,  0.30559894, -0.08585352, -0.5195735 ,  0.2711088 ,\n",
              "       -0.4252905 , -0.7766732 , -0.50185573,  0.7665471 ,  0.19904889,\n",
              "       -0.30830678,  0.55914336,  0.15566939, -0.08430108, -0.7177064 ,\n",
              "        0.45518738, -0.14667608, -0.25302947,  0.8893687 ,  0.25162125,\n",
              "        0.7042942 ,  0.43203562,  0.18737541, -0.7689829 , -0.8594197 ,\n",
              "        0.47125682, -0.5884064 ,  0.35130745, -0.11736444,  0.36410296,\n",
              "       -0.05250956, -0.41926625,  0.16944155, -0.82155925,  0.16734003,\n",
              "        0.02632664, -0.018134  ,  0.09631249,  0.03734232, -0.6338792 ,\n",
              "       -0.40789172, -0.21665117, -0.25604063,  0.43428203, -0.61689764],\n",
              "      dtype=float32)"
            ]
          },
          "metadata": {
            "tags": []
          },
          "execution_count": 39
        }
      ]
    },
    {
      "cell_type": "code",
      "metadata": {
        "id": "lCmmtQ293ypq",
        "colab_type": "code",
        "colab": {
          "base_uri": "https://localhost:8080/",
          "height": 72
        },
        "outputId": "5dd68c13-3ccd-404b-83bc-f78c95ac918e"
      },
      "source": [
        "model.wv.save_word2vec_format('model.txt',binary=False) ## to save the model"
      ],
      "execution_count": 40,
      "outputs": [
        {
          "output_type": "stream",
          "text": [
            "/usr/local/lib/python3.6/dist-packages/smart_open/smart_open_lib.py:254: UserWarning: This function is deprecated, use smart_open.open instead. See the migration notes for details: https://github.com/RaRe-Technologies/smart_open/blob/master/README.rst#migrating-to-the-new-open-function\n",
            "  'See the migration notes for details: %s' % _MIGRATION_NOTES_URL\n"
          ],
          "name": "stderr"
        }
      ]
    },
    {
      "cell_type": "code",
      "metadata": {
        "id": "cwDQASn4H1gQ",
        "colab_type": "code",
        "colab": {}
      },
      "source": [
        "## to find similar words to the words commonly used by people in depression in their tweets\n",
        "keyword = [\"depression\",\"depressed\",\"anxiety\",\"overwhelmed\",\"exhausted\",\"distressed\",\"anxious\",\"tired\",\"low\",\"discouraged\",\"desperate\",\"insomnia\",\"cry\",\"nervous\",\"worried\",\"lonely\",\"sad\",\"empty\"]\n",
        "\n",
        "### word \"demotivated\" is not there in the dictionary\n",
        "import warnings\n",
        "warnings.filterwarnings(\"ignore\")\n",
        "similar=[]\n",
        "for i in keyword:\n",
        "  similar.append(model.wv.most_similar(i))\n"
      ],
      "execution_count": 41,
      "outputs": []
    },
    {
      "cell_type": "code",
      "metadata": {
        "id": "Rq8bTn1-ol_0",
        "colab_type": "code",
        "colab": {
          "base_uri": "https://localhost:8080/",
          "height": 35
        },
        "outputId": "2836bb22-71ae-4cbf-b74d-7c34c42a73dc"
      },
      "source": [
        "### to merge all the similar words into one list\n",
        "import itertools \n",
        "\n",
        "merged = list(itertools.chain.from_iterable(similar))\n",
        "mergedList=list(set (merged))\n",
        "print(len(mergedList))"
      ],
      "execution_count": 42,
      "outputs": [
        {
          "output_type": "stream",
          "text": [
            "180\n"
          ],
          "name": "stdout"
        }
      ]
    },
    {
      "cell_type": "code",
      "metadata": {
        "id": "vghuIruX1oPW",
        "colab_type": "code",
        "colab": {
          "base_uri": "https://localhost:8080/",
          "height": 433
        },
        "outputId": "65cae1f8-ac78-4d5c-8695-4d89eb433b5b"
      },
      "source": [
        "### to visualize the word vectors using PCA\n",
        "from sklearn.decomposition import PCA\n",
        "import matplotlib.pyplot as plt\n",
        "\n",
        "# to fit a 2d PCA model to the vectors\n",
        "pca = PCA(n_components=2)\n",
        "result = pca.fit_transform(X)\n",
        "\n",
        "print('Explained variation per principal component: {}'.format(pca.explained_variance_ratio_))\n",
        "df_pca=pd.DataFrame({'pca_component_1':result[:,0],'pca_component_2':result[:,1]})\n",
        "df_pca\n"
      ],
      "execution_count": 43,
      "outputs": [
        {
          "output_type": "stream",
          "text": [
            "Explained variation per principal component: [0.36561227 0.12315211]\n"
          ],
          "name": "stdout"
        },
        {
          "output_type": "execute_result",
          "data": {
            "text/html": [
              "<div>\n",
              "<style scoped>\n",
              "    .dataframe tbody tr th:only-of-type {\n",
              "        vertical-align: middle;\n",
              "    }\n",
              "\n",
              "    .dataframe tbody tr th {\n",
              "        vertical-align: top;\n",
              "    }\n",
              "\n",
              "    .dataframe thead th {\n",
              "        text-align: right;\n",
              "    }\n",
              "</style>\n",
              "<table border=\"1\" class=\"dataframe\">\n",
              "  <thead>\n",
              "    <tr style=\"text-align: right;\">\n",
              "      <th></th>\n",
              "      <th>pca_component_1</th>\n",
              "      <th>pca_component_2</th>\n",
              "    </tr>\n",
              "  </thead>\n",
              "  <tbody>\n",
              "    <tr>\n",
              "      <th>0</th>\n",
              "      <td>1.002744</td>\n",
              "      <td>0.971271</td>\n",
              "    </tr>\n",
              "    <tr>\n",
              "      <th>1</th>\n",
              "      <td>5.025335</td>\n",
              "      <td>-1.969170</td>\n",
              "    </tr>\n",
              "    <tr>\n",
              "      <th>2</th>\n",
              "      <td>3.240083</td>\n",
              "      <td>0.891123</td>\n",
              "    </tr>\n",
              "    <tr>\n",
              "      <th>3</th>\n",
              "      <td>5.999135</td>\n",
              "      <td>1.859920</td>\n",
              "    </tr>\n",
              "    <tr>\n",
              "      <th>4</th>\n",
              "      <td>5.697479</td>\n",
              "      <td>-2.270709</td>\n",
              "    </tr>\n",
              "    <tr>\n",
              "      <th>...</th>\n",
              "      <td>...</td>\n",
              "      <td>...</td>\n",
              "    </tr>\n",
              "    <tr>\n",
              "      <th>252213</th>\n",
              "      <td>-0.235244</td>\n",
              "      <td>-0.092679</td>\n",
              "    </tr>\n",
              "    <tr>\n",
              "      <th>252214</th>\n",
              "      <td>-0.189871</td>\n",
              "      <td>-0.088854</td>\n",
              "    </tr>\n",
              "    <tr>\n",
              "      <th>252215</th>\n",
              "      <td>-0.190481</td>\n",
              "      <td>-0.077864</td>\n",
              "    </tr>\n",
              "    <tr>\n",
              "      <th>252216</th>\n",
              "      <td>-0.238987</td>\n",
              "      <td>-0.098279</td>\n",
              "    </tr>\n",
              "    <tr>\n",
              "      <th>252217</th>\n",
              "      <td>-0.247479</td>\n",
              "      <td>-0.117318</td>\n",
              "    </tr>\n",
              "  </tbody>\n",
              "</table>\n",
              "<p>252218 rows × 2 columns</p>\n",
              "</div>"
            ],
            "text/plain": [
              "        pca_component_1  pca_component_2\n",
              "0              1.002744         0.971271\n",
              "1              5.025335        -1.969170\n",
              "2              3.240083         0.891123\n",
              "3              5.999135         1.859920\n",
              "4              5.697479        -2.270709\n",
              "...                 ...              ...\n",
              "252213        -0.235244        -0.092679\n",
              "252214        -0.189871        -0.088854\n",
              "252215        -0.190481        -0.077864\n",
              "252216        -0.238987        -0.098279\n",
              "252217        -0.247479        -0.117318\n",
              "\n",
              "[252218 rows x 2 columns]"
            ]
          },
          "metadata": {
            "tags": []
          },
          "execution_count": 43
        }
      ]
    },
    {
      "cell_type": "code",
      "metadata": {
        "id": "f1m7zBk1Rr44",
        "colab_type": "code",
        "colab": {
          "base_uri": "https://localhost:8080/",
          "height": 863
        },
        "outputId": "cef4337f-7101-45f0-dbe9-91b1d54061a4"
      },
      "source": [
        "# create a scatter plot of the projection\n",
        "plt.figure(figsize=(15,15))\n",
        "plt.scatter(result[:, 0], result[:, 1])\n",
        "\n",
        "for i, word in enumerate(words):\n",
        "\tplt.annotate(word, xy=(result[i, 0], result[i, 1]))\n",
        "plt.show()"
      ],
      "execution_count": 44,
      "outputs": [
        {
          "output_type": "display_data",
          "data": {
            "image/png": "[encoded data removed]",
            "text/plain": [
              "<Figure size 1080x1080 with 1 Axes>"
            ]
          },
          "metadata": {
            "tags": [],
            "needs_background": "light"
          }
        }
      ]
    },
    {
      "cell_type": "markdown",
      "metadata": {
        "id": "9eQ9O8YyoPa3",
        "colab_type": "text"
      },
      "source": [
        "# **FOR MODEL BUILDING USED A DATASET FROM THE BELOW REFERENCED GITHUB REPOSITORY**\n",
        "\n",
        "---\n",
        "\n",
        "\n",
        "It is a labelled dataset containing tweets and their corresponding labels"
      ]
    },
    {
      "cell_type": "markdown",
      "metadata": {
        "id": "8Er8CXjBn2CM",
        "colab_type": "text"
      },
      "source": [
        "Reference: [Github Link](https://github.com/viritaromero/Detecting-Depression-in-Tweets.git)"
      ]
    },
    {
      "cell_type": "code",
      "metadata": {
        "id": "oY9ledSfoNHg",
        "colab_type": "code",
        "colab": {}
      },
      "source": [
        "df_modelTrain=pd.read_csv('drive/My Drive/sentiment_tweets3.csv',encoding='utf-8')"
      ],
      "execution_count": 45,
      "outputs": []
    },
    {
      "cell_type": "code",
      "metadata": {
        "id": "nMZ3cyBHpRh5",
        "colab_type": "code",
        "colab": {}
      },
      "source": [
        "df_modelTrain=df_modelTrain.iloc[:10313,1:]"
      ],
      "execution_count": 46,
      "outputs": []
    },
    {
      "cell_type": "code",
      "metadata": {
        "id": "hMl0gMI3qGgJ",
        "colab_type": "code",
        "colab": {}
      },
      "source": [
        "# df_modelTrain['message'] = df_modelTrain['message'].sample(frac=1).reset_index(drop=True)"
      ],
      "execution_count": 47,
      "outputs": []
    },
    {
      "cell_type": "code",
      "metadata": {
        "id": "nJ1b9Z54qZyW",
        "colab_type": "code",
        "colab": {}
      },
      "source": [
        "import sklearn.utils\n",
        "df_modelTrain = sklearn.utils.shuffle(df_modelTrain,random_state=100)     ### to shuffle the dataset\n",
        "df_modelTrain = df_modelTrain.reset_index(drop=True)\n"
      ],
      "execution_count": 48,
      "outputs": []
    },
    {
      "cell_type": "code",
      "metadata": {
        "id": "s_6XTLy1sZjR",
        "colab_type": "code",
        "colab": {
          "base_uri": "https://localhost:8080/",
          "height": 355
        },
        "outputId": "23cba485-90c2-4c01-de03-72fb1987ddc1"
      },
      "source": [
        "df_modelTrain.head(10)"
      ],
      "execution_count": 49,
      "outputs": [
        {
          "output_type": "execute_result",
          "data": {
            "text/html": [
              "<div>\n",
              "<style scoped>\n",
              "    .dataframe tbody tr th:only-of-type {\n",
              "        vertical-align: middle;\n",
              "    }\n",
              "\n",
              "    .dataframe tbody tr th {\n",
              "        vertical-align: top;\n",
              "    }\n",
              "\n",
              "    .dataframe thead th {\n",
              "        text-align: right;\n",
              "    }\n",
              "</style>\n",
              "<table border=\"1\" class=\"dataframe\">\n",
              "  <thead>\n",
              "    <tr style=\"text-align: right;\">\n",
              "      <th></th>\n",
              "      <th>message</th>\n",
              "      <th>label</th>\n",
              "    </tr>\n",
              "  </thead>\n",
              "  <tbody>\n",
              "    <tr>\n",
              "      <th>0</th>\n",
              "      <td>@MaryWilhite Very nice presentation!  Perhaps ...</td>\n",
              "      <td>0</td>\n",
              "    </tr>\n",
              "    <tr>\n",
              "      <th>1</th>\n",
              "      <td>@officialTila  Hey girl doin big things. Got r...</td>\n",
              "      <td>0</td>\n",
              "    </tr>\n",
              "    <tr>\n",
              "      <th>2</th>\n",
              "      <td>#BeingAdoptedMeans I have struggled with depre...</td>\n",
              "      <td>1</td>\n",
              "    </tr>\n",
              "    <tr>\n",
              "      <th>3</th>\n",
              "      <td>@scottarthart i know!!  im pretty good at it a...</td>\n",
              "      <td>0</td>\n",
              "    </tr>\n",
              "    <tr>\n",
              "      <th>4</th>\n",
              "      <td>In High School,\" the Kids Are Not All Right \"\"...</td>\n",
              "      <td>1</td>\n",
              "    </tr>\n",
              "    <tr>\n",
              "      <th>5</th>\n",
              "      <td>@SQLChicken because it's programmed differently</td>\n",
              "      <td>0</td>\n",
              "    </tr>\n",
              "    <tr>\n",
              "      <th>6</th>\n",
              "      <td>@TheXiaxue PS: It's only a theory based on my ...</td>\n",
              "      <td>0</td>\n",
              "    </tr>\n",
              "    <tr>\n",
              "      <th>7</th>\n",
              "      <td>How exercising can slash the risk of depressio...</td>\n",
              "      <td>1</td>\n",
              "    </tr>\n",
              "    <tr>\n",
              "      <th>8</th>\n",
              "      <td>@FlorenceKincaid he was...he said it.look on a...</td>\n",
              "      <td>0</td>\n",
              "    </tr>\n",
              "    <tr>\n",
              "      <th>9</th>\n",
              "      <td>Bom dia twittes!</td>\n",
              "      <td>0</td>\n",
              "    </tr>\n",
              "  </tbody>\n",
              "</table>\n",
              "</div>"
            ],
            "text/plain": [
              "                                             message  label\n",
              "0  @MaryWilhite Very nice presentation!  Perhaps ...      0\n",
              "1  @officialTila  Hey girl doin big things. Got r...      0\n",
              "2  #BeingAdoptedMeans I have struggled with depre...      1\n",
              "3  @scottarthart i know!!  im pretty good at it a...      0\n",
              "4  In High School,\" the Kids Are Not All Right \"\"...      1\n",
              "5   @SQLChicken because it's programmed differently       0\n",
              "6  @TheXiaxue PS: It's only a theory based on my ...      0\n",
              "7  How exercising can slash the risk of depressio...      1\n",
              "8  @FlorenceKincaid he was...he said it.look on a...      0\n",
              "9                                  Bom dia twittes!       0"
            ]
          },
          "metadata": {
            "tags": []
          },
          "execution_count": 49
        }
      ]
    },
    {
      "cell_type": "markdown",
      "metadata": {
        "id": "S8-iHNhb1f1e",
        "colab_type": "text"
      },
      "source": [
        "# **Text Preprocessing**"
      ]
    },
    {
      "cell_type": "code",
      "metadata": {
        "id": "ruiihCfG3pJ7",
        "colab_type": "code",
        "colab": {}
      },
      "source": [
        "from nltk.stem import WordNetLemmatizer\n",
        "lemmatizer=WordNetLemmatizer()                   \n",
        "\n",
        "###Lemmatization is the process of grouping together the different inflected \n",
        "### forms of a word so they can be analysed as a single item.(Ref:GeeksForGeeks)"
      ],
      "execution_count": 50,
      "outputs": []
    },
    {
      "cell_type": "code",
      "metadata": {
        "id": "sNsOPRqLwTKd",
        "colab_type": "code",
        "colab": {}
      },
      "source": [
        "model_sen1=[]\n",
        "for i in range(len(df_modelTrain.message)):\n",
        "  words=re.sub(\"[^A-Za-z]\",\" \",df_modelTrain.message[i])   ### to remove characters other than A-Z and a-z\n",
        "  words=words.lower()     ### to turn to lower case\n",
        "  model_sen1.append(words)"
      ],
      "execution_count": 51,
      "outputs": []
    },
    {
      "cell_type": "code",
      "metadata": {
        "id": "u4I8oGzAxI1y",
        "colab_type": "code",
        "colab": {}
      },
      "source": [
        "model_sen2=[]\n",
        "\n",
        "for i in range(len(model_sen1)):\n",
        "  words=[]\n",
        "  for word in model_sen1[i].split():\n",
        "    if (word not in set (stopwords.words('english'))):  #### to remove stopwords\n",
        "      words.append(lemmatizer.lemmatize(word))           ###lemmatization\n",
        "  model_sen2.append(list(words))\n",
        "  model_sen2[i]=\" \".join(model_sen2[i])\n"
      ],
      "execution_count": 52,
      "outputs": []
    },
    {
      "cell_type": "code",
      "metadata": {
        "id": "dkEmEqrsNSF7",
        "colab_type": "code",
        "colab": {
          "base_uri": "https://localhost:8080/",
          "height": 607
        },
        "outputId": "049f1904-95cc-4809-9ba7-9a1ac28237de"
      },
      "source": [
        "from wordcloud import WordCloud\n",
        "wordcloud = WordCloud(width = 800, height = 800,   ### to plot wordcloud\n",
        "                background_color ='black', \n",
        "                stopwords = stopwords.words('english'), \n",
        "                min_font_size = 10).generate(str(model_sen2))   ## for the whole dataset\n",
        "  \n",
        "# plot the WordCloud image                        \n",
        "plt.figure(figsize = (8, 8), facecolor = None) \n",
        "plt.imshow(wordcloud) \n",
        "plt.axis(\"off\") \n",
        "plt.tight_layout(pad = 0)\n",
        "plt.show() \n",
        "  "
      ],
      "execution_count": 53,
      "outputs": [
        {
          "output_type": "display_data",
          "data": {
            "image/png": "[encoded data removed]",
            "text/plain": [
              "<Figure size 576x576 with 1 Axes>"
            ]
          },
          "metadata": {
            "tags": [],
            "needs_background": "light"
          }
        }
      ]
    },
    {
      "cell_type": "code",
      "metadata": {
        "id": "oW4Fpd_mxLoZ",
        "colab_type": "code",
        "colab": {}
      },
      "source": [
        "df_modelTrain.insert(1,'text_Cleaned',model_sen2)"
      ],
      "execution_count": 54,
      "outputs": []
    },
    {
      "cell_type": "code",
      "metadata": {
        "id": "czv9mfPO7ArM",
        "colab_type": "code",
        "colab": {}
      },
      "source": [
        "df_modelTrain = df_modelTrain[df_modelTrain.text_Cleaned != \"\"]\n",
        " "
      ],
      "execution_count": 55,
      "outputs": []
    },
    {
      "cell_type": "code",
      "metadata": {
        "id": "tKPYKOyDzd0-",
        "colab_type": "code",
        "colab": {}
      },
      "source": [
        "df_modelTrain.reset_index(inplace=True,drop=True)"
      ],
      "execution_count": 56,
      "outputs": []
    },
    {
      "cell_type": "code",
      "metadata": {
        "id": "6xQXxGiD-7ah",
        "colab_type": "code",
        "colab": {
          "base_uri": "https://localhost:8080/",
          "height": 415
        },
        "outputId": "e98be8fd-cb36-4d62-e47e-7ec7616785dd"
      },
      "source": [
        "df_modelTrain"
      ],
      "execution_count": 57,
      "outputs": [
        {
          "output_type": "execute_result",
          "data": {
            "text/html": [
              "<div>\n",
              "<style scoped>\n",
              "    .dataframe tbody tr th:only-of-type {\n",
              "        vertical-align: middle;\n",
              "    }\n",
              "\n",
              "    .dataframe tbody tr th {\n",
              "        vertical-align: top;\n",
              "    }\n",
              "\n",
              "    .dataframe thead th {\n",
              "        text-align: right;\n",
              "    }\n",
              "</style>\n",
              "<table border=\"1\" class=\"dataframe\">\n",
              "  <thead>\n",
              "    <tr style=\"text-align: right;\">\n",
              "      <th></th>\n",
              "      <th>message</th>\n",
              "      <th>text_Cleaned</th>\n",
              "      <th>label</th>\n",
              "    </tr>\n",
              "  </thead>\n",
              "  <tbody>\n",
              "    <tr>\n",
              "      <th>0</th>\n",
              "      <td>@MaryWilhite Very nice presentation!  Perhaps ...</td>\n",
              "      <td>marywilhite nice presentation perhaps use pers...</td>\n",
              "      <td>0</td>\n",
              "    </tr>\n",
              "    <tr>\n",
              "      <th>1</th>\n",
              "      <td>@officialTila  Hey girl doin big things. Got r...</td>\n",
              "      <td>officialtila hey girl doin big thing got respe...</td>\n",
              "      <td>0</td>\n",
              "    </tr>\n",
              "    <tr>\n",
              "      <th>2</th>\n",
              "      <td>#BeingAdoptedMeans I have struggled with depre...</td>\n",
              "      <td>beingadoptedmeans struggled depression entire ...</td>\n",
              "      <td>1</td>\n",
              "    </tr>\n",
              "    <tr>\n",
              "      <th>3</th>\n",
              "      <td>@scottarthart i know!!  im pretty good at it a...</td>\n",
              "      <td>scottarthart know im pretty good arent</td>\n",
              "      <td>0</td>\n",
              "    </tr>\n",
              "    <tr>\n",
              "      <th>4</th>\n",
              "      <td>In High School,\" the Kids Are Not All Right \"\"...</td>\n",
              "      <td>high school kid right social academic pressure...</td>\n",
              "      <td>1</td>\n",
              "    </tr>\n",
              "    <tr>\n",
              "      <th>...</th>\n",
              "      <td>...</td>\n",
              "      <td>...</td>\n",
              "      <td>...</td>\n",
              "    </tr>\n",
              "    <tr>\n",
              "      <th>10302</th>\n",
              "      <td>Hope everyone is having a SWELL day</td>\n",
              "      <td>hope everyone swell day</td>\n",
              "      <td>0</td>\n",
              "    </tr>\n",
              "    <tr>\n",
              "      <th>10303</th>\n",
              "      <td>Happy Birthday to my Grandpa.  He has 3 cats, ...</td>\n",
              "      <td>happy birthday grandpa cat still love</td>\n",
              "      <td>0</td>\n",
              "    </tr>\n",
              "    <tr>\n",
              "      <th>10304</th>\n",
              "      <td>Antidepressant of The Day#Depression #Joy #Ant...</td>\n",
              "      <td>antidepressant day depression joy antidepressa...</td>\n",
              "      <td>1</td>\n",
              "    </tr>\n",
              "    <tr>\n",
              "      <th>10305</th>\n",
              "      <td>more bits from the email: You are one of about...</td>\n",
              "      <td>bit email one picked thousand entry better good</td>\n",
              "      <td>0</td>\n",
              "    </tr>\n",
              "    <tr>\n",
              "      <th>10306</th>\n",
              "      <td>@Georgecraigono i haven't gone yet, lol  where...</td>\n",
              "      <td>georgecraigono gone yet lol sound fun x</td>\n",
              "      <td>0</td>\n",
              "    </tr>\n",
              "  </tbody>\n",
              "</table>\n",
              "<p>10307 rows × 3 columns</p>\n",
              "</div>"
            ],
            "text/plain": [
              "                                                 message  ... label\n",
              "0      @MaryWilhite Very nice presentation!  Perhaps ...  ...     0\n",
              "1      @officialTila  Hey girl doin big things. Got r...  ...     0\n",
              "2      #BeingAdoptedMeans I have struggled with depre...  ...     1\n",
              "3      @scottarthart i know!!  im pretty good at it a...  ...     0\n",
              "4      In High School,\" the Kids Are Not All Right \"\"...  ...     1\n",
              "...                                                  ...  ...   ...\n",
              "10302               Hope everyone is having a SWELL day   ...     0\n",
              "10303  Happy Birthday to my Grandpa.  He has 3 cats, ...  ...     0\n",
              "10304  Antidepressant of The Day#Depression #Joy #Ant...  ...     1\n",
              "10305  more bits from the email: You are one of about...  ...     0\n",
              "10306  @Georgecraigono i haven't gone yet, lol  where...  ...     0\n",
              "\n",
              "[10307 rows x 3 columns]"
            ]
          },
          "metadata": {
            "tags": []
          },
          "execution_count": 57
        }
      ]
    },
    {
      "cell_type": "code",
      "metadata": {
        "id": "wHU7W4hAu0Yf",
        "colab_type": "code",
        "colab": {}
      },
      "source": [
        "y=df_modelTrain['label']"
      ],
      "execution_count": 58,
      "outputs": []
    },
    {
      "cell_type": "code",
      "metadata": {
        "id": "oOqRo7TUvizI",
        "colab_type": "code",
        "colab": {
          "base_uri": "https://localhost:8080/",
          "height": 35
        },
        "outputId": "2807e7b1-026d-4744-d218-8f1c50d19b1a"
      },
      "source": [
        "y.shape"
      ],
      "execution_count": 59,
      "outputs": [
        {
          "output_type": "execute_result",
          "data": {
            "text/plain": [
              "(10307,)"
            ]
          },
          "metadata": {
            "tags": []
          },
          "execution_count": 59
        }
      ]
    },
    {
      "cell_type": "code",
      "metadata": {
        "id": "A1Wt8PVOvkL2",
        "colab_type": "code",
        "colab": {}
      },
      "source": [
        "X=df_modelTrain['text_Cleaned']"
      ],
      "execution_count": 60,
      "outputs": []
    },
    {
      "cell_type": "code",
      "metadata": {
        "id": "ozRgzYYawBMn",
        "colab_type": "code",
        "colab": {
          "base_uri": "https://localhost:8080/",
          "height": 35
        },
        "outputId": "7373bf19-3b83-4999-cdf8-9e796fcbc8f7"
      },
      "source": [
        "X.shape"
      ],
      "execution_count": 61,
      "outputs": [
        {
          "output_type": "execute_result",
          "data": {
            "text/plain": [
              "(10307,)"
            ]
          },
          "metadata": {
            "tags": []
          },
          "execution_count": 61
        }
      ]
    },
    {
      "cell_type": "code",
      "metadata": {
        "id": "4at2nl9QwDbh",
        "colab_type": "code",
        "colab": {}
      },
      "source": [
        "import tensorflow as tf\n"
      ],
      "execution_count": 62,
      "outputs": []
    },
    {
      "cell_type": "code",
      "metadata": {
        "id": "eEA5st3KwQFG",
        "colab_type": "code",
        "colab": {
          "base_uri": "https://localhost:8080/",
          "height": 35
        },
        "outputId": "a60f39aa-fff6-4114-cea5-c54060be0d6f"
      },
      "source": [
        "tf.__version__"
      ],
      "execution_count": 63,
      "outputs": [
        {
          "output_type": "execute_result",
          "data": {
            "application/vnd.google.colaboratory.intrinsic+json": {
              "type": "string"
            },
            "text/plain": [
              "'2.3.0'"
            ]
          },
          "metadata": {
            "tags": []
          },
          "execution_count": 63
        }
      ]
    },
    {
      "cell_type": "code",
      "metadata": {
        "id": "n1qJQYlw0mV3",
        "colab_type": "code",
        "colab": {}
      },
      "source": [
        "from tensorflow.keras.layers import Embedding\n",
        "from tensorflow.keras.preprocessing.sequence import pad_sequences\n",
        "from tensorflow.keras.models import Sequential\n",
        "from tensorflow.keras.preprocessing.text import one_hot\n",
        "from tensorflow.keras.layers import LSTM\n",
        "from tensorflow.keras.layers import Dense\n",
        "from tensorflow.keras.layers import Dropout\n",
        "from tensorflow.keras.layers import Conv1D\n",
        "from tensorflow.keras.layers import GlobalMaxPooling1D\n",
        "from tensorflow.keras.layers import Flatten\n",
        "from tensorflow.keras import regularizers"
      ],
      "execution_count": 64,
      "outputs": []
    },
    {
      "cell_type": "code",
      "metadata": {
        "id": "bpZL6uWj2y-3",
        "colab_type": "code",
        "colab": {}
      },
      "source": [
        "vocab_size=5000 ## vocabulary size"
      ],
      "execution_count": 65,
      "outputs": []
    },
    {
      "cell_type": "markdown",
      "metadata": {
        "id": "xPx-_MZ34php",
        "colab_type": "text"
      },
      "source": [
        "# **One Hot Representation**"
      ]
    },
    {
      "cell_type": "code",
      "metadata": {
        "id": "Z_992OH84zc8",
        "colab_type": "code",
        "colab": {}
      },
      "source": [
        "onehot=[one_hot(word,vocab_size) for word in df_modelTrain.text_Cleaned.tolist()]\n"
      ],
      "execution_count": 66,
      "outputs": []
    },
    {
      "cell_type": "code",
      "metadata": {
        "id": "37wokSV85nXD",
        "colab_type": "code",
        "colab": {
          "base_uri": "https://localhost:8080/",
          "height": 52
        },
        "outputId": "1c1dc057-7f0f-4e83-9589-3bc64ef2167b"
      },
      "source": [
        "length=[]\n",
        "for i in range(len(onehot)):\n",
        "  length.append(len(onehot[i]))\n",
        "print(f\"Maximum length is {sum(length)/len(length)}\")\n",
        "print(f\"Minimum length is {min(length)}\")\n"
      ],
      "execution_count": 67,
      "outputs": [
        {
          "output_type": "stream",
          "text": [
            "Maximum length is 9.50140681090521\n",
            "Minimum length is 1\n"
          ],
          "name": "stdout"
        }
      ]
    },
    {
      "cell_type": "markdown",
      "metadata": {
        "id": "RdBhdnecC8QZ",
        "colab_type": "text"
      },
      "source": [
        "# **Embedding Representation**"
      ]
    },
    {
      "cell_type": "code",
      "metadata": {
        "id": "8kJuUsrxDEWl",
        "colab_type": "code",
        "colab": {
          "base_uri": "https://localhost:8080/",
          "height": 35
        },
        "outputId": "76639450-6ee2-439a-e308-f52c5522c600"
      },
      "source": [
        "sentenceLength=20\n",
        "embeddingSentences=pad_sequences(onehot,padding='pre',maxlen=sentenceLength)\n",
        "print(embeddingSentences.shape)\n"
      ],
      "execution_count": 68,
      "outputs": [
        {
          "output_type": "stream",
          "text": [
            "(10307, 20)\n"
          ],
          "name": "stdout"
        }
      ]
    },
    {
      "cell_type": "markdown",
      "metadata": {
        "id": "jigTF3L3D0Eb",
        "colab_type": "text"
      },
      "source": [
        "# **Creation of the model**"
      ]
    },
    {
      "cell_type": "code",
      "metadata": {
        "id": "gbQhXMCUDEpP",
        "colab_type": "code",
        "colab": {}
      },
      "source": [
        "embeddingVectorFeature=10\n",
        "model=Sequential()\n",
        "model.add(Embedding(vocab_size,embeddingVectorFeature,input_length=sentenceLength))\n",
        "# model.add(Conv1D(128,3, padding=\"valid\", activation=\"relu\", strides=3))\n",
        "# model.add(GlobalMaxPooling1D())\n",
        "# model.add(Flatten())\n",
        "\n",
        "model.add(LSTM(10))\n",
        "model.add(Dense(5,activation=\"relu\",kernel_regularizer=regularizers.l2(0.003)))   ### l2 regularization and dropout layer to reduce overfitting\n",
        "model.add(Dropout(0.3))\n",
        "model.add(Dense(2,activation='softmax'))"
      ],
      "execution_count": 69,
      "outputs": []
    },
    {
      "cell_type": "code",
      "metadata": {
        "id": "er7cxdxHFJ-6",
        "colab_type": "code",
        "colab": {}
      },
      "source": [
        "model.compile(loss='binary_crossentropy',optimizer='adam',metrics='accuracy')"
      ],
      "execution_count": 70,
      "outputs": []
    },
    {
      "cell_type": "code",
      "metadata": {
        "id": "MD6NUN9-FbjJ",
        "colab_type": "code",
        "colab": {
          "base_uri": "https://localhost:8080/",
          "height": 329
        },
        "outputId": "a35be472-e4f2-47c2-ee5d-2d0e66c4908d"
      },
      "source": [
        "model.summary()"
      ],
      "execution_count": 71,
      "outputs": [
        {
          "output_type": "stream",
          "text": [
            "Model: \"sequential\"\n",
            "_________________________________________________________________\n",
            "Layer (type)                 Output Shape              Param #   \n",
            "=================================================================\n",
            "embedding (Embedding)        (None, 20, 10)            50000     \n",
            "_________________________________________________________________\n",
            "lstm (LSTM)                  (None, 10)                840       \n",
            "_________________________________________________________________\n",
            "dense (Dense)                (None, 5)                 55        \n",
            "_________________________________________________________________\n",
            "dropout (Dropout)            (None, 5)                 0         \n",
            "_________________________________________________________________\n",
            "dense_1 (Dense)              (None, 2)                 12        \n",
            "=================================================================\n",
            "Total params: 50,907\n",
            "Trainable params: 50,907\n",
            "Non-trainable params: 0\n",
            "_________________________________________________________________\n"
          ],
          "name": "stdout"
        }
      ]
    },
    {
      "cell_type": "code",
      "metadata": {
        "id": "xd7-MAevFe2b",
        "colab_type": "code",
        "colab": {}
      },
      "source": [
        "import numpy as np\n",
        "\n",
        "X=np.array(embeddingSentences)\n",
        "y=np.array(y)"
      ],
      "execution_count": 72,
      "outputs": []
    },
    {
      "cell_type": "code",
      "metadata": {
        "id": "RIPcZbHnGGHC",
        "colab_type": "code",
        "colab": {
          "base_uri": "https://localhost:8080/",
          "height": 35
        },
        "outputId": "f8230eca-31ca-4553-c968-1346d1a721be"
      },
      "source": [
        "X.shape"
      ],
      "execution_count": 73,
      "outputs": [
        {
          "output_type": "execute_result",
          "data": {
            "text/plain": [
              "(10307, 20)"
            ]
          },
          "metadata": {
            "tags": []
          },
          "execution_count": 73
        }
      ]
    },
    {
      "cell_type": "code",
      "metadata": {
        "id": "B8Q8IKHUGL-q",
        "colab_type": "code",
        "colab": {
          "base_uri": "https://localhost:8080/",
          "height": 35
        },
        "outputId": "69ad29ae-5729-44d1-bc5d-20483d7b51c6"
      },
      "source": [
        "y.shape"
      ],
      "execution_count": 74,
      "outputs": [
        {
          "output_type": "execute_result",
          "data": {
            "text/plain": [
              "(10307,)"
            ]
          },
          "metadata": {
            "tags": []
          },
          "execution_count": 74
        }
      ]
    },
    {
      "cell_type": "markdown",
      "metadata": {
        "id": "OOdcDZVzGVTk",
        "colab_type": "text"
      },
      "source": [
        "# **Train-test split**"
      ]
    },
    {
      "cell_type": "code",
      "metadata": {
        "id": "NrIM_hxbGM9X",
        "colab_type": "code",
        "colab": {}
      },
      "source": [
        "from sklearn.model_selection import train_test_split\n",
        "X_train,X_test,y_train,y_test=train_test_split(X,y,train_size=0.8,random_state=101)"
      ],
      "execution_count": 75,
      "outputs": []
    },
    {
      "cell_type": "markdown",
      "metadata": {
        "id": "JLk2yWxgHU0s",
        "colab_type": "text"
      },
      "source": [
        "## **Model Training, plotting and prediction**"
      ]
    },
    {
      "cell_type": "code",
      "metadata": {
        "id": "-V_BVQCT1IUp",
        "colab_type": "code",
        "colab": {
          "base_uri": "https://localhost:8080/",
          "height": 955
        },
        "outputId": "4ce56667-1d93-4191-b626-6bf50822a1ed"
      },
      "source": [
        "X_train,X_val,y_train,y_val=train_test_split(X_train,y_train,train_size=0.8)\n",
        "history=model.fit(X_train,y_train,validation_data=(X_val,y_val),epochs=10)\n",
        "loss_train = history.history['loss']\n",
        "loss_val = history.history['val_loss']\n",
        "epochs = range(1,11)\n",
        "plt.plot(epochs, loss_train, 'g', label='Training loss')\n",
        "plt.plot(epochs, loss_val, 'b', label='validation loss')\n",
        "plt.title('Training and Validation loss')\n",
        "plt.xlabel('Epochs')\n",
        "plt.ylabel('Loss')\n",
        "plt.legend()\n",
        "plt.show()\n",
        "  \n",
        "loss_train1 = history.history['accuracy']\n",
        "loss_val1 = history.history['val_accuracy']\n",
        "epochs = range(1,11)\n",
        "plt.plot(epochs, loss_train1, 'g', label='Training accuracy')\n",
        "plt.plot(epochs, loss_val1, 'b', label='validation accuracy')\n",
        "plt.title('Training and Validation accuracy')\n",
        "plt.xlabel('Epochs')\n",
        "plt.ylabel('Accuracy')\n",
        "plt.legend()\n",
        "plt.show()\n",
        "\n",
        "model.evaluate(X_test,y_test)\n"
      ],
      "execution_count": 76,
      "outputs": [
        {
          "output_type": "stream",
          "text": [
            "Epoch 1/10\n",
            "207/207 [==============================] - 2s 8ms/step - loss: 0.7073 - accuracy: 0.4780 - val_loss: 0.7013 - val_accuracy: 0.2280\n",
            "Epoch 2/10\n",
            "207/207 [==============================] - 1s 6ms/step - loss: 0.6981 - accuracy: 0.5335 - val_loss: 0.6958 - val_accuracy: 0.2268\n",
            "Epoch 3/10\n",
            "207/207 [==============================] - 1s 6ms/step - loss: 0.6947 - accuracy: 0.7157 - val_loss: 0.6939 - val_accuracy: 0.7738\n",
            "Epoch 4/10\n",
            "207/207 [==============================] - 1s 6ms/step - loss: 0.6936 - accuracy: 0.7764 - val_loss: 0.6933 - val_accuracy: 0.7738\n",
            "Epoch 5/10\n",
            "207/207 [==============================] - 1s 6ms/step - loss: 0.6932 - accuracy: 0.7764 - val_loss: 0.6932 - val_accuracy: 0.7738\n",
            "Epoch 6/10\n",
            "207/207 [==============================] - 1s 6ms/step - loss: 0.6932 - accuracy: 0.7764 - val_loss: 0.6932 - val_accuracy: 0.7738\n",
            "Epoch 7/10\n",
            "207/207 [==============================] - 1s 6ms/step - loss: 0.6931 - accuracy: 0.7764 - val_loss: 0.6931 - val_accuracy: 0.7738\n",
            "Epoch 8/10\n",
            "207/207 [==============================] - 1s 6ms/step - loss: 0.6931 - accuracy: 0.7764 - val_loss: 0.6931 - val_accuracy: 0.7738\n",
            "Epoch 9/10\n",
            "207/207 [==============================] - 1s 6ms/step - loss: 0.6931 - accuracy: 0.7764 - val_loss: 0.6931 - val_accuracy: 0.7738\n",
            "Epoch 10/10\n",
            "207/207 [==============================] - 1s 6ms/step - loss: 0.6931 - accuracy: 0.7764 - val_loss: 0.6931 - val_accuracy: 0.7738\n"
          ],
          "name": "stdout"
        },
        {
          "output_type": "display_data",
          "data": {
            "image/png": "[encoded data removed]",
            "text/plain": [
              "<Figure size 432x288 with 1 Axes>"
            ]
          },
          "metadata": {
            "tags": [],
            "needs_background": "light"
          }
        },
        {
          "output_type": "display_data",
          "data": {
            "image/png": "[encoded data removed]",
            "text/plain": [
              "<Figure size 432x288 with 1 Axes>"
            ]
          },
          "metadata": {
            "tags": [],
            "needs_background": "light"
          }
        },
        {
          "output_type": "stream",
          "text": [
            "65/65 [==============================] - 0s 3ms/step - loss: 0.6931 - accuracy: 0.7769\n"
          ],
          "name": "stdout"
        },
        {
          "output_type": "execute_result",
          "data": {
            "text/plain": [
              "[0.693146824836731, 0.7769156098365784]"
            ]
          },
          "metadata": {
            "tags": []
          },
          "execution_count": 76
        }
      ]
    },
    {
      "cell_type": "markdown",
      "metadata": {
        "id": "DNJBGkuAp7Z6",
        "colab_type": "text"
      },
      "source": [
        "# **CLASSIFICATION MODELS**\n",
        "\n",
        "*  *RANDOM FOREST CLASSIFIER*\n",
        "*   *MULTINOMIAL NB*\n",
        "*   *PASSIVE AGGRESSIVE CLASSIFIER* \n",
        "\n",
        "\n",
        "\n",
        "\n",
        "\n",
        "\n"
      ]
    },
    {
      "cell_type": "code",
      "metadata": {
        "id": "WcDNh4dTUuX6",
        "colab_type": "code",
        "colab": {}
      },
      "source": [
        "from sklearn.ensemble import RandomForestClassifier\n",
        "from sklearn.naive_bayes import MultinomialNB\n",
        "from sklearn.linear_model import PassiveAggressiveClassifier"
      ],
      "execution_count": 77,
      "outputs": []
    },
    {
      "cell_type": "code",
      "metadata": {
        "id": "JVfzgvkQbaE4",
        "colab_type": "code",
        "colab": {}
      },
      "source": [
        "from sklearn.model_selection import RepeatedKFold\n",
        "from sklearn.model_selection import KFold"
      ],
      "execution_count": 78,
      "outputs": []
    },
    {
      "cell_type": "markdown",
      "metadata": {
        "id": "E0OHTUO2rvNq",
        "colab_type": "text"
      },
      "source": [
        "# **CLASSIFICATION METRICS**"
      ]
    },
    {
      "cell_type": "code",
      "metadata": {
        "id": "8UvAKWj_cSnT",
        "colab_type": "code",
        "colab": {}
      },
      "source": [
        "from sklearn.metrics import confusion_matrix\n",
        "from sklearn.metrics import accuracy_score\n",
        "from sklearn.metrics import f1_score\n",
        "from sklearn.metrics import recall_score\n",
        "from sklearn.metrics import precision_score\n",
        "from sklearn.metrics import roc_auc_score\n",
        "from sklearn.metrics import roc_curve"
      ],
      "execution_count": 79,
      "outputs": []
    },
    {
      "cell_type": "code",
      "metadata": {
        "id": "4x6FyDopU6Ry",
        "colab_type": "code",
        "colab": {}
      },
      "source": [
        "# kf = KFold(n_splits=2,shuffle=True)   ### K-fold cross-validation\n",
        "# for train, test in kf.split(X,y):\n",
        "#   X_train=X[train]\n",
        "#   X_test=X[test]\n",
        "#   y_train=y[train]\n",
        "#   y_test=y[test]"
      ],
      "execution_count": 80,
      "outputs": []
    },
    {
      "cell_type": "markdown",
      "metadata": {
        "id": "t35OUwbabY2a",
        "colab_type": "text"
      },
      "source": [
        "# **REPEATED K-FOLD CROSS-VALIDATION**"
      ]
    },
    {
      "cell_type": "code",
      "metadata": {
        "id": "9yY95cGMU60_",
        "colab_type": "code",
        "colab": {}
      },
      "source": [
        "random_state = 100\n",
        "rkf = RepeatedKFold(n_splits=2, n_repeats=2, random_state=random_state)    ### repeated k-fold cross-validation\n",
        "rfc=RandomForestClassifier()\n",
        "mnb=MultinomialNB()\n",
        "pac=PassiveAggressiveClassifier()\n",
        "classifierList=[rfc,mnb,pac]\n",
        "y_predList=[]\n",
        "scoreList=[]\n",
        "confusion_matrixList=[]\n",
        "accuracy_scoreList=[]\n",
        "precision_scoreList=[]\n",
        "recall_scoreList=[]\n",
        "f1_scoreList=[]\n",
        "aurocList=[]\n",
        "\n",
        "\n",
        "for i in classifierList:\n",
        "  for train, test in rkf.split(X,y):\n",
        "    X_train=X[train]\n",
        "    X_test=X[test]\n",
        "    y_train=y[train]\n",
        "    y_test=y[test]\n",
        "    i.fit(X_train,y_train)\n",
        "    y_pred=i.predict(X_test)\n",
        "    y_predList.append(y_pred)\n",
        "    scoreList.append(i.score(X_test,y_test))#### mean accuracy score\n",
        "    confusion_matrixList.append(confusion_matrix(y_test,y_pred))\n",
        "    accuracy_scoreList.append(accuracy_score(y_test,y_pred))\n",
        "    precision_scoreList.append(precision_score(y_test,y_pred))\n",
        "    recall_scoreList.append(recall_score(y_test,y_pred))\n",
        "    f1_scoreList.append(f1_score(y_test,y_pred))\n",
        "    aurocList.append(roc_auc_score(y_test,y_pred))\n",
        "\n",
        "name=['Random_Forest','Random_Forest','Random_Forest','Random_Forest','Multinomial_NB','Multinomial_NB','Multinomial_NB','Multinomial_NB',\n",
        "      'Passive_Aggressive_Classifier','Passive_Aggressive_Classifier','Passive_Aggressive_Classifier','Passive_Aggressive_Classifier']\n",
        "\n",
        "splits=['First_split','Second_split','First_split','Second_split','First_split','Second_split','First_split','Second_split',\n",
        "        'First_split','Second_split','First_split','Second_split']\n",
        "\n",
        "repeats=['First_repeat','First_repeat','Second_repeat','Second_repeat','First_repeat','First_repeat','Second_repeat','Second_repeat',\n",
        "         'First_repeat','First_repeat','Second_repeat','Second_repeat']\n",
        "\n",
        "d=pd.DataFrame({'name_of_classifier':name,'no_of_repeats':repeats,'no_of_splits':splits,'prediction':y_predList,'score':scoreList,'confusion_matrix':confusion_matrixList,'accuracy_score':accuracy_scoreList,\n",
        "                'precision_score':precision_scoreList,'recall_score':recall_scoreList,'f1_score':f1_scoreList,\n",
        "                'AUROC_score':aurocList})\n",
        "\n",
        "\n",
        "\n",
        "\n"
      ],
      "execution_count": 81,
      "outputs": []
    },
    {
      "cell_type": "markdown",
      "metadata": {
        "id": "OYtVeeXGpnFr",
        "colab_type": "text"
      },
      "source": [
        "# **RESULT TABLE**"
      ]
    },
    {
      "cell_type": "markdown",
      "metadata": {
        "id": "vsWek_a6o3G4",
        "colab_type": "text"
      },
      "source": [
        "# the result table sorted by f1_score"
      ]
    },
    {
      "cell_type": "markdown",
      "metadata": {
        "id": "MtEHaeOlo_7I",
        "colab_type": "text"
      },
      "source": [
        "# Random Forest classifier turns out to be the best among the three according to f1 score"
      ]
    },
    {
      "cell_type": "code",
      "metadata": {
        "id": "QKrpjfXcpZhd",
        "colab_type": "code",
        "colab": {
          "base_uri": "https://localhost:8080/",
          "height": 1000
        },
        "outputId": "d76a5e41-d06e-42b9-a83f-c581c796aaa9"
      },
      "source": [
        "d.sort_values(by='f1_score',inplace=True,ascending=False)   \n",
        "d.reset_index(drop=True,inplace=True)\n",
        "d"
      ],
      "execution_count": 82,
      "outputs": [
        {
          "output_type": "execute_result",
          "data": {
            "text/html": [
              "<div>\n",
              "<style scoped>\n",
              "    .dataframe tbody tr th:only-of-type {\n",
              "        vertical-align: middle;\n",
              "    }\n",
              "\n",
              "    .dataframe tbody tr th {\n",
              "        vertical-align: top;\n",
              "    }\n",
              "\n",
              "    .dataframe thead th {\n",
              "        text-align: right;\n",
              "    }\n",
              "</style>\n",
              "<table border=\"1\" class=\"dataframe\">\n",
              "  <thead>\n",
              "    <tr style=\"text-align: right;\">\n",
              "      <th></th>\n",
              "      <th>name_of_classifier</th>\n",
              "      <th>no_of_repeats</th>\n",
              "      <th>no_of_splits</th>\n",
              "      <th>prediction</th>\n",
              "      <th>score</th>\n",
              "      <th>confusion_matrix</th>\n",
              "      <th>accuracy_score</th>\n",
              "      <th>precision_score</th>\n",
              "      <th>recall_score</th>\n",
              "      <th>f1_score</th>\n",
              "      <th>AUROC_score</th>\n",
              "    </tr>\n",
              "  </thead>\n",
              "  <tbody>\n",
              "    <tr>\n",
              "      <th>0</th>\n",
              "      <td>Random_Forest</td>\n",
              "      <td>Second_repeat</td>\n",
              "      <td>Second_split</td>\n",
              "      <td>[0, 1, 0, 0, 0, 0, 1, 0, 0, 0, 0, 0, 0, 0, 0, ...</td>\n",
              "      <td>0.884339</td>\n",
              "      <td>[[3917, 61], [535, 640]]</td>\n",
              "      <td>0.884339</td>\n",
              "      <td>0.912981</td>\n",
              "      <td>0.544681</td>\n",
              "      <td>0.682303</td>\n",
              "      <td>0.764673</td>\n",
              "    </tr>\n",
              "    <tr>\n",
              "      <th>1</th>\n",
              "      <td>Random_Forest</td>\n",
              "      <td>First_repeat</td>\n",
              "      <td>Second_split</td>\n",
              "      <td>[1, 1, 0, 1, 0, 0, 0, 0, 0, 0, 0, 0, 0, 0, 0, ...</td>\n",
              "      <td>0.884921</td>\n",
              "      <td>[[3970, 66], [527, 590]]</td>\n",
              "      <td>0.884921</td>\n",
              "      <td>0.899390</td>\n",
              "      <td>0.528201</td>\n",
              "      <td>0.665539</td>\n",
              "      <td>0.755924</td>\n",
              "    </tr>\n",
              "    <tr>\n",
              "      <th>2</th>\n",
              "      <td>Random_Forest</td>\n",
              "      <td>First_repeat</td>\n",
              "      <td>First_split</td>\n",
              "      <td>[0, 0, 0, 0, 0, 0, 0, 0, 0, 1, 0, 0, 0, 0, 0, ...</td>\n",
              "      <td>0.875825</td>\n",
              "      <td>[[3894, 69], [571, 620]]</td>\n",
              "      <td>0.875825</td>\n",
              "      <td>0.899855</td>\n",
              "      <td>0.520571</td>\n",
              "      <td>0.659574</td>\n",
              "      <td>0.751580</td>\n",
              "    </tr>\n",
              "    <tr>\n",
              "      <th>3</th>\n",
              "      <td>Random_Forest</td>\n",
              "      <td>Second_repeat</td>\n",
              "      <td>First_split</td>\n",
              "      <td>[0, 1, 0, 0, 0, 1, 0, 0, 0, 1, 0, 0, 0, 0, 0, ...</td>\n",
              "      <td>0.879511</td>\n",
              "      <td>[[3952, 69], [552, 581]]</td>\n",
              "      <td>0.879511</td>\n",
              "      <td>0.893846</td>\n",
              "      <td>0.512798</td>\n",
              "      <td>0.651711</td>\n",
              "      <td>0.747819</td>\n",
              "    </tr>\n",
              "    <tr>\n",
              "      <th>4</th>\n",
              "      <td>Multinomial_NB</td>\n",
              "      <td>First_repeat</td>\n",
              "      <td>First_split</td>\n",
              "      <td>[0, 0, 0, 0, 0, 0, 0, 0, 0, 1, 0, 0, 0, 0, 0, ...</td>\n",
              "      <td>0.818005</td>\n",
              "      <td>[[3599, 364], [574, 617]]</td>\n",
              "      <td>0.818005</td>\n",
              "      <td>0.628950</td>\n",
              "      <td>0.518052</td>\n",
              "      <td>0.568140</td>\n",
              "      <td>0.713101</td>\n",
              "    </tr>\n",
              "    <tr>\n",
              "      <th>5</th>\n",
              "      <td>Multinomial_NB</td>\n",
              "      <td>Second_repeat</td>\n",
              "      <td>Second_split</td>\n",
              "      <td>[0, 1, 0, 0, 0, 0, 0, 0, 0, 0, 0, 0, 0, 0, 0, ...</td>\n",
              "      <td>0.816806</td>\n",
              "      <td>[[3594, 384], [560, 615]]</td>\n",
              "      <td>0.816806</td>\n",
              "      <td>0.615616</td>\n",
              "      <td>0.523404</td>\n",
              "      <td>0.565777</td>\n",
              "      <td>0.713437</td>\n",
              "    </tr>\n",
              "    <tr>\n",
              "      <th>6</th>\n",
              "      <td>Multinomial_NB</td>\n",
              "      <td>First_repeat</td>\n",
              "      <td>Second_split</td>\n",
              "      <td>[1, 1, 0, 1, 0, 0, 0, 0, 0, 0, 0, 0, 0, 0, 0, ...</td>\n",
              "      <td>0.825733</td>\n",
              "      <td>[[3686, 350], [548, 569]]</td>\n",
              "      <td>0.825733</td>\n",
              "      <td>0.619151</td>\n",
              "      <td>0.509400</td>\n",
              "      <td>0.558939</td>\n",
              "      <td>0.711340</td>\n",
              "    </tr>\n",
              "    <tr>\n",
              "      <th>7</th>\n",
              "      <td>Multinomial_NB</td>\n",
              "      <td>Second_repeat</td>\n",
              "      <td>First_split</td>\n",
              "      <td>[0, 1, 0, 0, 0, 1, 0, 0, 0, 1, 0, 0, 0, 0, 0, ...</td>\n",
              "      <td>0.824990</td>\n",
              "      <td>[[3683, 338], [564, 569]]</td>\n",
              "      <td>0.824990</td>\n",
              "      <td>0.627343</td>\n",
              "      <td>0.502207</td>\n",
              "      <td>0.557843</td>\n",
              "      <td>0.709074</td>\n",
              "    </tr>\n",
              "    <tr>\n",
              "      <th>8</th>\n",
              "      <td>Passive_Aggressive_Classifier</td>\n",
              "      <td>Second_repeat</td>\n",
              "      <td>Second_split</td>\n",
              "      <td>[0, 1, 0, 0, 0, 0, 0, 0, 0, 0, 0, 0, 0, 0, 0, ...</td>\n",
              "      <td>0.836600</td>\n",
              "      <td>[[3861, 117], [725, 450]]</td>\n",
              "      <td>0.836600</td>\n",
              "      <td>0.793651</td>\n",
              "      <td>0.382979</td>\n",
              "      <td>0.516648</td>\n",
              "      <td>0.676783</td>\n",
              "    </tr>\n",
              "    <tr>\n",
              "      <th>9</th>\n",
              "      <td>Passive_Aggressive_Classifier</td>\n",
              "      <td>First_repeat</td>\n",
              "      <td>First_split</td>\n",
              "      <td>[1, 0, 1, 0, 1, 0, 1, 0, 0, 1, 1, 0, 1, 0, 1, ...</td>\n",
              "      <td>0.484478</td>\n",
              "      <td>[[1659, 2304], [353, 838]]</td>\n",
              "      <td>0.484478</td>\n",
              "      <td>0.266709</td>\n",
              "      <td>0.703610</td>\n",
              "      <td>0.386799</td>\n",
              "      <td>0.561116</td>\n",
              "    </tr>\n",
              "    <tr>\n",
              "      <th>10</th>\n",
              "      <td>Passive_Aggressive_Classifier</td>\n",
              "      <td>First_repeat</td>\n",
              "      <td>Second_split</td>\n",
              "      <td>[0, 1, 0, 1, 0, 0, 0, 0, 0, 0, 0, 0, 0, 0, 0, ...</td>\n",
              "      <td>0.831166</td>\n",
              "      <td>[[4022, 14], [856, 261]]</td>\n",
              "      <td>0.831166</td>\n",
              "      <td>0.949091</td>\n",
              "      <td>0.233662</td>\n",
              "      <td>0.375000</td>\n",
              "      <td>0.615096</td>\n",
              "    </tr>\n",
              "    <tr>\n",
              "      <th>11</th>\n",
              "      <td>Passive_Aggressive_Classifier</td>\n",
              "      <td>Second_repeat</td>\n",
              "      <td>First_split</td>\n",
              "      <td>[0, 0, 0, 0, 0, 0, 0, 0, 0, 0, 0, 0, 0, 0, 0, ...</td>\n",
              "      <td>0.786380</td>\n",
              "      <td>[[3964, 57], [1044, 89]]</td>\n",
              "      <td>0.786380</td>\n",
              "      <td>0.609589</td>\n",
              "      <td>0.078553</td>\n",
              "      <td>0.139171</td>\n",
              "      <td>0.532188</td>\n",
              "    </tr>\n",
              "  </tbody>\n",
              "</table>\n",
              "</div>"
            ],
            "text/plain": [
              "               name_of_classifier  no_of_repeats  ...  f1_score AUROC_score\n",
              "0                   Random_Forest  Second_repeat  ...  0.682303    0.764673\n",
              "1                   Random_Forest   First_repeat  ...  0.665539    0.755924\n",
              "2                   Random_Forest   First_repeat  ...  0.659574    0.751580\n",
              "3                   Random_Forest  Second_repeat  ...  0.651711    0.747819\n",
              "4                  Multinomial_NB   First_repeat  ...  0.568140    0.713101\n",
              "5                  Multinomial_NB  Second_repeat  ...  0.565777    0.713437\n",
              "6                  Multinomial_NB   First_repeat  ...  0.558939    0.711340\n",
              "7                  Multinomial_NB  Second_repeat  ...  0.557843    0.709074\n",
              "8   Passive_Aggressive_Classifier  Second_repeat  ...  0.516648    0.676783\n",
              "9   Passive_Aggressive_Classifier   First_repeat  ...  0.386799    0.561116\n",
              "10  Passive_Aggressive_Classifier   First_repeat  ...  0.375000    0.615096\n",
              "11  Passive_Aggressive_Classifier  Second_repeat  ...  0.139171    0.532188\n",
              "\n",
              "[12 rows x 11 columns]"
            ]
          },
          "metadata": {
            "tags": []
          },
          "execution_count": 82
        }
      ]
    },
    {
      "cell_type": "code",
      "metadata": {
        "id": "8QmTdWcIFATc",
        "colab_type": "code",
        "colab": {}
      },
      "source": [
        ""
      ],
      "execution_count": 82,
      "outputs": []
    }
  ]
}
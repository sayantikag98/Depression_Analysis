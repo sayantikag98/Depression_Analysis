{
  "nbformat": 4,
  "nbformat_minor": 0,
  "metadata": {
    "colab": {
      "name": "Depression analysis from tweets (Model Building).ipynb",
      "provenance": [],
      "collapsed_sections": [],
      "mount_file_id": "1D0FSUFkfeQXVPogFSXcZGaG9BPN2LNtF",
      "authorship_tag": "ABX9TyNWuM+SLpUFL8RkUoCOzv0j",
      "include_colab_link": true
    },
    "kernelspec": {
      "name": "python3",
      "display_name": "Python 3"
    },
    "accelerator": "GPU"
  },
  "cells": [
    {
      "cell_type": "markdown",
      "metadata": {
        "id": "view-in-github",
        "colab_type": "text"
      },
      "source": [
        "<a href=\"https://colab.research.google.com/github/sayantikag98/Depression_Analysis/blob/master/Depression_analysis_from_tweets_(Model_Building).ipynb\" target=\"_parent\"><img src=\"https://colab.research.google.com/assets/colab-badge.svg\" alt=\"Open In Colab\"/></a>"
      ]
    },
    {
      "cell_type": "code",
      "metadata": {
        "id": "0rLt8vB4Yytj",
        "colab_type": "code",
        "colab": {}
      },
      "source": [
        "import nltk"
      ],
      "execution_count": 1,
      "outputs": []
    },
    {
      "cell_type": "code",
      "metadata": {
        "id": "jmRxzdH4ZXcS",
        "colab_type": "code",
        "colab": {
          "base_uri": "https://localhost:8080/",
          "height": 1000
        },
        "outputId": "9a90616b-06ad-4672-c190-0cc179cb7d28"
      },
      "source": [
        "nltk.download('all')"
      ],
      "execution_count": 2,
      "outputs": [
        {
          "output_type": "stream",
          "text": [
            "[nltk_data] Downloading collection 'all'\n",
            "[nltk_data]    | \n",
            "[nltk_data]    | Downloading package abc to /root/nltk_data...\n",
            "[nltk_data]    |   Package abc is already up-to-date!\n",
            "[nltk_data]    | Downloading package alpino to /root/nltk_data...\n",
            "[nltk_data]    |   Package alpino is already up-to-date!\n",
            "[nltk_data]    | Downloading package biocreative_ppi to\n",
            "[nltk_data]    |     /root/nltk_data...\n",
            "[nltk_data]    |   Package biocreative_ppi is already up-to-date!\n",
            "[nltk_data]    | Downloading package brown to /root/nltk_data...\n",
            "[nltk_data]    |   Package brown is already up-to-date!\n",
            "[nltk_data]    | Downloading package brown_tei to /root/nltk_data...\n",
            "[nltk_data]    |   Package brown_tei is already up-to-date!\n",
            "[nltk_data]    | Downloading package cess_cat to /root/nltk_data...\n",
            "[nltk_data]    |   Package cess_cat is already up-to-date!\n",
            "[nltk_data]    | Downloading package cess_esp to /root/nltk_data...\n",
            "[nltk_data]    |   Package cess_esp is already up-to-date!\n",
            "[nltk_data]    | Downloading package chat80 to /root/nltk_data...\n",
            "[nltk_data]    |   Package chat80 is already up-to-date!\n",
            "[nltk_data]    | Downloading package city_database to\n",
            "[nltk_data]    |     /root/nltk_data...\n",
            "[nltk_data]    |   Package city_database is already up-to-date!\n",
            "[nltk_data]    | Downloading package cmudict to /root/nltk_data...\n",
            "[nltk_data]    |   Package cmudict is already up-to-date!\n",
            "[nltk_data]    | Downloading package comparative_sentences to\n",
            "[nltk_data]    |     /root/nltk_data...\n",
            "[nltk_data]    |   Package comparative_sentences is already up-to-\n",
            "[nltk_data]    |       date!\n",
            "[nltk_data]    | Downloading package comtrans to /root/nltk_data...\n",
            "[nltk_data]    |   Package comtrans is already up-to-date!\n",
            "[nltk_data]    | Downloading package conll2000 to /root/nltk_data...\n",
            "[nltk_data]    |   Package conll2000 is already up-to-date!\n",
            "[nltk_data]    | Downloading package conll2002 to /root/nltk_data...\n",
            "[nltk_data]    |   Package conll2002 is already up-to-date!\n",
            "[nltk_data]    | Downloading package conll2007 to /root/nltk_data...\n",
            "[nltk_data]    |   Package conll2007 is already up-to-date!\n",
            "[nltk_data]    | Downloading package crubadan to /root/nltk_data...\n",
            "[nltk_data]    |   Package crubadan is already up-to-date!\n",
            "[nltk_data]    | Downloading package dependency_treebank to\n",
            "[nltk_data]    |     /root/nltk_data...\n",
            "[nltk_data]    |   Package dependency_treebank is already up-to-date!\n",
            "[nltk_data]    | Downloading package dolch to /root/nltk_data...\n",
            "[nltk_data]    |   Package dolch is already up-to-date!\n",
            "[nltk_data]    | Downloading package europarl_raw to\n",
            "[nltk_data]    |     /root/nltk_data...\n",
            "[nltk_data]    |   Package europarl_raw is already up-to-date!\n",
            "[nltk_data]    | Downloading package floresta to /root/nltk_data...\n",
            "[nltk_data]    |   Package floresta is already up-to-date!\n",
            "[nltk_data]    | Downloading package framenet_v15 to\n",
            "[nltk_data]    |     /root/nltk_data...\n",
            "[nltk_data]    |   Package framenet_v15 is already up-to-date!\n",
            "[nltk_data]    | Downloading package framenet_v17 to\n",
            "[nltk_data]    |     /root/nltk_data...\n",
            "[nltk_data]    |   Package framenet_v17 is already up-to-date!\n",
            "[nltk_data]    | Downloading package gazetteers to /root/nltk_data...\n",
            "[nltk_data]    |   Package gazetteers is already up-to-date!\n",
            "[nltk_data]    | Downloading package genesis to /root/nltk_data...\n",
            "[nltk_data]    |   Package genesis is already up-to-date!\n",
            "[nltk_data]    | Downloading package gutenberg to /root/nltk_data...\n",
            "[nltk_data]    |   Package gutenberg is already up-to-date!\n",
            "[nltk_data]    | Downloading package ieer to /root/nltk_data...\n",
            "[nltk_data]    |   Package ieer is already up-to-date!\n",
            "[nltk_data]    | Downloading package inaugural to /root/nltk_data...\n",
            "[nltk_data]    |   Package inaugural is already up-to-date!\n",
            "[nltk_data]    | Downloading package indian to /root/nltk_data...\n",
            "[nltk_data]    |   Package indian is already up-to-date!\n",
            "[nltk_data]    | Downloading package jeita to /root/nltk_data...\n",
            "[nltk_data]    |   Package jeita is already up-to-date!\n",
            "[nltk_data]    | Downloading package kimmo to /root/nltk_data...\n",
            "[nltk_data]    |   Package kimmo is already up-to-date!\n",
            "[nltk_data]    | Downloading package knbc to /root/nltk_data...\n",
            "[nltk_data]    |   Package knbc is already up-to-date!\n",
            "[nltk_data]    | Downloading package lin_thesaurus to\n",
            "[nltk_data]    |     /root/nltk_data...\n",
            "[nltk_data]    |   Package lin_thesaurus is already up-to-date!\n",
            "[nltk_data]    | Downloading package mac_morpho to /root/nltk_data...\n",
            "[nltk_data]    |   Package mac_morpho is already up-to-date!\n",
            "[nltk_data]    | Downloading package machado to /root/nltk_data...\n",
            "[nltk_data]    |   Package machado is already up-to-date!\n",
            "[nltk_data]    | Downloading package masc_tagged to /root/nltk_data...\n",
            "[nltk_data]    |   Package masc_tagged is already up-to-date!\n",
            "[nltk_data]    | Downloading package moses_sample to\n",
            "[nltk_data]    |     /root/nltk_data...\n",
            "[nltk_data]    |   Package moses_sample is already up-to-date!\n",
            "[nltk_data]    | Downloading package movie_reviews to\n",
            "[nltk_data]    |     /root/nltk_data...\n",
            "[nltk_data]    |   Package movie_reviews is already up-to-date!\n",
            "[nltk_data]    | Downloading package names to /root/nltk_data...\n",
            "[nltk_data]    |   Package names is already up-to-date!\n",
            "[nltk_data]    | Downloading package nombank.1.0 to /root/nltk_data...\n",
            "[nltk_data]    |   Package nombank.1.0 is already up-to-date!\n",
            "[nltk_data]    | Downloading package nps_chat to /root/nltk_data...\n",
            "[nltk_data]    |   Package nps_chat is already up-to-date!\n",
            "[nltk_data]    | Downloading package omw to /root/nltk_data...\n",
            "[nltk_data]    |   Package omw is already up-to-date!\n",
            "[nltk_data]    | Downloading package opinion_lexicon to\n",
            "[nltk_data]    |     /root/nltk_data...\n",
            "[nltk_data]    |   Package opinion_lexicon is already up-to-date!\n",
            "[nltk_data]    | Downloading package paradigms to /root/nltk_data...\n",
            "[nltk_data]    |   Package paradigms is already up-to-date!\n",
            "[nltk_data]    | Downloading package pil to /root/nltk_data...\n",
            "[nltk_data]    |   Package pil is already up-to-date!\n",
            "[nltk_data]    | Downloading package pl196x to /root/nltk_data...\n",
            "[nltk_data]    |   Package pl196x is already up-to-date!\n",
            "[nltk_data]    | Downloading package ppattach to /root/nltk_data...\n",
            "[nltk_data]    |   Package ppattach is already up-to-date!\n",
            "[nltk_data]    | Downloading package problem_reports to\n",
            "[nltk_data]    |     /root/nltk_data...\n",
            "[nltk_data]    |   Package problem_reports is already up-to-date!\n",
            "[nltk_data]    | Downloading package propbank to /root/nltk_data...\n",
            "[nltk_data]    |   Package propbank is already up-to-date!\n",
            "[nltk_data]    | Downloading package ptb to /root/nltk_data...\n",
            "[nltk_data]    |   Package ptb is already up-to-date!\n",
            "[nltk_data]    | Downloading package product_reviews_1 to\n",
            "[nltk_data]    |     /root/nltk_data...\n",
            "[nltk_data]    |   Package product_reviews_1 is already up-to-date!\n",
            "[nltk_data]    | Downloading package product_reviews_2 to\n",
            "[nltk_data]    |     /root/nltk_data...\n",
            "[nltk_data]    |   Package product_reviews_2 is already up-to-date!\n",
            "[nltk_data]    | Downloading package pros_cons to /root/nltk_data...\n",
            "[nltk_data]    |   Package pros_cons is already up-to-date!\n",
            "[nltk_data]    | Downloading package qc to /root/nltk_data...\n",
            "[nltk_data]    |   Package qc is already up-to-date!\n",
            "[nltk_data]    | Downloading package reuters to /root/nltk_data...\n",
            "[nltk_data]    |   Package reuters is already up-to-date!\n",
            "[nltk_data]    | Downloading package rte to /root/nltk_data...\n",
            "[nltk_data]    |   Package rte is already up-to-date!\n",
            "[nltk_data]    | Downloading package semcor to /root/nltk_data...\n",
            "[nltk_data]    |   Package semcor is already up-to-date!\n",
            "[nltk_data]    | Downloading package senseval to /root/nltk_data...\n",
            "[nltk_data]    |   Package senseval is already up-to-date!\n",
            "[nltk_data]    | Downloading package sentiwordnet to\n",
            "[nltk_data]    |     /root/nltk_data...\n",
            "[nltk_data]    |   Package sentiwordnet is already up-to-date!\n",
            "[nltk_data]    | Downloading package sentence_polarity to\n",
            "[nltk_data]    |     /root/nltk_data...\n",
            "[nltk_data]    |   Package sentence_polarity is already up-to-date!\n",
            "[nltk_data]    | Downloading package shakespeare to /root/nltk_data...\n",
            "[nltk_data]    |   Package shakespeare is already up-to-date!\n",
            "[nltk_data]    | Downloading package sinica_treebank to\n",
            "[nltk_data]    |     /root/nltk_data...\n",
            "[nltk_data]    |   Package sinica_treebank is already up-to-date!\n",
            "[nltk_data]    | Downloading package smultron to /root/nltk_data...\n",
            "[nltk_data]    |   Package smultron is already up-to-date!\n",
            "[nltk_data]    | Downloading package state_union to /root/nltk_data...\n",
            "[nltk_data]    |   Package state_union is already up-to-date!\n",
            "[nltk_data]    | Downloading package stopwords to /root/nltk_data...\n",
            "[nltk_data]    |   Package stopwords is already up-to-date!\n",
            "[nltk_data]    | Downloading package subjectivity to\n",
            "[nltk_data]    |     /root/nltk_data...\n",
            "[nltk_data]    |   Package subjectivity is already up-to-date!\n",
            "[nltk_data]    | Downloading package swadesh to /root/nltk_data...\n",
            "[nltk_data]    |   Package swadesh is already up-to-date!\n",
            "[nltk_data]    | Downloading package switchboard to /root/nltk_data...\n",
            "[nltk_data]    |   Package switchboard is already up-to-date!\n",
            "[nltk_data]    | Downloading package timit to /root/nltk_data...\n",
            "[nltk_data]    |   Package timit is already up-to-date!\n",
            "[nltk_data]    | Downloading package toolbox to /root/nltk_data...\n",
            "[nltk_data]    |   Package toolbox is already up-to-date!\n",
            "[nltk_data]    | Downloading package treebank to /root/nltk_data...\n",
            "[nltk_data]    |   Package treebank is already up-to-date!\n",
            "[nltk_data]    | Downloading package twitter_samples to\n",
            "[nltk_data]    |     /root/nltk_data...\n",
            "[nltk_data]    |   Package twitter_samples is already up-to-date!\n",
            "[nltk_data]    | Downloading package udhr to /root/nltk_data...\n",
            "[nltk_data]    |   Package udhr is already up-to-date!\n",
            "[nltk_data]    | Downloading package udhr2 to /root/nltk_data...\n",
            "[nltk_data]    |   Package udhr2 is already up-to-date!\n",
            "[nltk_data]    | Downloading package unicode_samples to\n",
            "[nltk_data]    |     /root/nltk_data...\n",
            "[nltk_data]    |   Package unicode_samples is already up-to-date!\n",
            "[nltk_data]    | Downloading package universal_treebanks_v20 to\n",
            "[nltk_data]    |     /root/nltk_data...\n",
            "[nltk_data]    |   Package universal_treebanks_v20 is already up-to-\n",
            "[nltk_data]    |       date!\n",
            "[nltk_data]    | Downloading package verbnet to /root/nltk_data...\n",
            "[nltk_data]    |   Package verbnet is already up-to-date!\n",
            "[nltk_data]    | Downloading package verbnet3 to /root/nltk_data...\n",
            "[nltk_data]    |   Package verbnet3 is already up-to-date!\n",
            "[nltk_data]    | Downloading package webtext to /root/nltk_data...\n",
            "[nltk_data]    |   Package webtext is already up-to-date!\n",
            "[nltk_data]    | Downloading package wordnet to /root/nltk_data...\n",
            "[nltk_data]    |   Package wordnet is already up-to-date!\n",
            "[nltk_data]    | Downloading package wordnet_ic to /root/nltk_data...\n",
            "[nltk_data]    |   Package wordnet_ic is already up-to-date!\n",
            "[nltk_data]    | Downloading package words to /root/nltk_data...\n",
            "[nltk_data]    |   Package words is already up-to-date!\n",
            "[nltk_data]    | Downloading package ycoe to /root/nltk_data...\n",
            "[nltk_data]    |   Package ycoe is already up-to-date!\n",
            "[nltk_data]    | Downloading package rslp to /root/nltk_data...\n",
            "[nltk_data]    |   Package rslp is already up-to-date!\n",
            "[nltk_data]    | Downloading package maxent_treebank_pos_tagger to\n",
            "[nltk_data]    |     /root/nltk_data...\n",
            "[nltk_data]    |   Package maxent_treebank_pos_tagger is already up-\n",
            "[nltk_data]    |       to-date!\n",
            "[nltk_data]    | Downloading package universal_tagset to\n",
            "[nltk_data]    |     /root/nltk_data...\n",
            "[nltk_data]    |   Package universal_tagset is already up-to-date!\n",
            "[nltk_data]    | Downloading package maxent_ne_chunker to\n",
            "[nltk_data]    |     /root/nltk_data...\n",
            "[nltk_data]    |   Package maxent_ne_chunker is already up-to-date!\n",
            "[nltk_data]    | Downloading package punkt to /root/nltk_data...\n",
            "[nltk_data]    |   Package punkt is already up-to-date!\n",
            "[nltk_data]    | Downloading package book_grammars to\n",
            "[nltk_data]    |     /root/nltk_data...\n",
            "[nltk_data]    |   Package book_grammars is already up-to-date!\n",
            "[nltk_data]    | Downloading package sample_grammars to\n",
            "[nltk_data]    |     /root/nltk_data...\n",
            "[nltk_data]    |   Package sample_grammars is already up-to-date!\n",
            "[nltk_data]    | Downloading package spanish_grammars to\n",
            "[nltk_data]    |     /root/nltk_data...\n",
            "[nltk_data]    |   Package spanish_grammars is already up-to-date!\n",
            "[nltk_data]    | Downloading package basque_grammars to\n",
            "[nltk_data]    |     /root/nltk_data...\n",
            "[nltk_data]    |   Package basque_grammars is already up-to-date!\n",
            "[nltk_data]    | Downloading package large_grammars to\n",
            "[nltk_data]    |     /root/nltk_data...\n",
            "[nltk_data]    |   Package large_grammars is already up-to-date!\n",
            "[nltk_data]    | Downloading package tagsets to /root/nltk_data...\n",
            "[nltk_data]    |   Package tagsets is already up-to-date!\n",
            "[nltk_data]    | Downloading package snowball_data to\n",
            "[nltk_data]    |     /root/nltk_data...\n",
            "[nltk_data]    |   Package snowball_data is already up-to-date!\n",
            "[nltk_data]    | Downloading package bllip_wsj_no_aux to\n",
            "[nltk_data]    |     /root/nltk_data...\n",
            "[nltk_data]    |   Package bllip_wsj_no_aux is already up-to-date!\n",
            "[nltk_data]    | Downloading package word2vec_sample to\n",
            "[nltk_data]    |     /root/nltk_data...\n",
            "[nltk_data]    |   Package word2vec_sample is already up-to-date!\n",
            "[nltk_data]    | Downloading package panlex_swadesh to\n",
            "[nltk_data]    |     /root/nltk_data...\n",
            "[nltk_data]    |   Package panlex_swadesh is already up-to-date!\n",
            "[nltk_data]    | Downloading package mte_teip5 to /root/nltk_data...\n",
            "[nltk_data]    |   Package mte_teip5 is already up-to-date!\n",
            "[nltk_data]    | Downloading package averaged_perceptron_tagger to\n",
            "[nltk_data]    |     /root/nltk_data...\n",
            "[nltk_data]    |   Package averaged_perceptron_tagger is already up-\n",
            "[nltk_data]    |       to-date!\n",
            "[nltk_data]    | Downloading package averaged_perceptron_tagger_ru to\n",
            "[nltk_data]    |     /root/nltk_data...\n",
            "[nltk_data]    |   Package averaged_perceptron_tagger_ru is already\n",
            "[nltk_data]    |       up-to-date!\n",
            "[nltk_data]    | Downloading package perluniprops to\n",
            "[nltk_data]    |     /root/nltk_data...\n",
            "[nltk_data]    |   Package perluniprops is already up-to-date!\n",
            "[nltk_data]    | Downloading package nonbreaking_prefixes to\n",
            "[nltk_data]    |     /root/nltk_data...\n",
            "[nltk_data]    |   Package nonbreaking_prefixes is already up-to-date!\n",
            "[nltk_data]    | Downloading package vader_lexicon to\n",
            "[nltk_data]    |     /root/nltk_data...\n",
            "[nltk_data]    |   Package vader_lexicon is already up-to-date!\n",
            "[nltk_data]    | Downloading package porter_test to /root/nltk_data...\n",
            "[nltk_data]    |   Package porter_test is already up-to-date!\n",
            "[nltk_data]    | Downloading package wmt15_eval to /root/nltk_data...\n",
            "[nltk_data]    |   Package wmt15_eval is already up-to-date!\n",
            "[nltk_data]    | Downloading package mwa_ppdb to /root/nltk_data...\n",
            "[nltk_data]    |   Package mwa_ppdb is already up-to-date!\n",
            "[nltk_data]    | \n",
            "[nltk_data]  Done downloading collection all\n"
          ],
          "name": "stdout"
        },
        {
          "output_type": "execute_result",
          "data": {
            "text/plain": [
              "True"
            ]
          },
          "metadata": {
            "tags": []
          },
          "execution_count": 2
        }
      ]
    },
    {
      "cell_type": "code",
      "metadata": {
        "id": "bqJ0cFwLZdqX",
        "colab_type": "code",
        "colab": {}
      },
      "source": [
        "import pandas as pd\n",
        "df_combined=pd.read_csv('drive/My Drive/pre_final1.csv',parse_dates=['date'],encoding='utf-8')"
      ],
      "execution_count": 3,
      "outputs": []
    },
    {
      "cell_type": "code",
      "metadata": {
        "id": "cQcQlobBacgZ",
        "colab_type": "code",
        "colab": {
          "base_uri": "https://localhost:8080/",
          "height": 955
        },
        "outputId": "b9ed378d-b3a6-4318-f81b-7aa949a60122"
      },
      "source": [
        "df_combined"
      ],
      "execution_count": 4,
      "outputs": [
        {
          "output_type": "execute_result",
          "data": {
            "text/html": [
              "<div>\n",
              "<style scoped>\n",
              "    .dataframe tbody tr th:only-of-type {\n",
              "        vertical-align: middle;\n",
              "    }\n",
              "\n",
              "    .dataframe tbody tr th {\n",
              "        vertical-align: top;\n",
              "    }\n",
              "\n",
              "    .dataframe thead th {\n",
              "        text-align: right;\n",
              "    }\n",
              "</style>\n",
              "<table border=\"1\" class=\"dataframe\">\n",
              "  <thead>\n",
              "    <tr style=\"text-align: right;\">\n",
              "      <th></th>\n",
              "      <th>date</th>\n",
              "      <th>username</th>\n",
              "      <th>to</th>\n",
              "      <th>replies</th>\n",
              "      <th>retweets</th>\n",
              "      <th>favorites</th>\n",
              "      <th>text</th>\n",
              "      <th>geo</th>\n",
              "      <th>mentions</th>\n",
              "      <th>hashtags</th>\n",
              "      <th>id</th>\n",
              "      <th>permalink</th>\n",
              "      <th>sentences</th>\n",
              "      <th>text_tokenized</th>\n",
              "      <th>stemming_stopwordsRemoved</th>\n",
              "      <th>lemmatized_stopwordsRemoved</th>\n",
              "    </tr>\n",
              "  </thead>\n",
              "  <tbody>\n",
              "    <tr>\n",
              "      <th>0</th>\n",
              "      <td>2020-08-14 23:40:49</td>\n",
              "      <td>DalrympleWill</td>\n",
              "      <td>HearaichHerald</td>\n",
              "      <td>2</td>\n",
              "      <td>0</td>\n",
              "      <td>3</td>\n",
              "      <td>Andrew do send me a copy! Love to read it</td>\n",
              "      <td>NaN</td>\n",
              "      <td>NaN</td>\n",
              "      <td>NaN</td>\n",
              "      <td>1294418731251138562</td>\n",
              "      <td>https://twitter.com/DalrympleWill/status/12944...</td>\n",
              "      <td>Andrew do send me a copy! Love to read it</td>\n",
              "      <td>['Andrew', 'do', 'send', 'me', 'a', 'copy', '!...</td>\n",
              "      <td>andrew send copi love read</td>\n",
              "      <td>andrew send copy love read</td>\n",
              "    </tr>\n",
              "    <tr>\n",
              "      <th>1</th>\n",
              "      <td>2020-08-14 23:29:59</td>\n",
              "      <td>lostboy54</td>\n",
              "      <td>ishkarnBHANDARI</td>\n",
              "      <td>10</td>\n",
              "      <td>85</td>\n",
              "      <td>403</td>\n",
              "      <td>This is all coming true. You were right @ishka...</td>\n",
              "      <td>NaN</td>\n",
              "      <td>@ishkarnBHANDARIhttps</td>\n",
              "      <td>NaN</td>\n",
              "      <td>1294416005674889216</td>\n",
              "      <td>https://twitter.com/lostboy54/status/129441600...</td>\n",
              "      <td>This is all coming true. You were right @ishka...</td>\n",
              "      <td>['This', 'is', 'all', 'coming', 'true', '.', '...</td>\n",
              "      <td>come true right ishkarnbhandarihttp twitter co...</td>\n",
              "      <td>coming true right ishkarnbhandarihttps twitter...</td>\n",
              "    </tr>\n",
              "    <tr>\n",
              "      <th>2</th>\n",
              "      <td>2020-08-14 23:27:45</td>\n",
              "      <td>srijanpalsingh</td>\n",
              "      <td>NaN</td>\n",
              "      <td>3</td>\n",
              "      <td>34</td>\n",
              "      <td>151</td>\n",
              "      <td>Wishing everyone a very happy Independence Day...</td>\n",
              "      <td>NaN</td>\n",
              "      <td>NaN</td>\n",
              "      <td>#India #JaiHind #Kalam #IndependenceDay #Indep...</td>\n",
              "      <td>1294415445609472000</td>\n",
              "      <td>https://twitter.com/srijanpalsingh/status/1294...</td>\n",
              "      <td>Wishing everyone a very happy Independence Day...</td>\n",
              "      <td>['Wishing', 'everyone', 'a', 'very', 'happy', ...</td>\n",
              "      <td>wish everyon happi independ day time gratitud ...</td>\n",
              "      <td>wishing everyone happy independence day time g...</td>\n",
              "    </tr>\n",
              "    <tr>\n",
              "      <th>3</th>\n",
              "      <td>2020-08-14 23:09:49</td>\n",
              "      <td>AAlHamoud7</td>\n",
              "      <td>NaN</td>\n",
              "      <td>0</td>\n",
              "      <td>0</td>\n",
              "      <td>7</td>\n",
              "      <td>I don’t usually approach first, so when I do, ...</td>\n",
              "      <td>NaN</td>\n",
              "      <td>NaN</td>\n",
              "      <td>NaN</td>\n",
              "      <td>1294410930458173440</td>\n",
              "      <td>https://twitter.com/AAlHamoud7/status/12944109...</td>\n",
              "      <td>I don’t usually approach first, so when I do, ...</td>\n",
              "      <td>['I', 'don', '’', 't', 'usually', 'approach', ...</td>\n",
              "      <td>usual approach first probabl special</td>\n",
              "      <td>usually approach first probably special</td>\n",
              "    </tr>\n",
              "    <tr>\n",
              "      <th>4</th>\n",
              "      <td>2020-08-14 22:21:57</td>\n",
              "      <td>MeerraChopra</td>\n",
              "      <td>NaN</td>\n",
              "      <td>28</td>\n",
              "      <td>19</td>\n",
              "      <td>278</td>\n",
              "      <td>#GunjanSaxena is such a brilliant film that ul...</td>\n",
              "      <td>NaN</td>\n",
              "      <td>@TripathiiPankaj</td>\n",
              "      <td>#GunjanSaxena #jhanvikapoor #sharansharma</td>\n",
              "      <td>1294398885654220800</td>\n",
              "      <td>https://twitter.com/MeerraChopra/status/129439...</td>\n",
              "      <td>#GunjanSaxena is such a brilliant film that ul...</td>\n",
              "      <td>['#', 'GunjanSaxena', 'is', 'such', 'a', 'bril...</td>\n",
              "      <td>gunjansaxena brilliant film ull get adrenalin ...</td>\n",
              "      <td>gunjansaxena brilliant film ull get adrenaline...</td>\n",
              "    </tr>\n",
              "    <tr>\n",
              "      <th>...</th>\n",
              "      <td>...</td>\n",
              "      <td>...</td>\n",
              "      <td>...</td>\n",
              "      <td>...</td>\n",
              "      <td>...</td>\n",
              "      <td>...</td>\n",
              "      <td>...</td>\n",
              "      <td>...</td>\n",
              "      <td>...</td>\n",
              "      <td>...</td>\n",
              "      <td>...</td>\n",
              "      <td>...</td>\n",
              "      <td>...</td>\n",
              "      <td>...</td>\n",
              "      <td>...</td>\n",
              "      <td>...</td>\n",
              "    </tr>\n",
              "    <tr>\n",
              "      <th>266472</th>\n",
              "      <td>2010-09-14 07:26:25</td>\n",
              "      <td>krist0ph3r</td>\n",
              "      <td>NaN</td>\n",
              "      <td>0</td>\n",
              "      <td>0</td>\n",
              "      <td>0</td>\n",
              "      <td>I stand corrected. there is, indeed, a vaccine...</td>\n",
              "      <td>NaN</td>\n",
              "      <td>@mizarcle</td>\n",
              "      <td>NaN</td>\n",
              "      <td>24456504000</td>\n",
              "      <td>https://twitter.com/krist0ph3r/status/24456504000</td>\n",
              "      <td>I stand corrected. there is, indeed, a vaccine...</td>\n",
              "      <td>['I', 'stand', 'corrected', '.', 'there', 'is'...</td>\n",
              "      <td>stand correct inde vaccin cervic cancer except...</td>\n",
              "      <td>stand corrected indeed vaccine cervical cancer...</td>\n",
              "    </tr>\n",
              "    <tr>\n",
              "      <th>266473</th>\n",
              "      <td>2010-09-14 07:15:04</td>\n",
              "      <td>krist0ph3r</td>\n",
              "      <td>NaN</td>\n",
              "      <td>0</td>\n",
              "      <td>0</td>\n",
              "      <td>0</td>\n",
              "      <td>#iWant! RT @24HoursLoot The Four Elements of a...</td>\n",
              "      <td>NaN</td>\n",
              "      <td>@24HoursLoot</td>\n",
              "      <td>#iWant</td>\n",
              "      <td>24456008845</td>\n",
              "      <td>https://twitter.com/krist0ph3r/status/24456008845</td>\n",
              "      <td>#iWant! RT @24HoursLoot The Four Elements of a...</td>\n",
              "      <td>['#', 'iWant', '!', 'RT', '@', '24HoursLoot', ...</td>\n",
              "      <td>iwant rt hoursloot four element human geek lif...</td>\n",
              "      <td>iwant rt hoursloot four element human geek lif...</td>\n",
              "    </tr>\n",
              "    <tr>\n",
              "      <th>266474</th>\n",
              "      <td>2010-09-14 07:12:15</td>\n",
              "      <td>krist0ph3r</td>\n",
              "      <td>NaN</td>\n",
              "      <td>0</td>\n",
              "      <td>0</td>\n",
              "      <td>0</td>\n",
              "      <td>there's a vaccine? don't think cancer can be v...</td>\n",
              "      <td>NaN</td>\n",
              "      <td>@mizarcle</td>\n",
              "      <td>NaN</td>\n",
              "      <td>24455883030</td>\n",
              "      <td>https://twitter.com/krist0ph3r/status/24455883030</td>\n",
              "      <td>there's a vaccine? don't think cancer can be v...</td>\n",
              "      <td>['there', \"'s\", 'a', 'vaccine', '?', 'do', \"n'...</td>\n",
              "      <td>vaccin think cancer vaccin rt mizarcl anyon ta...</td>\n",
              "      <td>vaccine think cancer vaccinated rt mizarcle an...</td>\n",
              "    </tr>\n",
              "    <tr>\n",
              "      <th>266475</th>\n",
              "      <td>2010-09-14 07:10:56</td>\n",
              "      <td>krist0ph3r</td>\n",
              "      <td>NaN</td>\n",
              "      <td>0</td>\n",
              "      <td>0</td>\n",
              "      <td>0</td>\n",
              "      <td>#nowplaying gareth emery - exposure #awesomeness</td>\n",
              "      <td>NaN</td>\n",
              "      <td>NaN</td>\n",
              "      <td>#nowplaying #awesomeness</td>\n",
              "      <td>24455823620</td>\n",
              "      <td>https://twitter.com/krist0ph3r/status/24455823620</td>\n",
              "      <td>#nowplaying gareth emery - exposure #awesomeness</td>\n",
              "      <td>['#', 'nowplaying', 'gareth', 'emery', '-', 'e...</td>\n",
              "      <td>nowplay gareth emeri exposur awesom</td>\n",
              "      <td>nowplaying gareth emery exposure awesomeness</td>\n",
              "    </tr>\n",
              "    <tr>\n",
              "      <th>266476</th>\n",
              "      <td>2010-09-14 05:21:30</td>\n",
              "      <td>krist0ph3r</td>\n",
              "      <td>NaN</td>\n",
              "      <td>0</td>\n",
              "      <td>0</td>\n",
              "      <td>0</td>\n",
              "      <td>friend was waiting for me to step into office ...</td>\n",
              "      <td>NaN</td>\n",
              "      <td>NaN</td>\n",
              "      <td>NaN</td>\n",
              "      <td>24450570759</td>\n",
              "      <td>https://twitter.com/krist0ph3r/status/24450570759</td>\n",
              "      <td>friend was waiting for me to step into office ...</td>\n",
              "      <td>['friend', 'was', 'waiting', 'for', 'me', 'to'...</td>\n",
              "      <td>friend wait step offic tell news suzuki firebl...</td>\n",
              "      <td>friend waiting step office tell news suzuki fi...</td>\n",
              "    </tr>\n",
              "  </tbody>\n",
              "</table>\n",
              "<p>266477 rows × 16 columns</p>\n",
              "</div>"
            ],
            "text/plain": [
              "                      date  ...                        lemmatized_stopwordsRemoved\n",
              "0      2020-08-14 23:40:49  ...                         andrew send copy love read\n",
              "1      2020-08-14 23:29:59  ...  coming true right ishkarnbhandarihttps twitter...\n",
              "2      2020-08-14 23:27:45  ...  wishing everyone happy independence day time g...\n",
              "3      2020-08-14 23:09:49  ...            usually approach first probably special\n",
              "4      2020-08-14 22:21:57  ...  gunjansaxena brilliant film ull get adrenaline...\n",
              "...                    ...  ...                                                ...\n",
              "266472 2010-09-14 07:26:25  ...  stand corrected indeed vaccine cervical cancer...\n",
              "266473 2010-09-14 07:15:04  ...  iwant rt hoursloot four element human geek lif...\n",
              "266474 2010-09-14 07:12:15  ...  vaccine think cancer vaccinated rt mizarcle an...\n",
              "266475 2010-09-14 07:10:56  ...       nowplaying gareth emery exposure awesomeness\n",
              "266476 2010-09-14 05:21:30  ...  friend waiting step office tell news suzuki fi...\n",
              "\n",
              "[266477 rows x 16 columns]"
            ]
          },
          "metadata": {
            "tags": []
          },
          "execution_count": 4
        }
      ]
    },
    {
      "cell_type": "code",
      "metadata": {
        "id": "2YVvA8jNcANp",
        "colab_type": "code",
        "colab": {
          "base_uri": "https://localhost:8080/",
          "height": 35
        },
        "outputId": "c5b81e6e-89e5-4c10-a92d-23eadc0a0265"
      },
      "source": [
        "df_combined.shape[0]-df_combined.stemming_stopwordsRemoved.isna().sum()    ### to check for the number of non-null rows according to a particular column"
      ],
      "execution_count": 5,
      "outputs": [
        {
          "output_type": "execute_result",
          "data": {
            "text/plain": [
              "266329"
            ]
          },
          "metadata": {
            "tags": []
          },
          "execution_count": 5
        }
      ]
    },
    {
      "cell_type": "code",
      "metadata": {
        "id": "c2PgZFRYoKtE",
        "colab_type": "code",
        "colab": {
          "base_uri": "https://localhost:8080/",
          "height": 35
        },
        "outputId": "3b67c31a-08ef-4278-d1b1-4bc571a4631a"
      },
      "source": [
        "df_combined.lemmatized_stopwordsRemoved.isna().sum()    ### to check for the number of null rows"
      ],
      "execution_count": 6,
      "outputs": [
        {
          "output_type": "execute_result",
          "data": {
            "text/plain": [
              "148"
            ]
          },
          "metadata": {
            "tags": []
          },
          "execution_count": 6
        }
      ]
    },
    {
      "cell_type": "code",
      "metadata": {
        "id": "LX0JTmince6y",
        "colab_type": "code",
        "colab": {}
      },
      "source": [
        "df_combined.dropna(subset=['stemming_stopwordsRemoved'],inplace=True)    ### to drop the rows containing null values"
      ],
      "execution_count": 7,
      "outputs": []
    },
    {
      "cell_type": "code",
      "metadata": {
        "id": "aTtA6F8AB_VL",
        "colab_type": "code",
        "colab": {
          "base_uri": "https://localhost:8080/",
          "height": 955
        },
        "outputId": "13766ac5-6dec-493a-b4e5-4899585e6eab"
      },
      "source": [
        "df_combined.reset_index(inplace=True,drop=True)\n",
        "df_combined"
      ],
      "execution_count": 8,
      "outputs": [
        {
          "output_type": "execute_result",
          "data": {
            "text/html": [
              "<div>\n",
              "<style scoped>\n",
              "    .dataframe tbody tr th:only-of-type {\n",
              "        vertical-align: middle;\n",
              "    }\n",
              "\n",
              "    .dataframe tbody tr th {\n",
              "        vertical-align: top;\n",
              "    }\n",
              "\n",
              "    .dataframe thead th {\n",
              "        text-align: right;\n",
              "    }\n",
              "</style>\n",
              "<table border=\"1\" class=\"dataframe\">\n",
              "  <thead>\n",
              "    <tr style=\"text-align: right;\">\n",
              "      <th></th>\n",
              "      <th>date</th>\n",
              "      <th>username</th>\n",
              "      <th>to</th>\n",
              "      <th>replies</th>\n",
              "      <th>retweets</th>\n",
              "      <th>favorites</th>\n",
              "      <th>text</th>\n",
              "      <th>geo</th>\n",
              "      <th>mentions</th>\n",
              "      <th>hashtags</th>\n",
              "      <th>id</th>\n",
              "      <th>permalink</th>\n",
              "      <th>sentences</th>\n",
              "      <th>text_tokenized</th>\n",
              "      <th>stemming_stopwordsRemoved</th>\n",
              "      <th>lemmatized_stopwordsRemoved</th>\n",
              "    </tr>\n",
              "  </thead>\n",
              "  <tbody>\n",
              "    <tr>\n",
              "      <th>0</th>\n",
              "      <td>2020-08-14 23:40:49</td>\n",
              "      <td>DalrympleWill</td>\n",
              "      <td>HearaichHerald</td>\n",
              "      <td>2</td>\n",
              "      <td>0</td>\n",
              "      <td>3</td>\n",
              "      <td>Andrew do send me a copy! Love to read it</td>\n",
              "      <td>NaN</td>\n",
              "      <td>NaN</td>\n",
              "      <td>NaN</td>\n",
              "      <td>1294418731251138562</td>\n",
              "      <td>https://twitter.com/DalrympleWill/status/12944...</td>\n",
              "      <td>Andrew do send me a copy! Love to read it</td>\n",
              "      <td>['Andrew', 'do', 'send', 'me', 'a', 'copy', '!...</td>\n",
              "      <td>andrew send copi love read</td>\n",
              "      <td>andrew send copy love read</td>\n",
              "    </tr>\n",
              "    <tr>\n",
              "      <th>1</th>\n",
              "      <td>2020-08-14 23:29:59</td>\n",
              "      <td>lostboy54</td>\n",
              "      <td>ishkarnBHANDARI</td>\n",
              "      <td>10</td>\n",
              "      <td>85</td>\n",
              "      <td>403</td>\n",
              "      <td>This is all coming true. You were right @ishka...</td>\n",
              "      <td>NaN</td>\n",
              "      <td>@ishkarnBHANDARIhttps</td>\n",
              "      <td>NaN</td>\n",
              "      <td>1294416005674889216</td>\n",
              "      <td>https://twitter.com/lostboy54/status/129441600...</td>\n",
              "      <td>This is all coming true. You were right @ishka...</td>\n",
              "      <td>['This', 'is', 'all', 'coming', 'true', '.', '...</td>\n",
              "      <td>come true right ishkarnbhandarihttp twitter co...</td>\n",
              "      <td>coming true right ishkarnbhandarihttps twitter...</td>\n",
              "    </tr>\n",
              "    <tr>\n",
              "      <th>2</th>\n",
              "      <td>2020-08-14 23:27:45</td>\n",
              "      <td>srijanpalsingh</td>\n",
              "      <td>NaN</td>\n",
              "      <td>3</td>\n",
              "      <td>34</td>\n",
              "      <td>151</td>\n",
              "      <td>Wishing everyone a very happy Independence Day...</td>\n",
              "      <td>NaN</td>\n",
              "      <td>NaN</td>\n",
              "      <td>#India #JaiHind #Kalam #IndependenceDay #Indep...</td>\n",
              "      <td>1294415445609472000</td>\n",
              "      <td>https://twitter.com/srijanpalsingh/status/1294...</td>\n",
              "      <td>Wishing everyone a very happy Independence Day...</td>\n",
              "      <td>['Wishing', 'everyone', 'a', 'very', 'happy', ...</td>\n",
              "      <td>wish everyon happi independ day time gratitud ...</td>\n",
              "      <td>wishing everyone happy independence day time g...</td>\n",
              "    </tr>\n",
              "    <tr>\n",
              "      <th>3</th>\n",
              "      <td>2020-08-14 23:09:49</td>\n",
              "      <td>AAlHamoud7</td>\n",
              "      <td>NaN</td>\n",
              "      <td>0</td>\n",
              "      <td>0</td>\n",
              "      <td>7</td>\n",
              "      <td>I don’t usually approach first, so when I do, ...</td>\n",
              "      <td>NaN</td>\n",
              "      <td>NaN</td>\n",
              "      <td>NaN</td>\n",
              "      <td>1294410930458173440</td>\n",
              "      <td>https://twitter.com/AAlHamoud7/status/12944109...</td>\n",
              "      <td>I don’t usually approach first, so when I do, ...</td>\n",
              "      <td>['I', 'don', '’', 't', 'usually', 'approach', ...</td>\n",
              "      <td>usual approach first probabl special</td>\n",
              "      <td>usually approach first probably special</td>\n",
              "    </tr>\n",
              "    <tr>\n",
              "      <th>4</th>\n",
              "      <td>2020-08-14 22:21:57</td>\n",
              "      <td>MeerraChopra</td>\n",
              "      <td>NaN</td>\n",
              "      <td>28</td>\n",
              "      <td>19</td>\n",
              "      <td>278</td>\n",
              "      <td>#GunjanSaxena is such a brilliant film that ul...</td>\n",
              "      <td>NaN</td>\n",
              "      <td>@TripathiiPankaj</td>\n",
              "      <td>#GunjanSaxena #jhanvikapoor #sharansharma</td>\n",
              "      <td>1294398885654220800</td>\n",
              "      <td>https://twitter.com/MeerraChopra/status/129439...</td>\n",
              "      <td>#GunjanSaxena is such a brilliant film that ul...</td>\n",
              "      <td>['#', 'GunjanSaxena', 'is', 'such', 'a', 'bril...</td>\n",
              "      <td>gunjansaxena brilliant film ull get adrenalin ...</td>\n",
              "      <td>gunjansaxena brilliant film ull get adrenaline...</td>\n",
              "    </tr>\n",
              "    <tr>\n",
              "      <th>...</th>\n",
              "      <td>...</td>\n",
              "      <td>...</td>\n",
              "      <td>...</td>\n",
              "      <td>...</td>\n",
              "      <td>...</td>\n",
              "      <td>...</td>\n",
              "      <td>...</td>\n",
              "      <td>...</td>\n",
              "      <td>...</td>\n",
              "      <td>...</td>\n",
              "      <td>...</td>\n",
              "      <td>...</td>\n",
              "      <td>...</td>\n",
              "      <td>...</td>\n",
              "      <td>...</td>\n",
              "      <td>...</td>\n",
              "    </tr>\n",
              "    <tr>\n",
              "      <th>266324</th>\n",
              "      <td>2010-09-14 07:26:25</td>\n",
              "      <td>krist0ph3r</td>\n",
              "      <td>NaN</td>\n",
              "      <td>0</td>\n",
              "      <td>0</td>\n",
              "      <td>0</td>\n",
              "      <td>I stand corrected. there is, indeed, a vaccine...</td>\n",
              "      <td>NaN</td>\n",
              "      <td>@mizarcle</td>\n",
              "      <td>NaN</td>\n",
              "      <td>24456504000</td>\n",
              "      <td>https://twitter.com/krist0ph3r/status/24456504000</td>\n",
              "      <td>I stand corrected. there is, indeed, a vaccine...</td>\n",
              "      <td>['I', 'stand', 'corrected', '.', 'there', 'is'...</td>\n",
              "      <td>stand correct inde vaccin cervic cancer except...</td>\n",
              "      <td>stand corrected indeed vaccine cervical cancer...</td>\n",
              "    </tr>\n",
              "    <tr>\n",
              "      <th>266325</th>\n",
              "      <td>2010-09-14 07:15:04</td>\n",
              "      <td>krist0ph3r</td>\n",
              "      <td>NaN</td>\n",
              "      <td>0</td>\n",
              "      <td>0</td>\n",
              "      <td>0</td>\n",
              "      <td>#iWant! RT @24HoursLoot The Four Elements of a...</td>\n",
              "      <td>NaN</td>\n",
              "      <td>@24HoursLoot</td>\n",
              "      <td>#iWant</td>\n",
              "      <td>24456008845</td>\n",
              "      <td>https://twitter.com/krist0ph3r/status/24456008845</td>\n",
              "      <td>#iWant! RT @24HoursLoot The Four Elements of a...</td>\n",
              "      <td>['#', 'iWant', '!', 'RT', '@', '24HoursLoot', ...</td>\n",
              "      <td>iwant rt hoursloot four element human geek lif...</td>\n",
              "      <td>iwant rt hoursloot four element human geek lif...</td>\n",
              "    </tr>\n",
              "    <tr>\n",
              "      <th>266326</th>\n",
              "      <td>2010-09-14 07:12:15</td>\n",
              "      <td>krist0ph3r</td>\n",
              "      <td>NaN</td>\n",
              "      <td>0</td>\n",
              "      <td>0</td>\n",
              "      <td>0</td>\n",
              "      <td>there's a vaccine? don't think cancer can be v...</td>\n",
              "      <td>NaN</td>\n",
              "      <td>@mizarcle</td>\n",
              "      <td>NaN</td>\n",
              "      <td>24455883030</td>\n",
              "      <td>https://twitter.com/krist0ph3r/status/24455883030</td>\n",
              "      <td>there's a vaccine? don't think cancer can be v...</td>\n",
              "      <td>['there', \"'s\", 'a', 'vaccine', '?', 'do', \"n'...</td>\n",
              "      <td>vaccin think cancer vaccin rt mizarcl anyon ta...</td>\n",
              "      <td>vaccine think cancer vaccinated rt mizarcle an...</td>\n",
              "    </tr>\n",
              "    <tr>\n",
              "      <th>266327</th>\n",
              "      <td>2010-09-14 07:10:56</td>\n",
              "      <td>krist0ph3r</td>\n",
              "      <td>NaN</td>\n",
              "      <td>0</td>\n",
              "      <td>0</td>\n",
              "      <td>0</td>\n",
              "      <td>#nowplaying gareth emery - exposure #awesomeness</td>\n",
              "      <td>NaN</td>\n",
              "      <td>NaN</td>\n",
              "      <td>#nowplaying #awesomeness</td>\n",
              "      <td>24455823620</td>\n",
              "      <td>https://twitter.com/krist0ph3r/status/24455823620</td>\n",
              "      <td>#nowplaying gareth emery - exposure #awesomeness</td>\n",
              "      <td>['#', 'nowplaying', 'gareth', 'emery', '-', 'e...</td>\n",
              "      <td>nowplay gareth emeri exposur awesom</td>\n",
              "      <td>nowplaying gareth emery exposure awesomeness</td>\n",
              "    </tr>\n",
              "    <tr>\n",
              "      <th>266328</th>\n",
              "      <td>2010-09-14 05:21:30</td>\n",
              "      <td>krist0ph3r</td>\n",
              "      <td>NaN</td>\n",
              "      <td>0</td>\n",
              "      <td>0</td>\n",
              "      <td>0</td>\n",
              "      <td>friend was waiting for me to step into office ...</td>\n",
              "      <td>NaN</td>\n",
              "      <td>NaN</td>\n",
              "      <td>NaN</td>\n",
              "      <td>24450570759</td>\n",
              "      <td>https://twitter.com/krist0ph3r/status/24450570759</td>\n",
              "      <td>friend was waiting for me to step into office ...</td>\n",
              "      <td>['friend', 'was', 'waiting', 'for', 'me', 'to'...</td>\n",
              "      <td>friend wait step offic tell news suzuki firebl...</td>\n",
              "      <td>friend waiting step office tell news suzuki fi...</td>\n",
              "    </tr>\n",
              "  </tbody>\n",
              "</table>\n",
              "<p>266329 rows × 16 columns</p>\n",
              "</div>"
            ],
            "text/plain": [
              "                      date  ...                        lemmatized_stopwordsRemoved\n",
              "0      2020-08-14 23:40:49  ...                         andrew send copy love read\n",
              "1      2020-08-14 23:29:59  ...  coming true right ishkarnbhandarihttps twitter...\n",
              "2      2020-08-14 23:27:45  ...  wishing everyone happy independence day time g...\n",
              "3      2020-08-14 23:09:49  ...            usually approach first probably special\n",
              "4      2020-08-14 22:21:57  ...  gunjansaxena brilliant film ull get adrenaline...\n",
              "...                    ...  ...                                                ...\n",
              "266324 2010-09-14 07:26:25  ...  stand corrected indeed vaccine cervical cancer...\n",
              "266325 2010-09-14 07:15:04  ...  iwant rt hoursloot four element human geek lif...\n",
              "266326 2010-09-14 07:12:15  ...  vaccine think cancer vaccinated rt mizarcle an...\n",
              "266327 2010-09-14 07:10:56  ...       nowplaying gareth emery exposure awesomeness\n",
              "266328 2010-09-14 05:21:30  ...  friend waiting step office tell news suzuki fi...\n",
              "\n",
              "[266329 rows x 16 columns]"
            ]
          },
          "metadata": {
            "tags": []
          },
          "execution_count": 8
        }
      ]
    },
    {
      "cell_type": "code",
      "metadata": {
        "id": "D5oKBZPVeMT4",
        "colab_type": "code",
        "colab": {
          "base_uri": "https://localhost:8080/",
          "height": 35
        },
        "outputId": "6f34c86f-e25a-4d9f-bc42-cb9d2418e714"
      },
      "source": [
        "df_combined.stemming_stopwordsRemoved.isna().sum()     ### final check on null value rows"
      ],
      "execution_count": 9,
      "outputs": [
        {
          "output_type": "execute_result",
          "data": {
            "text/plain": [
              "0"
            ]
          },
          "metadata": {
            "tags": []
          },
          "execution_count": 9
        }
      ]
    },
    {
      "cell_type": "code",
      "metadata": {
        "id": "DLXVwIiTob6C",
        "colab_type": "code",
        "colab": {
          "base_uri": "https://localhost:8080/",
          "height": 35
        },
        "outputId": "fe78f0bc-ed37-4121-fd09-816f96358aa3"
      },
      "source": [
        "df_combined.lemmatized_stopwordsRemoved.isna().sum()"
      ],
      "execution_count": 10,
      "outputs": [
        {
          "output_type": "execute_result",
          "data": {
            "text/plain": [
              "0"
            ]
          },
          "metadata": {
            "tags": []
          },
          "execution_count": 10
        }
      ]
    },
    {
      "cell_type": "code",
      "metadata": {
        "id": "gyMbilXUeM21",
        "colab_type": "code",
        "colab": {}
      },
      "source": [
        "sentences=df_combined.stemming_stopwordsRemoved.tolist()     ### to convert a particular column into a list"
      ],
      "execution_count": 11,
      "outputs": []
    },
    {
      "cell_type": "code",
      "metadata": {
        "id": "SxczE7LBofVe",
        "colab_type": "code",
        "colab": {}
      },
      "source": [
        "sentences1=df_combined.lemmatized_stopwordsRemoved.tolist()"
      ],
      "execution_count": 12,
      "outputs": []
    },
    {
      "cell_type": "markdown",
      "metadata": {
        "id": "GLPw-yN2bVkO",
        "colab_type": "text"
      },
      "source": [
        "# **BAG OF WORDS**"
      ]
    },
    {
      "cell_type": "code",
      "metadata": {
        "id": "iXBitDh3bfzM",
        "colab_type": "code",
        "colab": {}
      },
      "source": [
        "# from sklearn.feature_extraction.text import CountVectorizer\n",
        "# cv=CountVectorizer(max_features=2500)\n",
        "# X1=cv.fit_transform(sentences).toarray()   ### for stemming\n",
        "# X1   ### array of features"
      ],
      "execution_count": 13,
      "outputs": []
    },
    {
      "cell_type": "code",
      "metadata": {
        "id": "DT-kTRtemat_",
        "colab_type": "code",
        "colab": {}
      },
      "source": [
        "# print(cv.get_feature_names())  ### to get the feature names      ###### for stemming\n",
        "# print(cv.get_params())"
      ],
      "execution_count": 14,
      "outputs": []
    },
    {
      "cell_type": "code",
      "metadata": {
        "id": "ceQ6tITsIcmY",
        "colab_type": "code",
        "colab": {}
      },
      "source": [
        "# df_bow=pd.DataFrame(X1,columns=cv.get_feature_names())\n",
        "# df_bow"
      ],
      "execution_count": 15,
      "outputs": []
    },
    {
      "cell_type": "code",
      "metadata": {
        "id": "7k9wzoSjow2x",
        "colab_type": "code",
        "colab": {}
      },
      "source": [
        "# X1_1=cv.fit_transform(sentences1).toarray()    ### for lemmatization\n",
        "# X1_1"
      ],
      "execution_count": 16,
      "outputs": []
    },
    {
      "cell_type": "code",
      "metadata": {
        "id": "FYRggGtCpDi3",
        "colab_type": "code",
        "colab": {}
      },
      "source": [
        "# print(cv.get_feature_names())  ### for lemmatization"
      ],
      "execution_count": 17,
      "outputs": []
    },
    {
      "cell_type": "code",
      "metadata": {
        "id": "DPE6xHz6tmIh",
        "colab_type": "code",
        "colab": {}
      },
      "source": [
        "# X1.shape"
      ],
      "execution_count": 18,
      "outputs": []
    },
    {
      "cell_type": "markdown",
      "metadata": {
        "id": "cZsbCgNNeseY",
        "colab_type": "text"
      },
      "source": [
        "# **TERM FREQUENCY - INVERSE DOCUMENT FREQUENCY**"
      ]
    },
    {
      "cell_type": "code",
      "metadata": {
        "id": "Ez1k49b7b4_R",
        "colab_type": "code",
        "colab": {}
      },
      "source": [
        "# from sklearn.feature_extraction.text import TfidfVectorizer\n",
        "# tfidf=TfidfVectorizer(max_features=1000)\n",
        "# X2=tfidf.fit_transform(sentences).toarray()     ### for stemming\n",
        "# X2   ### array of features"
      ],
      "execution_count": 19,
      "outputs": []
    },
    {
      "cell_type": "code",
      "metadata": {
        "id": "7sA780nYgljK",
        "colab_type": "code",
        "colab": {}
      },
      "source": [
        "# print(tfidf.get_feature_names())   ### to get the feature names"
      ],
      "execution_count": 20,
      "outputs": []
    },
    {
      "cell_type": "code",
      "metadata": {
        "id": "8knRU5c-m5VP",
        "colab_type": "code",
        "colab": {}
      },
      "source": [
        "# X2_1=tfidf.fit_transform(sentences1).toarray()    ### lemmatization\n",
        "# X2_1"
      ],
      "execution_count": 21,
      "outputs": []
    },
    {
      "cell_type": "code",
      "metadata": {
        "id": "Zo1125Yzq6Xy",
        "colab_type": "code",
        "colab": {}
      },
      "source": [
        "# print(tfidf.get_feature_names())"
      ],
      "execution_count": 22,
      "outputs": []
    },
    {
      "cell_type": "markdown",
      "metadata": {
        "id": "H7H6xNIl4zsI",
        "colab_type": "text"
      },
      "source": [
        "# **WORD2VEC**"
      ]
    },
    {
      "cell_type": "code",
      "metadata": {
        "id": "fIRunvhk4yiR",
        "colab_type": "code",
        "colab": {}
      },
      "source": [
        "from gensim.models import Word2Vec\n",
        "import re\n",
        "from nltk.corpus import stopwords"
      ],
      "execution_count": 23,
      "outputs": []
    },
    {
      "cell_type": "code",
      "metadata": {
        "id": "YCqAUpEU9sOZ",
        "colab_type": "code",
        "colab": {}
      },
      "source": [
        "senten=[]"
      ],
      "execution_count": 24,
      "outputs": []
    },
    {
      "cell_type": "code",
      "metadata": {
        "id": "NoLwqPRoj_pU",
        "colab_type": "code",
        "colab": {}
      },
      "source": [
        "for i in range(len(df_combined.text)):\n",
        "  words=re.sub(\"[^A-Za-z]\",\" \",df_combined.text[i])\n",
        "  words=words.lower()\n",
        "  senten.append(words)"
      ],
      "execution_count": 25,
      "outputs": []
    },
    {
      "cell_type": "code",
      "metadata": {
        "id": "D-12DWKDXmkb",
        "colab_type": "code",
        "colab": {}
      },
      "source": [
        "senten_1=[]\n",
        "\n",
        "for i in range(len(senten)):\n",
        "  words=[]\n",
        "  for word in senten[i].split():\n",
        "    if (word not in set (stopwords.words('english'))):  \n",
        "      words.append(word)\n",
        "  senten_1.append(list(words))\n"
      ],
      "execution_count": 37,
      "outputs": []
    },
    {
      "cell_type": "code",
      "metadata": {
        "id": "zlEeKZ8bW5uF",
        "colab_type": "code",
        "colab": {
          "base_uri": "https://localhost:8080/",
          "height": 35
        },
        "outputId": "28cf3a70-19b9-44c0-8d6a-7c3e90de5bf0"
      },
      "source": [
        "nltk.word_tokenize(senten[7])"
      ],
      "execution_count": 39,
      "outputs": [
        {
          "output_type": "execute_result",
          "data": {
            "text/plain": [
              "['please', 'say', 'something', 'for', 'amaal', 'mallik', 'askshreya']"
            ]
          },
          "metadata": {
            "tags": []
          },
          "execution_count": 39
        }
      ]
    },
    {
      "cell_type": "code",
      "metadata": {
        "id": "s5sCWErWgVO7",
        "colab_type": "code",
        "colab": {
          "base_uri": "https://localhost:8080/",
          "height": 35
        },
        "outputId": "886310a7-952e-46fe-a0af-583d3e0df80d"
      },
      "source": [
        "senten_1[7]"
      ],
      "execution_count": 40,
      "outputs": [
        {
          "output_type": "execute_result",
          "data": {
            "text/plain": [
              "['please', 'say', 'something', 'amaal', 'mallik', 'askshreya']"
            ]
          },
          "metadata": {
            "tags": []
          },
          "execution_count": 40
        }
      ]
    },
    {
      "cell_type": "code",
      "metadata": {
        "id": "La5ZaeB2qvYA",
        "colab_type": "code",
        "colab": {
          "base_uri": "https://localhost:8080/",
          "height": 306
        },
        "outputId": "ce36a6c5-8840-4a8a-a38f-436af4a5da18"
      },
      "source": [
        "count_plot=nltk.FreqDist(senten_1[10])\n",
        "count_plot.plot()"
      ],
      "execution_count": 45,
      "outputs": [
        {
          "output_type": "display_data",
          "data": {
            "image/png": "[encoded data removed]",
            "text/plain": [
              "<Figure size 432x288 with 1 Axes>"
            ]
          },
          "metadata": {
            "tags": [],
            "needs_background": "light"
          }
        }
      ]
    },
    {
      "cell_type": "code",
      "metadata": {
        "id": "0WTJXy6wHWRc",
        "colab_type": "code",
        "colab": {}
      },
      "source": [
        "## Training the Word2Vec model\n",
        "model=Word2Vec(senten_1,min_count=5)\n",
        "\n"
      ],
      "execution_count": 46,
      "outputs": []
    },
    {
      "cell_type": "code",
      "metadata": {
        "id": "vazZpbwgHrq4",
        "colab_type": "code",
        "colab": {}
      },
      "source": [
        "word=model.wv.vocab\n",
        "#word"
      ],
      "execution_count": 50,
      "outputs": []
    },
    {
      "cell_type": "code",
      "metadata": {
        "id": "xpm_2lorH1ax",
        "colab_type": "code",
        "colab": {
          "base_uri": "https://localhost:8080/",
          "height": 381
        },
        "outputId": "a901cee0-a292-4ed7-c4d3-0d913ba078be"
      },
      "source": [
        "## to find the vector for a particular word\n",
        "vector=model.wv['depression']\n",
        "vector"
      ],
      "execution_count": 51,
      "outputs": [
        {
          "output_type": "execute_result",
          "data": {
            "text/plain": [
              "array([ 0.68043035,  0.01049844, -0.46485877,  0.5807302 , -0.12374185,\n",
              "       -0.75990134, -0.25537646,  0.00419424,  0.10576321, -0.5044135 ,\n",
              "        0.30075896, -0.44033286, -0.70646906, -0.6772808 , -0.14589737,\n",
              "        0.5096586 , -0.168075  , -0.20308338, -1.017044  ,  0.8577469 ,\n",
              "       -0.30610508, -0.34639868,  0.34742394, -0.5392344 , -0.55708027,\n",
              "        0.2002801 ,  0.47399867, -0.3186919 , -0.12359994,  0.5802101 ,\n",
              "        0.5607315 ,  0.35867468,  0.78525084, -0.18282484,  0.13571271,\n",
              "        0.16769563,  0.00675667, -0.42687413,  0.04714834, -0.12268312,\n",
              "        0.23362514,  0.3017155 ,  0.27204007,  0.39862564,  0.2444659 ,\n",
              "        0.1709637 ,  0.31873807,  0.32477212, -0.0264409 ,  0.39900407,\n",
              "        0.5638017 , -0.09636617,  0.35698822,  0.20662932,  0.07618102,\n",
              "       -0.67296445,  0.2035227 ,  0.14253621,  0.0075208 ,  0.11811877,\n",
              "        0.2624364 ,  0.10124448, -0.13934103, -0.13951659, -0.3074161 ,\n",
              "        0.15923199, -0.49224266,  0.63529456, -0.08137842,  0.48678324,\n",
              "       -0.23320183, -0.13832985, -0.14271432, -0.22854568,  0.24963327,\n",
              "        0.09847692,  0.47532824,  0.21593364,  0.3553584 ,  0.38350642,\n",
              "       -0.20526622,  0.14688332, -0.11508717,  0.8184473 , -0.18978731,\n",
              "       -0.35116372, -0.53566617,  0.10266937,  0.65836424, -0.30385026,\n",
              "        0.11351286,  0.23346545,  0.07104003,  0.0627521 , -0.17061391,\n",
              "       -0.5527446 ,  0.09929453, -0.12048063,  0.02628351, -0.06364364],\n",
              "      dtype=float32)"
            ]
          },
          "metadata": {
            "tags": []
          },
          "execution_count": 51
        }
      ]
    },
    {
      "cell_type": "code",
      "metadata": {
        "id": "cwDQASn4H1gQ",
        "colab_type": "code",
        "colab": {
          "base_uri": "https://localhost:8080/",
          "height": 72
        },
        "outputId": "1478d8ad-afff-42bc-ee73-65091a22a67a"
      },
      "source": [
        "## to find similar words\n",
        "keyword = [\"depression\",\"depressed\",\"anxiety\",\"overwhelmed\",\"exhausted\",\"distressed\",\"anxious\",\"tired\",\"low\",\"discouraged\",\"desperate\",\"insomnia\",\"cry\",\"nervous\",\"worried\",\"lonely\",\"sad\",\"empty\"]\n",
        "\n",
        "### word \"demotivated\" is not there in the dictionary\n",
        "\n",
        "similar=[]\n",
        "for i in keyword:\n",
        "  similar.append(model.wv.most_similar(i))\n"
      ],
      "execution_count": 60,
      "outputs": [
        {
          "output_type": "stream",
          "text": [
            "/usr/local/lib/python3.6/dist-packages/gensim/matutils.py:737: FutureWarning: Conversion of the second argument of issubdtype from `int` to `np.signedinteger` is deprecated. In future, it will be treated as `np.int64 == np.dtype(int).type`.\n",
            "  if np.issubdtype(vec.dtype, np.int):\n"
          ],
          "name": "stderr"
        }
      ]
    },
    {
      "cell_type": "code",
      "metadata": {
        "id": "Rq8bTn1-ol_0",
        "colab_type": "code",
        "colab": {
          "base_uri": "https://localhost:8080/",
          "height": 35
        },
        "outputId": "8c2ea197-13fe-475a-b059-27e50ed568f2"
      },
      "source": [
        "import itertools\n",
        "merged = list(itertools.chain.from_iterable(similar))\n",
        "mergedList=list(set (merged))\n",
        "print(len(mergedList))"
      ],
      "execution_count": 82,
      "outputs": [
        {
          "output_type": "stream",
          "text": [
            "180\n"
          ],
          "name": "stdout"
        }
      ]
    },
    {
      "cell_type": "code",
      "metadata": {
        "id": "sWKAfZ3B-BmY",
        "colab_type": "code",
        "colab": {}
      },
      "source": [
        "from sklearn.naive_bayes import MultinomialNB\n",
        "from sklearn.linear_model import PassiveAggressiveClassifier"
      ],
      "execution_count": 83,
      "outputs": []
    },
    {
      "cell_type": "code",
      "metadata": {
        "id": "1MdRsYAWrzNM",
        "colab_type": "code",
        "colab": {}
      },
      "source": [
        ""
      ],
      "execution_count": null,
      "outputs": []
    }
  ]
}
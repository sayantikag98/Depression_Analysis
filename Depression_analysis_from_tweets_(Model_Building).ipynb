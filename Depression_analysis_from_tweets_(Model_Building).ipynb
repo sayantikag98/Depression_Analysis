{
  "nbformat": 4,
  "nbformat_minor": 0,
  "metadata": {
    "colab": {
      "name": "Depression analysis from tweets (Model Building).ipynb",
      "provenance": [],
      "collapsed_sections": [],
      "mount_file_id": "1D0FSUFkfeQXVPogFSXcZGaG9BPN2LNtF",
      "authorship_tag": "ABX9TyNDjlLFBWv072CxThlzIVc8",
      "include_colab_link": true
    },
    "kernelspec": {
      "name": "python3",
      "display_name": "Python 3"
    },
    "accelerator": "GPU"
  },
  "cells": [
    {
      "cell_type": "markdown",
      "metadata": {
        "id": "view-in-github",
        "colab_type": "text"
      },
      "source": [
        "<a href=\"https://colab.research.google.com/github/sayantikag98/Depression_Analysis/blob/master/Depression_analysis_from_tweets_(Model_Building).ipynb\" target=\"_parent\"><img src=\"https://colab.research.google.com/assets/colab-badge.svg\" alt=\"Open In Colab\"/></a>"
      ]
    },
    {
      "cell_type": "code",
      "metadata": {
        "id": "0rLt8vB4Yytj",
        "colab_type": "code",
        "colab": {}
      },
      "source": [
        "import nltk    ### nltk library"
      ],
      "execution_count": 1,
      "outputs": []
    },
    {
      "cell_type": "code",
      "metadata": {
        "id": "jmRxzdH4ZXcS",
        "colab_type": "code",
        "colab": {
          "base_uri": "https://localhost:8080/",
          "height": 867
        },
        "outputId": "773fcbff-196a-4626-d6a9-2d5d91299c1d"
      },
      "source": [
        "nltk.download('popular')"
      ],
      "execution_count": 2,
      "outputs": [
        {
          "output_type": "stream",
          "text": [
            "[nltk_data] Downloading collection 'popular'\n",
            "[nltk_data]    | \n",
            "[nltk_data]    | Downloading package cmudict to /root/nltk_data...\n",
            "[nltk_data]    |   Package cmudict is already up-to-date!\n",
            "[nltk_data]    | Downloading package gazetteers to /root/nltk_data...\n",
            "[nltk_data]    |   Package gazetteers is already up-to-date!\n",
            "[nltk_data]    | Downloading package genesis to /root/nltk_data...\n",
            "[nltk_data]    |   Package genesis is already up-to-date!\n",
            "[nltk_data]    | Downloading package gutenberg to /root/nltk_data...\n",
            "[nltk_data]    |   Package gutenberg is already up-to-date!\n",
            "[nltk_data]    | Downloading package inaugural to /root/nltk_data...\n",
            "[nltk_data]    |   Package inaugural is already up-to-date!\n",
            "[nltk_data]    | Downloading package movie_reviews to\n",
            "[nltk_data]    |     /root/nltk_data...\n",
            "[nltk_data]    |   Package movie_reviews is already up-to-date!\n",
            "[nltk_data]    | Downloading package names to /root/nltk_data...\n",
            "[nltk_data]    |   Package names is already up-to-date!\n",
            "[nltk_data]    | Downloading package shakespeare to /root/nltk_data...\n",
            "[nltk_data]    |   Package shakespeare is already up-to-date!\n",
            "[nltk_data]    | Downloading package stopwords to /root/nltk_data...\n",
            "[nltk_data]    |   Package stopwords is already up-to-date!\n",
            "[nltk_data]    | Downloading package treebank to /root/nltk_data...\n",
            "[nltk_data]    |   Package treebank is already up-to-date!\n",
            "[nltk_data]    | Downloading package twitter_samples to\n",
            "[nltk_data]    |     /root/nltk_data...\n",
            "[nltk_data]    |   Package twitter_samples is already up-to-date!\n",
            "[nltk_data]    | Downloading package omw to /root/nltk_data...\n",
            "[nltk_data]    |   Package omw is already up-to-date!\n",
            "[nltk_data]    | Downloading package wordnet to /root/nltk_data...\n",
            "[nltk_data]    |   Package wordnet is already up-to-date!\n",
            "[nltk_data]    | Downloading package wordnet_ic to /root/nltk_data...\n",
            "[nltk_data]    |   Package wordnet_ic is already up-to-date!\n",
            "[nltk_data]    | Downloading package words to /root/nltk_data...\n",
            "[nltk_data]    |   Package words is already up-to-date!\n",
            "[nltk_data]    | Downloading package maxent_ne_chunker to\n",
            "[nltk_data]    |     /root/nltk_data...\n",
            "[nltk_data]    |   Package maxent_ne_chunker is already up-to-date!\n",
            "[nltk_data]    | Downloading package punkt to /root/nltk_data...\n",
            "[nltk_data]    |   Package punkt is already up-to-date!\n",
            "[nltk_data]    | Downloading package snowball_data to\n",
            "[nltk_data]    |     /root/nltk_data...\n",
            "[nltk_data]    |   Package snowball_data is already up-to-date!\n",
            "[nltk_data]    | Downloading package averaged_perceptron_tagger to\n",
            "[nltk_data]    |     /root/nltk_data...\n",
            "[nltk_data]    |   Package averaged_perceptron_tagger is already up-\n",
            "[nltk_data]    |       to-date!\n",
            "[nltk_data]    | \n",
            "[nltk_data]  Done downloading collection popular\n"
          ],
          "name": "stdout"
        },
        {
          "output_type": "execute_result",
          "data": {
            "text/plain": [
              "True"
            ]
          },
          "metadata": {
            "tags": []
          },
          "execution_count": 2
        }
      ]
    },
    {
      "cell_type": "code",
      "metadata": {
        "id": "bqJ0cFwLZdqX",
        "colab_type": "code",
        "colab": {}
      },
      "source": [
        "import pandas as pd\n",
        "df_combined=pd.read_csv('drive/My Drive/pre_final1.csv',parse_dates=['date'],encoding='utf-8')"
      ],
      "execution_count": 3,
      "outputs": []
    },
    {
      "cell_type": "code",
      "metadata": {
        "id": "cQcQlobBacgZ",
        "colab_type": "code",
        "colab": {
          "base_uri": "https://localhost:8080/",
          "height": 955
        },
        "outputId": "459d0e5f-3c75-41f3-dae0-931f84842cb5"
      },
      "source": [
        "df_combined"
      ],
      "execution_count": 4,
      "outputs": [
        {
          "output_type": "execute_result",
          "data": {
            "text/html": [
              "<div>\n",
              "<style scoped>\n",
              "    .dataframe tbody tr th:only-of-type {\n",
              "        vertical-align: middle;\n",
              "    }\n",
              "\n",
              "    .dataframe tbody tr th {\n",
              "        vertical-align: top;\n",
              "    }\n",
              "\n",
              "    .dataframe thead th {\n",
              "        text-align: right;\n",
              "    }\n",
              "</style>\n",
              "<table border=\"1\" class=\"dataframe\">\n",
              "  <thead>\n",
              "    <tr style=\"text-align: right;\">\n",
              "      <th></th>\n",
              "      <th>date</th>\n",
              "      <th>username</th>\n",
              "      <th>to</th>\n",
              "      <th>replies</th>\n",
              "      <th>retweets</th>\n",
              "      <th>favorites</th>\n",
              "      <th>text</th>\n",
              "      <th>geo</th>\n",
              "      <th>mentions</th>\n",
              "      <th>hashtags</th>\n",
              "      <th>id</th>\n",
              "      <th>permalink</th>\n",
              "      <th>sentences</th>\n",
              "      <th>text_tokenized</th>\n",
              "      <th>stemming_stopwordsRemoved</th>\n",
              "      <th>lemmatized_stopwordsRemoved</th>\n",
              "    </tr>\n",
              "  </thead>\n",
              "  <tbody>\n",
              "    <tr>\n",
              "      <th>0</th>\n",
              "      <td>2020-08-14 23:40:49</td>\n",
              "      <td>DalrympleWill</td>\n",
              "      <td>HearaichHerald</td>\n",
              "      <td>2</td>\n",
              "      <td>0</td>\n",
              "      <td>3</td>\n",
              "      <td>Andrew do send me a copy! Love to read it</td>\n",
              "      <td>NaN</td>\n",
              "      <td>NaN</td>\n",
              "      <td>NaN</td>\n",
              "      <td>1294418731251138562</td>\n",
              "      <td>https://twitter.com/DalrympleWill/status/12944...</td>\n",
              "      <td>Andrew do send me a copy! Love to read it</td>\n",
              "      <td>['Andrew', 'do', 'send', 'me', 'a', 'copy', '!...</td>\n",
              "      <td>andrew send copi love read</td>\n",
              "      <td>andrew send copy love read</td>\n",
              "    </tr>\n",
              "    <tr>\n",
              "      <th>1</th>\n",
              "      <td>2020-08-14 23:29:59</td>\n",
              "      <td>lostboy54</td>\n",
              "      <td>ishkarnBHANDARI</td>\n",
              "      <td>10</td>\n",
              "      <td>85</td>\n",
              "      <td>403</td>\n",
              "      <td>This is all coming true. You were right @ishka...</td>\n",
              "      <td>NaN</td>\n",
              "      <td>@ishkarnBHANDARIhttps</td>\n",
              "      <td>NaN</td>\n",
              "      <td>1294416005674889216</td>\n",
              "      <td>https://twitter.com/lostboy54/status/129441600...</td>\n",
              "      <td>This is all coming true. You were right @ishka...</td>\n",
              "      <td>['This', 'is', 'all', 'coming', 'true', '.', '...</td>\n",
              "      <td>come true right ishkarnbhandarihttp twitter co...</td>\n",
              "      <td>coming true right ishkarnbhandarihttps twitter...</td>\n",
              "    </tr>\n",
              "    <tr>\n",
              "      <th>2</th>\n",
              "      <td>2020-08-14 23:27:45</td>\n",
              "      <td>srijanpalsingh</td>\n",
              "      <td>NaN</td>\n",
              "      <td>3</td>\n",
              "      <td>34</td>\n",
              "      <td>151</td>\n",
              "      <td>Wishing everyone a very happy Independence Day...</td>\n",
              "      <td>NaN</td>\n",
              "      <td>NaN</td>\n",
              "      <td>#India #JaiHind #Kalam #IndependenceDay #Indep...</td>\n",
              "      <td>1294415445609472000</td>\n",
              "      <td>https://twitter.com/srijanpalsingh/status/1294...</td>\n",
              "      <td>Wishing everyone a very happy Independence Day...</td>\n",
              "      <td>['Wishing', 'everyone', 'a', 'very', 'happy', ...</td>\n",
              "      <td>wish everyon happi independ day time gratitud ...</td>\n",
              "      <td>wishing everyone happy independence day time g...</td>\n",
              "    </tr>\n",
              "    <tr>\n",
              "      <th>3</th>\n",
              "      <td>2020-08-14 23:09:49</td>\n",
              "      <td>AAlHamoud7</td>\n",
              "      <td>NaN</td>\n",
              "      <td>0</td>\n",
              "      <td>0</td>\n",
              "      <td>7</td>\n",
              "      <td>I don’t usually approach first, so when I do, ...</td>\n",
              "      <td>NaN</td>\n",
              "      <td>NaN</td>\n",
              "      <td>NaN</td>\n",
              "      <td>1294410930458173440</td>\n",
              "      <td>https://twitter.com/AAlHamoud7/status/12944109...</td>\n",
              "      <td>I don’t usually approach first, so when I do, ...</td>\n",
              "      <td>['I', 'don', '’', 't', 'usually', 'approach', ...</td>\n",
              "      <td>usual approach first probabl special</td>\n",
              "      <td>usually approach first probably special</td>\n",
              "    </tr>\n",
              "    <tr>\n",
              "      <th>4</th>\n",
              "      <td>2020-08-14 22:21:57</td>\n",
              "      <td>MeerraChopra</td>\n",
              "      <td>NaN</td>\n",
              "      <td>28</td>\n",
              "      <td>19</td>\n",
              "      <td>278</td>\n",
              "      <td>#GunjanSaxena is such a brilliant film that ul...</td>\n",
              "      <td>NaN</td>\n",
              "      <td>@TripathiiPankaj</td>\n",
              "      <td>#GunjanSaxena #jhanvikapoor #sharansharma</td>\n",
              "      <td>1294398885654220800</td>\n",
              "      <td>https://twitter.com/MeerraChopra/status/129439...</td>\n",
              "      <td>#GunjanSaxena is such a brilliant film that ul...</td>\n",
              "      <td>['#', 'GunjanSaxena', 'is', 'such', 'a', 'bril...</td>\n",
              "      <td>gunjansaxena brilliant film ull get adrenalin ...</td>\n",
              "      <td>gunjansaxena brilliant film ull get adrenaline...</td>\n",
              "    </tr>\n",
              "    <tr>\n",
              "      <th>...</th>\n",
              "      <td>...</td>\n",
              "      <td>...</td>\n",
              "      <td>...</td>\n",
              "      <td>...</td>\n",
              "      <td>...</td>\n",
              "      <td>...</td>\n",
              "      <td>...</td>\n",
              "      <td>...</td>\n",
              "      <td>...</td>\n",
              "      <td>...</td>\n",
              "      <td>...</td>\n",
              "      <td>...</td>\n",
              "      <td>...</td>\n",
              "      <td>...</td>\n",
              "      <td>...</td>\n",
              "      <td>...</td>\n",
              "    </tr>\n",
              "    <tr>\n",
              "      <th>266472</th>\n",
              "      <td>2010-09-14 07:26:25</td>\n",
              "      <td>krist0ph3r</td>\n",
              "      <td>NaN</td>\n",
              "      <td>0</td>\n",
              "      <td>0</td>\n",
              "      <td>0</td>\n",
              "      <td>I stand corrected. there is, indeed, a vaccine...</td>\n",
              "      <td>NaN</td>\n",
              "      <td>@mizarcle</td>\n",
              "      <td>NaN</td>\n",
              "      <td>24456504000</td>\n",
              "      <td>https://twitter.com/krist0ph3r/status/24456504000</td>\n",
              "      <td>I stand corrected. there is, indeed, a vaccine...</td>\n",
              "      <td>['I', 'stand', 'corrected', '.', 'there', 'is'...</td>\n",
              "      <td>stand correct inde vaccin cervic cancer except...</td>\n",
              "      <td>stand corrected indeed vaccine cervical cancer...</td>\n",
              "    </tr>\n",
              "    <tr>\n",
              "      <th>266473</th>\n",
              "      <td>2010-09-14 07:15:04</td>\n",
              "      <td>krist0ph3r</td>\n",
              "      <td>NaN</td>\n",
              "      <td>0</td>\n",
              "      <td>0</td>\n",
              "      <td>0</td>\n",
              "      <td>#iWant! RT @24HoursLoot The Four Elements of a...</td>\n",
              "      <td>NaN</td>\n",
              "      <td>@24HoursLoot</td>\n",
              "      <td>#iWant</td>\n",
              "      <td>24456008845</td>\n",
              "      <td>https://twitter.com/krist0ph3r/status/24456008845</td>\n",
              "      <td>#iWant! RT @24HoursLoot The Four Elements of a...</td>\n",
              "      <td>['#', 'iWant', '!', 'RT', '@', '24HoursLoot', ...</td>\n",
              "      <td>iwant rt hoursloot four element human geek lif...</td>\n",
              "      <td>iwant rt hoursloot four element human geek lif...</td>\n",
              "    </tr>\n",
              "    <tr>\n",
              "      <th>266474</th>\n",
              "      <td>2010-09-14 07:12:15</td>\n",
              "      <td>krist0ph3r</td>\n",
              "      <td>NaN</td>\n",
              "      <td>0</td>\n",
              "      <td>0</td>\n",
              "      <td>0</td>\n",
              "      <td>there's a vaccine? don't think cancer can be v...</td>\n",
              "      <td>NaN</td>\n",
              "      <td>@mizarcle</td>\n",
              "      <td>NaN</td>\n",
              "      <td>24455883030</td>\n",
              "      <td>https://twitter.com/krist0ph3r/status/24455883030</td>\n",
              "      <td>there's a vaccine? don't think cancer can be v...</td>\n",
              "      <td>['there', \"'s\", 'a', 'vaccine', '?', 'do', \"n'...</td>\n",
              "      <td>vaccin think cancer vaccin rt mizarcl anyon ta...</td>\n",
              "      <td>vaccine think cancer vaccinated rt mizarcle an...</td>\n",
              "    </tr>\n",
              "    <tr>\n",
              "      <th>266475</th>\n",
              "      <td>2010-09-14 07:10:56</td>\n",
              "      <td>krist0ph3r</td>\n",
              "      <td>NaN</td>\n",
              "      <td>0</td>\n",
              "      <td>0</td>\n",
              "      <td>0</td>\n",
              "      <td>#nowplaying gareth emery - exposure #awesomeness</td>\n",
              "      <td>NaN</td>\n",
              "      <td>NaN</td>\n",
              "      <td>#nowplaying #awesomeness</td>\n",
              "      <td>24455823620</td>\n",
              "      <td>https://twitter.com/krist0ph3r/status/24455823620</td>\n",
              "      <td>#nowplaying gareth emery - exposure #awesomeness</td>\n",
              "      <td>['#', 'nowplaying', 'gareth', 'emery', '-', 'e...</td>\n",
              "      <td>nowplay gareth emeri exposur awesom</td>\n",
              "      <td>nowplaying gareth emery exposure awesomeness</td>\n",
              "    </tr>\n",
              "    <tr>\n",
              "      <th>266476</th>\n",
              "      <td>2010-09-14 05:21:30</td>\n",
              "      <td>krist0ph3r</td>\n",
              "      <td>NaN</td>\n",
              "      <td>0</td>\n",
              "      <td>0</td>\n",
              "      <td>0</td>\n",
              "      <td>friend was waiting for me to step into office ...</td>\n",
              "      <td>NaN</td>\n",
              "      <td>NaN</td>\n",
              "      <td>NaN</td>\n",
              "      <td>24450570759</td>\n",
              "      <td>https://twitter.com/krist0ph3r/status/24450570759</td>\n",
              "      <td>friend was waiting for me to step into office ...</td>\n",
              "      <td>['friend', 'was', 'waiting', 'for', 'me', 'to'...</td>\n",
              "      <td>friend wait step offic tell news suzuki firebl...</td>\n",
              "      <td>friend waiting step office tell news suzuki fi...</td>\n",
              "    </tr>\n",
              "  </tbody>\n",
              "</table>\n",
              "<p>266477 rows × 16 columns</p>\n",
              "</div>"
            ],
            "text/plain": [
              "                      date  ...                        lemmatized_stopwordsRemoved\n",
              "0      2020-08-14 23:40:49  ...                         andrew send copy love read\n",
              "1      2020-08-14 23:29:59  ...  coming true right ishkarnbhandarihttps twitter...\n",
              "2      2020-08-14 23:27:45  ...  wishing everyone happy independence day time g...\n",
              "3      2020-08-14 23:09:49  ...            usually approach first probably special\n",
              "4      2020-08-14 22:21:57  ...  gunjansaxena brilliant film ull get adrenaline...\n",
              "...                    ...  ...                                                ...\n",
              "266472 2010-09-14 07:26:25  ...  stand corrected indeed vaccine cervical cancer...\n",
              "266473 2010-09-14 07:15:04  ...  iwant rt hoursloot four element human geek lif...\n",
              "266474 2010-09-14 07:12:15  ...  vaccine think cancer vaccinated rt mizarcle an...\n",
              "266475 2010-09-14 07:10:56  ...       nowplaying gareth emery exposure awesomeness\n",
              "266476 2010-09-14 05:21:30  ...  friend waiting step office tell news suzuki fi...\n",
              "\n",
              "[266477 rows x 16 columns]"
            ]
          },
          "metadata": {
            "tags": []
          },
          "execution_count": 4
        }
      ]
    },
    {
      "cell_type": "code",
      "metadata": {
        "id": "2YVvA8jNcANp",
        "colab_type": "code",
        "colab": {
          "base_uri": "https://localhost:8080/",
          "height": 35
        },
        "outputId": "3d70eb03-9c35-4ba3-a169-9c107dc0a17c"
      },
      "source": [
        "df_combined.shape[0]-df_combined.stemming_stopwordsRemoved.isna().sum()    ### to check for the number of non-null rows according to a particular column"
      ],
      "execution_count": 5,
      "outputs": [
        {
          "output_type": "execute_result",
          "data": {
            "text/plain": [
              "266329"
            ]
          },
          "metadata": {
            "tags": []
          },
          "execution_count": 5
        }
      ]
    },
    {
      "cell_type": "code",
      "metadata": {
        "id": "c2PgZFRYoKtE",
        "colab_type": "code",
        "colab": {
          "base_uri": "https://localhost:8080/",
          "height": 35
        },
        "outputId": "05023c7a-427e-421b-c534-762db816e04b"
      },
      "source": [
        "df_combined.lemmatized_stopwordsRemoved.isna().sum()    ### to check for the number of null rows"
      ],
      "execution_count": 6,
      "outputs": [
        {
          "output_type": "execute_result",
          "data": {
            "text/plain": [
              "148"
            ]
          },
          "metadata": {
            "tags": []
          },
          "execution_count": 6
        }
      ]
    },
    {
      "cell_type": "code",
      "metadata": {
        "id": "LX0JTmince6y",
        "colab_type": "code",
        "colab": {}
      },
      "source": [
        "df_combined.dropna(subset=['stemming_stopwordsRemoved'],inplace=True)    ### to drop the rows containing null values"
      ],
      "execution_count": 7,
      "outputs": []
    },
    {
      "cell_type": "code",
      "metadata": {
        "id": "aTtA6F8AB_VL",
        "colab_type": "code",
        "colab": {
          "base_uri": "https://localhost:8080/",
          "height": 955
        },
        "outputId": "079739e4-1eb0-4275-96fe-7cc4d5d16312"
      },
      "source": [
        "df_combined.reset_index(inplace=True,drop=True)    ### to reset index\n",
        "df_combined"
      ],
      "execution_count": 8,
      "outputs": [
        {
          "output_type": "execute_result",
          "data": {
            "text/html": [
              "<div>\n",
              "<style scoped>\n",
              "    .dataframe tbody tr th:only-of-type {\n",
              "        vertical-align: middle;\n",
              "    }\n",
              "\n",
              "    .dataframe tbody tr th {\n",
              "        vertical-align: top;\n",
              "    }\n",
              "\n",
              "    .dataframe thead th {\n",
              "        text-align: right;\n",
              "    }\n",
              "</style>\n",
              "<table border=\"1\" class=\"dataframe\">\n",
              "  <thead>\n",
              "    <tr style=\"text-align: right;\">\n",
              "      <th></th>\n",
              "      <th>date</th>\n",
              "      <th>username</th>\n",
              "      <th>to</th>\n",
              "      <th>replies</th>\n",
              "      <th>retweets</th>\n",
              "      <th>favorites</th>\n",
              "      <th>text</th>\n",
              "      <th>geo</th>\n",
              "      <th>mentions</th>\n",
              "      <th>hashtags</th>\n",
              "      <th>id</th>\n",
              "      <th>permalink</th>\n",
              "      <th>sentences</th>\n",
              "      <th>text_tokenized</th>\n",
              "      <th>stemming_stopwordsRemoved</th>\n",
              "      <th>lemmatized_stopwordsRemoved</th>\n",
              "    </tr>\n",
              "  </thead>\n",
              "  <tbody>\n",
              "    <tr>\n",
              "      <th>0</th>\n",
              "      <td>2020-08-14 23:40:49</td>\n",
              "      <td>DalrympleWill</td>\n",
              "      <td>HearaichHerald</td>\n",
              "      <td>2</td>\n",
              "      <td>0</td>\n",
              "      <td>3</td>\n",
              "      <td>Andrew do send me a copy! Love to read it</td>\n",
              "      <td>NaN</td>\n",
              "      <td>NaN</td>\n",
              "      <td>NaN</td>\n",
              "      <td>1294418731251138562</td>\n",
              "      <td>https://twitter.com/DalrympleWill/status/12944...</td>\n",
              "      <td>Andrew do send me a copy! Love to read it</td>\n",
              "      <td>['Andrew', 'do', 'send', 'me', 'a', 'copy', '!...</td>\n",
              "      <td>andrew send copi love read</td>\n",
              "      <td>andrew send copy love read</td>\n",
              "    </tr>\n",
              "    <tr>\n",
              "      <th>1</th>\n",
              "      <td>2020-08-14 23:29:59</td>\n",
              "      <td>lostboy54</td>\n",
              "      <td>ishkarnBHANDARI</td>\n",
              "      <td>10</td>\n",
              "      <td>85</td>\n",
              "      <td>403</td>\n",
              "      <td>This is all coming true. You were right @ishka...</td>\n",
              "      <td>NaN</td>\n",
              "      <td>@ishkarnBHANDARIhttps</td>\n",
              "      <td>NaN</td>\n",
              "      <td>1294416005674889216</td>\n",
              "      <td>https://twitter.com/lostboy54/status/129441600...</td>\n",
              "      <td>This is all coming true. You were right @ishka...</td>\n",
              "      <td>['This', 'is', 'all', 'coming', 'true', '.', '...</td>\n",
              "      <td>come true right ishkarnbhandarihttp twitter co...</td>\n",
              "      <td>coming true right ishkarnbhandarihttps twitter...</td>\n",
              "    </tr>\n",
              "    <tr>\n",
              "      <th>2</th>\n",
              "      <td>2020-08-14 23:27:45</td>\n",
              "      <td>srijanpalsingh</td>\n",
              "      <td>NaN</td>\n",
              "      <td>3</td>\n",
              "      <td>34</td>\n",
              "      <td>151</td>\n",
              "      <td>Wishing everyone a very happy Independence Day...</td>\n",
              "      <td>NaN</td>\n",
              "      <td>NaN</td>\n",
              "      <td>#India #JaiHind #Kalam #IndependenceDay #Indep...</td>\n",
              "      <td>1294415445609472000</td>\n",
              "      <td>https://twitter.com/srijanpalsingh/status/1294...</td>\n",
              "      <td>Wishing everyone a very happy Independence Day...</td>\n",
              "      <td>['Wishing', 'everyone', 'a', 'very', 'happy', ...</td>\n",
              "      <td>wish everyon happi independ day time gratitud ...</td>\n",
              "      <td>wishing everyone happy independence day time g...</td>\n",
              "    </tr>\n",
              "    <tr>\n",
              "      <th>3</th>\n",
              "      <td>2020-08-14 23:09:49</td>\n",
              "      <td>AAlHamoud7</td>\n",
              "      <td>NaN</td>\n",
              "      <td>0</td>\n",
              "      <td>0</td>\n",
              "      <td>7</td>\n",
              "      <td>I don’t usually approach first, so when I do, ...</td>\n",
              "      <td>NaN</td>\n",
              "      <td>NaN</td>\n",
              "      <td>NaN</td>\n",
              "      <td>1294410930458173440</td>\n",
              "      <td>https://twitter.com/AAlHamoud7/status/12944109...</td>\n",
              "      <td>I don’t usually approach first, so when I do, ...</td>\n",
              "      <td>['I', 'don', '’', 't', 'usually', 'approach', ...</td>\n",
              "      <td>usual approach first probabl special</td>\n",
              "      <td>usually approach first probably special</td>\n",
              "    </tr>\n",
              "    <tr>\n",
              "      <th>4</th>\n",
              "      <td>2020-08-14 22:21:57</td>\n",
              "      <td>MeerraChopra</td>\n",
              "      <td>NaN</td>\n",
              "      <td>28</td>\n",
              "      <td>19</td>\n",
              "      <td>278</td>\n",
              "      <td>#GunjanSaxena is such a brilliant film that ul...</td>\n",
              "      <td>NaN</td>\n",
              "      <td>@TripathiiPankaj</td>\n",
              "      <td>#GunjanSaxena #jhanvikapoor #sharansharma</td>\n",
              "      <td>1294398885654220800</td>\n",
              "      <td>https://twitter.com/MeerraChopra/status/129439...</td>\n",
              "      <td>#GunjanSaxena is such a brilliant film that ul...</td>\n",
              "      <td>['#', 'GunjanSaxena', 'is', 'such', 'a', 'bril...</td>\n",
              "      <td>gunjansaxena brilliant film ull get adrenalin ...</td>\n",
              "      <td>gunjansaxena brilliant film ull get adrenaline...</td>\n",
              "    </tr>\n",
              "    <tr>\n",
              "      <th>...</th>\n",
              "      <td>...</td>\n",
              "      <td>...</td>\n",
              "      <td>...</td>\n",
              "      <td>...</td>\n",
              "      <td>...</td>\n",
              "      <td>...</td>\n",
              "      <td>...</td>\n",
              "      <td>...</td>\n",
              "      <td>...</td>\n",
              "      <td>...</td>\n",
              "      <td>...</td>\n",
              "      <td>...</td>\n",
              "      <td>...</td>\n",
              "      <td>...</td>\n",
              "      <td>...</td>\n",
              "      <td>...</td>\n",
              "    </tr>\n",
              "    <tr>\n",
              "      <th>266324</th>\n",
              "      <td>2010-09-14 07:26:25</td>\n",
              "      <td>krist0ph3r</td>\n",
              "      <td>NaN</td>\n",
              "      <td>0</td>\n",
              "      <td>0</td>\n",
              "      <td>0</td>\n",
              "      <td>I stand corrected. there is, indeed, a vaccine...</td>\n",
              "      <td>NaN</td>\n",
              "      <td>@mizarcle</td>\n",
              "      <td>NaN</td>\n",
              "      <td>24456504000</td>\n",
              "      <td>https://twitter.com/krist0ph3r/status/24456504000</td>\n",
              "      <td>I stand corrected. there is, indeed, a vaccine...</td>\n",
              "      <td>['I', 'stand', 'corrected', '.', 'there', 'is'...</td>\n",
              "      <td>stand correct inde vaccin cervic cancer except...</td>\n",
              "      <td>stand corrected indeed vaccine cervical cancer...</td>\n",
              "    </tr>\n",
              "    <tr>\n",
              "      <th>266325</th>\n",
              "      <td>2010-09-14 07:15:04</td>\n",
              "      <td>krist0ph3r</td>\n",
              "      <td>NaN</td>\n",
              "      <td>0</td>\n",
              "      <td>0</td>\n",
              "      <td>0</td>\n",
              "      <td>#iWant! RT @24HoursLoot The Four Elements of a...</td>\n",
              "      <td>NaN</td>\n",
              "      <td>@24HoursLoot</td>\n",
              "      <td>#iWant</td>\n",
              "      <td>24456008845</td>\n",
              "      <td>https://twitter.com/krist0ph3r/status/24456008845</td>\n",
              "      <td>#iWant! RT @24HoursLoot The Four Elements of a...</td>\n",
              "      <td>['#', 'iWant', '!', 'RT', '@', '24HoursLoot', ...</td>\n",
              "      <td>iwant rt hoursloot four element human geek lif...</td>\n",
              "      <td>iwant rt hoursloot four element human geek lif...</td>\n",
              "    </tr>\n",
              "    <tr>\n",
              "      <th>266326</th>\n",
              "      <td>2010-09-14 07:12:15</td>\n",
              "      <td>krist0ph3r</td>\n",
              "      <td>NaN</td>\n",
              "      <td>0</td>\n",
              "      <td>0</td>\n",
              "      <td>0</td>\n",
              "      <td>there's a vaccine? don't think cancer can be v...</td>\n",
              "      <td>NaN</td>\n",
              "      <td>@mizarcle</td>\n",
              "      <td>NaN</td>\n",
              "      <td>24455883030</td>\n",
              "      <td>https://twitter.com/krist0ph3r/status/24455883030</td>\n",
              "      <td>there's a vaccine? don't think cancer can be v...</td>\n",
              "      <td>['there', \"'s\", 'a', 'vaccine', '?', 'do', \"n'...</td>\n",
              "      <td>vaccin think cancer vaccin rt mizarcl anyon ta...</td>\n",
              "      <td>vaccine think cancer vaccinated rt mizarcle an...</td>\n",
              "    </tr>\n",
              "    <tr>\n",
              "      <th>266327</th>\n",
              "      <td>2010-09-14 07:10:56</td>\n",
              "      <td>krist0ph3r</td>\n",
              "      <td>NaN</td>\n",
              "      <td>0</td>\n",
              "      <td>0</td>\n",
              "      <td>0</td>\n",
              "      <td>#nowplaying gareth emery - exposure #awesomeness</td>\n",
              "      <td>NaN</td>\n",
              "      <td>NaN</td>\n",
              "      <td>#nowplaying #awesomeness</td>\n",
              "      <td>24455823620</td>\n",
              "      <td>https://twitter.com/krist0ph3r/status/24455823620</td>\n",
              "      <td>#nowplaying gareth emery - exposure #awesomeness</td>\n",
              "      <td>['#', 'nowplaying', 'gareth', 'emery', '-', 'e...</td>\n",
              "      <td>nowplay gareth emeri exposur awesom</td>\n",
              "      <td>nowplaying gareth emery exposure awesomeness</td>\n",
              "    </tr>\n",
              "    <tr>\n",
              "      <th>266328</th>\n",
              "      <td>2010-09-14 05:21:30</td>\n",
              "      <td>krist0ph3r</td>\n",
              "      <td>NaN</td>\n",
              "      <td>0</td>\n",
              "      <td>0</td>\n",
              "      <td>0</td>\n",
              "      <td>friend was waiting for me to step into office ...</td>\n",
              "      <td>NaN</td>\n",
              "      <td>NaN</td>\n",
              "      <td>NaN</td>\n",
              "      <td>24450570759</td>\n",
              "      <td>https://twitter.com/krist0ph3r/status/24450570759</td>\n",
              "      <td>friend was waiting for me to step into office ...</td>\n",
              "      <td>['friend', 'was', 'waiting', 'for', 'me', 'to'...</td>\n",
              "      <td>friend wait step offic tell news suzuki firebl...</td>\n",
              "      <td>friend waiting step office tell news suzuki fi...</td>\n",
              "    </tr>\n",
              "  </tbody>\n",
              "</table>\n",
              "<p>266329 rows × 16 columns</p>\n",
              "</div>"
            ],
            "text/plain": [
              "                      date  ...                        lemmatized_stopwordsRemoved\n",
              "0      2020-08-14 23:40:49  ...                         andrew send copy love read\n",
              "1      2020-08-14 23:29:59  ...  coming true right ishkarnbhandarihttps twitter...\n",
              "2      2020-08-14 23:27:45  ...  wishing everyone happy independence day time g...\n",
              "3      2020-08-14 23:09:49  ...            usually approach first probably special\n",
              "4      2020-08-14 22:21:57  ...  gunjansaxena brilliant film ull get adrenaline...\n",
              "...                    ...  ...                                                ...\n",
              "266324 2010-09-14 07:26:25  ...  stand corrected indeed vaccine cervical cancer...\n",
              "266325 2010-09-14 07:15:04  ...  iwant rt hoursloot four element human geek lif...\n",
              "266326 2010-09-14 07:12:15  ...  vaccine think cancer vaccinated rt mizarcle an...\n",
              "266327 2010-09-14 07:10:56  ...       nowplaying gareth emery exposure awesomeness\n",
              "266328 2010-09-14 05:21:30  ...  friend waiting step office tell news suzuki fi...\n",
              "\n",
              "[266329 rows x 16 columns]"
            ]
          },
          "metadata": {
            "tags": []
          },
          "execution_count": 8
        }
      ]
    },
    {
      "cell_type": "code",
      "metadata": {
        "id": "D5oKBZPVeMT4",
        "colab_type": "code",
        "colab": {
          "base_uri": "https://localhost:8080/",
          "height": 35
        },
        "outputId": "c05bc79f-6c59-43a6-9ab5-86528ef5c066"
      },
      "source": [
        "df_combined.stemming_stopwordsRemoved.isna().sum()     ### final check on null value rows"
      ],
      "execution_count": 9,
      "outputs": [
        {
          "output_type": "execute_result",
          "data": {
            "text/plain": [
              "0"
            ]
          },
          "metadata": {
            "tags": []
          },
          "execution_count": 9
        }
      ]
    },
    {
      "cell_type": "code",
      "metadata": {
        "id": "DLXVwIiTob6C",
        "colab_type": "code",
        "colab": {
          "base_uri": "https://localhost:8080/",
          "height": 35
        },
        "outputId": "53b87a90-cad0-4f66-b13a-b014a3cbd8fb"
      },
      "source": [
        "df_combined.lemmatized_stopwordsRemoved.isna().sum()"
      ],
      "execution_count": 10,
      "outputs": [
        {
          "output_type": "execute_result",
          "data": {
            "text/plain": [
              "0"
            ]
          },
          "metadata": {
            "tags": []
          },
          "execution_count": 10
        }
      ]
    },
    {
      "cell_type": "code",
      "metadata": {
        "id": "gyMbilXUeM21",
        "colab_type": "code",
        "colab": {}
      },
      "source": [
        "sentences=df_combined.stemming_stopwordsRemoved.tolist()     ### to convert a particular column into a list"
      ],
      "execution_count": 11,
      "outputs": []
    },
    {
      "cell_type": "code",
      "metadata": {
        "id": "SxczE7LBofVe",
        "colab_type": "code",
        "colab": {}
      },
      "source": [
        "sentences1=df_combined.lemmatized_stopwordsRemoved.tolist()"
      ],
      "execution_count": 12,
      "outputs": []
    },
    {
      "cell_type": "markdown",
      "metadata": {
        "id": "GLPw-yN2bVkO",
        "colab_type": "text"
      },
      "source": [
        "# **BAG OF WORDS**"
      ]
    },
    {
      "cell_type": "code",
      "metadata": {
        "id": "iXBitDh3bfzM",
        "colab_type": "code",
        "colab": {}
      },
      "source": [
        "# from sklearn.feature_extraction.text import CountVectorizer\n",
        "# cv=CountVectorizer(max_features=2500)\n",
        "# X1=cv.fit_transform(sentences).toarray()   ### for stemming\n",
        "# X1   ### array of features"
      ],
      "execution_count": 13,
      "outputs": []
    },
    {
      "cell_type": "code",
      "metadata": {
        "id": "DT-kTRtemat_",
        "colab_type": "code",
        "colab": {}
      },
      "source": [
        "# print(cv.get_feature_names())  ### to get the feature names      ###### for stemming\n",
        "# print(cv.get_params())"
      ],
      "execution_count": 14,
      "outputs": []
    },
    {
      "cell_type": "code",
      "metadata": {
        "id": "rVjzwSgoV7Q2",
        "colab_type": "code",
        "colab": {}
      },
      "source": [
        "# print(cv.vocabulary_)"
      ],
      "execution_count": 15,
      "outputs": []
    },
    {
      "cell_type": "code",
      "metadata": {
        "id": "ceQ6tITsIcmY",
        "colab_type": "code",
        "colab": {}
      },
      "source": [
        "# df_bow=pd.DataFrame(X1,columns=cv.get_feature_names())\n",
        "# df_bow"
      ],
      "execution_count": 16,
      "outputs": []
    },
    {
      "cell_type": "code",
      "metadata": {
        "id": "7k9wzoSjow2x",
        "colab_type": "code",
        "colab": {}
      },
      "source": [
        "# X1_1=cv.fit_transform(sentences1).toarray()    ### for lemmatization\n",
        "# X1_1"
      ],
      "execution_count": 17,
      "outputs": []
    },
    {
      "cell_type": "code",
      "metadata": {
        "id": "FYRggGtCpDi3",
        "colab_type": "code",
        "colab": {}
      },
      "source": [
        "# print(cv.get_feature_names())  ### for lemmatization"
      ],
      "execution_count": 18,
      "outputs": []
    },
    {
      "cell_type": "code",
      "metadata": {
        "id": "DPE6xHz6tmIh",
        "colab_type": "code",
        "colab": {}
      },
      "source": [
        "# X1.shape"
      ],
      "execution_count": 19,
      "outputs": []
    },
    {
      "cell_type": "markdown",
      "metadata": {
        "id": "cZsbCgNNeseY",
        "colab_type": "text"
      },
      "source": [
        "# **TERM FREQUENCY - INVERSE DOCUMENT FREQUENCY**"
      ]
    },
    {
      "cell_type": "code",
      "metadata": {
        "id": "Ez1k49b7b4_R",
        "colab_type": "code",
        "colab": {}
      },
      "source": [
        "# from sklearn.feature_extraction.text import TfidfVectorizer\n",
        "# tfidf=TfidfVectorizer(max_features=1000)\n",
        "# X2=tfidf.fit_transform(sentences).toarray()     ### for stemming\n",
        "# X2   ### array of features"
      ],
      "execution_count": 20,
      "outputs": []
    },
    {
      "cell_type": "code",
      "metadata": {
        "id": "7sA780nYgljK",
        "colab_type": "code",
        "colab": {}
      },
      "source": [
        "# print(tfidf.get_feature_names())   ### to get the feature names"
      ],
      "execution_count": 21,
      "outputs": []
    },
    {
      "cell_type": "code",
      "metadata": {
        "id": "8knRU5c-m5VP",
        "colab_type": "code",
        "colab": {}
      },
      "source": [
        "# X2_1=tfidf.fit_transform(sentences1).toarray()    ### lemmatization\n",
        "# X2_1"
      ],
      "execution_count": 22,
      "outputs": []
    },
    {
      "cell_type": "code",
      "metadata": {
        "id": "Zo1125Yzq6Xy",
        "colab_type": "code",
        "colab": {}
      },
      "source": [
        "# print(tfidf.get_feature_names())"
      ],
      "execution_count": 23,
      "outputs": []
    },
    {
      "cell_type": "markdown",
      "metadata": {
        "id": "H7H6xNIl4zsI",
        "colab_type": "text"
      },
      "source": [
        "# **WORD2VEC**"
      ]
    },
    {
      "cell_type": "code",
      "metadata": {
        "id": "fIRunvhk4yiR",
        "colab_type": "code",
        "colab": {}
      },
      "source": [
        "from gensim.models import Word2Vec    ## Word Embedding\n",
        "import re\n",
        "from nltk.corpus import stopwords"
      ],
      "execution_count": 24,
      "outputs": []
    },
    {
      "cell_type": "code",
      "metadata": {
        "id": "YCqAUpEU9sOZ",
        "colab_type": "code",
        "colab": {}
      },
      "source": [
        "senten=[]"
      ],
      "execution_count": 25,
      "outputs": []
    },
    {
      "cell_type": "code",
      "metadata": {
        "id": "NoLwqPRoj_pU",
        "colab_type": "code",
        "colab": {}
      },
      "source": [
        "for i in range(len(df_combined.text)):\n",
        "  words=re.sub(\"[^A-Za-z]\",\" \",df_combined.text[i])   ### to remove characters other than A-Z and a-z\n",
        "  words=words.lower()         ### to convert to lower case\n",
        "  senten.append(words)"
      ],
      "execution_count": 26,
      "outputs": []
    },
    {
      "cell_type": "code",
      "metadata": {
        "id": "D-12DWKDXmkb",
        "colab_type": "code",
        "colab": {}
      },
      "source": [
        "senten_1=[]\n",
        "\n",
        "for i in range(len(senten)):\n",
        "  words=[]\n",
        "  for word in senten[i].split():\n",
        "    if (word not in set (stopwords.words('english'))):    ### to remove stopwords\n",
        "      words.append(word)\n",
        "  senten_1.append(list(words))\n"
      ],
      "execution_count": 27,
      "outputs": []
    },
    {
      "cell_type": "code",
      "metadata": {
        "id": "zlEeKZ8bW5uF",
        "colab_type": "code",
        "colab": {
          "base_uri": "https://localhost:8080/",
          "height": 35
        },
        "outputId": "fcf55f28-9694-4666-db87-07cedab03444"
      },
      "source": [
        "nltk.word_tokenize(senten[7])    ### word tokenize"
      ],
      "execution_count": 28,
      "outputs": [
        {
          "output_type": "execute_result",
          "data": {
            "text/plain": [
              "['please', 'say', 'something', 'for', 'amaal', 'mallik', 'askshreya']"
            ]
          },
          "metadata": {
            "tags": []
          },
          "execution_count": 28
        }
      ]
    },
    {
      "cell_type": "code",
      "metadata": {
        "id": "s5sCWErWgVO7",
        "colab_type": "code",
        "colab": {
          "base_uri": "https://localhost:8080/",
          "height": 35
        },
        "outputId": "d208af0a-1896-4483-ec2b-ba7dbef9611d"
      },
      "source": [
        "senten_1[7]"
      ],
      "execution_count": 29,
      "outputs": [
        {
          "output_type": "execute_result",
          "data": {
            "text/plain": [
              "['please', 'say', 'something', 'amaal', 'mallik', 'askshreya']"
            ]
          },
          "metadata": {
            "tags": []
          },
          "execution_count": 29
        }
      ]
    },
    {
      "cell_type": "code",
      "metadata": {
        "id": "CKkuoNRAFnXS",
        "colab_type": "code",
        "colab": {
          "base_uri": "https://localhost:8080/",
          "height": 955
        },
        "outputId": "e3dd08b3-885b-4bc1-97a1-8d069c484e80"
      },
      "source": [
        "df_combined.insert(13, \"sentences_Modified\", senten_1)\n",
        "df_combined"
      ],
      "execution_count": 30,
      "outputs": [
        {
          "output_type": "execute_result",
          "data": {
            "text/html": [
              "<div>\n",
              "<style scoped>\n",
              "    .dataframe tbody tr th:only-of-type {\n",
              "        vertical-align: middle;\n",
              "    }\n",
              "\n",
              "    .dataframe tbody tr th {\n",
              "        vertical-align: top;\n",
              "    }\n",
              "\n",
              "    .dataframe thead th {\n",
              "        text-align: right;\n",
              "    }\n",
              "</style>\n",
              "<table border=\"1\" class=\"dataframe\">\n",
              "  <thead>\n",
              "    <tr style=\"text-align: right;\">\n",
              "      <th></th>\n",
              "      <th>date</th>\n",
              "      <th>username</th>\n",
              "      <th>to</th>\n",
              "      <th>replies</th>\n",
              "      <th>retweets</th>\n",
              "      <th>favorites</th>\n",
              "      <th>text</th>\n",
              "      <th>geo</th>\n",
              "      <th>mentions</th>\n",
              "      <th>hashtags</th>\n",
              "      <th>id</th>\n",
              "      <th>permalink</th>\n",
              "      <th>sentences</th>\n",
              "      <th>sentences_Modified</th>\n",
              "      <th>text_tokenized</th>\n",
              "      <th>stemming_stopwordsRemoved</th>\n",
              "      <th>lemmatized_stopwordsRemoved</th>\n",
              "    </tr>\n",
              "  </thead>\n",
              "  <tbody>\n",
              "    <tr>\n",
              "      <th>0</th>\n",
              "      <td>2020-08-14 23:40:49</td>\n",
              "      <td>DalrympleWill</td>\n",
              "      <td>HearaichHerald</td>\n",
              "      <td>2</td>\n",
              "      <td>0</td>\n",
              "      <td>3</td>\n",
              "      <td>Andrew do send me a copy! Love to read it</td>\n",
              "      <td>NaN</td>\n",
              "      <td>NaN</td>\n",
              "      <td>NaN</td>\n",
              "      <td>1294418731251138562</td>\n",
              "      <td>https://twitter.com/DalrympleWill/status/12944...</td>\n",
              "      <td>Andrew do send me a copy! Love to read it</td>\n",
              "      <td>[andrew, send, copy, love, read]</td>\n",
              "      <td>['Andrew', 'do', 'send', 'me', 'a', 'copy', '!...</td>\n",
              "      <td>andrew send copi love read</td>\n",
              "      <td>andrew send copy love read</td>\n",
              "    </tr>\n",
              "    <tr>\n",
              "      <th>1</th>\n",
              "      <td>2020-08-14 23:29:59</td>\n",
              "      <td>lostboy54</td>\n",
              "      <td>ishkarnBHANDARI</td>\n",
              "      <td>10</td>\n",
              "      <td>85</td>\n",
              "      <td>403</td>\n",
              "      <td>This is all coming true. You were right @ishka...</td>\n",
              "      <td>NaN</td>\n",
              "      <td>@ishkarnBHANDARIhttps</td>\n",
              "      <td>NaN</td>\n",
              "      <td>1294416005674889216</td>\n",
              "      <td>https://twitter.com/lostboy54/status/129441600...</td>\n",
              "      <td>This is all coming true. You were right @ishka...</td>\n",
              "      <td>[coming, true, right, ishkarnbhandarihttps, tw...</td>\n",
              "      <td>['This', 'is', 'all', 'coming', 'true', '.', '...</td>\n",
              "      <td>come true right ishkarnbhandarihttp twitter co...</td>\n",
              "      <td>coming true right ishkarnbhandarihttps twitter...</td>\n",
              "    </tr>\n",
              "    <tr>\n",
              "      <th>2</th>\n",
              "      <td>2020-08-14 23:27:45</td>\n",
              "      <td>srijanpalsingh</td>\n",
              "      <td>NaN</td>\n",
              "      <td>3</td>\n",
              "      <td>34</td>\n",
              "      <td>151</td>\n",
              "      <td>Wishing everyone a very happy Independence Day...</td>\n",
              "      <td>NaN</td>\n",
              "      <td>NaN</td>\n",
              "      <td>#India #JaiHind #Kalam #IndependenceDay #Indep...</td>\n",
              "      <td>1294415445609472000</td>\n",
              "      <td>https://twitter.com/srijanpalsingh/status/1294...</td>\n",
              "      <td>Wishing everyone a very happy Independence Day...</td>\n",
              "      <td>[wishing, everyone, happy, independence, day, ...</td>\n",
              "      <td>['Wishing', 'everyone', 'a', 'very', 'happy', ...</td>\n",
              "      <td>wish everyon happi independ day time gratitud ...</td>\n",
              "      <td>wishing everyone happy independence day time g...</td>\n",
              "    </tr>\n",
              "    <tr>\n",
              "      <th>3</th>\n",
              "      <td>2020-08-14 23:09:49</td>\n",
              "      <td>AAlHamoud7</td>\n",
              "      <td>NaN</td>\n",
              "      <td>0</td>\n",
              "      <td>0</td>\n",
              "      <td>7</td>\n",
              "      <td>I don’t usually approach first, so when I do, ...</td>\n",
              "      <td>NaN</td>\n",
              "      <td>NaN</td>\n",
              "      <td>NaN</td>\n",
              "      <td>1294410930458173440</td>\n",
              "      <td>https://twitter.com/AAlHamoud7/status/12944109...</td>\n",
              "      <td>I don’t usually approach first, so when I do, ...</td>\n",
              "      <td>[usually, approach, first, probably, special]</td>\n",
              "      <td>['I', 'don', '’', 't', 'usually', 'approach', ...</td>\n",
              "      <td>usual approach first probabl special</td>\n",
              "      <td>usually approach first probably special</td>\n",
              "    </tr>\n",
              "    <tr>\n",
              "      <th>4</th>\n",
              "      <td>2020-08-14 22:21:57</td>\n",
              "      <td>MeerraChopra</td>\n",
              "      <td>NaN</td>\n",
              "      <td>28</td>\n",
              "      <td>19</td>\n",
              "      <td>278</td>\n",
              "      <td>#GunjanSaxena is such a brilliant film that ul...</td>\n",
              "      <td>NaN</td>\n",
              "      <td>@TripathiiPankaj</td>\n",
              "      <td>#GunjanSaxena #jhanvikapoor #sharansharma</td>\n",
              "      <td>1294398885654220800</td>\n",
              "      <td>https://twitter.com/MeerraChopra/status/129439...</td>\n",
              "      <td>#GunjanSaxena is such a brilliant film that ul...</td>\n",
              "      <td>[gunjansaxena, brilliant, film, ull, get, adre...</td>\n",
              "      <td>['#', 'GunjanSaxena', 'is', 'such', 'a', 'bril...</td>\n",
              "      <td>gunjansaxena brilliant film ull get adrenalin ...</td>\n",
              "      <td>gunjansaxena brilliant film ull get adrenaline...</td>\n",
              "    </tr>\n",
              "    <tr>\n",
              "      <th>...</th>\n",
              "      <td>...</td>\n",
              "      <td>...</td>\n",
              "      <td>...</td>\n",
              "      <td>...</td>\n",
              "      <td>...</td>\n",
              "      <td>...</td>\n",
              "      <td>...</td>\n",
              "      <td>...</td>\n",
              "      <td>...</td>\n",
              "      <td>...</td>\n",
              "      <td>...</td>\n",
              "      <td>...</td>\n",
              "      <td>...</td>\n",
              "      <td>...</td>\n",
              "      <td>...</td>\n",
              "      <td>...</td>\n",
              "      <td>...</td>\n",
              "    </tr>\n",
              "    <tr>\n",
              "      <th>266324</th>\n",
              "      <td>2010-09-14 07:26:25</td>\n",
              "      <td>krist0ph3r</td>\n",
              "      <td>NaN</td>\n",
              "      <td>0</td>\n",
              "      <td>0</td>\n",
              "      <td>0</td>\n",
              "      <td>I stand corrected. there is, indeed, a vaccine...</td>\n",
              "      <td>NaN</td>\n",
              "      <td>@mizarcle</td>\n",
              "      <td>NaN</td>\n",
              "      <td>24456504000</td>\n",
              "      <td>https://twitter.com/krist0ph3r/status/24456504000</td>\n",
              "      <td>I stand corrected. there is, indeed, a vaccine...</td>\n",
              "      <td>[stand, corrected, indeed, vaccine, cervical, ...</td>\n",
              "      <td>['I', 'stand', 'corrected', '.', 'there', 'is'...</td>\n",
              "      <td>stand correct inde vaccin cervic cancer except...</td>\n",
              "      <td>stand corrected indeed vaccine cervical cancer...</td>\n",
              "    </tr>\n",
              "    <tr>\n",
              "      <th>266325</th>\n",
              "      <td>2010-09-14 07:15:04</td>\n",
              "      <td>krist0ph3r</td>\n",
              "      <td>NaN</td>\n",
              "      <td>0</td>\n",
              "      <td>0</td>\n",
              "      <td>0</td>\n",
              "      <td>#iWant! RT @24HoursLoot The Four Elements of a...</td>\n",
              "      <td>NaN</td>\n",
              "      <td>@24HoursLoot</td>\n",
              "      <td>#iWant</td>\n",
              "      <td>24456008845</td>\n",
              "      <td>https://twitter.com/krist0ph3r/status/24456008845</td>\n",
              "      <td>#iWant! RT @24HoursLoot The Four Elements of a...</td>\n",
              "      <td>[iwant, rt, hoursloot, four, elements, human, ...</td>\n",
              "      <td>['#', 'iWant', '!', 'RT', '@', '24HoursLoot', ...</td>\n",
              "      <td>iwant rt hoursloot four element human geek lif...</td>\n",
              "      <td>iwant rt hoursloot four element human geek lif...</td>\n",
              "    </tr>\n",
              "    <tr>\n",
              "      <th>266326</th>\n",
              "      <td>2010-09-14 07:12:15</td>\n",
              "      <td>krist0ph3r</td>\n",
              "      <td>NaN</td>\n",
              "      <td>0</td>\n",
              "      <td>0</td>\n",
              "      <td>0</td>\n",
              "      <td>there's a vaccine? don't think cancer can be v...</td>\n",
              "      <td>NaN</td>\n",
              "      <td>@mizarcle</td>\n",
              "      <td>NaN</td>\n",
              "      <td>24455883030</td>\n",
              "      <td>https://twitter.com/krist0ph3r/status/24455883030</td>\n",
              "      <td>there's a vaccine? don't think cancer can be v...</td>\n",
              "      <td>[vaccine, think, cancer, vaccinated, rt, mizar...</td>\n",
              "      <td>['there', \"'s\", 'a', 'vaccine', '?', 'do', \"n'...</td>\n",
              "      <td>vaccin think cancer vaccin rt mizarcl anyon ta...</td>\n",
              "      <td>vaccine think cancer vaccinated rt mizarcle an...</td>\n",
              "    </tr>\n",
              "    <tr>\n",
              "      <th>266327</th>\n",
              "      <td>2010-09-14 07:10:56</td>\n",
              "      <td>krist0ph3r</td>\n",
              "      <td>NaN</td>\n",
              "      <td>0</td>\n",
              "      <td>0</td>\n",
              "      <td>0</td>\n",
              "      <td>#nowplaying gareth emery - exposure #awesomeness</td>\n",
              "      <td>NaN</td>\n",
              "      <td>NaN</td>\n",
              "      <td>#nowplaying #awesomeness</td>\n",
              "      <td>24455823620</td>\n",
              "      <td>https://twitter.com/krist0ph3r/status/24455823620</td>\n",
              "      <td>#nowplaying gareth emery - exposure #awesomeness</td>\n",
              "      <td>[nowplaying, gareth, emery, exposure, awesomen...</td>\n",
              "      <td>['#', 'nowplaying', 'gareth', 'emery', '-', 'e...</td>\n",
              "      <td>nowplay gareth emeri exposur awesom</td>\n",
              "      <td>nowplaying gareth emery exposure awesomeness</td>\n",
              "    </tr>\n",
              "    <tr>\n",
              "      <th>266328</th>\n",
              "      <td>2010-09-14 05:21:30</td>\n",
              "      <td>krist0ph3r</td>\n",
              "      <td>NaN</td>\n",
              "      <td>0</td>\n",
              "      <td>0</td>\n",
              "      <td>0</td>\n",
              "      <td>friend was waiting for me to step into office ...</td>\n",
              "      <td>NaN</td>\n",
              "      <td>NaN</td>\n",
              "      <td>NaN</td>\n",
              "      <td>24450570759</td>\n",
              "      <td>https://twitter.com/krist0ph3r/status/24450570759</td>\n",
              "      <td>friend was waiting for me to step into office ...</td>\n",
              "      <td>[friend, waiting, step, office, tell, news, su...</td>\n",
              "      <td>['friend', 'was', 'waiting', 'for', 'me', 'to'...</td>\n",
              "      <td>friend wait step offic tell news suzuki firebl...</td>\n",
              "      <td>friend waiting step office tell news suzuki fi...</td>\n",
              "    </tr>\n",
              "  </tbody>\n",
              "</table>\n",
              "<p>266329 rows × 17 columns</p>\n",
              "</div>"
            ],
            "text/plain": [
              "                      date  ...                        lemmatized_stopwordsRemoved\n",
              "0      2020-08-14 23:40:49  ...                         andrew send copy love read\n",
              "1      2020-08-14 23:29:59  ...  coming true right ishkarnbhandarihttps twitter...\n",
              "2      2020-08-14 23:27:45  ...  wishing everyone happy independence day time g...\n",
              "3      2020-08-14 23:09:49  ...            usually approach first probably special\n",
              "4      2020-08-14 22:21:57  ...  gunjansaxena brilliant film ull get adrenaline...\n",
              "...                    ...  ...                                                ...\n",
              "266324 2010-09-14 07:26:25  ...  stand corrected indeed vaccine cervical cancer...\n",
              "266325 2010-09-14 07:15:04  ...  iwant rt hoursloot four element human geek lif...\n",
              "266326 2010-09-14 07:12:15  ...  vaccine think cancer vaccinated rt mizarcle an...\n",
              "266327 2010-09-14 07:10:56  ...       nowplaying gareth emery exposure awesomeness\n",
              "266328 2010-09-14 05:21:30  ...  friend waiting step office tell news suzuki fi...\n",
              "\n",
              "[266329 rows x 17 columns]"
            ]
          },
          "metadata": {
            "tags": []
          },
          "execution_count": 30
        }
      ]
    },
    {
      "cell_type": "code",
      "metadata": {
        "id": "La5ZaeB2qvYA",
        "colab_type": "code",
        "colab": {
          "base_uri": "https://localhost:8080/",
          "height": 372
        },
        "outputId": "0620f6b0-8b2e-409c-ec08-75836223f4f8"
      },
      "source": [
        "count_plot=nltk.FreqDist(senten_1[900])\n",
        "\n",
        "count_plot.plot()"
      ],
      "execution_count": 31,
      "outputs": [
        {
          "output_type": "display_data",
          "data": {
            "image/png": "[encoded data removed]",
            "text/plain": [
              "<Figure size 432x288 with 1 Axes>"
            ]
          },
          "metadata": {
            "tags": [],
            "needs_background": "light"
          }
        }
      ]
    },
    {
      "cell_type": "code",
      "metadata": {
        "id": "0WTJXy6wHWRc",
        "colab_type": "code",
        "colab": {}
      },
      "source": [
        "## Training the Word2Vec model\n",
        "model=Word2Vec(senten_1,min_count=1) ### min_count kept 1 so that no word is ignored"
      ],
      "execution_count": 32,
      "outputs": []
    },
    {
      "cell_type": "code",
      "metadata": {
        "id": "44a8mMDL4drN",
        "colab_type": "code",
        "colab": {
          "base_uri": "https://localhost:8080/",
          "height": 35
        },
        "outputId": "924aacaf-c950-45f1-e04e-1771b3524a77"
      },
      "source": [
        "print(model) ## to print the summary of the model"
      ],
      "execution_count": 33,
      "outputs": [
        {
          "output_type": "stream",
          "text": [
            "Word2Vec(vocab=252218, size=100, alpha=0.025)\n"
          ],
          "name": "stdout"
        }
      ]
    },
    {
      "cell_type": "code",
      "metadata": {
        "id": "vazZpbwgHrq4",
        "colab_type": "code",
        "colab": {
          "base_uri": "https://localhost:8080/",
          "height": 35
        },
        "outputId": "d0530392-2735-4c7b-ae42-26134baca118"
      },
      "source": [
        "word=list(model.wv.vocab)   ### to print the summary of the vocab\n",
        "word[0]"
      ],
      "execution_count": 34,
      "outputs": [
        {
          "output_type": "execute_result",
          "data": {
            "application/vnd.google.colaboratory.intrinsic+json": {
              "type": "string"
            },
            "text/plain": [
              "'andrew'"
            ]
          },
          "metadata": {
            "tags": []
          },
          "execution_count": 34
        }
      ]
    },
    {
      "cell_type": "code",
      "metadata": {
        "id": "IxPCT3P1PnXL",
        "colab_type": "code",
        "colab": {
          "base_uri": "https://localhost:8080/",
          "height": 89
        },
        "outputId": "4bcf2a38-60f1-4229-8f1f-8f8fb50ed6a9"
      },
      "source": [
        "X = model[model.wv.vocab]   ### feature representation matrix\n",
        "X.shape"
      ],
      "execution_count": 35,
      "outputs": [
        {
          "output_type": "stream",
          "text": [
            "/usr/local/lib/python3.6/dist-packages/ipykernel_launcher.py:1: DeprecationWarning: Call to deprecated `__getitem__` (Method will be removed in 4.0.0, use self.wv.__getitem__() instead).\n",
            "  \"\"\"Entry point for launching an IPython kernel.\n"
          ],
          "name": "stderr"
        },
        {
          "output_type": "execute_result",
          "data": {
            "text/plain": [
              "(252218, 100)"
            ]
          },
          "metadata": {
            "tags": []
          },
          "execution_count": 35
        }
      ]
    },
    {
      "cell_type": "code",
      "metadata": {
        "id": "u2rpSYmraA5q",
        "colab_type": "code",
        "colab": {}
      },
      "source": [
        "#for i,val in enumerate(word):\n",
        "df_word2vec=pd.DataFrame(X)\n"
      ],
      "execution_count": 36,
      "outputs": []
    },
    {
      "cell_type": "code",
      "metadata": {
        "id": "pFcV13G0iAY2",
        "colab_type": "code",
        "colab": {
          "base_uri": "https://localhost:8080/",
          "height": 435
        },
        "outputId": "0f777627-1119-4a6e-8a2d-4f2c5eac3cfa"
      },
      "source": [
        "df_word2vec.insert(0,'Vocab_name',word)\n",
        "df_word2vec.set_index('Vocab_name') \n",
        "df_word2vec=df_word2vec.transpose(copy=False) \n",
        "df_word2vec.columns = df_word2vec.iloc[0]\n",
        "df_word2vec = df_word2vec[1:]\n",
        "df_word2vec\n",
        "\n",
        "\n"
      ],
      "execution_count": 37,
      "outputs": [
        {
          "output_type": "execute_result",
          "data": {
            "text/html": [
              "<div>\n",
              "<style scoped>\n",
              "    .dataframe tbody tr th:only-of-type {\n",
              "        vertical-align: middle;\n",
              "    }\n",
              "\n",
              "    .dataframe tbody tr th {\n",
              "        vertical-align: top;\n",
              "    }\n",
              "\n",
              "    .dataframe thead th {\n",
              "        text-align: right;\n",
              "    }\n",
              "</style>\n",
              "<table border=\"1\" class=\"dataframe\">\n",
              "  <thead>\n",
              "    <tr style=\"text-align: right;\">\n",
              "      <th>Vocab_name</th>\n",
              "      <th>andrew</th>\n",
              "      <th>send</th>\n",
              "      <th>copy</th>\n",
              "      <th>love</th>\n",
              "      <th>read</th>\n",
              "      <th>coming</th>\n",
              "      <th>true</th>\n",
              "      <th>right</th>\n",
              "      <th>ishkarnbhandarihttps</th>\n",
              "      <th>twitter</th>\n",
              "      <th>com</th>\n",
              "      <th>ishkarnbhandari</th>\n",
              "      <th>status</th>\n",
              "      <th>wishing</th>\n",
              "      <th>everyone</th>\n",
              "      <th>happy</th>\n",
              "      <th>independence</th>\n",
              "      <th>day</th>\n",
              "      <th>time</th>\n",
              "      <th>gratitude</th>\n",
              "      <th>got</th>\n",
              "      <th>us</th>\n",
              "      <th>proud</th>\n",
              "      <th>made</th>\n",
              "      <th>possible</th>\n",
              "      <th>india</th>\n",
              "      <th>thrive</th>\n",
              "      <th>independent</th>\n",
              "      <th>nation</th>\n",
              "      <th>jaihind</th>\n",
              "      <th>kalam</th>\n",
              "      <th>independenceday</th>\n",
              "      <th>august</th>\n",
              "      <th>pic</th>\n",
              "      <th>sbtfbrfooc</th>\n",
              "      <th>usually</th>\n",
              "      <th>approach</th>\n",
              "      <th>first</th>\n",
              "      <th>probably</th>\n",
              "      <th>special</th>\n",
              "      <th>...</th>\n",
              "      <th>oocytes</th>\n",
              "      <th>vericose</th>\n",
              "      <th>mercplus</th>\n",
              "      <th>manyoo</th>\n",
              "      <th>kelli</th>\n",
              "      <th>kelis</th>\n",
              "      <th>pigtails</th>\n",
              "      <th>exclaimed</th>\n",
              "      <th>wotd</th>\n",
              "      <th>naruhodo</th>\n",
              "      <th>biprorshee</th>\n",
              "      <th>bipples</th>\n",
              "      <th>buhahaha</th>\n",
              "      <th>mikhail</th>\n",
              "      <th>journalismromance</th>\n",
              "      <th>gtalkers</th>\n",
              "      <th>footlong</th>\n",
              "      <th>iphonefresh</th>\n",
              "      <th>afleck</th>\n",
              "      <th>thanksforthereminder</th>\n",
              "      <th>amex</th>\n",
              "      <th>socialexperiment</th>\n",
              "      <th>notsponsoredbygilette</th>\n",
              "      <th>seeekritly</th>\n",
              "      <th>howtopissoffwhitepeople</th>\n",
              "      <th>gossipmongering</th>\n",
              "      <th>boybashing</th>\n",
              "      <th>somebodykeeelhim</th>\n",
              "      <th>latereaction</th>\n",
              "      <th>netrey</th>\n",
              "      <th>espirit</th>\n",
              "      <th>feeshy</th>\n",
              "      <th>wazaaaaaaaaaaaa</th>\n",
              "      <th>bumbolatty</th>\n",
              "      <th>coconatty</th>\n",
              "      <th>thekasarupesh</th>\n",
              "      <th>faacking</th>\n",
              "      <th>fooked</th>\n",
              "      <th>curhdj</th>\n",
              "      <th>fireblade</th>\n",
              "    </tr>\n",
              "  </thead>\n",
              "  <tbody>\n",
              "    <tr>\n",
              "      <th>0</th>\n",
              "      <td>0.257254</td>\n",
              "      <td>2.44263</td>\n",
              "      <td>1.41214</td>\n",
              "      <td>2.13651</td>\n",
              "      <td>2.60626</td>\n",
              "      <td>2.11732</td>\n",
              "      <td>2.435</td>\n",
              "      <td>1.20768</td>\n",
              "      <td>-0.0102147</td>\n",
              "      <td>0.399195</td>\n",
              "      <td>-0.675603</td>\n",
              "      <td>0.0725137</td>\n",
              "      <td>-1.99614</td>\n",
              "      <td>-0.00309463</td>\n",
              "      <td>2.16174</td>\n",
              "      <td>-0.878518</td>\n",
              "      <td>0.631316</td>\n",
              "      <td>-0.808568</td>\n",
              "      <td>2.21299</td>\n",
              "      <td>1.27332</td>\n",
              "      <td>2.67571</td>\n",
              "      <td>3.52216</td>\n",
              "      <td>1.32782</td>\n",
              "      <td>2.92748</td>\n",
              "      <td>1.87088</td>\n",
              "      <td>2.57685</td>\n",
              "      <td>0.342377</td>\n",
              "      <td>1.50951</td>\n",
              "      <td>3.83942</td>\n",
              "      <td>0.402665</td>\n",
              "      <td>0.106115</td>\n",
              "      <td>0.323388</td>\n",
              "      <td>0.657677</td>\n",
              "      <td>-3.07126</td>\n",
              "      <td>-0.0113571</td>\n",
              "      <td>0.760575</td>\n",
              "      <td>1.67464</td>\n",
              "      <td>2.83486</td>\n",
              "      <td>1.59755</td>\n",
              "      <td>1.85169</td>\n",
              "      <td>...</td>\n",
              "      <td>0.0187378</td>\n",
              "      <td>-0.00359512</td>\n",
              "      <td>0.00951264</td>\n",
              "      <td>0.00580365</td>\n",
              "      <td>-0.00237251</td>\n",
              "      <td>-0.00267867</td>\n",
              "      <td>0.00413116</td>\n",
              "      <td>0.00430554</td>\n",
              "      <td>-0.00908198</td>\n",
              "      <td>-0.0103837</td>\n",
              "      <td>0.0302567</td>\n",
              "      <td>0.060881</td>\n",
              "      <td>0.0243866</td>\n",
              "      <td>0.0247288</td>\n",
              "      <td>-0.00465254</td>\n",
              "      <td>0.00394517</td>\n",
              "      <td>-0.001382</td>\n",
              "      <td>0.00505887</td>\n",
              "      <td>0.0252351</td>\n",
              "      <td>0.0101778</td>\n",
              "      <td>-0.00762777</td>\n",
              "      <td>0.00367566</td>\n",
              "      <td>0.00172848</td>\n",
              "      <td>0.00883446</td>\n",
              "      <td>0.00642234</td>\n",
              "      <td>0.00742665</td>\n",
              "      <td>0.00884876</td>\n",
              "      <td>0.0104714</td>\n",
              "      <td>0.00291826</td>\n",
              "      <td>0.00255247</td>\n",
              "      <td>0.0150385</td>\n",
              "      <td>0.00511916</td>\n",
              "      <td>0.00137248</td>\n",
              "      <td>0.000386974</td>\n",
              "      <td>0.0181452</td>\n",
              "      <td>-0.0134609</td>\n",
              "      <td>0.01437</td>\n",
              "      <td>0.0124962</td>\n",
              "      <td>0.0165601</td>\n",
              "      <td>-0.00502306</td>\n",
              "    </tr>\n",
              "    <tr>\n",
              "      <th>1</th>\n",
              "      <td>0.433912</td>\n",
              "      <td>-0.512514</td>\n",
              "      <td>0.540267</td>\n",
              "      <td>2.58747</td>\n",
              "      <td>-0.361747</td>\n",
              "      <td>-0.0677772</td>\n",
              "      <td>1.15552</td>\n",
              "      <td>1.04704</td>\n",
              "      <td>-0.0155298</td>\n",
              "      <td>-0.420061</td>\n",
              "      <td>0.202997</td>\n",
              "      <td>0.164239</td>\n",
              "      <td>1.25958</td>\n",
              "      <td>2.1201</td>\n",
              "      <td>0.404439</td>\n",
              "      <td>1.61227</td>\n",
              "      <td>0.0983665</td>\n",
              "      <td>1.37004</td>\n",
              "      <td>0.224536</td>\n",
              "      <td>1.04878</td>\n",
              "      <td>0.631655</td>\n",
              "      <td>-0.682738</td>\n",
              "      <td>1.87334</td>\n",
              "      <td>0.46687</td>\n",
              "      <td>0.541368</td>\n",
              "      <td>0.382012</td>\n",
              "      <td>0.201144</td>\n",
              "      <td>0.343106</td>\n",
              "      <td>0.0170577</td>\n",
              "      <td>0.823054</td>\n",
              "      <td>0.578623</td>\n",
              "      <td>0.486458</td>\n",
              "      <td>0.238943</td>\n",
              "      <td>0.684863</td>\n",
              "      <td>-0.00754876</td>\n",
              "      <td>0.833797</td>\n",
              "      <td>0.611821</td>\n",
              "      <td>0.70071</td>\n",
              "      <td>0.875983</td>\n",
              "      <td>0.549096</td>\n",
              "      <td>...</td>\n",
              "      <td>0.00776912</td>\n",
              "      <td>0.00588097</td>\n",
              "      <td>0.0279146</td>\n",
              "      <td>0.032259</td>\n",
              "      <td>0.0155709</td>\n",
              "      <td>0.0282166</td>\n",
              "      <td>-0.00266655</td>\n",
              "      <td>0.00521172</td>\n",
              "      <td>0.0226184</td>\n",
              "      <td>0.0216611</td>\n",
              "      <td>0.0343687</td>\n",
              "      <td>0.0883993</td>\n",
              "      <td>0.036548</td>\n",
              "      <td>0.0388816</td>\n",
              "      <td>-0.0206811</td>\n",
              "      <td>-0.00792721</td>\n",
              "      <td>-0.00146226</td>\n",
              "      <td>0.0286962</td>\n",
              "      <td>0.0240872</td>\n",
              "      <td>0.0235599</td>\n",
              "      <td>0.0204824</td>\n",
              "      <td>0.0137082</td>\n",
              "      <td>0.0103976</td>\n",
              "      <td>0.0134707</td>\n",
              "      <td>0.019546</td>\n",
              "      <td>0.00617544</td>\n",
              "      <td>0.0168157</td>\n",
              "      <td>0.00737792</td>\n",
              "      <td>0.00867309</td>\n",
              "      <td>0.0136583</td>\n",
              "      <td>0.0273563</td>\n",
              "      <td>0.00760311</td>\n",
              "      <td>0.0136001</td>\n",
              "      <td>0.0565634</td>\n",
              "      <td>0.09465</td>\n",
              "      <td>0.00154682</td>\n",
              "      <td>0.00401038</td>\n",
              "      <td>0.0165812</td>\n",
              "      <td>-0.0091022</td>\n",
              "      <td>-0.0252841</td>\n",
              "    </tr>\n",
              "    <tr>\n",
              "      <th>2</th>\n",
              "      <td>0.052764</td>\n",
              "      <td>0.505423</td>\n",
              "      <td>-0.452522</td>\n",
              "      <td>-1.32099</td>\n",
              "      <td>0.0568298</td>\n",
              "      <td>0.625357</td>\n",
              "      <td>-0.693602</td>\n",
              "      <td>-0.101349</td>\n",
              "      <td>-0.00173312</td>\n",
              "      <td>1.96368</td>\n",
              "      <td>-0.0463133</td>\n",
              "      <td>-0.0585895</td>\n",
              "      <td>0.216692</td>\n",
              "      <td>0.384243</td>\n",
              "      <td>0.297534</td>\n",
              "      <td>-0.617227</td>\n",
              "      <td>1.15528</td>\n",
              "      <td>2.26953</td>\n",
              "      <td>0.329878</td>\n",
              "      <td>0.015871</td>\n",
              "      <td>-0.987255</td>\n",
              "      <td>-0.816066</td>\n",
              "      <td>-2.24288</td>\n",
              "      <td>-0.483016</td>\n",
              "      <td>0.233409</td>\n",
              "      <td>-0.358506</td>\n",
              "      <td>0.0270832</td>\n",
              "      <td>0.395688</td>\n",
              "      <td>1.61475</td>\n",
              "      <td>-0.114351</td>\n",
              "      <td>0.0373226</td>\n",
              "      <td>0.120131</td>\n",
              "      <td>1.60708</td>\n",
              "      <td>0.128616</td>\n",
              "      <td>-0.00462326</td>\n",
              "      <td>0.039601</td>\n",
              "      <td>0.118845</td>\n",
              "      <td>1.27556</td>\n",
              "      <td>-0.180752</td>\n",
              "      <td>-0.792216</td>\n",
              "      <td>...</td>\n",
              "      <td>0.00170317</td>\n",
              "      <td>-0.00128814</td>\n",
              "      <td>-0.00505332</td>\n",
              "      <td>-0.0227585</td>\n",
              "      <td>-0.00516927</td>\n",
              "      <td>-0.00942749</td>\n",
              "      <td>-0.00723378</td>\n",
              "      <td>-0.0101081</td>\n",
              "      <td>-0.00128872</td>\n",
              "      <td>-0.00943106</td>\n",
              "      <td>-0.0174137</td>\n",
              "      <td>-0.0275768</td>\n",
              "      <td>-0.0105234</td>\n",
              "      <td>-0.015726</td>\n",
              "      <td>0.00543297</td>\n",
              "      <td>0.00268863</td>\n",
              "      <td>-0.00215257</td>\n",
              "      <td>-0.00588316</td>\n",
              "      <td>-0.00977812</td>\n",
              "      <td>-0.0130202</td>\n",
              "      <td>-0.00852545</td>\n",
              "      <td>-0.00763984</td>\n",
              "      <td>-0.000722166</td>\n",
              "      <td>-0.00104926</td>\n",
              "      <td>0.00324818</td>\n",
              "      <td>-0.00395635</td>\n",
              "      <td>0.00117906</td>\n",
              "      <td>-0.00263746</td>\n",
              "      <td>-0.00675733</td>\n",
              "      <td>-0.00728034</td>\n",
              "      <td>-0.0196096</td>\n",
              "      <td>-0.00390477</td>\n",
              "      <td>-0.00173668</td>\n",
              "      <td>-0.00362994</td>\n",
              "      <td>0.00751602</td>\n",
              "      <td>0.00294767</td>\n",
              "      <td>0.00315257</td>\n",
              "      <td>-0.00860751</td>\n",
              "      <td>-0.0023831</td>\n",
              "      <td>0.00251421</td>\n",
              "    </tr>\n",
              "    <tr>\n",
              "      <th>3</th>\n",
              "      <td>0.264283</td>\n",
              "      <td>1.08538</td>\n",
              "      <td>1.01132</td>\n",
              "      <td>2.35846</td>\n",
              "      <td>0.174636</td>\n",
              "      <td>2.5678</td>\n",
              "      <td>-0.190723</td>\n",
              "      <td>0.124743</td>\n",
              "      <td>-0.00785681</td>\n",
              "      <td>1.34314</td>\n",
              "      <td>0.713684</td>\n",
              "      <td>0.0978516</td>\n",
              "      <td>-0.183644</td>\n",
              "      <td>1.79942</td>\n",
              "      <td>1.16879</td>\n",
              "      <td>-1.48574</td>\n",
              "      <td>0.75143</td>\n",
              "      <td>0.632578</td>\n",
              "      <td>2.03818</td>\n",
              "      <td>0.725029</td>\n",
              "      <td>2.59067</td>\n",
              "      <td>-0.916629</td>\n",
              "      <td>-0.00640715</td>\n",
              "      <td>0.737311</td>\n",
              "      <td>0.368312</td>\n",
              "      <td>0.728011</td>\n",
              "      <td>0.0889625</td>\n",
              "      <td>0.375522</td>\n",
              "      <td>-0.34913</td>\n",
              "      <td>0.382653</td>\n",
              "      <td>-0.0485021</td>\n",
              "      <td>0.242052</td>\n",
              "      <td>1.56041</td>\n",
              "      <td>0.499258</td>\n",
              "      <td>0.00499073</td>\n",
              "      <td>0.98424</td>\n",
              "      <td>0.432401</td>\n",
              "      <td>0.491133</td>\n",
              "      <td>0.852374</td>\n",
              "      <td>1.67195</td>\n",
              "      <td>...</td>\n",
              "      <td>0.000814104</td>\n",
              "      <td>0.0034339</td>\n",
              "      <td>0.0255354</td>\n",
              "      <td>0.00676462</td>\n",
              "      <td>-0.0094126</td>\n",
              "      <td>-0.000281415</td>\n",
              "      <td>0.00622858</td>\n",
              "      <td>0.00504669</td>\n",
              "      <td>0.00774509</td>\n",
              "      <td>-0.00116279</td>\n",
              "      <td>0.0155785</td>\n",
              "      <td>0.0395169</td>\n",
              "      <td>0.0197599</td>\n",
              "      <td>0.0213501</td>\n",
              "      <td>-0.0239781</td>\n",
              "      <td>0.000112831</td>\n",
              "      <td>0.00522768</td>\n",
              "      <td>0.00588308</td>\n",
              "      <td>0.0190204</td>\n",
              "      <td>0.00933656</td>\n",
              "      <td>-0.00445736</td>\n",
              "      <td>-0.00827347</td>\n",
              "      <td>-0.0112653</td>\n",
              "      <td>0.0142172</td>\n",
              "      <td>0.00743354</td>\n",
              "      <td>0.0133545</td>\n",
              "      <td>0.00857235</td>\n",
              "      <td>-0.00309461</td>\n",
              "      <td>0.0134795</td>\n",
              "      <td>0.00194986</td>\n",
              "      <td>0.0174114</td>\n",
              "      <td>0.013079</td>\n",
              "      <td>0.00313674</td>\n",
              "      <td>0.0166673</td>\n",
              "      <td>0.0418731</td>\n",
              "      <td>0.0182273</td>\n",
              "      <td>0.0152668</td>\n",
              "      <td>0.00311468</td>\n",
              "      <td>0.0251635</td>\n",
              "      <td>0.0153416</td>\n",
              "    </tr>\n",
              "    <tr>\n",
              "      <th>4</th>\n",
              "      <td>0.0593813</td>\n",
              "      <td>1.35243</td>\n",
              "      <td>0.338386</td>\n",
              "      <td>1.46262</td>\n",
              "      <td>0.289581</td>\n",
              "      <td>0.960679</td>\n",
              "      <td>2.20543</td>\n",
              "      <td>-0.709587</td>\n",
              "      <td>-0.0182314</td>\n",
              "      <td>-0.262238</td>\n",
              "      <td>0.0407456</td>\n",
              "      <td>0.0584545</td>\n",
              "      <td>0.816606</td>\n",
              "      <td>0.822113</td>\n",
              "      <td>0.0215424</td>\n",
              "      <td>-0.0241861</td>\n",
              "      <td>1.7258</td>\n",
              "      <td>1.07158</td>\n",
              "      <td>0.305127</td>\n",
              "      <td>0.447127</td>\n",
              "      <td>0.980637</td>\n",
              "      <td>2.68934</td>\n",
              "      <td>1.38808</td>\n",
              "      <td>1.48851</td>\n",
              "      <td>1.01863</td>\n",
              "      <td>3.73878</td>\n",
              "      <td>0.255359</td>\n",
              "      <td>1.05581</td>\n",
              "      <td>2.57882</td>\n",
              "      <td>0.40765</td>\n",
              "      <td>0.331173</td>\n",
              "      <td>0.252974</td>\n",
              "      <td>0.573669</td>\n",
              "      <td>-0.259309</td>\n",
              "      <td>0.0039815</td>\n",
              "      <td>0.059183</td>\n",
              "      <td>0.396356</td>\n",
              "      <td>1.64893</td>\n",
              "      <td>0.470909</td>\n",
              "      <td>1.53157</td>\n",
              "      <td>...</td>\n",
              "      <td>-0.00182425</td>\n",
              "      <td>-0.00314017</td>\n",
              "      <td>-0.0162838</td>\n",
              "      <td>-0.0222867</td>\n",
              "      <td>9.01903e-05</td>\n",
              "      <td>-0.00821789</td>\n",
              "      <td>0.0110078</td>\n",
              "      <td>0.0158481</td>\n",
              "      <td>-0.00996355</td>\n",
              "      <td>-0.0170028</td>\n",
              "      <td>0.0105372</td>\n",
              "      <td>0.025969</td>\n",
              "      <td>0.0109562</td>\n",
              "      <td>0.0166629</td>\n",
              "      <td>0.00474651</td>\n",
              "      <td>0.0121848</td>\n",
              "      <td>0.00491624</td>\n",
              "      <td>0.00058177</td>\n",
              "      <td>0.00184393</td>\n",
              "      <td>0.00573947</td>\n",
              "      <td>0.00605229</td>\n",
              "      <td>0.000801538</td>\n",
              "      <td>-0.00422652</td>\n",
              "      <td>0.0015475</td>\n",
              "      <td>-0.0074522</td>\n",
              "      <td>0.00707002</td>\n",
              "      <td>0.0021892</td>\n",
              "      <td>0.0125926</td>\n",
              "      <td>0.0039355</td>\n",
              "      <td>-0.00137837</td>\n",
              "      <td>-0.00449935</td>\n",
              "      <td>-0.0018642</td>\n",
              "      <td>-0.000383059</td>\n",
              "      <td>-0.00787939</td>\n",
              "      <td>-0.000812205</td>\n",
              "      <td>0.0206377</td>\n",
              "      <td>0.00431503</td>\n",
              "      <td>-0.000400443</td>\n",
              "      <td>0.0146262</td>\n",
              "      <td>0.0178406</td>\n",
              "    </tr>\n",
              "    <tr>\n",
              "      <th>...</th>\n",
              "      <td>...</td>\n",
              "      <td>...</td>\n",
              "      <td>...</td>\n",
              "      <td>...</td>\n",
              "      <td>...</td>\n",
              "      <td>...</td>\n",
              "      <td>...</td>\n",
              "      <td>...</td>\n",
              "      <td>...</td>\n",
              "      <td>...</td>\n",
              "      <td>...</td>\n",
              "      <td>...</td>\n",
              "      <td>...</td>\n",
              "      <td>...</td>\n",
              "      <td>...</td>\n",
              "      <td>...</td>\n",
              "      <td>...</td>\n",
              "      <td>...</td>\n",
              "      <td>...</td>\n",
              "      <td>...</td>\n",
              "      <td>...</td>\n",
              "      <td>...</td>\n",
              "      <td>...</td>\n",
              "      <td>...</td>\n",
              "      <td>...</td>\n",
              "      <td>...</td>\n",
              "      <td>...</td>\n",
              "      <td>...</td>\n",
              "      <td>...</td>\n",
              "      <td>...</td>\n",
              "      <td>...</td>\n",
              "      <td>...</td>\n",
              "      <td>...</td>\n",
              "      <td>...</td>\n",
              "      <td>...</td>\n",
              "      <td>...</td>\n",
              "      <td>...</td>\n",
              "      <td>...</td>\n",
              "      <td>...</td>\n",
              "      <td>...</td>\n",
              "      <td>...</td>\n",
              "      <td>...</td>\n",
              "      <td>...</td>\n",
              "      <td>...</td>\n",
              "      <td>...</td>\n",
              "      <td>...</td>\n",
              "      <td>...</td>\n",
              "      <td>...</td>\n",
              "      <td>...</td>\n",
              "      <td>...</td>\n",
              "      <td>...</td>\n",
              "      <td>...</td>\n",
              "      <td>...</td>\n",
              "      <td>...</td>\n",
              "      <td>...</td>\n",
              "      <td>...</td>\n",
              "      <td>...</td>\n",
              "      <td>...</td>\n",
              "      <td>...</td>\n",
              "      <td>...</td>\n",
              "      <td>...</td>\n",
              "      <td>...</td>\n",
              "      <td>...</td>\n",
              "      <td>...</td>\n",
              "      <td>...</td>\n",
              "      <td>...</td>\n",
              "      <td>...</td>\n",
              "      <td>...</td>\n",
              "      <td>...</td>\n",
              "      <td>...</td>\n",
              "      <td>...</td>\n",
              "      <td>...</td>\n",
              "      <td>...</td>\n",
              "      <td>...</td>\n",
              "      <td>...</td>\n",
              "      <td>...</td>\n",
              "      <td>...</td>\n",
              "      <td>...</td>\n",
              "      <td>...</td>\n",
              "      <td>...</td>\n",
              "      <td>...</td>\n",
              "    </tr>\n",
              "    <tr>\n",
              "      <th>95</th>\n",
              "      <td>-0.420977</td>\n",
              "      <td>-0.68419</td>\n",
              "      <td>-0.350734</td>\n",
              "      <td>2.41709</td>\n",
              "      <td>0.509329</td>\n",
              "      <td>0.206879</td>\n",
              "      <td>1.86332</td>\n",
              "      <td>-0.0519486</td>\n",
              "      <td>0.0155921</td>\n",
              "      <td>-0.142083</td>\n",
              "      <td>-2.08675</td>\n",
              "      <td>-0.0139959</td>\n",
              "      <td>0.997495</td>\n",
              "      <td>-0.563455</td>\n",
              "      <td>-1.6192</td>\n",
              "      <td>-1.36013</td>\n",
              "      <td>-0.0403366</td>\n",
              "      <td>-1.52235</td>\n",
              "      <td>0.729911</td>\n",
              "      <td>0.431871</td>\n",
              "      <td>-1.96684</td>\n",
              "      <td>0.826432</td>\n",
              "      <td>-0.217871</td>\n",
              "      <td>-0.391874</td>\n",
              "      <td>0.00994274</td>\n",
              "      <td>3.42837</td>\n",
              "      <td>0.0985809</td>\n",
              "      <td>0.651828</td>\n",
              "      <td>0.708564</td>\n",
              "      <td>-0.133738</td>\n",
              "      <td>-0.198532</td>\n",
              "      <td>-0.427428</td>\n",
              "      <td>-1.23517</td>\n",
              "      <td>1.33808</td>\n",
              "      <td>-0.00998947</td>\n",
              "      <td>-0.260651</td>\n",
              "      <td>0.800347</td>\n",
              "      <td>-2.10617</td>\n",
              "      <td>-0.773273</td>\n",
              "      <td>-1.85147</td>\n",
              "      <td>...</td>\n",
              "      <td>-0.00562267</td>\n",
              "      <td>-0.00914011</td>\n",
              "      <td>-0.00192282</td>\n",
              "      <td>-0.0103774</td>\n",
              "      <td>-0.0111583</td>\n",
              "      <td>-0.00284958</td>\n",
              "      <td>-0.00519236</td>\n",
              "      <td>-0.00414385</td>\n",
              "      <td>-0.00867181</td>\n",
              "      <td>-0.00426754</td>\n",
              "      <td>-0.0250154</td>\n",
              "      <td>-0.0373556</td>\n",
              "      <td>-0.0134057</td>\n",
              "      <td>-0.0214697</td>\n",
              "      <td>0.00890072</td>\n",
              "      <td>-0.00135221</td>\n",
              "      <td>0.00334174</td>\n",
              "      <td>-0.012957</td>\n",
              "      <td>-0.00569164</td>\n",
              "      <td>-0.0170773</td>\n",
              "      <td>-0.00697121</td>\n",
              "      <td>-0.00156629</td>\n",
              "      <td>0.000544447</td>\n",
              "      <td>0.00252835</td>\n",
              "      <td>-0.00931569</td>\n",
              "      <td>0.0160031</td>\n",
              "      <td>-0.00450221</td>\n",
              "      <td>-0.0130048</td>\n",
              "      <td>-0.00335156</td>\n",
              "      <td>-0.0047572</td>\n",
              "      <td>-0.00547425</td>\n",
              "      <td>0.00255964</td>\n",
              "      <td>-0.00959213</td>\n",
              "      <td>-0.0303703</td>\n",
              "      <td>-0.0548099</td>\n",
              "      <td>0.00977933</td>\n",
              "      <td>-0.0148061</td>\n",
              "      <td>-0.0010702</td>\n",
              "      <td>0.0123163</td>\n",
              "      <td>-0.00824733</td>\n",
              "    </tr>\n",
              "    <tr>\n",
              "      <th>96</th>\n",
              "      <td>-0.532937</td>\n",
              "      <td>1.32551</td>\n",
              "      <td>0.288528</td>\n",
              "      <td>-1.20485</td>\n",
              "      <td>1.61742</td>\n",
              "      <td>-0.0579056</td>\n",
              "      <td>-0.265223</td>\n",
              "      <td>0.98993</td>\n",
              "      <td>0.00835369</td>\n",
              "      <td>-0.12469</td>\n",
              "      <td>0.354546</td>\n",
              "      <td>0.0494425</td>\n",
              "      <td>0.924265</td>\n",
              "      <td>-0.981028</td>\n",
              "      <td>1.07108</td>\n",
              "      <td>-0.38859</td>\n",
              "      <td>0.186248</td>\n",
              "      <td>0.856379</td>\n",
              "      <td>0.0866617</td>\n",
              "      <td>0.0963315</td>\n",
              "      <td>-0.00200261</td>\n",
              "      <td>1.07307</td>\n",
              "      <td>-0.202293</td>\n",
              "      <td>0.121676</td>\n",
              "      <td>0.709234</td>\n",
              "      <td>0.413336</td>\n",
              "      <td>0.0574759</td>\n",
              "      <td>0.582709</td>\n",
              "      <td>0.987526</td>\n",
              "      <td>0.0531933</td>\n",
              "      <td>-0.19472</td>\n",
              "      <td>-0.289493</td>\n",
              "      <td>-0.298782</td>\n",
              "      <td>-0.817789</td>\n",
              "      <td>-0.00741091</td>\n",
              "      <td>0.428589</td>\n",
              "      <td>0.531977</td>\n",
              "      <td>-1.72319</td>\n",
              "      <td>-0.290161</td>\n",
              "      <td>-0.0291146</td>\n",
              "      <td>...</td>\n",
              "      <td>0.00355113</td>\n",
              "      <td>-0.0146372</td>\n",
              "      <td>-0.013682</td>\n",
              "      <td>-0.0273555</td>\n",
              "      <td>-0.0163005</td>\n",
              "      <td>-0.030076</td>\n",
              "      <td>0.00571346</td>\n",
              "      <td>0.000563447</td>\n",
              "      <td>-0.0100985</td>\n",
              "      <td>-0.00371168</td>\n",
              "      <td>-0.00351683</td>\n",
              "      <td>-0.0457002</td>\n",
              "      <td>-0.0251405</td>\n",
              "      <td>-0.0143331</td>\n",
              "      <td>0.000621555</td>\n",
              "      <td>0.00822716</td>\n",
              "      <td>-0.00230265</td>\n",
              "      <td>-0.0164183</td>\n",
              "      <td>-0.0174292</td>\n",
              "      <td>-0.0197742</td>\n",
              "      <td>-0.0145844</td>\n",
              "      <td>0.000460189</td>\n",
              "      <td>-0.00661086</td>\n",
              "      <td>-0.00487482</td>\n",
              "      <td>-0.0253319</td>\n",
              "      <td>0.013856</td>\n",
              "      <td>-0.00967109</td>\n",
              "      <td>-0.00818572</td>\n",
              "      <td>0.000621083</td>\n",
              "      <td>-0.0128227</td>\n",
              "      <td>-0.0205393</td>\n",
              "      <td>0.00207949</td>\n",
              "      <td>-0.0119655</td>\n",
              "      <td>-0.0369367</td>\n",
              "      <td>-0.0426533</td>\n",
              "      <td>0.00291724</td>\n",
              "      <td>-0.00408134</td>\n",
              "      <td>0.000963514</td>\n",
              "      <td>-0.0146614</td>\n",
              "      <td>-0.000579952</td>\n",
              "    </tr>\n",
              "    <tr>\n",
              "      <th>97</th>\n",
              "      <td>0.251704</td>\n",
              "      <td>1.43315</td>\n",
              "      <td>0.511207</td>\n",
              "      <td>-1.58141</td>\n",
              "      <td>1.30808</td>\n",
              "      <td>1.02103</td>\n",
              "      <td>-0.00482888</td>\n",
              "      <td>0.422307</td>\n",
              "      <td>0.00330057</td>\n",
              "      <td>-0.163828</td>\n",
              "      <td>1.65517</td>\n",
              "      <td>0.111782</td>\n",
              "      <td>0.125492</td>\n",
              "      <td>1.84019</td>\n",
              "      <td>0.227628</td>\n",
              "      <td>-0.705667</td>\n",
              "      <td>1.18267</td>\n",
              "      <td>-0.704105</td>\n",
              "      <td>-0.0844276</td>\n",
              "      <td>0.662355</td>\n",
              "      <td>1.30833</td>\n",
              "      <td>2.34245</td>\n",
              "      <td>1.38803</td>\n",
              "      <td>0.118747</td>\n",
              "      <td>-0.179858</td>\n",
              "      <td>1.52448</td>\n",
              "      <td>0.0413592</td>\n",
              "      <td>0.36845</td>\n",
              "      <td>1.36583</td>\n",
              "      <td>0.24315</td>\n",
              "      <td>0.674586</td>\n",
              "      <td>0.354916</td>\n",
              "      <td>1.2935</td>\n",
              "      <td>0.709251</td>\n",
              "      <td>0.00223552</td>\n",
              "      <td>-0.542403</td>\n",
              "      <td>-0.114243</td>\n",
              "      <td>0.851319</td>\n",
              "      <td>-0.356826</td>\n",
              "      <td>1.2066</td>\n",
              "      <td>...</td>\n",
              "      <td>-0.00312194</td>\n",
              "      <td>0.00940989</td>\n",
              "      <td>-0.000782056</td>\n",
              "      <td>-0.00931242</td>\n",
              "      <td>-0.00376255</td>\n",
              "      <td>-0.0088852</td>\n",
              "      <td>0.00349431</td>\n",
              "      <td>0.0168793</td>\n",
              "      <td>0.00733177</td>\n",
              "      <td>-0.00222575</td>\n",
              "      <td>0.00679324</td>\n",
              "      <td>0.0385207</td>\n",
              "      <td>0.00629768</td>\n",
              "      <td>0.010106</td>\n",
              "      <td>0.00507137</td>\n",
              "      <td>-0.00810856</td>\n",
              "      <td>-0.00544341</td>\n",
              "      <td>0.0084233</td>\n",
              "      <td>-0.0110729</td>\n",
              "      <td>0.00456968</td>\n",
              "      <td>0.00905555</td>\n",
              "      <td>0.00238726</td>\n",
              "      <td>0.00687025</td>\n",
              "      <td>0.0042522</td>\n",
              "      <td>0.00249009</td>\n",
              "      <td>-0.002031</td>\n",
              "      <td>0.000329336</td>\n",
              "      <td>0.000941405</td>\n",
              "      <td>0.00173133</td>\n",
              "      <td>-0.00711061</td>\n",
              "      <td>-0.00202052</td>\n",
              "      <td>-0.00121511</td>\n",
              "      <td>-0.00150249</td>\n",
              "      <td>0.00428539</td>\n",
              "      <td>0.00791032</td>\n",
              "      <td>-0.00211605</td>\n",
              "      <td>0.00598974</td>\n",
              "      <td>0.00110902</td>\n",
              "      <td>-0.013778</td>\n",
              "      <td>0.00219372</td>\n",
              "    </tr>\n",
              "    <tr>\n",
              "      <th>98</th>\n",
              "      <td>-0.24944</td>\n",
              "      <td>-1.72048</td>\n",
              "      <td>-1.50887</td>\n",
              "      <td>-1.83239</td>\n",
              "      <td>-3.19915</td>\n",
              "      <td>-2.22054</td>\n",
              "      <td>-1.01122</td>\n",
              "      <td>-1.84689</td>\n",
              "      <td>-0.0057816</td>\n",
              "      <td>-0.441512</td>\n",
              "      <td>-2.63583</td>\n",
              "      <td>-0.108578</td>\n",
              "      <td>-5.36134</td>\n",
              "      <td>-1.27886</td>\n",
              "      <td>-1.3855</td>\n",
              "      <td>-2.34062</td>\n",
              "      <td>-1.29782</td>\n",
              "      <td>-1.01066</td>\n",
              "      <td>0.268884</td>\n",
              "      <td>-0.0772187</td>\n",
              "      <td>-0.774029</td>\n",
              "      <td>-0.303234</td>\n",
              "      <td>-0.80458</td>\n",
              "      <td>0.266941</td>\n",
              "      <td>-0.424221</td>\n",
              "      <td>-1.31039</td>\n",
              "      <td>-0.144648</td>\n",
              "      <td>-0.686397</td>\n",
              "      <td>-1.74776</td>\n",
              "      <td>-0.419185</td>\n",
              "      <td>-0.330059</td>\n",
              "      <td>-0.524664</td>\n",
              "      <td>-1.6748</td>\n",
              "      <td>-1.09129</td>\n",
              "      <td>0.00603686</td>\n",
              "      <td>-0.174298</td>\n",
              "      <td>-0.177723</td>\n",
              "      <td>-2.15928</td>\n",
              "      <td>0.0555717</td>\n",
              "      <td>-0.860194</td>\n",
              "      <td>...</td>\n",
              "      <td>0.000961501</td>\n",
              "      <td>-0.0108113</td>\n",
              "      <td>-0.00907822</td>\n",
              "      <td>-0.000243049</td>\n",
              "      <td>0.00821475</td>\n",
              "      <td>-0.000201573</td>\n",
              "      <td>-0.00879483</td>\n",
              "      <td>-0.00575918</td>\n",
              "      <td>-0.00909982</td>\n",
              "      <td>-0.0134184</td>\n",
              "      <td>-0.0154052</td>\n",
              "      <td>-0.037293</td>\n",
              "      <td>-0.00929644</td>\n",
              "      <td>-0.0186167</td>\n",
              "      <td>-0.0242624</td>\n",
              "      <td>-0.00678214</td>\n",
              "      <td>-0.00166373</td>\n",
              "      <td>-0.0077588</td>\n",
              "      <td>-0.00190947</td>\n",
              "      <td>-0.00553642</td>\n",
              "      <td>-0.00166164</td>\n",
              "      <td>-0.00138724</td>\n",
              "      <td>0.00218656</td>\n",
              "      <td>-0.00467561</td>\n",
              "      <td>-0.0104586</td>\n",
              "      <td>-0.00595155</td>\n",
              "      <td>-0.00102073</td>\n",
              "      <td>0.00492821</td>\n",
              "      <td>-0.000164003</td>\n",
              "      <td>-0.00425831</td>\n",
              "      <td>-0.00721532</td>\n",
              "      <td>-0.0146863</td>\n",
              "      <td>-0.00579883</td>\n",
              "      <td>-0.0137383</td>\n",
              "      <td>-0.0404107</td>\n",
              "      <td>-0.00882231</td>\n",
              "      <td>-0.0118214</td>\n",
              "      <td>-0.00434969</td>\n",
              "      <td>-0.00576962</td>\n",
              "      <td>-0.0207074</td>\n",
              "    </tr>\n",
              "    <tr>\n",
              "      <th>99</th>\n",
              "      <td>-0.201213</td>\n",
              "      <td>0.0805342</td>\n",
              "      <td>0.29268</td>\n",
              "      <td>0.22228</td>\n",
              "      <td>2.44772</td>\n",
              "      <td>0.0463148</td>\n",
              "      <td>2.47748</td>\n",
              "      <td>3.19809</td>\n",
              "      <td>0.00494242</td>\n",
              "      <td>-2.3992</td>\n",
              "      <td>1.95979</td>\n",
              "      <td>-0.0524665</td>\n",
              "      <td>-3.29665</td>\n",
              "      <td>0.725334</td>\n",
              "      <td>0.10206</td>\n",
              "      <td>0.416889</td>\n",
              "      <td>1.58894</td>\n",
              "      <td>3.01334</td>\n",
              "      <td>1.92988</td>\n",
              "      <td>0.133266</td>\n",
              "      <td>1.27603</td>\n",
              "      <td>0.451048</td>\n",
              "      <td>0.61502</td>\n",
              "      <td>2.02203</td>\n",
              "      <td>1.01619</td>\n",
              "      <td>1.39835</td>\n",
              "      <td>0.184839</td>\n",
              "      <td>0.816117</td>\n",
              "      <td>2.49288</td>\n",
              "      <td>0.113202</td>\n",
              "      <td>-0.165579</td>\n",
              "      <td>-0.115742</td>\n",
              "      <td>-0.244266</td>\n",
              "      <td>-3.11299</td>\n",
              "      <td>-0.00914211</td>\n",
              "      <td>0.92853</td>\n",
              "      <td>0.677285</td>\n",
              "      <td>1.79573</td>\n",
              "      <td>0.970201</td>\n",
              "      <td>0.140885</td>\n",
              "      <td>...</td>\n",
              "      <td>0.00465571</td>\n",
              "      <td>-0.00736012</td>\n",
              "      <td>-0.0111729</td>\n",
              "      <td>-0.0104373</td>\n",
              "      <td>-0.00659027</td>\n",
              "      <td>-0.0261807</td>\n",
              "      <td>-0.00739533</td>\n",
              "      <td>-0.00557257</td>\n",
              "      <td>-0.0158593</td>\n",
              "      <td>-0.00130966</td>\n",
              "      <td>-0.00785514</td>\n",
              "      <td>-0.0333777</td>\n",
              "      <td>-0.00987259</td>\n",
              "      <td>-0.0158439</td>\n",
              "      <td>0.00858408</td>\n",
              "      <td>0.0111488</td>\n",
              "      <td>-0.00513724</td>\n",
              "      <td>-0.00545196</td>\n",
              "      <td>-0.0100054</td>\n",
              "      <td>-0.0049857</td>\n",
              "      <td>-0.0117781</td>\n",
              "      <td>-0.0084279</td>\n",
              "      <td>0.00430759</td>\n",
              "      <td>-0.00834242</td>\n",
              "      <td>0.00166216</td>\n",
              "      <td>0.0144579</td>\n",
              "      <td>-0.00707102</td>\n",
              "      <td>0.0116947</td>\n",
              "      <td>-0.00650707</td>\n",
              "      <td>0.00643206</td>\n",
              "      <td>-0.00508989</td>\n",
              "      <td>-0.00140211</td>\n",
              "      <td>-0.00100502</td>\n",
              "      <td>-0.00658331</td>\n",
              "      <td>0.00437514</td>\n",
              "      <td>0.0279846</td>\n",
              "      <td>0.00427779</td>\n",
              "      <td>-0.0019973</td>\n",
              "      <td>0.0109015</td>\n",
              "      <td>-0.00798438</td>\n",
              "    </tr>\n",
              "  </tbody>\n",
              "</table>\n",
              "<p>100 rows × 252218 columns</p>\n",
              "</div>"
            ],
            "text/plain": [
              "Vocab_name     andrew       send  ...      curhdj    fireblade\n",
              "0            0.257254    2.44263  ...   0.0165601  -0.00502306\n",
              "1            0.433912  -0.512514  ...  -0.0091022   -0.0252841\n",
              "2            0.052764   0.505423  ...  -0.0023831   0.00251421\n",
              "3            0.264283    1.08538  ...   0.0251635    0.0153416\n",
              "4           0.0593813    1.35243  ...   0.0146262    0.0178406\n",
              "..                ...        ...  ...         ...          ...\n",
              "95          -0.420977   -0.68419  ...   0.0123163  -0.00824733\n",
              "96          -0.532937    1.32551  ...  -0.0146614 -0.000579952\n",
              "97           0.251704    1.43315  ...   -0.013778   0.00219372\n",
              "98           -0.24944   -1.72048  ... -0.00576962   -0.0207074\n",
              "99          -0.201213  0.0805342  ...   0.0109015  -0.00798438\n",
              "\n",
              "[100 rows x 252218 columns]"
            ]
          },
          "metadata": {
            "tags": []
          },
          "execution_count": 37
        }
      ]
    },
    {
      "cell_type": "code",
      "metadata": {
        "id": "rj7RpWuN65Xk",
        "colab_type": "code",
        "colab": {
          "base_uri": "https://localhost:8080/",
          "height": 225
        },
        "outputId": "677dc4ed-3e7f-4566-9f59-c69d8171f7f7"
      },
      "source": [
        "df_word2vec['read']"
      ],
      "execution_count": 38,
      "outputs": [
        {
          "output_type": "execute_result",
          "data": {
            "text/plain": [
              "0       2.60626\n",
              "1     -0.361747\n",
              "2     0.0568298\n",
              "3      0.174636\n",
              "4      0.289581\n",
              "        ...    \n",
              "95     0.509329\n",
              "96      1.61742\n",
              "97      1.30808\n",
              "98     -3.19915\n",
              "99      2.44772\n",
              "Name: read, Length: 100, dtype: object"
            ]
          },
          "metadata": {
            "tags": []
          },
          "execution_count": 38
        }
      ]
    },
    {
      "cell_type": "code",
      "metadata": {
        "id": "xpm_2lorH1ax",
        "colab_type": "code",
        "colab": {
          "base_uri": "https://localhost:8080/",
          "height": 436
        },
        "outputId": "763d708f-f65b-4d82-a93f-2d822a4f6d66"
      },
      "source": [
        "## to find the vector for a particular word\n",
        "vector=model['depression']\n",
        "vector"
      ],
      "execution_count": 39,
      "outputs": [
        {
          "output_type": "stream",
          "text": [
            "/usr/local/lib/python3.6/dist-packages/ipykernel_launcher.py:2: DeprecationWarning: Call to deprecated `__getitem__` (Method will be removed in 4.0.0, use self.wv.__getitem__() instead).\n",
            "  \n"
          ],
          "name": "stderr"
        },
        {
          "output_type": "execute_result",
          "data": {
            "text/plain": [
              "array([ 1.2718734 ,  0.49211943,  0.19061485,  0.8830959 ,  0.2244622 ,\n",
              "       -0.58018357,  0.4054875 , -0.15610848, -0.29473606,  0.02319238,\n",
              "       -0.7601524 ,  0.32486144,  0.0441085 ,  0.11720998, -0.6404788 ,\n",
              "       -0.16364306,  0.38281208, -0.09319092, -0.38293692, -0.5995388 ,\n",
              "        0.32957745,  0.17894834,  0.22090682, -0.81430316,  0.36801535,\n",
              "        0.429524  ,  0.40797567,  0.33836484,  0.39283794,  0.92920876,\n",
              "       -0.19592656,  0.43157282,  0.30574188,  0.6636605 , -0.08281607,\n",
              "       -0.2164716 , -0.09335108, -0.42799327,  0.5246372 , -0.43792507,\n",
              "       -0.6944105 , -0.2205823 , -0.9903423 ,  0.14857934,  0.77837837,\n",
              "       -0.59494644,  0.19690068, -0.3419202 ,  0.05683653,  0.61767006,\n",
              "        0.42525458, -0.4963771 ,  0.03095413,  0.8565921 , -0.8513766 ,\n",
              "       -0.32598704,  0.33294454,  0.20605883,  0.77591664, -0.3826097 ,\n",
              "       -0.56775486,  0.14420319, -0.0895547 ,  0.1540048 , -0.03957731,\n",
              "       -0.53850895,  0.69644266, -0.14173782,  0.47999588,  0.01779818,\n",
              "        0.34943187,  0.5411728 , -0.17061056,  0.66283506, -0.59250665,\n",
              "        0.27368772,  0.10362328, -0.2230702 , -0.23406243,  0.4966357 ,\n",
              "       -0.07506225,  0.12247127,  0.4676425 ,  0.04090101, -0.04121641,\n",
              "        0.13864914, -0.18954296,  0.06178485, -0.21659763,  1.4262483 ,\n",
              "        0.04960658,  0.04424811,  0.13748592,  0.28884575, -0.2717926 ,\n",
              "       -0.12645715,  0.2649851 , -0.10889117, -0.30859247,  0.5282264 ],\n",
              "      dtype=float32)"
            ]
          },
          "metadata": {
            "tags": []
          },
          "execution_count": 39
        }
      ]
    },
    {
      "cell_type": "code",
      "metadata": {
        "id": "lCmmtQ293ypq",
        "colab_type": "code",
        "colab": {
          "base_uri": "https://localhost:8080/",
          "height": 72
        },
        "outputId": "5d2fda64-0c4c-44d5-d7a0-77a60f984f00"
      },
      "source": [
        "model.wv.save_word2vec_format('model.txt',binary=False) ## to save the model"
      ],
      "execution_count": 40,
      "outputs": [
        {
          "output_type": "stream",
          "text": [
            "/usr/local/lib/python3.6/dist-packages/smart_open/smart_open_lib.py:254: UserWarning: This function is deprecated, use smart_open.open instead. See the migration notes for details: https://github.com/RaRe-Technologies/smart_open/blob/master/README.rst#migrating-to-the-new-open-function\n",
            "  'See the migration notes for details: %s' % _MIGRATION_NOTES_URL\n"
          ],
          "name": "stderr"
        }
      ]
    },
    {
      "cell_type": "code",
      "metadata": {
        "id": "cwDQASn4H1gQ",
        "colab_type": "code",
        "colab": {}
      },
      "source": [
        "## to find similar words to the words commonly used by people in depression in their tweets\n",
        "keyword = [\"depression\",\"depressed\",\"anxiety\",\"overwhelmed\",\"exhausted\",\"distressed\",\"anxious\",\"tired\",\"low\",\"discouraged\",\"desperate\",\"insomnia\",\"cry\",\"nervous\",\"worried\",\"lonely\",\"sad\",\"empty\"]\n",
        "\n",
        "### word \"demotivated\" is not there in the dictionary\n",
        "import warnings\n",
        "warnings.filterwarnings(\"ignore\")\n",
        "similar=[]\n",
        "for i in keyword:\n",
        "  similar.append(model.wv.most_similar(i))\n"
      ],
      "execution_count": 41,
      "outputs": []
    },
    {
      "cell_type": "code",
      "metadata": {
        "id": "Rq8bTn1-ol_0",
        "colab_type": "code",
        "colab": {
          "base_uri": "https://localhost:8080/",
          "height": 35
        },
        "outputId": "5917dd47-7242-4142-bbd4-182a2cdd4c1e"
      },
      "source": [
        "### to merge all the similar words into one list\n",
        "import itertools \n",
        "\n",
        "merged = list(itertools.chain.from_iterable(similar))\n",
        "mergedList=list(set (merged))\n",
        "print(len(mergedList))"
      ],
      "execution_count": 42,
      "outputs": [
        {
          "output_type": "stream",
          "text": [
            "180\n"
          ],
          "name": "stdout"
        }
      ]
    },
    {
      "cell_type": "code",
      "metadata": {
        "id": "vghuIruX1oPW",
        "colab_type": "code",
        "colab": {
          "base_uri": "https://localhost:8080/",
          "height": 433
        },
        "outputId": "109957bf-bdc7-41a9-ec24-c481eb77ce46"
      },
      "source": [
        "### to visualize the word vectors using PCA\n",
        "from sklearn.decomposition import PCA\n",
        "import matplotlib.pyplot as plt\n",
        "\n",
        "# to fit a 2d PCA model to the vectors\n",
        "pca = PCA(n_components=2)\n",
        "result = pca.fit_transform(X)\n",
        "\n",
        "print('Explained variation per principal component: {}'.format(pca.explained_variance_ratio_))\n",
        "df_pca=pd.DataFrame({'pca_component_1':result[:,0],'pca_component_2':result[:,1]})\n",
        "df_pca\n"
      ],
      "execution_count": 43,
      "outputs": [
        {
          "output_type": "stream",
          "text": [
            "Explained variation per principal component: [0.36445162 0.12394826]\n"
          ],
          "name": "stdout"
        },
        {
          "output_type": "execute_result",
          "data": {
            "text/html": [
              "<div>\n",
              "<style scoped>\n",
              "    .dataframe tbody tr th:only-of-type {\n",
              "        vertical-align: middle;\n",
              "    }\n",
              "\n",
              "    .dataframe tbody tr th {\n",
              "        vertical-align: top;\n",
              "    }\n",
              "\n",
              "    .dataframe thead th {\n",
              "        text-align: right;\n",
              "    }\n",
              "</style>\n",
              "<table border=\"1\" class=\"dataframe\">\n",
              "  <thead>\n",
              "    <tr style=\"text-align: right;\">\n",
              "      <th></th>\n",
              "      <th>pca_component_1</th>\n",
              "      <th>pca_component_2</th>\n",
              "    </tr>\n",
              "  </thead>\n",
              "  <tbody>\n",
              "    <tr>\n",
              "      <th>0</th>\n",
              "      <td>1.069215</td>\n",
              "      <td>0.913772</td>\n",
              "    </tr>\n",
              "    <tr>\n",
              "      <th>1</th>\n",
              "      <td>5.039628</td>\n",
              "      <td>-1.818841</td>\n",
              "    </tr>\n",
              "    <tr>\n",
              "      <th>2</th>\n",
              "      <td>3.353961</td>\n",
              "      <td>0.709611</td>\n",
              "    </tr>\n",
              "    <tr>\n",
              "      <th>3</th>\n",
              "      <td>5.956389</td>\n",
              "      <td>1.918721</td>\n",
              "    </tr>\n",
              "    <tr>\n",
              "      <th>4</th>\n",
              "      <td>5.714570</td>\n",
              "      <td>-2.187715</td>\n",
              "    </tr>\n",
              "    <tr>\n",
              "      <th>...</th>\n",
              "      <td>...</td>\n",
              "      <td>...</td>\n",
              "    </tr>\n",
              "    <tr>\n",
              "      <th>252213</th>\n",
              "      <td>-0.263309</td>\n",
              "      <td>-0.114301</td>\n",
              "    </tr>\n",
              "    <tr>\n",
              "      <th>252214</th>\n",
              "      <td>-0.218177</td>\n",
              "      <td>-0.095692</td>\n",
              "    </tr>\n",
              "    <tr>\n",
              "      <th>252215</th>\n",
              "      <td>-0.215633</td>\n",
              "      <td>-0.099999</td>\n",
              "    </tr>\n",
              "    <tr>\n",
              "      <th>252216</th>\n",
              "      <td>-0.237291</td>\n",
              "      <td>-0.087764</td>\n",
              "    </tr>\n",
              "    <tr>\n",
              "      <th>252217</th>\n",
              "      <td>-0.256899</td>\n",
              "      <td>-0.127489</td>\n",
              "    </tr>\n",
              "  </tbody>\n",
              "</table>\n",
              "<p>252218 rows × 2 columns</p>\n",
              "</div>"
            ],
            "text/plain": [
              "        pca_component_1  pca_component_2\n",
              "0              1.069215         0.913772\n",
              "1              5.039628        -1.818841\n",
              "2              3.353961         0.709611\n",
              "3              5.956389         1.918721\n",
              "4              5.714570        -2.187715\n",
              "...                 ...              ...\n",
              "252213        -0.263309        -0.114301\n",
              "252214        -0.218177        -0.095692\n",
              "252215        -0.215633        -0.099999\n",
              "252216        -0.237291        -0.087764\n",
              "252217        -0.256899        -0.127489\n",
              "\n",
              "[252218 rows x 2 columns]"
            ]
          },
          "metadata": {
            "tags": []
          },
          "execution_count": 43
        }
      ]
    },
    {
      "cell_type": "code",
      "metadata": {
        "id": "f1m7zBk1Rr44",
        "colab_type": "code",
        "colab": {
          "base_uri": "https://localhost:8080/",
          "height": 863
        },
        "outputId": "45be3188-412b-4809-fc5b-735731e92b19"
      },
      "source": [
        "# create a scatter plot of the projection\n",
        "plt.figure(figsize=(15,15))\n",
        "plt.scatter(result[:, 0], result[:, 1])\n",
        "\n",
        "for i, word in enumerate(words):\n",
        "\tplt.annotate(word, xy=(result[i, 0], result[i, 1]))\n",
        "plt.show()"
      ],
      "execution_count": 44,
      "outputs": [
        {
          "output_type": "display_data",
          "data": {
            "image/png": "[encoded data removed]",
            "text/plain": [
              "<Figure size 1080x1080 with 1 Axes>"
            ]
          },
          "metadata": {
            "tags": [],
            "needs_background": "light"
          }
        }
      ]
    },
    {
      "cell_type": "markdown",
      "metadata": {
        "id": "9eQ9O8YyoPa3",
        "colab_type": "text"
      },
      "source": [
        "# **FOR MODEL BUILDING USED A DATASET FROM THE BELOW REFERENCED GITHUB REPOSITORY**\n",
        "\n",
        "---\n",
        "\n",
        "\n",
        "It is a labelled dataset containing tweets and their corresponding labels"
      ]
    },
    {
      "cell_type": "markdown",
      "metadata": {
        "id": "8Er8CXjBn2CM",
        "colab_type": "text"
      },
      "source": [
        "Reference: [Github Link](https://github.com/viritaromero/Detecting-Depression-in-Tweets.git)"
      ]
    },
    {
      "cell_type": "code",
      "metadata": {
        "id": "oY9ledSfoNHg",
        "colab_type": "code",
        "colab": {}
      },
      "source": [
        "df_modelTrain=pd.read_csv('drive/My Drive/sentiment_tweets3.csv',encoding='utf-8')"
      ],
      "execution_count": 45,
      "outputs": []
    },
    {
      "cell_type": "code",
      "metadata": {
        "id": "nMZ3cyBHpRh5",
        "colab_type": "code",
        "colab": {}
      },
      "source": [
        "df_modelTrain=df_modelTrain.iloc[:10313,1:]"
      ],
      "execution_count": 46,
      "outputs": []
    },
    {
      "cell_type": "code",
      "metadata": {
        "id": "hMl0gMI3qGgJ",
        "colab_type": "code",
        "colab": {}
      },
      "source": [
        "# df_modelTrain['message'] = df_modelTrain['message'].sample(frac=1).reset_index(drop=True)"
      ],
      "execution_count": 47,
      "outputs": []
    },
    {
      "cell_type": "code",
      "metadata": {
        "id": "nJ1b9Z54qZyW",
        "colab_type": "code",
        "colab": {}
      },
      "source": [
        "import sklearn.utils\n",
        "df_modelTrain = sklearn.utils.shuffle(df_modelTrain,random_state=100)     ### to shuffle the dataset\n",
        "df_modelTrain = df_modelTrain.reset_index(drop=True)\n"
      ],
      "execution_count": 48,
      "outputs": []
    },
    {
      "cell_type": "code",
      "metadata": {
        "id": "s_6XTLy1sZjR",
        "colab_type": "code",
        "colab": {
          "base_uri": "https://localhost:8080/",
          "height": 355
        },
        "outputId": "9de429e1-cab9-484f-aea9-783472fa96cd"
      },
      "source": [
        "df_modelTrain.head(10)"
      ],
      "execution_count": 49,
      "outputs": [
        {
          "output_type": "execute_result",
          "data": {
            "text/html": [
              "<div>\n",
              "<style scoped>\n",
              "    .dataframe tbody tr th:only-of-type {\n",
              "        vertical-align: middle;\n",
              "    }\n",
              "\n",
              "    .dataframe tbody tr th {\n",
              "        vertical-align: top;\n",
              "    }\n",
              "\n",
              "    .dataframe thead th {\n",
              "        text-align: right;\n",
              "    }\n",
              "</style>\n",
              "<table border=\"1\" class=\"dataframe\">\n",
              "  <thead>\n",
              "    <tr style=\"text-align: right;\">\n",
              "      <th></th>\n",
              "      <th>message</th>\n",
              "      <th>label</th>\n",
              "    </tr>\n",
              "  </thead>\n",
              "  <tbody>\n",
              "    <tr>\n",
              "      <th>0</th>\n",
              "      <td>@MaryWilhite Very nice presentation!  Perhaps ...</td>\n",
              "      <td>0</td>\n",
              "    </tr>\n",
              "    <tr>\n",
              "      <th>1</th>\n",
              "      <td>@officialTila  Hey girl doin big things. Got r...</td>\n",
              "      <td>0</td>\n",
              "    </tr>\n",
              "    <tr>\n",
              "      <th>2</th>\n",
              "      <td>#BeingAdoptedMeans I have struggled with depre...</td>\n",
              "      <td>1</td>\n",
              "    </tr>\n",
              "    <tr>\n",
              "      <th>3</th>\n",
              "      <td>@scottarthart i know!!  im pretty good at it a...</td>\n",
              "      <td>0</td>\n",
              "    </tr>\n",
              "    <tr>\n",
              "      <th>4</th>\n",
              "      <td>In High School,\" the Kids Are Not All Right \"\"...</td>\n",
              "      <td>1</td>\n",
              "    </tr>\n",
              "    <tr>\n",
              "      <th>5</th>\n",
              "      <td>@SQLChicken because it's programmed differently</td>\n",
              "      <td>0</td>\n",
              "    </tr>\n",
              "    <tr>\n",
              "      <th>6</th>\n",
              "      <td>@TheXiaxue PS: It's only a theory based on my ...</td>\n",
              "      <td>0</td>\n",
              "    </tr>\n",
              "    <tr>\n",
              "      <th>7</th>\n",
              "      <td>How exercising can slash the risk of depressio...</td>\n",
              "      <td>1</td>\n",
              "    </tr>\n",
              "    <tr>\n",
              "      <th>8</th>\n",
              "      <td>@FlorenceKincaid he was...he said it.look on a...</td>\n",
              "      <td>0</td>\n",
              "    </tr>\n",
              "    <tr>\n",
              "      <th>9</th>\n",
              "      <td>Bom dia twittes!</td>\n",
              "      <td>0</td>\n",
              "    </tr>\n",
              "  </tbody>\n",
              "</table>\n",
              "</div>"
            ],
            "text/plain": [
              "                                             message  label\n",
              "0  @MaryWilhite Very nice presentation!  Perhaps ...      0\n",
              "1  @officialTila  Hey girl doin big things. Got r...      0\n",
              "2  #BeingAdoptedMeans I have struggled with depre...      1\n",
              "3  @scottarthart i know!!  im pretty good at it a...      0\n",
              "4  In High School,\" the Kids Are Not All Right \"\"...      1\n",
              "5   @SQLChicken because it's programmed differently       0\n",
              "6  @TheXiaxue PS: It's only a theory based on my ...      0\n",
              "7  How exercising can slash the risk of depressio...      1\n",
              "8  @FlorenceKincaid he was...he said it.look on a...      0\n",
              "9                                  Bom dia twittes!       0"
            ]
          },
          "metadata": {
            "tags": []
          },
          "execution_count": 49
        }
      ]
    },
    {
      "cell_type": "markdown",
      "metadata": {
        "id": "S8-iHNhb1f1e",
        "colab_type": "text"
      },
      "source": [
        "# **Text Preprocessing**"
      ]
    },
    {
      "cell_type": "code",
      "metadata": {
        "id": "ruiihCfG3pJ7",
        "colab_type": "code",
        "colab": {}
      },
      "source": [
        "from nltk.stem import WordNetLemmatizer\n",
        "lemmatizer=WordNetLemmatizer()                   \n",
        "\n",
        "###Lemmatization is the process of grouping together the different inflected \n",
        "### forms of a word so they can be analysed as a single item.(Ref:GeeksForGeeks)"
      ],
      "execution_count": 50,
      "outputs": []
    },
    {
      "cell_type": "code",
      "metadata": {
        "id": "sNsOPRqLwTKd",
        "colab_type": "code",
        "colab": {}
      },
      "source": [
        "model_sen1=[]\n",
        "for i in range(len(df_modelTrain.message)):\n",
        "  words=re.sub(\"[^A-Za-z]\",\" \",df_modelTrain.message[i])   ### to remove characters other than A-Z and a-z\n",
        "  words=words.lower()     ### to turn to lower case\n",
        "  model_sen1.append(words)"
      ],
      "execution_count": 51,
      "outputs": []
    },
    {
      "cell_type": "code",
      "metadata": {
        "id": "u4I8oGzAxI1y",
        "colab_type": "code",
        "colab": {}
      },
      "source": [
        "model_sen2=[]\n",
        "\n",
        "for i in range(len(model_sen1)):\n",
        "  words=[]\n",
        "  for word in model_sen1[i].split():\n",
        "    if (word not in set (stopwords.words('english'))):  #### to remove stopwords\n",
        "      words.append(lemmatizer.lemmatize(word))           ###lemmatization\n",
        "  model_sen2.append(list(words))\n",
        "  model_sen2[i]=\" \".join(model_sen2[i])\n"
      ],
      "execution_count": 52,
      "outputs": []
    },
    {
      "cell_type": "code",
      "metadata": {
        "id": "dkEmEqrsNSF7",
        "colab_type": "code",
        "colab": {
          "base_uri": "https://localhost:8080/",
          "height": 607
        },
        "outputId": "e59ebeb9-26ea-483d-aa1c-2d29a09e93be"
      },
      "source": [
        "from wordcloud import WordCloud\n",
        "wordcloud = WordCloud(width = 800, height = 800,   ### to plot wordcloud\n",
        "                background_color ='black', \n",
        "                stopwords = stopwords.words('english'), \n",
        "                min_font_size = 10).generate(str(model_sen2))   ## for the whole dataset\n",
        "  \n",
        "# plot the WordCloud image                        \n",
        "plt.figure(figsize = (8, 8), facecolor = None) \n",
        "plt.imshow(wordcloud) \n",
        "plt.axis(\"off\") \n",
        "plt.tight_layout(pad = 0)\n",
        "plt.show() \n",
        "  "
      ],
      "execution_count": 54,
      "outputs": [
        {
          "output_type": "display_data",
          "data": {
            "image/png": "[encoded data removed]",
            "text/plain": [
              "<Figure size 576x576 with 1 Axes>"
            ]
          },
          "metadata": {
            "tags": [],
            "needs_background": "light"
          }
        }
      ]
    },
    {
      "cell_type": "code",
      "metadata": {
        "id": "oW4Fpd_mxLoZ",
        "colab_type": "code",
        "colab": {}
      },
      "source": [
        "df_modelTrain.insert(1,'text_Cleaned',model_sen2)"
      ],
      "execution_count": 55,
      "outputs": []
    },
    {
      "cell_type": "code",
      "metadata": {
        "id": "czv9mfPO7ArM",
        "colab_type": "code",
        "colab": {}
      },
      "source": [
        "df_modelTrain = df_modelTrain[df_modelTrain.text_Cleaned != \"\"]\n",
        " "
      ],
      "execution_count": 56,
      "outputs": []
    },
    {
      "cell_type": "code",
      "metadata": {
        "id": "tKPYKOyDzd0-",
        "colab_type": "code",
        "colab": {}
      },
      "source": [
        "df_modelTrain.reset_index(inplace=True,drop=True)"
      ],
      "execution_count": 57,
      "outputs": []
    },
    {
      "cell_type": "code",
      "metadata": {
        "id": "6xQXxGiD-7ah",
        "colab_type": "code",
        "colab": {
          "base_uri": "https://localhost:8080/",
          "height": 415
        },
        "outputId": "0532ef07-edbf-4e95-e16f-f6e32fb146e2"
      },
      "source": [
        "df_modelTrain"
      ],
      "execution_count": 58,
      "outputs": [
        {
          "output_type": "execute_result",
          "data": {
            "text/html": [
              "<div>\n",
              "<style scoped>\n",
              "    .dataframe tbody tr th:only-of-type {\n",
              "        vertical-align: middle;\n",
              "    }\n",
              "\n",
              "    .dataframe tbody tr th {\n",
              "        vertical-align: top;\n",
              "    }\n",
              "\n",
              "    .dataframe thead th {\n",
              "        text-align: right;\n",
              "    }\n",
              "</style>\n",
              "<table border=\"1\" class=\"dataframe\">\n",
              "  <thead>\n",
              "    <tr style=\"text-align: right;\">\n",
              "      <th></th>\n",
              "      <th>message</th>\n",
              "      <th>text_Cleaned</th>\n",
              "      <th>label</th>\n",
              "    </tr>\n",
              "  </thead>\n",
              "  <tbody>\n",
              "    <tr>\n",
              "      <th>0</th>\n",
              "      <td>@MaryWilhite Very nice presentation!  Perhaps ...</td>\n",
              "      <td>marywilhite nice presentation perhaps use pers...</td>\n",
              "      <td>0</td>\n",
              "    </tr>\n",
              "    <tr>\n",
              "      <th>1</th>\n",
              "      <td>@officialTila  Hey girl doin big things. Got r...</td>\n",
              "      <td>officialtila hey girl doin big thing got respe...</td>\n",
              "      <td>0</td>\n",
              "    </tr>\n",
              "    <tr>\n",
              "      <th>2</th>\n",
              "      <td>#BeingAdoptedMeans I have struggled with depre...</td>\n",
              "      <td>beingadoptedmeans struggled depression entire ...</td>\n",
              "      <td>1</td>\n",
              "    </tr>\n",
              "    <tr>\n",
              "      <th>3</th>\n",
              "      <td>@scottarthart i know!!  im pretty good at it a...</td>\n",
              "      <td>scottarthart know im pretty good arent</td>\n",
              "      <td>0</td>\n",
              "    </tr>\n",
              "    <tr>\n",
              "      <th>4</th>\n",
              "      <td>In High School,\" the Kids Are Not All Right \"\"...</td>\n",
              "      <td>high school kid right social academic pressure...</td>\n",
              "      <td>1</td>\n",
              "    </tr>\n",
              "    <tr>\n",
              "      <th>...</th>\n",
              "      <td>...</td>\n",
              "      <td>...</td>\n",
              "      <td>...</td>\n",
              "    </tr>\n",
              "    <tr>\n",
              "      <th>10302</th>\n",
              "      <td>Hope everyone is having a SWELL day</td>\n",
              "      <td>hope everyone swell day</td>\n",
              "      <td>0</td>\n",
              "    </tr>\n",
              "    <tr>\n",
              "      <th>10303</th>\n",
              "      <td>Happy Birthday to my Grandpa.  He has 3 cats, ...</td>\n",
              "      <td>happy birthday grandpa cat still love</td>\n",
              "      <td>0</td>\n",
              "    </tr>\n",
              "    <tr>\n",
              "      <th>10304</th>\n",
              "      <td>Antidepressant of The Day#Depression #Joy #Ant...</td>\n",
              "      <td>antidepressant day depression joy antidepressa...</td>\n",
              "      <td>1</td>\n",
              "    </tr>\n",
              "    <tr>\n",
              "      <th>10305</th>\n",
              "      <td>more bits from the email: You are one of about...</td>\n",
              "      <td>bit email one picked thousand entry better good</td>\n",
              "      <td>0</td>\n",
              "    </tr>\n",
              "    <tr>\n",
              "      <th>10306</th>\n",
              "      <td>@Georgecraigono i haven't gone yet, lol  where...</td>\n",
              "      <td>georgecraigono gone yet lol sound fun x</td>\n",
              "      <td>0</td>\n",
              "    </tr>\n",
              "  </tbody>\n",
              "</table>\n",
              "<p>10307 rows × 3 columns</p>\n",
              "</div>"
            ],
            "text/plain": [
              "                                                 message  ... label\n",
              "0      @MaryWilhite Very nice presentation!  Perhaps ...  ...     0\n",
              "1      @officialTila  Hey girl doin big things. Got r...  ...     0\n",
              "2      #BeingAdoptedMeans I have struggled with depre...  ...     1\n",
              "3      @scottarthart i know!!  im pretty good at it a...  ...     0\n",
              "4      In High School,\" the Kids Are Not All Right \"\"...  ...     1\n",
              "...                                                  ...  ...   ...\n",
              "10302               Hope everyone is having a SWELL day   ...     0\n",
              "10303  Happy Birthday to my Grandpa.  He has 3 cats, ...  ...     0\n",
              "10304  Antidepressant of The Day#Depression #Joy #Ant...  ...     1\n",
              "10305  more bits from the email: You are one of about...  ...     0\n",
              "10306  @Georgecraigono i haven't gone yet, lol  where...  ...     0\n",
              "\n",
              "[10307 rows x 3 columns]"
            ]
          },
          "metadata": {
            "tags": []
          },
          "execution_count": 58
        }
      ]
    },
    {
      "cell_type": "code",
      "metadata": {
        "id": "wHU7W4hAu0Yf",
        "colab_type": "code",
        "colab": {}
      },
      "source": [
        "y=df_modelTrain['label']"
      ],
      "execution_count": 59,
      "outputs": []
    },
    {
      "cell_type": "code",
      "metadata": {
        "id": "oOqRo7TUvizI",
        "colab_type": "code",
        "colab": {
          "base_uri": "https://localhost:8080/",
          "height": 35
        },
        "outputId": "f8265db0-bdde-4da0-d6ba-201e033d2ec8"
      },
      "source": [
        "y.shape"
      ],
      "execution_count": 60,
      "outputs": [
        {
          "output_type": "execute_result",
          "data": {
            "text/plain": [
              "(10307,)"
            ]
          },
          "metadata": {
            "tags": []
          },
          "execution_count": 60
        }
      ]
    },
    {
      "cell_type": "code",
      "metadata": {
        "id": "A1Wt8PVOvkL2",
        "colab_type": "code",
        "colab": {}
      },
      "source": [
        "X=df_modelTrain['text_Cleaned']"
      ],
      "execution_count": 61,
      "outputs": []
    },
    {
      "cell_type": "code",
      "metadata": {
        "id": "ozRgzYYawBMn",
        "colab_type": "code",
        "colab": {
          "base_uri": "https://localhost:8080/",
          "height": 35
        },
        "outputId": "5c9d9af6-48f7-4274-e6d7-513b863d8947"
      },
      "source": [
        "X.shape"
      ],
      "execution_count": 62,
      "outputs": [
        {
          "output_type": "execute_result",
          "data": {
            "text/plain": [
              "(10307,)"
            ]
          },
          "metadata": {
            "tags": []
          },
          "execution_count": 62
        }
      ]
    },
    {
      "cell_type": "code",
      "metadata": {
        "id": "4at2nl9QwDbh",
        "colab_type": "code",
        "colab": {}
      },
      "source": [
        "import tensorflow as tf\n"
      ],
      "execution_count": 63,
      "outputs": []
    },
    {
      "cell_type": "code",
      "metadata": {
        "id": "eEA5st3KwQFG",
        "colab_type": "code",
        "colab": {
          "base_uri": "https://localhost:8080/",
          "height": 35
        },
        "outputId": "7ce0d310-27ff-4db8-cd9c-bb3f8871da25"
      },
      "source": [
        "tf.__version__"
      ],
      "execution_count": 64,
      "outputs": [
        {
          "output_type": "execute_result",
          "data": {
            "application/vnd.google.colaboratory.intrinsic+json": {
              "type": "string"
            },
            "text/plain": [
              "'2.3.0'"
            ]
          },
          "metadata": {
            "tags": []
          },
          "execution_count": 64
        }
      ]
    },
    {
      "cell_type": "code",
      "metadata": {
        "id": "n1qJQYlw0mV3",
        "colab_type": "code",
        "colab": {}
      },
      "source": [
        "from tensorflow.keras.layers import Embedding\n",
        "from tensorflow.keras.preprocessing.sequence import pad_sequences\n",
        "from tensorflow.keras.models import Sequential\n",
        "from tensorflow.keras.preprocessing.text import one_hot\n",
        "from tensorflow.keras.layers import LSTM\n",
        "from tensorflow.keras.layers import Dense\n",
        "from tensorflow.keras.layers import Dropout\n",
        "from tensorflow.keras.layers import Conv1D\n",
        "from tensorflow.keras.layers import GlobalMaxPooling1D\n",
        "from tensorflow.keras.layers import Flatten"
      ],
      "execution_count": 65,
      "outputs": []
    },
    {
      "cell_type": "code",
      "metadata": {
        "id": "bpZL6uWj2y-3",
        "colab_type": "code",
        "colab": {}
      },
      "source": [
        "vocab_size=5000 ## vocabulary size"
      ],
      "execution_count": 66,
      "outputs": []
    },
    {
      "cell_type": "markdown",
      "metadata": {
        "id": "xPx-_MZ34php",
        "colab_type": "text"
      },
      "source": [
        "# **One Hot Representation**"
      ]
    },
    {
      "cell_type": "code",
      "metadata": {
        "id": "Z_992OH84zc8",
        "colab_type": "code",
        "colab": {}
      },
      "source": [
        "onehot=[one_hot(word,vocab_size) for word in df_modelTrain.text_Cleaned.tolist()]\n"
      ],
      "execution_count": 67,
      "outputs": []
    },
    {
      "cell_type": "code",
      "metadata": {
        "id": "37wokSV85nXD",
        "colab_type": "code",
        "colab": {
          "base_uri": "https://localhost:8080/",
          "height": 52
        },
        "outputId": "1525ab8e-445a-408e-f25d-68cd022e3e8e"
      },
      "source": [
        "length=[]\n",
        "for i in range(len(onehot)):\n",
        "  length.append(len(onehot[i]))\n",
        "print(f\"Maximum length is {sum(length)/len(length)}\")\n",
        "print(f\"Minimum length is {min(length)}\")\n"
      ],
      "execution_count": 68,
      "outputs": [
        {
          "output_type": "stream",
          "text": [
            "Maximum length is 9.50140681090521\n",
            "Minimum length is 1\n"
          ],
          "name": "stdout"
        }
      ]
    },
    {
      "cell_type": "markdown",
      "metadata": {
        "id": "RdBhdnecC8QZ",
        "colab_type": "text"
      },
      "source": [
        "# **Embedding Representation**"
      ]
    },
    {
      "cell_type": "code",
      "metadata": {
        "id": "8kJuUsrxDEWl",
        "colab_type": "code",
        "colab": {
          "base_uri": "https://localhost:8080/",
          "height": 35
        },
        "outputId": "80519e24-cb03-4877-cec0-853b9cd20d7e"
      },
      "source": [
        "sentenceLength=20\n",
        "embeddingSentences=pad_sequences(onehot,padding='pre',maxlen=sentenceLength)\n",
        "print(embeddingSentences.shape)\n"
      ],
      "execution_count": 69,
      "outputs": [
        {
          "output_type": "stream",
          "text": [
            "(10307, 20)\n"
          ],
          "name": "stdout"
        }
      ]
    },
    {
      "cell_type": "markdown",
      "metadata": {
        "id": "jigTF3L3D0Eb",
        "colab_type": "text"
      },
      "source": [
        "# **Creation of the model**"
      ]
    },
    {
      "cell_type": "code",
      "metadata": {
        "id": "gbQhXMCUDEpP",
        "colab_type": "code",
        "colab": {}
      },
      "source": [
        "embeddingVectorFeature=10\n",
        "model=Sequential()\n",
        "model.add(Embedding(vocab_size,embeddingVectorFeature,input_length=sentenceLength))\n",
        "# model.add(Conv1D(128,3, padding=\"valid\", activation=\"relu\", strides=3))\n",
        "# model.add(GlobalMaxPooling1D())\n",
        "# model.add(Flatten())\n",
        "model.add(LSTM(10))\n",
        "model.add(Dropout(0.3))\n",
        "model.add(Dense(2,activation='softmax'))"
      ],
      "execution_count": 70,
      "outputs": []
    },
    {
      "cell_type": "code",
      "metadata": {
        "id": "er7cxdxHFJ-6",
        "colab_type": "code",
        "colab": {}
      },
      "source": [
        "model.compile(loss='binary_crossentropy',optimizer='adam',metrics='accuracy')"
      ],
      "execution_count": 71,
      "outputs": []
    },
    {
      "cell_type": "code",
      "metadata": {
        "id": "MD6NUN9-FbjJ",
        "colab_type": "code",
        "colab": {
          "base_uri": "https://localhost:8080/",
          "height": 295
        },
        "outputId": "cd61a498-24a4-42f2-efc5-a475f80e077c"
      },
      "source": [
        "model.summary()"
      ],
      "execution_count": 72,
      "outputs": [
        {
          "output_type": "stream",
          "text": [
            "Model: \"sequential\"\n",
            "_________________________________________________________________\n",
            "Layer (type)                 Output Shape              Param #   \n",
            "=================================================================\n",
            "embedding (Embedding)        (None, 20, 10)            50000     \n",
            "_________________________________________________________________\n",
            "lstm (LSTM)                  (None, 10)                840       \n",
            "_________________________________________________________________\n",
            "dropout (Dropout)            (None, 10)                0         \n",
            "_________________________________________________________________\n",
            "dense (Dense)                (None, 2)                 22        \n",
            "=================================================================\n",
            "Total params: 50,862\n",
            "Trainable params: 50,862\n",
            "Non-trainable params: 0\n",
            "_________________________________________________________________\n"
          ],
          "name": "stdout"
        }
      ]
    },
    {
      "cell_type": "code",
      "metadata": {
        "id": "xd7-MAevFe2b",
        "colab_type": "code",
        "colab": {}
      },
      "source": [
        "import numpy as np\n",
        "\n",
        "X=np.array(embeddingSentences)\n",
        "y=np.array(y)"
      ],
      "execution_count": 73,
      "outputs": []
    },
    {
      "cell_type": "code",
      "metadata": {
        "id": "RIPcZbHnGGHC",
        "colab_type": "code",
        "colab": {
          "base_uri": "https://localhost:8080/",
          "height": 35
        },
        "outputId": "ae6b6b49-e2e6-4f7a-bd49-8d612f86c9cb"
      },
      "source": [
        "X.shape"
      ],
      "execution_count": 74,
      "outputs": [
        {
          "output_type": "execute_result",
          "data": {
            "text/plain": [
              "(10307, 20)"
            ]
          },
          "metadata": {
            "tags": []
          },
          "execution_count": 74
        }
      ]
    },
    {
      "cell_type": "code",
      "metadata": {
        "id": "B8Q8IKHUGL-q",
        "colab_type": "code",
        "colab": {
          "base_uri": "https://localhost:8080/",
          "height": 35
        },
        "outputId": "622db666-6937-42c6-f01b-a0f650596b73"
      },
      "source": [
        "y.shape"
      ],
      "execution_count": 75,
      "outputs": [
        {
          "output_type": "execute_result",
          "data": {
            "text/plain": [
              "(10307,)"
            ]
          },
          "metadata": {
            "tags": []
          },
          "execution_count": 75
        }
      ]
    },
    {
      "cell_type": "markdown",
      "metadata": {
        "id": "OOdcDZVzGVTk",
        "colab_type": "text"
      },
      "source": [
        "## **Train-test split**"
      ]
    },
    {
      "cell_type": "code",
      "metadata": {
        "id": "NrIM_hxbGM9X",
        "colab_type": "code",
        "colab": {}
      },
      "source": [
        "from sklearn.model_selection import train_test_split\n",
        "X_train,X_test,y_train,y_test=train_test_split(X,y,train_size=0.8,random_state=101)"
      ],
      "execution_count": 76,
      "outputs": []
    },
    {
      "cell_type": "code",
      "metadata": {
        "id": "kFDLwmzzGtWE",
        "colab_type": "code",
        "colab": {}
      },
      "source": [
        "X_train,X_val,y_train,y_val=train_test_split(X_train,y_train,train_size=0.8,random_state=101)"
      ],
      "execution_count": 77,
      "outputs": []
    },
    {
      "cell_type": "markdown",
      "metadata": {
        "id": "JLk2yWxgHU0s",
        "colab_type": "text"
      },
      "source": [
        "## **Model Training**"
      ]
    },
    {
      "cell_type": "code",
      "metadata": {
        "id": "iOwtgN-oHQ3L",
        "colab_type": "code",
        "colab": {
          "base_uri": "https://localhost:8080/",
          "height": 364
        },
        "outputId": "491cbfe9-defa-42af-a3d9-523a314579bd"
      },
      "source": [
        "history=model.fit(X_train,y_train,validation_data=(X_val,y_val),epochs=10)"
      ],
      "execution_count": 78,
      "outputs": [
        {
          "output_type": "stream",
          "text": [
            "Epoch 1/10\n",
            "207/207 [==============================] - 2s 7ms/step - loss: 0.6932 - accuracy: 0.5047 - val_loss: 0.6931 - val_accuracy: 0.4330\n",
            "Epoch 2/10\n",
            "207/207 [==============================] - 1s 5ms/step - loss: 0.6931 - accuracy: 0.4951 - val_loss: 0.6931 - val_accuracy: 0.5240\n",
            "Epoch 3/10\n",
            "207/207 [==============================] - 1s 5ms/step - loss: 0.6931 - accuracy: 0.5017 - val_loss: 0.6931 - val_accuracy: 0.3269\n",
            "Epoch 4/10\n",
            "207/207 [==============================] - 1s 6ms/step - loss: 0.6931 - accuracy: 0.5044 - val_loss: 0.6931 - val_accuracy: 0.5391\n",
            "Epoch 5/10\n",
            "207/207 [==============================] - 1s 5ms/step - loss: 0.6931 - accuracy: 0.4988 - val_loss: 0.6931 - val_accuracy: 0.5494\n",
            "Epoch 6/10\n",
            "207/207 [==============================] - 1s 6ms/step - loss: 0.6931 - accuracy: 0.4904 - val_loss: 0.6931 - val_accuracy: 0.6392\n",
            "Epoch 7/10\n",
            "207/207 [==============================] - 1s 6ms/step - loss: 0.6931 - accuracy: 0.5024 - val_loss: 0.6931 - val_accuracy: 0.5221\n",
            "Epoch 8/10\n",
            "207/207 [==============================] - 1s 6ms/step - loss: 0.6931 - accuracy: 0.4923 - val_loss: 0.6931 - val_accuracy: 0.2462\n",
            "Epoch 9/10\n",
            "207/207 [==============================] - 1s 5ms/step - loss: 0.6931 - accuracy: 0.4897 - val_loss: 0.6931 - val_accuracy: 0.7453\n",
            "Epoch 10/10\n",
            "207/207 [==============================] - 1s 6ms/step - loss: 0.6931 - accuracy: 0.4945 - val_loss: 0.6931 - val_accuracy: 0.7332\n"
          ],
          "name": "stdout"
        }
      ]
    },
    {
      "cell_type": "code",
      "metadata": {
        "id": "8C0FRHahH2NO",
        "colab_type": "code",
        "colab": {
          "base_uri": "https://localhost:8080/",
          "height": 573
        },
        "outputId": "9867fd5b-7184-4687-b642-56bfe8c42689"
      },
      "source": [
        "loss_train = history.history['loss']\n",
        "loss_val = history.history['val_loss']\n",
        "epochs = range(1,11)\n",
        "plt.plot(epochs, loss_train, 'g', label='Training loss')\n",
        "plt.plot(epochs, loss_val, 'b', label='validation loss')\n",
        "plt.title('Training and Validation loss')\n",
        "plt.xlabel('Epochs')\n",
        "plt.ylabel('Loss')\n",
        "plt.legend()\n",
        "plt.show()\n",
        "  \n",
        "loss_train1 = history.history['accuracy']\n",
        "loss_val1 = history.history['val_accuracy']\n",
        "epochs = range(1,11)\n",
        "plt.plot(epochs, loss_train1, 'g', label='Training accuracy')\n",
        "plt.plot(epochs, loss_val1, 'b', label='validation accuracy')\n",
        "plt.title('Training and Validation accuracy')\n",
        "plt.xlabel('Epochs')\n",
        "plt.ylabel('Accuracy')\n",
        "plt.legend()\n",
        "plt.show()"
      ],
      "execution_count": 79,
      "outputs": [
        {
          "output_type": "display_data",
          "data": {
            "image/png": "[encoded data removed]",
            "text/plain": [
              "<Figure size 432x288 with 1 Axes>"
            ]
          },
          "metadata": {
            "tags": [],
            "needs_background": "light"
          }
        },
        {
          "output_type": "display_data",
          "data": {
            "image/png": "[encoded data removed]",
            "text/plain": [
              "<Figure size 432x288 with 1 Axes>"
            ]
          },
          "metadata": {
            "tags": [],
            "needs_background": "light"
          }
        }
      ]
    },
    {
      "cell_type": "code",
      "metadata": {
        "id": "oUvQ7-ugJXiT",
        "colab_type": "code",
        "colab": {
          "base_uri": "https://localhost:8080/",
          "height": 139
        },
        "outputId": "97527258-d224-493d-fbd3-c05e019641cc"
      },
      "source": [
        "y_pred=model.predict(X_test)\n",
        "print(y_pred)"
      ],
      "execution_count": 80,
      "outputs": [
        {
          "output_type": "stream",
          "text": [
            "[[0.5000168  0.49998322]\n",
            " [0.5000504  0.4999496 ]\n",
            " [0.5000145  0.49998555]\n",
            " ...\n",
            " [0.5000313  0.4999687 ]\n",
            " [0.50003016 0.49996987]\n",
            " [0.5000527  0.49994734]]\n"
          ],
          "name": "stdout"
        }
      ]
    },
    {
      "cell_type": "markdown",
      "metadata": {
        "id": "DNJBGkuAp7Z6",
        "colab_type": "text"
      },
      "source": [
        "# **CLASSIFICATION MODELS**\n",
        "\n",
        "*  *RANDOM FOREST CLASSIFIER*\n",
        "*   *MULTINOMIAL NB*\n",
        "*   *PASSIVE AGGRESSIVE CLASSIFIER* \n",
        "\n",
        "\n",
        "\n",
        "\n",
        "\n",
        "\n"
      ]
    },
    {
      "cell_type": "markdown",
      "metadata": {
        "id": "t35OUwbabY2a",
        "colab_type": "text"
      },
      "source": [
        "# **REPEATED K-FOLD CROSS-VALIDATION**"
      ]
    },
    {
      "cell_type": "code",
      "metadata": {
        "id": "JVfzgvkQbaE4",
        "colab_type": "code",
        "colab": {}
      },
      "source": [
        "from sklearn.model_selection import RepeatedKFold\n",
        "from sklearn.model_selection import KFold"
      ],
      "execution_count": 81,
      "outputs": []
    },
    {
      "cell_type": "code",
      "metadata": {
        "id": "WcDNh4dTUuX6",
        "colab_type": "code",
        "colab": {}
      },
      "source": [
        "from sklearn.ensemble import RandomForestClassifier\n",
        "from sklearn.naive_bayes import MultinomialNB\n",
        "from sklearn.linear_model import PassiveAggressiveClassifier"
      ],
      "execution_count": 82,
      "outputs": []
    },
    {
      "cell_type": "markdown",
      "metadata": {
        "id": "E0OHTUO2rvNq",
        "colab_type": "text"
      },
      "source": [
        "# **CLASSIFICATION METRICS**"
      ]
    },
    {
      "cell_type": "code",
      "metadata": {
        "id": "8UvAKWj_cSnT",
        "colab_type": "code",
        "colab": {}
      },
      "source": [
        "from sklearn.metrics import confusion_matrix\n",
        "from sklearn.metrics import accuracy_score\n",
        "from sklearn.metrics import f1_score\n",
        "from sklearn.metrics import recall_score\n",
        "from sklearn.metrics import precision_score\n",
        "from sklearn.metrics import roc_auc_score\n",
        "from sklearn.metrics import roc_curve"
      ],
      "execution_count": 83,
      "outputs": []
    },
    {
      "cell_type": "code",
      "metadata": {
        "id": "4x6FyDopU6Ry",
        "colab_type": "code",
        "colab": {}
      },
      "source": [
        "# kf = KFold(n_splits=2,shuffle=True)   ### K-fold cross-validation\n",
        "# for train, test in kf.split(X,y):\n",
        "#   X_train=X[train]\n",
        "#   X_test=X[test]\n",
        "#   y_train=y[train]\n",
        "#   y_test=y[test]"
      ],
      "execution_count": 84,
      "outputs": []
    },
    {
      "cell_type": "code",
      "metadata": {
        "id": "9yY95cGMU60_",
        "colab_type": "code",
        "colab": {}
      },
      "source": [
        "random_state = 100\n",
        "rkf = RepeatedKFold(n_splits=2, n_repeats=2, random_state=random_state)    ### repeated k-fold cross-validation\n",
        "rfc=RandomForestClassifier()\n",
        "mnb=MultinomialNB()\n",
        "pac=PassiveAggressiveClassifier()\n",
        "classifierList=[rfc,mnb,pac]\n",
        "y_predList=[]\n",
        "scoreList=[]\n",
        "confusion_matrixList=[]\n",
        "accuracy_scoreList=[]\n",
        "precision_scoreList=[]\n",
        "recall_scoreList=[]\n",
        "f1_scoreList=[]\n",
        "aurocList=[]\n",
        "\n",
        "\n",
        "for i in classifierList:\n",
        "  for train, test in rkf.split(X,y):\n",
        "    X_train=X[train]\n",
        "    X_test=X[test]\n",
        "    y_train=y[train]\n",
        "    y_test=y[test]\n",
        "    i.fit(X_train,y_train)\n",
        "    y_pred=i.predict(X_test)\n",
        "    y_predList.append(y_pred)\n",
        "    scoreList.append(i.score(X_test,y_test))#### mean accuracy score\n",
        "    confusion_matrixList.append(confusion_matrix(y_test,y_pred))\n",
        "    accuracy_scoreList.append(accuracy_score(y_test,y_pred))\n",
        "    precision_scoreList.append(precision_score(y_test,y_pred))\n",
        "    recall_scoreList.append(recall_score(y_test,y_pred))\n",
        "    f1_scoreList.append(f1_score(y_test,y_pred))\n",
        "    aurocList.append(roc_auc_score(y_test,y_pred))\n",
        "\n",
        "name=['Random_Forest','Random_Forest','Random_Forest','Random_Forest','Multinomial_NB','Multinomial_NB','Multinomial_NB','Multinomial_NB',\n",
        "      'Passive_Aggressive_Classifier','Passive_Aggressive_Classifier','Passive_Aggressive_Classifier','Passive_Aggressive_Classifier']\n",
        "\n",
        "splits=['First_split','Second_split','First_split','Second_split','First_split','Second_split','First_split','Second_split',\n",
        "        'First_split','Second_split','First_split','Second_split']\n",
        "\n",
        "repeats=['First_repeat','First_repeat','Second_repeat','Second_repeat','First_repeat','First_repeat','Second_repeat','Second_repeat',\n",
        "         'First_repeat','First_repeat','Second_repeat','Second_repeat']\n",
        "\n",
        "d=pd.DataFrame({'name_of_classifier':name,'no_of_repeats':repeats,'no_of_splits':splits,'prediction':y_predList,'score':scoreList,'confusion_matrix':confusion_matrixList,'accuracy_score':accuracy_scoreList,\n",
        "                'precision_score':precision_scoreList,'recall_score':recall_scoreList,'f1_score':f1_scoreList,\n",
        "                'AUROC_score':aurocList})\n",
        "\n",
        "\n",
        "\n",
        "\n"
      ],
      "execution_count": 85,
      "outputs": []
    },
    {
      "cell_type": "markdown",
      "metadata": {
        "id": "OYtVeeXGpnFr",
        "colab_type": "text"
      },
      "source": [
        "# **RESULT TABLE**"
      ]
    },
    {
      "cell_type": "markdown",
      "metadata": {
        "id": "vsWek_a6o3G4",
        "colab_type": "text"
      },
      "source": [
        "# the result table sorted by f1_score"
      ]
    },
    {
      "cell_type": "markdown",
      "metadata": {
        "id": "MtEHaeOlo_7I",
        "colab_type": "text"
      },
      "source": [
        "# Random Forest classifier turns out to be the best among the three according to f1 score"
      ]
    },
    {
      "cell_type": "code",
      "metadata": {
        "id": "QKrpjfXcpZhd",
        "colab_type": "code",
        "colab": {
          "base_uri": "https://localhost:8080/",
          "height": 1000
        },
        "outputId": "a68a9224-272d-43f0-d0da-28ac89f7921e"
      },
      "source": [
        "d.sort_values(by='f1_score',inplace=True,ascending=False)   \n",
        "d.reset_index(drop=True,inplace=True)\n",
        "d"
      ],
      "execution_count": 86,
      "outputs": [
        {
          "output_type": "execute_result",
          "data": {
            "text/html": [
              "<div>\n",
              "<style scoped>\n",
              "    .dataframe tbody tr th:only-of-type {\n",
              "        vertical-align: middle;\n",
              "    }\n",
              "\n",
              "    .dataframe tbody tr th {\n",
              "        vertical-align: top;\n",
              "    }\n",
              "\n",
              "    .dataframe thead th {\n",
              "        text-align: right;\n",
              "    }\n",
              "</style>\n",
              "<table border=\"1\" class=\"dataframe\">\n",
              "  <thead>\n",
              "    <tr style=\"text-align: right;\">\n",
              "      <th></th>\n",
              "      <th>name_of_classifier</th>\n",
              "      <th>no_of_repeats</th>\n",
              "      <th>no_of_splits</th>\n",
              "      <th>prediction</th>\n",
              "      <th>score</th>\n",
              "      <th>confusion_matrix</th>\n",
              "      <th>accuracy_score</th>\n",
              "      <th>precision_score</th>\n",
              "      <th>recall_score</th>\n",
              "      <th>f1_score</th>\n",
              "      <th>AUROC_score</th>\n",
              "    </tr>\n",
              "  </thead>\n",
              "  <tbody>\n",
              "    <tr>\n",
              "      <th>0</th>\n",
              "      <td>Random_Forest</td>\n",
              "      <td>Second_repeat</td>\n",
              "      <td>Second_split</td>\n",
              "      <td>[0, 1, 0, 0, 0, 0, 1, 0, 0, 0, 0, 0, 1, 0, 0, ...</td>\n",
              "      <td>0.910538</td>\n",
              "      <td>[[3921, 57], [404, 771]]</td>\n",
              "      <td>0.910538</td>\n",
              "      <td>0.931159</td>\n",
              "      <td>0.656170</td>\n",
              "      <td>0.769845</td>\n",
              "      <td>0.820921</td>\n",
              "    </tr>\n",
              "    <tr>\n",
              "      <th>1</th>\n",
              "      <td>Random_Forest</td>\n",
              "      <td>First_repeat</td>\n",
              "      <td>First_split</td>\n",
              "      <td>[0, 0, 0, 0, 0, 0, 0, 0, 0, 1, 0, 0, 0, 0, 0, ...</td>\n",
              "      <td>0.904540</td>\n",
              "      <td>[[3898, 65], [427, 764]]</td>\n",
              "      <td>0.904540</td>\n",
              "      <td>0.921592</td>\n",
              "      <td>0.641478</td>\n",
              "      <td>0.756436</td>\n",
              "      <td>0.812538</td>\n",
              "    </tr>\n",
              "    <tr>\n",
              "      <th>2</th>\n",
              "      <td>Random_Forest</td>\n",
              "      <td>First_repeat</td>\n",
              "      <td>Second_split</td>\n",
              "      <td>[1, 1, 0, 1, 0, 0, 0, 0, 0, 0, 0, 1, 0, 1, 0, ...</td>\n",
              "      <td>0.908403</td>\n",
              "      <td>[[3973, 63], [409, 708]]</td>\n",
              "      <td>0.908403</td>\n",
              "      <td>0.918288</td>\n",
              "      <td>0.633841</td>\n",
              "      <td>0.750000</td>\n",
              "      <td>0.809116</td>\n",
              "    </tr>\n",
              "    <tr>\n",
              "      <th>3</th>\n",
              "      <td>Random_Forest</td>\n",
              "      <td>Second_repeat</td>\n",
              "      <td>First_split</td>\n",
              "      <td>[0, 1, 0, 0, 0, 1, 0, 0, 0, 1, 0, 0, 0, 0, 1, ...</td>\n",
              "      <td>0.903570</td>\n",
              "      <td>[[3948, 73], [424, 709]]</td>\n",
              "      <td>0.903570</td>\n",
              "      <td>0.906650</td>\n",
              "      <td>0.625772</td>\n",
              "      <td>0.740470</td>\n",
              "      <td>0.803809</td>\n",
              "    </tr>\n",
              "    <tr>\n",
              "      <th>4</th>\n",
              "      <td>Multinomial_NB</td>\n",
              "      <td>Second_repeat</td>\n",
              "      <td>Second_split</td>\n",
              "      <td>[0, 1, 0, 0, 0, 1, 0, 0, 0, 0, 1, 0, 0, 0, 0, ...</td>\n",
              "      <td>0.814089</td>\n",
              "      <td>[[3583, 395], [563, 612]]</td>\n",
              "      <td>0.814089</td>\n",
              "      <td>0.607746</td>\n",
              "      <td>0.520851</td>\n",
              "      <td>0.560953</td>\n",
              "      <td>0.710777</td>\n",
              "    </tr>\n",
              "    <tr>\n",
              "      <th>5</th>\n",
              "      <td>Multinomial_NB</td>\n",
              "      <td>First_repeat</td>\n",
              "      <td>First_split</td>\n",
              "      <td>[0, 0, 0, 0, 0, 0, 0, 0, 0, 1, 0, 0, 0, 0, 0, ...</td>\n",
              "      <td>0.812961</td>\n",
              "      <td>[[3579, 384], [580, 611]]</td>\n",
              "      <td>0.812961</td>\n",
              "      <td>0.614070</td>\n",
              "      <td>0.513014</td>\n",
              "      <td>0.559012</td>\n",
              "      <td>0.708059</td>\n",
              "    </tr>\n",
              "    <tr>\n",
              "      <th>6</th>\n",
              "      <td>Multinomial_NB</td>\n",
              "      <td>First_repeat</td>\n",
              "      <td>Second_split</td>\n",
              "      <td>[1, 1, 0, 1, 0, 0, 1, 0, 0, 0, 0, 0, 0, 0, 0, ...</td>\n",
              "      <td>0.823016</td>\n",
              "      <td>[[3686, 350], [562, 555]]</td>\n",
              "      <td>0.823016</td>\n",
              "      <td>0.613260</td>\n",
              "      <td>0.496867</td>\n",
              "      <td>0.548961</td>\n",
              "      <td>0.705074</td>\n",
              "    </tr>\n",
              "    <tr>\n",
              "      <th>7</th>\n",
              "      <td>Multinomial_NB</td>\n",
              "      <td>Second_repeat</td>\n",
              "      <td>First_split</td>\n",
              "      <td>[0, 1, 0, 0, 0, 1, 0, 0, 0, 1, 0, 0, 0, 0, 0, ...</td>\n",
              "      <td>0.822662</td>\n",
              "      <td>[[3685, 336], [578, 555]]</td>\n",
              "      <td>0.822662</td>\n",
              "      <td>0.622896</td>\n",
              "      <td>0.489850</td>\n",
              "      <td>0.548419</td>\n",
              "      <td>0.703144</td>\n",
              "    </tr>\n",
              "    <tr>\n",
              "      <th>8</th>\n",
              "      <td>Passive_Aggressive_Classifier</td>\n",
              "      <td>First_repeat</td>\n",
              "      <td>Second_split</td>\n",
              "      <td>[1, 1, 0, 0, 0, 0, 0, 0, 0, 0, 0, 0, 0, 0, 0, ...</td>\n",
              "      <td>0.812925</td>\n",
              "      <td>[[3781, 255], [709, 408]]</td>\n",
              "      <td>0.812925</td>\n",
              "      <td>0.615385</td>\n",
              "      <td>0.365264</td>\n",
              "      <td>0.458427</td>\n",
              "      <td>0.651041</td>\n",
              "    </tr>\n",
              "    <tr>\n",
              "      <th>9</th>\n",
              "      <td>Passive_Aggressive_Classifier</td>\n",
              "      <td>Second_repeat</td>\n",
              "      <td>First_split</td>\n",
              "      <td>[0, 1, 0, 0, 0, 0, 0, 1, 0, 1, 0, 0, 0, 0, 1, ...</td>\n",
              "      <td>0.742724</td>\n",
              "      <td>[[3297, 724], [602, 531]]</td>\n",
              "      <td>0.742724</td>\n",
              "      <td>0.423108</td>\n",
              "      <td>0.468667</td>\n",
              "      <td>0.444724</td>\n",
              "      <td>0.644306</td>\n",
              "    </tr>\n",
              "    <tr>\n",
              "      <th>10</th>\n",
              "      <td>Passive_Aggressive_Classifier</td>\n",
              "      <td>Second_repeat</td>\n",
              "      <td>Second_split</td>\n",
              "      <td>[1, 1, 0, 1, 1, 1, 1, 1, 1, 0, 1, 0, 1, 1, 1, ...</td>\n",
              "      <td>0.476616</td>\n",
              "      <td>[[1508, 2470], [227, 948]]</td>\n",
              "      <td>0.476616</td>\n",
              "      <td>0.277355</td>\n",
              "      <td>0.806809</td>\n",
              "      <td>0.412802</td>\n",
              "      <td>0.592947</td>\n",
              "    </tr>\n",
              "    <tr>\n",
              "      <th>11</th>\n",
              "      <td>Passive_Aggressive_Classifier</td>\n",
              "      <td>First_repeat</td>\n",
              "      <td>First_split</td>\n",
              "      <td>[0, 0, 0, 1, 0, 0, 0, 0, 0, 0, 0, 0, 0, 0, 0, ...</td>\n",
              "      <td>0.711680</td>\n",
              "      <td>[[3286, 677], [809, 382]]</td>\n",
              "      <td>0.711680</td>\n",
              "      <td>0.360718</td>\n",
              "      <td>0.320739</td>\n",
              "      <td>0.339556</td>\n",
              "      <td>0.574954</td>\n",
              "    </tr>\n",
              "  </tbody>\n",
              "</table>\n",
              "</div>"
            ],
            "text/plain": [
              "               name_of_classifier  no_of_repeats  ...  f1_score AUROC_score\n",
              "0                   Random_Forest  Second_repeat  ...  0.769845    0.820921\n",
              "1                   Random_Forest   First_repeat  ...  0.756436    0.812538\n",
              "2                   Random_Forest   First_repeat  ...  0.750000    0.809116\n",
              "3                   Random_Forest  Second_repeat  ...  0.740470    0.803809\n",
              "4                  Multinomial_NB  Second_repeat  ...  0.560953    0.710777\n",
              "5                  Multinomial_NB   First_repeat  ...  0.559012    0.708059\n",
              "6                  Multinomial_NB   First_repeat  ...  0.548961    0.705074\n",
              "7                  Multinomial_NB  Second_repeat  ...  0.548419    0.703144\n",
              "8   Passive_Aggressive_Classifier   First_repeat  ...  0.458427    0.651041\n",
              "9   Passive_Aggressive_Classifier  Second_repeat  ...  0.444724    0.644306\n",
              "10  Passive_Aggressive_Classifier  Second_repeat  ...  0.412802    0.592947\n",
              "11  Passive_Aggressive_Classifier   First_repeat  ...  0.339556    0.574954\n",
              "\n",
              "[12 rows x 11 columns]"
            ]
          },
          "metadata": {
            "tags": []
          },
          "execution_count": 86
        }
      ]
    },
    {
      "cell_type": "code",
      "metadata": {
        "id": "8QmTdWcIFATc",
        "colab_type": "code",
        "colab": {}
      },
      "source": [
        ""
      ],
      "execution_count": 153,
      "outputs": []
    }
  ]
}
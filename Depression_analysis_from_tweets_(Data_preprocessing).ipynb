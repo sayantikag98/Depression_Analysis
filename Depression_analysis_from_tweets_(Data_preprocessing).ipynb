{
  "nbformat": 4,
  "nbformat_minor": 0,
  "metadata": {
    "colab": {
      "name": "Depression analysis from tweets (Data preprocessing).ipynb",
      "provenance": [],
      "collapsed_sections": [],
      "mount_file_id": "1YzPBdYjviBYi263nEFuS_4OCnv4zafqJ",
      "authorship_tag": "ABX9TyNf32hSVzsP3vR8YivgXeDI",
      "include_colab_link": true
    },
    "kernelspec": {
      "name": "python3",
      "display_name": "Python 3"
    },
    "accelerator": "GPU"
  },
  "cells": [
    {
      "cell_type": "markdown",
      "metadata": {
        "id": "view-in-github",
        "colab_type": "text"
      },
      "source": [
        "<a href=\"https://colab.research.google.com/github/sayantikag98/Depression_Analysis/blob/master/Depression_analysis_from_tweets_(Data_preprocessing).ipynb\" target=\"_parent\"><img src=\"https://colab.research.google.com/assets/colab-badge.svg\" alt=\"Open In Colab\"/></a>"
      ]
    },
    {
      "cell_type": "code",
      "metadata": {
        "id": "XM3OV8Fo_zc9",
        "colab_type": "code",
        "colab": {
          "base_uri": "https://localhost:8080/",
          "height": 55
        },
        "outputId": "8ff7ccdf-0f82-4084-f827-1144af7ad2dd"
      },
      "source": [
        "from google.colab import drive ## to mount the google drive\n",
        "drive.mount('/content/drive')"
      ],
      "execution_count": 1,
      "outputs": [
        {
          "output_type": "stream",
          "text": [
            "Drive already mounted at /content/drive; to attempt to forcibly remount, call drive.mount(\"/content/drive\", force_remount=True).\n"
          ],
          "name": "stdout"
        }
      ]
    },
    {
      "cell_type": "code",
      "metadata": {
        "id": "svOz2i-widfO",
        "colab_type": "code",
        "colab": {}
      },
      "source": [
        "import nltk  ### nltk is the most important library used for text preprocessing "
      ],
      "execution_count": 2,
      "outputs": []
    },
    {
      "cell_type": "code",
      "metadata": {
        "id": "fmCegxWOkOYF",
        "colab_type": "code",
        "colab": {
          "base_uri": "https://localhost:8080/",
          "height": 1000
        },
        "outputId": "0c81601d-1fca-43cd-bd0f-abb57cd3ff53"
      },
      "source": [
        "nltk.download('all') ### this download all the libraries of nltk"
      ],
      "execution_count": 3,
      "outputs": [
        {
          "output_type": "stream",
          "text": [
            "[nltk_data] Downloading collection 'all'\n",
            "[nltk_data]    | \n",
            "[nltk_data]    | Downloading package abc to /root/nltk_data...\n",
            "[nltk_data]    |   Package abc is already up-to-date!\n",
            "[nltk_data]    | Downloading package alpino to /root/nltk_data...\n",
            "[nltk_data]    |   Package alpino is already up-to-date!\n",
            "[nltk_data]    | Downloading package biocreative_ppi to\n",
            "[nltk_data]    |     /root/nltk_data...\n",
            "[nltk_data]    |   Package biocreative_ppi is already up-to-date!\n",
            "[nltk_data]    | Downloading package brown to /root/nltk_data...\n",
            "[nltk_data]    |   Package brown is already up-to-date!\n",
            "[nltk_data]    | Downloading package brown_tei to /root/nltk_data...\n",
            "[nltk_data]    |   Package brown_tei is already up-to-date!\n",
            "[nltk_data]    | Downloading package cess_cat to /root/nltk_data...\n",
            "[nltk_data]    |   Package cess_cat is already up-to-date!\n",
            "[nltk_data]    | Downloading package cess_esp to /root/nltk_data...\n",
            "[nltk_data]    |   Package cess_esp is already up-to-date!\n",
            "[nltk_data]    | Downloading package chat80 to /root/nltk_data...\n",
            "[nltk_data]    |   Package chat80 is already up-to-date!\n",
            "[nltk_data]    | Downloading package city_database to\n",
            "[nltk_data]    |     /root/nltk_data...\n",
            "[nltk_data]    |   Package city_database is already up-to-date!\n",
            "[nltk_data]    | Downloading package cmudict to /root/nltk_data...\n",
            "[nltk_data]    |   Package cmudict is already up-to-date!\n",
            "[nltk_data]    | Downloading package comparative_sentences to\n",
            "[nltk_data]    |     /root/nltk_data...\n",
            "[nltk_data]    |   Package comparative_sentences is already up-to-\n",
            "[nltk_data]    |       date!\n",
            "[nltk_data]    | Downloading package comtrans to /root/nltk_data...\n",
            "[nltk_data]    |   Package comtrans is already up-to-date!\n",
            "[nltk_data]    | Downloading package conll2000 to /root/nltk_data...\n",
            "[nltk_data]    |   Package conll2000 is already up-to-date!\n",
            "[nltk_data]    | Downloading package conll2002 to /root/nltk_data...\n",
            "[nltk_data]    |   Package conll2002 is already up-to-date!\n",
            "[nltk_data]    | Downloading package conll2007 to /root/nltk_data...\n",
            "[nltk_data]    |   Package conll2007 is already up-to-date!\n",
            "[nltk_data]    | Downloading package crubadan to /root/nltk_data...\n",
            "[nltk_data]    |   Package crubadan is already up-to-date!\n",
            "[nltk_data]    | Downloading package dependency_treebank to\n",
            "[nltk_data]    |     /root/nltk_data...\n",
            "[nltk_data]    |   Package dependency_treebank is already up-to-date!\n",
            "[nltk_data]    | Downloading package dolch to /root/nltk_data...\n",
            "[nltk_data]    |   Package dolch is already up-to-date!\n",
            "[nltk_data]    | Downloading package europarl_raw to\n",
            "[nltk_data]    |     /root/nltk_data...\n",
            "[nltk_data]    |   Package europarl_raw is already up-to-date!\n",
            "[nltk_data]    | Downloading package floresta to /root/nltk_data...\n",
            "[nltk_data]    |   Package floresta is already up-to-date!\n",
            "[nltk_data]    | Downloading package framenet_v15 to\n",
            "[nltk_data]    |     /root/nltk_data...\n",
            "[nltk_data]    |   Package framenet_v15 is already up-to-date!\n",
            "[nltk_data]    | Downloading package framenet_v17 to\n",
            "[nltk_data]    |     /root/nltk_data...\n",
            "[nltk_data]    |   Package framenet_v17 is already up-to-date!\n",
            "[nltk_data]    | Downloading package gazetteers to /root/nltk_data...\n",
            "[nltk_data]    |   Package gazetteers is already up-to-date!\n",
            "[nltk_data]    | Downloading package genesis to /root/nltk_data...\n",
            "[nltk_data]    |   Package genesis is already up-to-date!\n",
            "[nltk_data]    | Downloading package gutenberg to /root/nltk_data...\n",
            "[nltk_data]    |   Package gutenberg is already up-to-date!\n",
            "[nltk_data]    | Downloading package ieer to /root/nltk_data...\n",
            "[nltk_data]    |   Package ieer is already up-to-date!\n",
            "[nltk_data]    | Downloading package inaugural to /root/nltk_data...\n",
            "[nltk_data]    |   Package inaugural is already up-to-date!\n",
            "[nltk_data]    | Downloading package indian to /root/nltk_data...\n",
            "[nltk_data]    |   Package indian is already up-to-date!\n",
            "[nltk_data]    | Downloading package jeita to /root/nltk_data...\n",
            "[nltk_data]    |   Package jeita is already up-to-date!\n",
            "[nltk_data]    | Downloading package kimmo to /root/nltk_data...\n",
            "[nltk_data]    |   Package kimmo is already up-to-date!\n",
            "[nltk_data]    | Downloading package knbc to /root/nltk_data...\n",
            "[nltk_data]    |   Package knbc is already up-to-date!\n",
            "[nltk_data]    | Downloading package lin_thesaurus to\n",
            "[nltk_data]    |     /root/nltk_data...\n",
            "[nltk_data]    |   Package lin_thesaurus is already up-to-date!\n",
            "[nltk_data]    | Downloading package mac_morpho to /root/nltk_data...\n",
            "[nltk_data]    |   Package mac_morpho is already up-to-date!\n",
            "[nltk_data]    | Downloading package machado to /root/nltk_data...\n",
            "[nltk_data]    |   Package machado is already up-to-date!\n",
            "[nltk_data]    | Downloading package masc_tagged to /root/nltk_data...\n",
            "[nltk_data]    |   Package masc_tagged is already up-to-date!\n",
            "[nltk_data]    | Downloading package moses_sample to\n",
            "[nltk_data]    |     /root/nltk_data...\n",
            "[nltk_data]    |   Package moses_sample is already up-to-date!\n",
            "[nltk_data]    | Downloading package movie_reviews to\n",
            "[nltk_data]    |     /root/nltk_data...\n",
            "[nltk_data]    |   Package movie_reviews is already up-to-date!\n",
            "[nltk_data]    | Downloading package names to /root/nltk_data...\n",
            "[nltk_data]    |   Package names is already up-to-date!\n",
            "[nltk_data]    | Downloading package nombank.1.0 to /root/nltk_data...\n",
            "[nltk_data]    |   Package nombank.1.0 is already up-to-date!\n",
            "[nltk_data]    | Downloading package nps_chat to /root/nltk_data...\n",
            "[nltk_data]    |   Package nps_chat is already up-to-date!\n",
            "[nltk_data]    | Downloading package omw to /root/nltk_data...\n",
            "[nltk_data]    |   Package omw is already up-to-date!\n",
            "[nltk_data]    | Downloading package opinion_lexicon to\n",
            "[nltk_data]    |     /root/nltk_data...\n",
            "[nltk_data]    |   Package opinion_lexicon is already up-to-date!\n",
            "[nltk_data]    | Downloading package paradigms to /root/nltk_data...\n",
            "[nltk_data]    |   Package paradigms is already up-to-date!\n",
            "[nltk_data]    | Downloading package pil to /root/nltk_data...\n",
            "[nltk_data]    |   Package pil is already up-to-date!\n",
            "[nltk_data]    | Downloading package pl196x to /root/nltk_data...\n",
            "[nltk_data]    |   Package pl196x is already up-to-date!\n",
            "[nltk_data]    | Downloading package ppattach to /root/nltk_data...\n",
            "[nltk_data]    |   Package ppattach is already up-to-date!\n",
            "[nltk_data]    | Downloading package problem_reports to\n",
            "[nltk_data]    |     /root/nltk_data...\n",
            "[nltk_data]    |   Package problem_reports is already up-to-date!\n",
            "[nltk_data]    | Downloading package propbank to /root/nltk_data...\n",
            "[nltk_data]    |   Package propbank is already up-to-date!\n",
            "[nltk_data]    | Downloading package ptb to /root/nltk_data...\n",
            "[nltk_data]    |   Package ptb is already up-to-date!\n",
            "[nltk_data]    | Downloading package product_reviews_1 to\n",
            "[nltk_data]    |     /root/nltk_data...\n",
            "[nltk_data]    |   Package product_reviews_1 is already up-to-date!\n",
            "[nltk_data]    | Downloading package product_reviews_2 to\n",
            "[nltk_data]    |     /root/nltk_data...\n",
            "[nltk_data]    |   Package product_reviews_2 is already up-to-date!\n",
            "[nltk_data]    | Downloading package pros_cons to /root/nltk_data...\n",
            "[nltk_data]    |   Package pros_cons is already up-to-date!\n",
            "[nltk_data]    | Downloading package qc to /root/nltk_data...\n",
            "[nltk_data]    |   Package qc is already up-to-date!\n",
            "[nltk_data]    | Downloading package reuters to /root/nltk_data...\n",
            "[nltk_data]    |   Package reuters is already up-to-date!\n",
            "[nltk_data]    | Downloading package rte to /root/nltk_data...\n",
            "[nltk_data]    |   Package rte is already up-to-date!\n",
            "[nltk_data]    | Downloading package semcor to /root/nltk_data...\n",
            "[nltk_data]    |   Package semcor is already up-to-date!\n",
            "[nltk_data]    | Downloading package senseval to /root/nltk_data...\n",
            "[nltk_data]    |   Package senseval is already up-to-date!\n",
            "[nltk_data]    | Downloading package sentiwordnet to\n",
            "[nltk_data]    |     /root/nltk_data...\n",
            "[nltk_data]    |   Package sentiwordnet is already up-to-date!\n",
            "[nltk_data]    | Downloading package sentence_polarity to\n",
            "[nltk_data]    |     /root/nltk_data...\n",
            "[nltk_data]    |   Package sentence_polarity is already up-to-date!\n",
            "[nltk_data]    | Downloading package shakespeare to /root/nltk_data...\n",
            "[nltk_data]    |   Package shakespeare is already up-to-date!\n",
            "[nltk_data]    | Downloading package sinica_treebank to\n",
            "[nltk_data]    |     /root/nltk_data...\n",
            "[nltk_data]    |   Package sinica_treebank is already up-to-date!\n",
            "[nltk_data]    | Downloading package smultron to /root/nltk_data...\n",
            "[nltk_data]    |   Package smultron is already up-to-date!\n",
            "[nltk_data]    | Downloading package state_union to /root/nltk_data...\n",
            "[nltk_data]    |   Package state_union is already up-to-date!\n",
            "[nltk_data]    | Downloading package stopwords to /root/nltk_data...\n",
            "[nltk_data]    |   Package stopwords is already up-to-date!\n",
            "[nltk_data]    | Downloading package subjectivity to\n",
            "[nltk_data]    |     /root/nltk_data...\n",
            "[nltk_data]    |   Package subjectivity is already up-to-date!\n",
            "[nltk_data]    | Downloading package swadesh to /root/nltk_data...\n",
            "[nltk_data]    |   Package swadesh is already up-to-date!\n",
            "[nltk_data]    | Downloading package switchboard to /root/nltk_data...\n",
            "[nltk_data]    |   Package switchboard is already up-to-date!\n",
            "[nltk_data]    | Downloading package timit to /root/nltk_data...\n",
            "[nltk_data]    |   Package timit is already up-to-date!\n",
            "[nltk_data]    | Downloading package toolbox to /root/nltk_data...\n",
            "[nltk_data]    |   Package toolbox is already up-to-date!\n",
            "[nltk_data]    | Downloading package treebank to /root/nltk_data...\n",
            "[nltk_data]    |   Package treebank is already up-to-date!\n",
            "[nltk_data]    | Downloading package twitter_samples to\n",
            "[nltk_data]    |     /root/nltk_data...\n",
            "[nltk_data]    |   Package twitter_samples is already up-to-date!\n",
            "[nltk_data]    | Downloading package udhr to /root/nltk_data...\n",
            "[nltk_data]    |   Package udhr is already up-to-date!\n",
            "[nltk_data]    | Downloading package udhr2 to /root/nltk_data...\n",
            "[nltk_data]    |   Package udhr2 is already up-to-date!\n",
            "[nltk_data]    | Downloading package unicode_samples to\n",
            "[nltk_data]    |     /root/nltk_data...\n",
            "[nltk_data]    |   Package unicode_samples is already up-to-date!\n",
            "[nltk_data]    | Downloading package universal_treebanks_v20 to\n",
            "[nltk_data]    |     /root/nltk_data...\n",
            "[nltk_data]    |   Package universal_treebanks_v20 is already up-to-\n",
            "[nltk_data]    |       date!\n",
            "[nltk_data]    | Downloading package verbnet to /root/nltk_data...\n",
            "[nltk_data]    |   Package verbnet is already up-to-date!\n",
            "[nltk_data]    | Downloading package verbnet3 to /root/nltk_data...\n",
            "[nltk_data]    |   Package verbnet3 is already up-to-date!\n",
            "[nltk_data]    | Downloading package webtext to /root/nltk_data...\n",
            "[nltk_data]    |   Package webtext is already up-to-date!\n",
            "[nltk_data]    | Downloading package wordnet to /root/nltk_data...\n",
            "[nltk_data]    |   Package wordnet is already up-to-date!\n",
            "[nltk_data]    | Downloading package wordnet_ic to /root/nltk_data...\n",
            "[nltk_data]    |   Package wordnet_ic is already up-to-date!\n",
            "[nltk_data]    | Downloading package words to /root/nltk_data...\n",
            "[nltk_data]    |   Package words is already up-to-date!\n",
            "[nltk_data]    | Downloading package ycoe to /root/nltk_data...\n",
            "[nltk_data]    |   Package ycoe is already up-to-date!\n",
            "[nltk_data]    | Downloading package rslp to /root/nltk_data...\n",
            "[nltk_data]    |   Package rslp is already up-to-date!\n",
            "[nltk_data]    | Downloading package maxent_treebank_pos_tagger to\n",
            "[nltk_data]    |     /root/nltk_data...\n",
            "[nltk_data]    |   Package maxent_treebank_pos_tagger is already up-\n",
            "[nltk_data]    |       to-date!\n",
            "[nltk_data]    | Downloading package universal_tagset to\n",
            "[nltk_data]    |     /root/nltk_data...\n",
            "[nltk_data]    |   Package universal_tagset is already up-to-date!\n",
            "[nltk_data]    | Downloading package maxent_ne_chunker to\n",
            "[nltk_data]    |     /root/nltk_data...\n",
            "[nltk_data]    |   Package maxent_ne_chunker is already up-to-date!\n",
            "[nltk_data]    | Downloading package punkt to /root/nltk_data...\n",
            "[nltk_data]    |   Package punkt is already up-to-date!\n",
            "[nltk_data]    | Downloading package book_grammars to\n",
            "[nltk_data]    |     /root/nltk_data...\n",
            "[nltk_data]    |   Package book_grammars is already up-to-date!\n",
            "[nltk_data]    | Downloading package sample_grammars to\n",
            "[nltk_data]    |     /root/nltk_data...\n",
            "[nltk_data]    |   Package sample_grammars is already up-to-date!\n",
            "[nltk_data]    | Downloading package spanish_grammars to\n",
            "[nltk_data]    |     /root/nltk_data...\n",
            "[nltk_data]    |   Package spanish_grammars is already up-to-date!\n",
            "[nltk_data]    | Downloading package basque_grammars to\n",
            "[nltk_data]    |     /root/nltk_data...\n",
            "[nltk_data]    |   Package basque_grammars is already up-to-date!\n",
            "[nltk_data]    | Downloading package large_grammars to\n",
            "[nltk_data]    |     /root/nltk_data...\n",
            "[nltk_data]    |   Package large_grammars is already up-to-date!\n",
            "[nltk_data]    | Downloading package tagsets to /root/nltk_data...\n",
            "[nltk_data]    |   Package tagsets is already up-to-date!\n",
            "[nltk_data]    | Downloading package snowball_data to\n",
            "[nltk_data]    |     /root/nltk_data...\n",
            "[nltk_data]    |   Package snowball_data is already up-to-date!\n",
            "[nltk_data]    | Downloading package bllip_wsj_no_aux to\n",
            "[nltk_data]    |     /root/nltk_data...\n",
            "[nltk_data]    |   Package bllip_wsj_no_aux is already up-to-date!\n",
            "[nltk_data]    | Downloading package word2vec_sample to\n",
            "[nltk_data]    |     /root/nltk_data...\n",
            "[nltk_data]    |   Package word2vec_sample is already up-to-date!\n",
            "[nltk_data]    | Downloading package panlex_swadesh to\n",
            "[nltk_data]    |     /root/nltk_data...\n",
            "[nltk_data]    |   Package panlex_swadesh is already up-to-date!\n",
            "[nltk_data]    | Downloading package mte_teip5 to /root/nltk_data...\n",
            "[nltk_data]    |   Package mte_teip5 is already up-to-date!\n",
            "[nltk_data]    | Downloading package averaged_perceptron_tagger to\n",
            "[nltk_data]    |     /root/nltk_data...\n",
            "[nltk_data]    |   Package averaged_perceptron_tagger is already up-\n",
            "[nltk_data]    |       to-date!\n",
            "[nltk_data]    | Downloading package averaged_perceptron_tagger_ru to\n",
            "[nltk_data]    |     /root/nltk_data...\n",
            "[nltk_data]    |   Package averaged_perceptron_tagger_ru is already\n",
            "[nltk_data]    |       up-to-date!\n",
            "[nltk_data]    | Downloading package perluniprops to\n",
            "[nltk_data]    |     /root/nltk_data...\n",
            "[nltk_data]    |   Package perluniprops is already up-to-date!\n",
            "[nltk_data]    | Downloading package nonbreaking_prefixes to\n",
            "[nltk_data]    |     /root/nltk_data...\n",
            "[nltk_data]    |   Package nonbreaking_prefixes is already up-to-date!\n",
            "[nltk_data]    | Downloading package vader_lexicon to\n",
            "[nltk_data]    |     /root/nltk_data...\n",
            "[nltk_data]    |   Package vader_lexicon is already up-to-date!\n",
            "[nltk_data]    | Downloading package porter_test to /root/nltk_data...\n",
            "[nltk_data]    |   Package porter_test is already up-to-date!\n",
            "[nltk_data]    | Downloading package wmt15_eval to /root/nltk_data...\n",
            "[nltk_data]    |   Package wmt15_eval is already up-to-date!\n",
            "[nltk_data]    | Downloading package mwa_ppdb to /root/nltk_data...\n",
            "[nltk_data]    |   Package mwa_ppdb is already up-to-date!\n",
            "[nltk_data]    | \n",
            "[nltk_data]  Done downloading collection all\n"
          ],
          "name": "stdout"
        },
        {
          "output_type": "execute_result",
          "data": {
            "text/plain": [
              "True"
            ]
          },
          "metadata": {
            "tags": []
          },
          "execution_count": 3
        }
      ]
    },
    {
      "cell_type": "code",
      "metadata": {
        "id": "lP1pgxJDAHfM",
        "colab_type": "code",
        "colab": {}
      },
      "source": [
        "import pandas as pd     ## to read the different .csv files from google drive\n",
        "import numpy as np\n",
        "\n",
        "df=pd.read_csv(\"drive/My Drive/data_depressed.csv\",parse_dates=['date'],encoding='utf-8')\n",
        "df1=pd.read_csv(\"drive/My Drive/data_random.csv\",parse_dates=['date'],encoding='utf-8')\n",
        "df2=pd.read_csv(\"drive/My Drive/data_depressed1.csv\",parse_dates=['date'],encoding='utf-8')\n",
        "df3=pd.read_csv(\"drive/My Drive/data_random1.csv\",parse_dates=['date'],encoding='utf-8')\n",
        "df4=pd.read_csv(\"drive/My Drive/data_random_1.csv\",parse_dates=['date'],encoding='utf-8')"
      ],
      "execution_count": 4,
      "outputs": []
    },
    {
      "cell_type": "code",
      "metadata": {
        "id": "F8wx7z0nBOPf",
        "colab_type": "code",
        "colab": {}
      },
      "source": [
        "df_combined=pd.concat([df,df1,df2,df3,df4],ignore_index=True)      ### to combine the different dataset into one\n",
        "df_combined.sort_values(by='date',ascending=False,ignore_index=True,inplace=True)     ## sort the dataframe according to the date column\n"
      ],
      "execution_count": 5,
      "outputs": []
    },
    {
      "cell_type": "code",
      "metadata": {
        "id": "WjkuBDQFroyi",
        "colab_type": "code",
        "colab": {}
      },
      "source": [
        "#df_combined.apply(lambda x: pd.lib.infer_dtype(x.values))"
      ],
      "execution_count": 6,
      "outputs": []
    },
    {
      "cell_type": "code",
      "metadata": {
        "id": "TDRyloc6DcYd",
        "colab_type": "code",
        "colab": {
          "base_uri": "https://localhost:8080/",
          "height": 225
        },
        "outputId": "c348eb64-f92d-49d9-fada-93a11923bd55"
      },
      "source": [
        "df_combined.duplicated(subset=None,keep='first')   ## to check for duplicates"
      ],
      "execution_count": 7,
      "outputs": [
        {
          "output_type": "execute_result",
          "data": {
            "text/plain": [
              "0         False\n",
              "1         False\n",
              "2         False\n",
              "3         False\n",
              "4         False\n",
              "          ...  \n",
              "310082     True\n",
              "310083    False\n",
              "310084     True\n",
              "310085    False\n",
              "310086     True\n",
              "Length: 310087, dtype: bool"
            ]
          },
          "metadata": {
            "tags": []
          },
          "execution_count": 7
        }
      ]
    },
    {
      "cell_type": "code",
      "metadata": {
        "id": "RA1BdVkF0vFQ",
        "colab_type": "code",
        "colab": {
          "base_uri": "https://localhost:8080/",
          "height": 930
        },
        "outputId": "28a471c9-6987-428e-c101-7a0deb86d887"
      },
      "source": [
        "df_combined.tail(10)   "
      ],
      "execution_count": 8,
      "outputs": [
        {
          "output_type": "execute_result",
          "data": {
            "text/html": [
              "<div>\n",
              "<style scoped>\n",
              "    .dataframe tbody tr th:only-of-type {\n",
              "        vertical-align: middle;\n",
              "    }\n",
              "\n",
              "    .dataframe tbody tr th {\n",
              "        vertical-align: top;\n",
              "    }\n",
              "\n",
              "    .dataframe thead th {\n",
              "        text-align: right;\n",
              "    }\n",
              "</style>\n",
              "<table border=\"1\" class=\"dataframe\">\n",
              "  <thead>\n",
              "    <tr style=\"text-align: right;\">\n",
              "      <th></th>\n",
              "      <th>date</th>\n",
              "      <th>username</th>\n",
              "      <th>to</th>\n",
              "      <th>replies</th>\n",
              "      <th>retweets</th>\n",
              "      <th>favorites</th>\n",
              "      <th>text</th>\n",
              "      <th>geo</th>\n",
              "      <th>mentions</th>\n",
              "      <th>hashtags</th>\n",
              "      <th>id</th>\n",
              "      <th>permalink</th>\n",
              "    </tr>\n",
              "  </thead>\n",
              "  <tbody>\n",
              "    <tr>\n",
              "      <th>310077</th>\n",
              "      <td>2010-09-14 07:26:25</td>\n",
              "      <td>krist0ph3r</td>\n",
              "      <td>NaN</td>\n",
              "      <td>0</td>\n",
              "      <td>0</td>\n",
              "      <td>0</td>\n",
              "      <td>I stand corrected. there is, indeed, a vaccine...</td>\n",
              "      <td>NaN</td>\n",
              "      <td>@mizarcle</td>\n",
              "      <td>NaN</td>\n",
              "      <td>24456504000</td>\n",
              "      <td>https://twitter.com/krist0ph3r/status/24456504000</td>\n",
              "    </tr>\n",
              "    <tr>\n",
              "      <th>310078</th>\n",
              "      <td>2010-09-14 07:26:25</td>\n",
              "      <td>krist0ph3r</td>\n",
              "      <td>NaN</td>\n",
              "      <td>0</td>\n",
              "      <td>0</td>\n",
              "      <td>0</td>\n",
              "      <td>I stand corrected. there is, indeed, a vaccine...</td>\n",
              "      <td>NaN</td>\n",
              "      <td>@mizarcle</td>\n",
              "      <td>NaN</td>\n",
              "      <td>24456504000</td>\n",
              "      <td>https://twitter.com/krist0ph3r/status/24456504000</td>\n",
              "    </tr>\n",
              "    <tr>\n",
              "      <th>310079</th>\n",
              "      <td>2010-09-14 07:15:04</td>\n",
              "      <td>krist0ph3r</td>\n",
              "      <td>NaN</td>\n",
              "      <td>0</td>\n",
              "      <td>0</td>\n",
              "      <td>0</td>\n",
              "      <td>#iWant! RT @24HoursLoot The Four Elements of a...</td>\n",
              "      <td>NaN</td>\n",
              "      <td>@24HoursLoot</td>\n",
              "      <td>#iWant</td>\n",
              "      <td>24456008845</td>\n",
              "      <td>https://twitter.com/krist0ph3r/status/24456008845</td>\n",
              "    </tr>\n",
              "    <tr>\n",
              "      <th>310080</th>\n",
              "      <td>2010-09-14 07:15:04</td>\n",
              "      <td>krist0ph3r</td>\n",
              "      <td>NaN</td>\n",
              "      <td>0</td>\n",
              "      <td>0</td>\n",
              "      <td>0</td>\n",
              "      <td>#iWant! RT @24HoursLoot The Four Elements of a...</td>\n",
              "      <td>NaN</td>\n",
              "      <td>@24HoursLoot</td>\n",
              "      <td>#iWant</td>\n",
              "      <td>24456008845</td>\n",
              "      <td>https://twitter.com/krist0ph3r/status/24456008845</td>\n",
              "    </tr>\n",
              "    <tr>\n",
              "      <th>310081</th>\n",
              "      <td>2010-09-14 07:12:15</td>\n",
              "      <td>krist0ph3r</td>\n",
              "      <td>NaN</td>\n",
              "      <td>0</td>\n",
              "      <td>0</td>\n",
              "      <td>0</td>\n",
              "      <td>there's a vaccine? don't think cancer can be v...</td>\n",
              "      <td>NaN</td>\n",
              "      <td>@mizarcle</td>\n",
              "      <td>NaN</td>\n",
              "      <td>24455883030</td>\n",
              "      <td>https://twitter.com/krist0ph3r/status/24455883030</td>\n",
              "    </tr>\n",
              "    <tr>\n",
              "      <th>310082</th>\n",
              "      <td>2010-09-14 07:12:15</td>\n",
              "      <td>krist0ph3r</td>\n",
              "      <td>NaN</td>\n",
              "      <td>0</td>\n",
              "      <td>0</td>\n",
              "      <td>0</td>\n",
              "      <td>there's a vaccine? don't think cancer can be v...</td>\n",
              "      <td>NaN</td>\n",
              "      <td>@mizarcle</td>\n",
              "      <td>NaN</td>\n",
              "      <td>24455883030</td>\n",
              "      <td>https://twitter.com/krist0ph3r/status/24455883030</td>\n",
              "    </tr>\n",
              "    <tr>\n",
              "      <th>310083</th>\n",
              "      <td>2010-09-14 07:10:56</td>\n",
              "      <td>krist0ph3r</td>\n",
              "      <td>NaN</td>\n",
              "      <td>0</td>\n",
              "      <td>0</td>\n",
              "      <td>0</td>\n",
              "      <td>#nowplaying gareth emery - exposure #awesomeness</td>\n",
              "      <td>NaN</td>\n",
              "      <td>NaN</td>\n",
              "      <td>#nowplaying #awesomeness</td>\n",
              "      <td>24455823620</td>\n",
              "      <td>https://twitter.com/krist0ph3r/status/24455823620</td>\n",
              "    </tr>\n",
              "    <tr>\n",
              "      <th>310084</th>\n",
              "      <td>2010-09-14 07:10:56</td>\n",
              "      <td>krist0ph3r</td>\n",
              "      <td>NaN</td>\n",
              "      <td>0</td>\n",
              "      <td>0</td>\n",
              "      <td>0</td>\n",
              "      <td>#nowplaying gareth emery - exposure #awesomeness</td>\n",
              "      <td>NaN</td>\n",
              "      <td>NaN</td>\n",
              "      <td>#nowplaying #awesomeness</td>\n",
              "      <td>24455823620</td>\n",
              "      <td>https://twitter.com/krist0ph3r/status/24455823620</td>\n",
              "    </tr>\n",
              "    <tr>\n",
              "      <th>310085</th>\n",
              "      <td>2010-09-14 05:21:30</td>\n",
              "      <td>krist0ph3r</td>\n",
              "      <td>NaN</td>\n",
              "      <td>0</td>\n",
              "      <td>0</td>\n",
              "      <td>0</td>\n",
              "      <td>friend was waiting for me to step into office ...</td>\n",
              "      <td>NaN</td>\n",
              "      <td>NaN</td>\n",
              "      <td>NaN</td>\n",
              "      <td>24450570759</td>\n",
              "      <td>https://twitter.com/krist0ph3r/status/24450570759</td>\n",
              "    </tr>\n",
              "    <tr>\n",
              "      <th>310086</th>\n",
              "      <td>2010-09-14 05:21:30</td>\n",
              "      <td>krist0ph3r</td>\n",
              "      <td>NaN</td>\n",
              "      <td>0</td>\n",
              "      <td>0</td>\n",
              "      <td>0</td>\n",
              "      <td>friend was waiting for me to step into office ...</td>\n",
              "      <td>NaN</td>\n",
              "      <td>NaN</td>\n",
              "      <td>NaN</td>\n",
              "      <td>24450570759</td>\n",
              "      <td>https://twitter.com/krist0ph3r/status/24450570759</td>\n",
              "    </tr>\n",
              "  </tbody>\n",
              "</table>\n",
              "</div>"
            ],
            "text/plain": [
              "                      date  ...                                          permalink\n",
              "310077 2010-09-14 07:26:25  ...  https://twitter.com/krist0ph3r/status/24456504000\n",
              "310078 2010-09-14 07:26:25  ...  https://twitter.com/krist0ph3r/status/24456504000\n",
              "310079 2010-09-14 07:15:04  ...  https://twitter.com/krist0ph3r/status/24456008845\n",
              "310080 2010-09-14 07:15:04  ...  https://twitter.com/krist0ph3r/status/24456008845\n",
              "310081 2010-09-14 07:12:15  ...  https://twitter.com/krist0ph3r/status/24455883030\n",
              "310082 2010-09-14 07:12:15  ...  https://twitter.com/krist0ph3r/status/24455883030\n",
              "310083 2010-09-14 07:10:56  ...  https://twitter.com/krist0ph3r/status/24455823620\n",
              "310084 2010-09-14 07:10:56  ...  https://twitter.com/krist0ph3r/status/24455823620\n",
              "310085 2010-09-14 05:21:30  ...  https://twitter.com/krist0ph3r/status/24450570759\n",
              "310086 2010-09-14 05:21:30  ...  https://twitter.com/krist0ph3r/status/24450570759\n",
              "\n",
              "[10 rows x 12 columns]"
            ]
          },
          "metadata": {
            "tags": []
          },
          "execution_count": 8
        }
      ]
    },
    {
      "cell_type": "code",
      "metadata": {
        "id": "RqjFugDAx_6N",
        "colab_type": "code",
        "colab": {}
      },
      "source": [
        "df_combined.drop_duplicates(subset=None,ignore_index=True,inplace=True)    ## to drop the duplicate rows"
      ],
      "execution_count": 9,
      "outputs": []
    },
    {
      "cell_type": "code",
      "metadata": {
        "id": "jBLiXlV20aK3",
        "colab_type": "code",
        "colab": {
          "base_uri": "https://localhost:8080/",
          "height": 499
        },
        "outputId": "4ec54148-048d-4a02-c404-8e698b77746f"
      },
      "source": [
        "df_combined.tail()"
      ],
      "execution_count": 10,
      "outputs": [
        {
          "output_type": "execute_result",
          "data": {
            "text/html": [
              "<div>\n",
              "<style scoped>\n",
              "    .dataframe tbody tr th:only-of-type {\n",
              "        vertical-align: middle;\n",
              "    }\n",
              "\n",
              "    .dataframe tbody tr th {\n",
              "        vertical-align: top;\n",
              "    }\n",
              "\n",
              "    .dataframe thead th {\n",
              "        text-align: right;\n",
              "    }\n",
              "</style>\n",
              "<table border=\"1\" class=\"dataframe\">\n",
              "  <thead>\n",
              "    <tr style=\"text-align: right;\">\n",
              "      <th></th>\n",
              "      <th>date</th>\n",
              "      <th>username</th>\n",
              "      <th>to</th>\n",
              "      <th>replies</th>\n",
              "      <th>retweets</th>\n",
              "      <th>favorites</th>\n",
              "      <th>text</th>\n",
              "      <th>geo</th>\n",
              "      <th>mentions</th>\n",
              "      <th>hashtags</th>\n",
              "      <th>id</th>\n",
              "      <th>permalink</th>\n",
              "    </tr>\n",
              "  </thead>\n",
              "  <tbody>\n",
              "    <tr>\n",
              "      <th>266472</th>\n",
              "      <td>2010-09-14 07:26:25</td>\n",
              "      <td>krist0ph3r</td>\n",
              "      <td>NaN</td>\n",
              "      <td>0</td>\n",
              "      <td>0</td>\n",
              "      <td>0</td>\n",
              "      <td>I stand corrected. there is, indeed, a vaccine...</td>\n",
              "      <td>NaN</td>\n",
              "      <td>@mizarcle</td>\n",
              "      <td>NaN</td>\n",
              "      <td>24456504000</td>\n",
              "      <td>https://twitter.com/krist0ph3r/status/24456504000</td>\n",
              "    </tr>\n",
              "    <tr>\n",
              "      <th>266473</th>\n",
              "      <td>2010-09-14 07:15:04</td>\n",
              "      <td>krist0ph3r</td>\n",
              "      <td>NaN</td>\n",
              "      <td>0</td>\n",
              "      <td>0</td>\n",
              "      <td>0</td>\n",
              "      <td>#iWant! RT @24HoursLoot The Four Elements of a...</td>\n",
              "      <td>NaN</td>\n",
              "      <td>@24HoursLoot</td>\n",
              "      <td>#iWant</td>\n",
              "      <td>24456008845</td>\n",
              "      <td>https://twitter.com/krist0ph3r/status/24456008845</td>\n",
              "    </tr>\n",
              "    <tr>\n",
              "      <th>266474</th>\n",
              "      <td>2010-09-14 07:12:15</td>\n",
              "      <td>krist0ph3r</td>\n",
              "      <td>NaN</td>\n",
              "      <td>0</td>\n",
              "      <td>0</td>\n",
              "      <td>0</td>\n",
              "      <td>there's a vaccine? don't think cancer can be v...</td>\n",
              "      <td>NaN</td>\n",
              "      <td>@mizarcle</td>\n",
              "      <td>NaN</td>\n",
              "      <td>24455883030</td>\n",
              "      <td>https://twitter.com/krist0ph3r/status/24455883030</td>\n",
              "    </tr>\n",
              "    <tr>\n",
              "      <th>266475</th>\n",
              "      <td>2010-09-14 07:10:56</td>\n",
              "      <td>krist0ph3r</td>\n",
              "      <td>NaN</td>\n",
              "      <td>0</td>\n",
              "      <td>0</td>\n",
              "      <td>0</td>\n",
              "      <td>#nowplaying gareth emery - exposure #awesomeness</td>\n",
              "      <td>NaN</td>\n",
              "      <td>NaN</td>\n",
              "      <td>#nowplaying #awesomeness</td>\n",
              "      <td>24455823620</td>\n",
              "      <td>https://twitter.com/krist0ph3r/status/24455823620</td>\n",
              "    </tr>\n",
              "    <tr>\n",
              "      <th>266476</th>\n",
              "      <td>2010-09-14 05:21:30</td>\n",
              "      <td>krist0ph3r</td>\n",
              "      <td>NaN</td>\n",
              "      <td>0</td>\n",
              "      <td>0</td>\n",
              "      <td>0</td>\n",
              "      <td>friend was waiting for me to step into office ...</td>\n",
              "      <td>NaN</td>\n",
              "      <td>NaN</td>\n",
              "      <td>NaN</td>\n",
              "      <td>24450570759</td>\n",
              "      <td>https://twitter.com/krist0ph3r/status/24450570759</td>\n",
              "    </tr>\n",
              "  </tbody>\n",
              "</table>\n",
              "</div>"
            ],
            "text/plain": [
              "                      date  ...                                          permalink\n",
              "266472 2010-09-14 07:26:25  ...  https://twitter.com/krist0ph3r/status/24456504000\n",
              "266473 2010-09-14 07:15:04  ...  https://twitter.com/krist0ph3r/status/24456008845\n",
              "266474 2010-09-14 07:12:15  ...  https://twitter.com/krist0ph3r/status/24455883030\n",
              "266475 2010-09-14 07:10:56  ...  https://twitter.com/krist0ph3r/status/24455823620\n",
              "266476 2010-09-14 05:21:30  ...  https://twitter.com/krist0ph3r/status/24450570759\n",
              "\n",
              "[5 rows x 12 columns]"
            ]
          },
          "metadata": {
            "tags": []
          },
          "execution_count": 10
        }
      ]
    },
    {
      "cell_type": "code",
      "metadata": {
        "id": "Vr1aHAVc1fkD",
        "colab_type": "code",
        "colab": {
          "base_uri": "https://localhost:8080/",
          "height": 482
        },
        "outputId": "3a64ecfd-cdff-472a-eca4-4b988f838329"
      },
      "source": [
        "df_combined.head()"
      ],
      "execution_count": 11,
      "outputs": [
        {
          "output_type": "execute_result",
          "data": {
            "text/html": [
              "<div>\n",
              "<style scoped>\n",
              "    .dataframe tbody tr th:only-of-type {\n",
              "        vertical-align: middle;\n",
              "    }\n",
              "\n",
              "    .dataframe tbody tr th {\n",
              "        vertical-align: top;\n",
              "    }\n",
              "\n",
              "    .dataframe thead th {\n",
              "        text-align: right;\n",
              "    }\n",
              "</style>\n",
              "<table border=\"1\" class=\"dataframe\">\n",
              "  <thead>\n",
              "    <tr style=\"text-align: right;\">\n",
              "      <th></th>\n",
              "      <th>date</th>\n",
              "      <th>username</th>\n",
              "      <th>to</th>\n",
              "      <th>replies</th>\n",
              "      <th>retweets</th>\n",
              "      <th>favorites</th>\n",
              "      <th>text</th>\n",
              "      <th>geo</th>\n",
              "      <th>mentions</th>\n",
              "      <th>hashtags</th>\n",
              "      <th>id</th>\n",
              "      <th>permalink</th>\n",
              "    </tr>\n",
              "  </thead>\n",
              "  <tbody>\n",
              "    <tr>\n",
              "      <th>0</th>\n",
              "      <td>2020-08-14 23:40:49</td>\n",
              "      <td>DalrympleWill</td>\n",
              "      <td>HearaichHerald</td>\n",
              "      <td>2</td>\n",
              "      <td>0</td>\n",
              "      <td>3</td>\n",
              "      <td>Andrew do send me a copy! Love to read it</td>\n",
              "      <td>NaN</td>\n",
              "      <td>NaN</td>\n",
              "      <td>NaN</td>\n",
              "      <td>1294418731251138562</td>\n",
              "      <td>https://twitter.com/DalrympleWill/status/12944...</td>\n",
              "    </tr>\n",
              "    <tr>\n",
              "      <th>1</th>\n",
              "      <td>2020-08-14 23:29:59</td>\n",
              "      <td>lostboy54</td>\n",
              "      <td>ishkarnBHANDARI</td>\n",
              "      <td>10</td>\n",
              "      <td>85</td>\n",
              "      <td>403</td>\n",
              "      <td>This is all coming true. You were right @ishka...</td>\n",
              "      <td>NaN</td>\n",
              "      <td>@ishkarnBHANDARIhttps</td>\n",
              "      <td>NaN</td>\n",
              "      <td>1294416005674889216</td>\n",
              "      <td>https://twitter.com/lostboy54/status/129441600...</td>\n",
              "    </tr>\n",
              "    <tr>\n",
              "      <th>2</th>\n",
              "      <td>2020-08-14 23:27:45</td>\n",
              "      <td>srijanpalsingh</td>\n",
              "      <td>NaN</td>\n",
              "      <td>3</td>\n",
              "      <td>34</td>\n",
              "      <td>151</td>\n",
              "      <td>Wishing everyone a very happy Independence Day...</td>\n",
              "      <td>NaN</td>\n",
              "      <td>NaN</td>\n",
              "      <td>#India #JaiHind #Kalam #IndependenceDay #Indep...</td>\n",
              "      <td>1294415445609472000</td>\n",
              "      <td>https://twitter.com/srijanpalsingh/status/1294...</td>\n",
              "    </tr>\n",
              "    <tr>\n",
              "      <th>3</th>\n",
              "      <td>2020-08-14 23:09:49</td>\n",
              "      <td>AAlHamoud7</td>\n",
              "      <td>NaN</td>\n",
              "      <td>0</td>\n",
              "      <td>0</td>\n",
              "      <td>7</td>\n",
              "      <td>I don’t usually approach first, so when I do, ...</td>\n",
              "      <td>NaN</td>\n",
              "      <td>NaN</td>\n",
              "      <td>NaN</td>\n",
              "      <td>1294410930458173440</td>\n",
              "      <td>https://twitter.com/AAlHamoud7/status/12944109...</td>\n",
              "    </tr>\n",
              "    <tr>\n",
              "      <th>4</th>\n",
              "      <td>2020-08-14 22:21:57</td>\n",
              "      <td>MeerraChopra</td>\n",
              "      <td>NaN</td>\n",
              "      <td>28</td>\n",
              "      <td>19</td>\n",
              "      <td>278</td>\n",
              "      <td>#GunjanSaxena is such a brilliant film that ul...</td>\n",
              "      <td>NaN</td>\n",
              "      <td>@TripathiiPankaj</td>\n",
              "      <td>#GunjanSaxena #jhanvikapoor #sharansharma</td>\n",
              "      <td>1294398885654220800</td>\n",
              "      <td>https://twitter.com/MeerraChopra/status/129439...</td>\n",
              "    </tr>\n",
              "  </tbody>\n",
              "</table>\n",
              "</div>"
            ],
            "text/plain": [
              "                 date  ...                                          permalink\n",
              "0 2020-08-14 23:40:49  ...  https://twitter.com/DalrympleWill/status/12944...\n",
              "1 2020-08-14 23:29:59  ...  https://twitter.com/lostboy54/status/129441600...\n",
              "2 2020-08-14 23:27:45  ...  https://twitter.com/srijanpalsingh/status/1294...\n",
              "3 2020-08-14 23:09:49  ...  https://twitter.com/AAlHamoud7/status/12944109...\n",
              "4 2020-08-14 22:21:57  ...  https://twitter.com/MeerraChopra/status/129439...\n",
              "\n",
              "[5 rows x 12 columns]"
            ]
          },
          "metadata": {
            "tags": []
          },
          "execution_count": 11
        }
      ]
    },
    {
      "cell_type": "code",
      "metadata": {
        "id": "AGr4sMIclay8",
        "colab_type": "code",
        "colab": {
          "base_uri": "https://localhost:8080/",
          "height": 35
        },
        "outputId": "171042fc-879c-46da-f287-1996974019dc"
      },
      "source": [
        "df_combined.shape"
      ],
      "execution_count": 12,
      "outputs": [
        {
          "output_type": "execute_result",
          "data": {
            "text/plain": [
              "(266477, 12)"
            ]
          },
          "metadata": {
            "tags": []
          },
          "execution_count": 12
        }
      ]
    },
    {
      "cell_type": "code",
      "metadata": {
        "id": "HhTDsVg7pR4O",
        "colab_type": "code",
        "colab": {
          "base_uri": "https://localhost:8080/",
          "height": 69
        },
        "outputId": "d0526865-66fe-40e4-fcb5-04b5d763fb90"
      },
      "source": [
        "df_combined.columns"
      ],
      "execution_count": 13,
      "outputs": [
        {
          "output_type": "execute_result",
          "data": {
            "text/plain": [
              "Index(['date', 'username', 'to', 'replies', 'retweets', 'favorites', 'text',\n",
              "       'geo', 'mentions', 'hashtags', 'id', 'permalink'],\n",
              "      dtype='object')"
            ]
          },
          "metadata": {
            "tags": []
          },
          "execution_count": 13
        }
      ]
    },
    {
      "cell_type": "code",
      "metadata": {
        "id": "Hp2SGcfLuRkr",
        "colab_type": "code",
        "colab": {
          "base_uri": "https://localhost:8080/",
          "height": 225
        },
        "outputId": "5bb75aba-1a86-4144-9a4a-402455bb7d90"
      },
      "source": [
        "df_combined.text=df_combined.text.astype('str')\n",
        "df_combined.text.isna().sum()\n",
        "df_combined.text.duplicated()"
      ],
      "execution_count": 14,
      "outputs": [
        {
          "output_type": "execute_result",
          "data": {
            "text/plain": [
              "0         False\n",
              "1         False\n",
              "2         False\n",
              "3         False\n",
              "4         False\n",
              "          ...  \n",
              "266472    False\n",
              "266473    False\n",
              "266474    False\n",
              "266475    False\n",
              "266476    False\n",
              "Name: text, Length: 266477, dtype: bool"
            ]
          },
          "metadata": {
            "tags": []
          },
          "execution_count": 14
        }
      ]
    },
    {
      "cell_type": "code",
      "metadata": {
        "id": "qWNbSbSlSPxf",
        "colab_type": "code",
        "colab": {
          "base_uri": "https://localhost:8080/",
          "height": 35
        },
        "outputId": "3829fa48-6fe3-40ab-faee-ed2b8304d9e5"
      },
      "source": [
        "type(df_combined.text[0])"
      ],
      "execution_count": 15,
      "outputs": [
        {
          "output_type": "execute_result",
          "data": {
            "text/plain": [
              "str"
            ]
          },
          "metadata": {
            "tags": []
          },
          "execution_count": 15
        }
      ]
    },
    {
      "cell_type": "code",
      "metadata": {
        "id": "FapuCcwkoydj",
        "colab_type": "code",
        "colab": {}
      },
      "source": [
        "### to tokenize sentences\n",
        "text=df_combined['text'].values\n",
        "\n",
        "df_combined[\"sentences\"] = (df_combined[\"text\"].map(nltk.sent_tokenize))\n"
      ],
      "execution_count": 16,
      "outputs": []
    },
    {
      "cell_type": "code",
      "metadata": {
        "id": "v0CDnADNghf2",
        "colab_type": "code",
        "colab": {}
      },
      "source": [
        "#for i in range(len(df_combined.sentences)):\n",
        "df_combined.sentences=df_combined.sentences.str.join(\" \")"
      ],
      "execution_count": 17,
      "outputs": []
    },
    {
      "cell_type": "code",
      "metadata": {
        "id": "bxi5kgSdtTie",
        "colab_type": "code",
        "colab": {}
      },
      "source": [
        "#### to tokenize words\n",
        "df_combined['text_tokenized']=df_combined['text'].map(nltk.word_tokenize)"
      ],
      "execution_count": 18,
      "outputs": []
    },
    {
      "cell_type": "code",
      "metadata": {
        "id": "7O8aJBENe3Ky",
        "colab_type": "code",
        "colab": {
          "base_uri": "https://localhost:8080/",
          "height": 35
        },
        "outputId": "61ed143a-5075-4545-e72a-b73c08d17382"
      },
      "source": [
        "df_combined.sentences[0]"
      ],
      "execution_count": 19,
      "outputs": [
        {
          "output_type": "execute_result",
          "data": {
            "application/vnd.google.colaboratory.intrinsic+json": {
              "type": "string"
            },
            "text/plain": [
              "'Andrew do send me a copy! Love to read it'"
            ]
          },
          "metadata": {
            "tags": []
          },
          "execution_count": 19
        }
      ]
    },
    {
      "cell_type": "code",
      "metadata": {
        "id": "7P5gAX-y2onw",
        "colab_type": "code",
        "colab": {
          "base_uri": "https://localhost:8080/",
          "height": 35
        },
        "outputId": "3d599635-49b3-43f0-acc1-866f09358de0"
      },
      "source": [
        "df_combined.shape\n",
        "df_combined.text_tokenized[0]"
      ],
      "execution_count": 20,
      "outputs": [
        {
          "output_type": "execute_result",
          "data": {
            "text/plain": [
              "['Andrew', 'do', 'send', 'me', 'a', 'copy', '!', 'Love', 'to', 'read', 'it']"
            ]
          },
          "metadata": {
            "tags": []
          },
          "execution_count": 20
        }
      ]
    },
    {
      "cell_type": "markdown",
      "metadata": {
        "id": "8UyIsGjI573s",
        "colab_type": "text"
      },
      "source": [
        "**STEMMING**"
      ]
    },
    {
      "cell_type": "code",
      "metadata": {
        "id": "0_S6n7jz3fkb",
        "colab_type": "code",
        "colab": {}
      },
      "source": [
        "from nltk.stem import PorterStemmer ## library for stemming\n",
        "from nltk.corpus import stopwords ## library for stopwords\n",
        "import re"
      ],
      "execution_count": 21,
      "outputs": []
    },
    {
      "cell_type": "code",
      "metadata": {
        "id": "Hkh9c3w47rkA",
        "colab_type": "code",
        "colab": {}
      },
      "source": [
        "#stopwords.words('english') ## prints the stopwords in the english language"
      ],
      "execution_count": 22,
      "outputs": []
    },
    {
      "cell_type": "code",
      "metadata": {
        "id": "7mcaLduC8eQf",
        "colab_type": "code",
        "colab": {}
      },
      "source": [
        "stemmer= PorterStemmer()"
      ],
      "execution_count": 23,
      "outputs": []
    },
    {
      "cell_type": "code",
      "metadata": {
        "id": "DcIQlNiJYb92",
        "colab_type": "code",
        "colab": {}
      },
      "source": [
        "# sentences=[]\n",
        "# words=[stemmer.stem(word) for word in df_combined.text_tokenized[0] if word not in (stopwords.words('english'))]\n",
        "# sentences.append(' '.join(words))\n",
        "# sentences"
      ],
      "execution_count": 24,
      "outputs": []
    },
    {
      "cell_type": "code",
      "metadata": {
        "id": "46QbPdad9Tcg",
        "colab_type": "code",
        "colab": {}
      },
      "source": [
        "sentences=[] ## word noramlization technique-stemming\n",
        "for val in df_combined.sentences:\n",
        "  words=re.sub('[^a-zA-Z]',' ',val)\n",
        "  words=words.lower()\n",
        "  words=words.split()\n",
        "  words=[stemmer.stem(word) for word in words if word not in set (stopwords.words('english'))]\n",
        "  sentences.append(' '.join(words))\n",
        "\n",
        "\n",
        "  "
      ],
      "execution_count": 25,
      "outputs": []
    },
    {
      "cell_type": "code",
      "metadata": {
        "id": "tSMfZGRdfbAR",
        "colab_type": "code",
        "colab": {}
      },
      "source": [
        "df_combined['sentences_stopwordsRemoved']=pd.Series(sentences,index=df_combined.index)\n"
      ],
      "execution_count": 26,
      "outputs": []
    },
    {
      "cell_type": "code",
      "metadata": {
        "id": "grYu3rg3xZHV",
        "colab_type": "code",
        "colab": {
          "base_uri": "https://localhost:8080/",
          "height": 973
        },
        "outputId": "ee3e6067-8136-484f-decb-8ec47074fb2b"
      },
      "source": [
        "df_combined.rename(columns={'sentences_stopwordsRemoved':'stemming_stopwordsRemoved'},inplace=True)\n",
        "df_combined"
      ],
      "execution_count": 27,
      "outputs": [
        {
          "output_type": "execute_result",
          "data": {
            "text/html": [
              "<div>\n",
              "<style scoped>\n",
              "    .dataframe tbody tr th:only-of-type {\n",
              "        vertical-align: middle;\n",
              "    }\n",
              "\n",
              "    .dataframe tbody tr th {\n",
              "        vertical-align: top;\n",
              "    }\n",
              "\n",
              "    .dataframe thead th {\n",
              "        text-align: right;\n",
              "    }\n",
              "</style>\n",
              "<table border=\"1\" class=\"dataframe\">\n",
              "  <thead>\n",
              "    <tr style=\"text-align: right;\">\n",
              "      <th></th>\n",
              "      <th>date</th>\n",
              "      <th>username</th>\n",
              "      <th>to</th>\n",
              "      <th>replies</th>\n",
              "      <th>retweets</th>\n",
              "      <th>favorites</th>\n",
              "      <th>text</th>\n",
              "      <th>geo</th>\n",
              "      <th>mentions</th>\n",
              "      <th>hashtags</th>\n",
              "      <th>id</th>\n",
              "      <th>permalink</th>\n",
              "      <th>sentences</th>\n",
              "      <th>text_tokenized</th>\n",
              "      <th>stemming_stopwordsRemoved</th>\n",
              "    </tr>\n",
              "  </thead>\n",
              "  <tbody>\n",
              "    <tr>\n",
              "      <th>0</th>\n",
              "      <td>2020-08-14 23:40:49</td>\n",
              "      <td>DalrympleWill</td>\n",
              "      <td>HearaichHerald</td>\n",
              "      <td>2</td>\n",
              "      <td>0</td>\n",
              "      <td>3</td>\n",
              "      <td>Andrew do send me a copy! Love to read it</td>\n",
              "      <td>NaN</td>\n",
              "      <td>NaN</td>\n",
              "      <td>NaN</td>\n",
              "      <td>1294418731251138562</td>\n",
              "      <td>https://twitter.com/DalrympleWill/status/12944...</td>\n",
              "      <td>Andrew do send me a copy! Love to read it</td>\n",
              "      <td>[Andrew, do, send, me, a, copy, !, Love, to, r...</td>\n",
              "      <td>andrew send copi love read</td>\n",
              "    </tr>\n",
              "    <tr>\n",
              "      <th>1</th>\n",
              "      <td>2020-08-14 23:29:59</td>\n",
              "      <td>lostboy54</td>\n",
              "      <td>ishkarnBHANDARI</td>\n",
              "      <td>10</td>\n",
              "      <td>85</td>\n",
              "      <td>403</td>\n",
              "      <td>This is all coming true. You were right @ishka...</td>\n",
              "      <td>NaN</td>\n",
              "      <td>@ishkarnBHANDARIhttps</td>\n",
              "      <td>NaN</td>\n",
              "      <td>1294416005674889216</td>\n",
              "      <td>https://twitter.com/lostboy54/status/129441600...</td>\n",
              "      <td>This is all coming true. You were right @ishka...</td>\n",
              "      <td>[This, is, all, coming, true, ., You, were, ri...</td>\n",
              "      <td>come true right ishkarnbhandarihttp twitter co...</td>\n",
              "    </tr>\n",
              "    <tr>\n",
              "      <th>2</th>\n",
              "      <td>2020-08-14 23:27:45</td>\n",
              "      <td>srijanpalsingh</td>\n",
              "      <td>NaN</td>\n",
              "      <td>3</td>\n",
              "      <td>34</td>\n",
              "      <td>151</td>\n",
              "      <td>Wishing everyone a very happy Independence Day...</td>\n",
              "      <td>NaN</td>\n",
              "      <td>NaN</td>\n",
              "      <td>#India #JaiHind #Kalam #IndependenceDay #Indep...</td>\n",
              "      <td>1294415445609472000</td>\n",
              "      <td>https://twitter.com/srijanpalsingh/status/1294...</td>\n",
              "      <td>Wishing everyone a very happy Independence Day...</td>\n",
              "      <td>[Wishing, everyone, a, very, happy, Independen...</td>\n",
              "      <td>wish everyon happi independ day time gratitud ...</td>\n",
              "    </tr>\n",
              "    <tr>\n",
              "      <th>3</th>\n",
              "      <td>2020-08-14 23:09:49</td>\n",
              "      <td>AAlHamoud7</td>\n",
              "      <td>NaN</td>\n",
              "      <td>0</td>\n",
              "      <td>0</td>\n",
              "      <td>7</td>\n",
              "      <td>I don’t usually approach first, so when I do, ...</td>\n",
              "      <td>NaN</td>\n",
              "      <td>NaN</td>\n",
              "      <td>NaN</td>\n",
              "      <td>1294410930458173440</td>\n",
              "      <td>https://twitter.com/AAlHamoud7/status/12944109...</td>\n",
              "      <td>I don’t usually approach first, so when I do, ...</td>\n",
              "      <td>[I, don, ’, t, usually, approach, first, ,, so...</td>\n",
              "      <td>usual approach first probabl special</td>\n",
              "    </tr>\n",
              "    <tr>\n",
              "      <th>4</th>\n",
              "      <td>2020-08-14 22:21:57</td>\n",
              "      <td>MeerraChopra</td>\n",
              "      <td>NaN</td>\n",
              "      <td>28</td>\n",
              "      <td>19</td>\n",
              "      <td>278</td>\n",
              "      <td>#GunjanSaxena is such a brilliant film that ul...</td>\n",
              "      <td>NaN</td>\n",
              "      <td>@TripathiiPankaj</td>\n",
              "      <td>#GunjanSaxena #jhanvikapoor #sharansharma</td>\n",
              "      <td>1294398885654220800</td>\n",
              "      <td>https://twitter.com/MeerraChopra/status/129439...</td>\n",
              "      <td>#GunjanSaxena is such a brilliant film that ul...</td>\n",
              "      <td>[#, GunjanSaxena, is, such, a, brilliant, film...</td>\n",
              "      <td>gunjansaxena brilliant film ull get adrenalin ...</td>\n",
              "    </tr>\n",
              "    <tr>\n",
              "      <th>...</th>\n",
              "      <td>...</td>\n",
              "      <td>...</td>\n",
              "      <td>...</td>\n",
              "      <td>...</td>\n",
              "      <td>...</td>\n",
              "      <td>...</td>\n",
              "      <td>...</td>\n",
              "      <td>...</td>\n",
              "      <td>...</td>\n",
              "      <td>...</td>\n",
              "      <td>...</td>\n",
              "      <td>...</td>\n",
              "      <td>...</td>\n",
              "      <td>...</td>\n",
              "      <td>...</td>\n",
              "    </tr>\n",
              "    <tr>\n",
              "      <th>266472</th>\n",
              "      <td>2010-09-14 07:26:25</td>\n",
              "      <td>krist0ph3r</td>\n",
              "      <td>NaN</td>\n",
              "      <td>0</td>\n",
              "      <td>0</td>\n",
              "      <td>0</td>\n",
              "      <td>I stand corrected. there is, indeed, a vaccine...</td>\n",
              "      <td>NaN</td>\n",
              "      <td>@mizarcle</td>\n",
              "      <td>NaN</td>\n",
              "      <td>24456504000</td>\n",
              "      <td>https://twitter.com/krist0ph3r/status/24456504000</td>\n",
              "      <td>I stand corrected. there is, indeed, a vaccine...</td>\n",
              "      <td>[I, stand, corrected, ., there, is, ,, indeed,...</td>\n",
              "      <td>stand correct inde vaccin cervic cancer except...</td>\n",
              "    </tr>\n",
              "    <tr>\n",
              "      <th>266473</th>\n",
              "      <td>2010-09-14 07:15:04</td>\n",
              "      <td>krist0ph3r</td>\n",
              "      <td>NaN</td>\n",
              "      <td>0</td>\n",
              "      <td>0</td>\n",
              "      <td>0</td>\n",
              "      <td>#iWant! RT @24HoursLoot The Four Elements of a...</td>\n",
              "      <td>NaN</td>\n",
              "      <td>@24HoursLoot</td>\n",
              "      <td>#iWant</td>\n",
              "      <td>24456008845</td>\n",
              "      <td>https://twitter.com/krist0ph3r/status/24456008845</td>\n",
              "      <td>#iWant! RT @24HoursLoot The Four Elements of a...</td>\n",
              "      <td>[#, iWant, !, RT, @, 24HoursLoot, The, Four, E...</td>\n",
              "      <td>iwant rt hoursloot four element human geek lif...</td>\n",
              "    </tr>\n",
              "    <tr>\n",
              "      <th>266474</th>\n",
              "      <td>2010-09-14 07:12:15</td>\n",
              "      <td>krist0ph3r</td>\n",
              "      <td>NaN</td>\n",
              "      <td>0</td>\n",
              "      <td>0</td>\n",
              "      <td>0</td>\n",
              "      <td>there's a vaccine? don't think cancer can be v...</td>\n",
              "      <td>NaN</td>\n",
              "      <td>@mizarcle</td>\n",
              "      <td>NaN</td>\n",
              "      <td>24455883030</td>\n",
              "      <td>https://twitter.com/krist0ph3r/status/24455883030</td>\n",
              "      <td>there's a vaccine? don't think cancer can be v...</td>\n",
              "      <td>[there, 's, a, vaccine, ?, do, n't, think, can...</td>\n",
              "      <td>vaccin think cancer vaccin rt mizarcl anyon ta...</td>\n",
              "    </tr>\n",
              "    <tr>\n",
              "      <th>266475</th>\n",
              "      <td>2010-09-14 07:10:56</td>\n",
              "      <td>krist0ph3r</td>\n",
              "      <td>NaN</td>\n",
              "      <td>0</td>\n",
              "      <td>0</td>\n",
              "      <td>0</td>\n",
              "      <td>#nowplaying gareth emery - exposure #awesomeness</td>\n",
              "      <td>NaN</td>\n",
              "      <td>NaN</td>\n",
              "      <td>#nowplaying #awesomeness</td>\n",
              "      <td>24455823620</td>\n",
              "      <td>https://twitter.com/krist0ph3r/status/24455823620</td>\n",
              "      <td>#nowplaying gareth emery - exposure #awesomeness</td>\n",
              "      <td>[#, nowplaying, gareth, emery, -, exposure, #,...</td>\n",
              "      <td>nowplay gareth emeri exposur awesom</td>\n",
              "    </tr>\n",
              "    <tr>\n",
              "      <th>266476</th>\n",
              "      <td>2010-09-14 05:21:30</td>\n",
              "      <td>krist0ph3r</td>\n",
              "      <td>NaN</td>\n",
              "      <td>0</td>\n",
              "      <td>0</td>\n",
              "      <td>0</td>\n",
              "      <td>friend was waiting for me to step into office ...</td>\n",
              "      <td>NaN</td>\n",
              "      <td>NaN</td>\n",
              "      <td>NaN</td>\n",
              "      <td>24450570759</td>\n",
              "      <td>https://twitter.com/krist0ph3r/status/24450570759</td>\n",
              "      <td>friend was waiting for me to step into office ...</td>\n",
              "      <td>[friend, was, waiting, for, me, to, step, into...</td>\n",
              "      <td>friend wait step offic tell news suzuki firebl...</td>\n",
              "    </tr>\n",
              "  </tbody>\n",
              "</table>\n",
              "<p>266477 rows × 15 columns</p>\n",
              "</div>"
            ],
            "text/plain": [
              "                      date  ...                          stemming_stopwordsRemoved\n",
              "0      2020-08-14 23:40:49  ...                         andrew send copi love read\n",
              "1      2020-08-14 23:29:59  ...  come true right ishkarnbhandarihttp twitter co...\n",
              "2      2020-08-14 23:27:45  ...  wish everyon happi independ day time gratitud ...\n",
              "3      2020-08-14 23:09:49  ...               usual approach first probabl special\n",
              "4      2020-08-14 22:21:57  ...  gunjansaxena brilliant film ull get adrenalin ...\n",
              "...                    ...  ...                                                ...\n",
              "266472 2010-09-14 07:26:25  ...  stand correct inde vaccin cervic cancer except...\n",
              "266473 2010-09-14 07:15:04  ...  iwant rt hoursloot four element human geek lif...\n",
              "266474 2010-09-14 07:12:15  ...  vaccin think cancer vaccin rt mizarcl anyon ta...\n",
              "266475 2010-09-14 07:10:56  ...                nowplay gareth emeri exposur awesom\n",
              "266476 2010-09-14 05:21:30  ...  friend wait step offic tell news suzuki firebl...\n",
              "\n",
              "[266477 rows x 15 columns]"
            ]
          },
          "metadata": {
            "tags": []
          },
          "execution_count": 27
        }
      ]
    },
    {
      "cell_type": "code",
      "metadata": {
        "id": "uRHlNZNjd9NJ",
        "colab_type": "code",
        "colab": {
          "base_uri": "https://localhost:8080/",
          "height": 35
        },
        "outputId": "ae29df0d-fc71-4e14-c347-97205921b935"
      },
      "source": [
        "type(df_combined.stemming_stopwordsRemoved)"
      ],
      "execution_count": 28,
      "outputs": [
        {
          "output_type": "execute_result",
          "data": {
            "text/plain": [
              "pandas.core.series.Series"
            ]
          },
          "metadata": {
            "tags": []
          },
          "execution_count": 28
        }
      ]
    },
    {
      "cell_type": "code",
      "metadata": {
        "id": "jjt6Cp1FSgPL",
        "colab_type": "code",
        "colab": {}
      },
      "source": [
        "#df_combined.to_csv('pre_final1.csv',index=False)"
      ],
      "execution_count": 29,
      "outputs": []
    },
    {
      "cell_type": "markdown",
      "metadata": {
        "id": "NoZomU1A6HOz",
        "colab_type": "text"
      },
      "source": [
        "**LEMMATIZATION**"
      ]
    },
    {
      "cell_type": "code",
      "metadata": {
        "id": "Vnl04vxm5jgi",
        "colab_type": "code",
        "colab": {}
      },
      "source": [
        "from nltk.stem import WordNetLemmatizer\n",
        "lemmatizer=WordNetLemmatizer()"
      ],
      "execution_count": 30,
      "outputs": []
    },
    {
      "cell_type": "code",
      "metadata": {
        "id": "qLbclNMh6Uwp",
        "colab_type": "code",
        "colab": {}
      },
      "source": [
        "sentences_1=[] ## word noramlization technique-lemmatization\n",
        "for val in df_combined.sentences:\n",
        "  words=re.sub('[^a-zA-Z]',' ',val)\n",
        "  words=words.lower()\n",
        "  words=words.split()\n",
        "  words=[lemmatizer.lemmatize(word) for word in words if word not in set (stopwords.words('english'))]\n",
        "  sentences_1.append(' '.join(words))"
      ],
      "execution_count": 31,
      "outputs": []
    },
    {
      "cell_type": "code",
      "metadata": {
        "id": "bbRU8rkj74hA",
        "colab_type": "code",
        "colab": {}
      },
      "source": [
        "df_combined['lemmatized_stopwordsRemoved']=pd.Series(sentences_1,index=df_combined.index)\n"
      ],
      "execution_count": 32,
      "outputs": []
    },
    {
      "cell_type": "code",
      "metadata": {
        "id": "tPxBZvZb8IVM",
        "colab_type": "code",
        "colab": {
          "base_uri": "https://localhost:8080/",
          "height": 973
        },
        "outputId": "d18b8b2d-e991-4a17-ef4b-9261fb63afca"
      },
      "source": [
        "df_combined"
      ],
      "execution_count": 33,
      "outputs": [
        {
          "output_type": "execute_result",
          "data": {
            "text/html": [
              "<div>\n",
              "<style scoped>\n",
              "    .dataframe tbody tr th:only-of-type {\n",
              "        vertical-align: middle;\n",
              "    }\n",
              "\n",
              "    .dataframe tbody tr th {\n",
              "        vertical-align: top;\n",
              "    }\n",
              "\n",
              "    .dataframe thead th {\n",
              "        text-align: right;\n",
              "    }\n",
              "</style>\n",
              "<table border=\"1\" class=\"dataframe\">\n",
              "  <thead>\n",
              "    <tr style=\"text-align: right;\">\n",
              "      <th></th>\n",
              "      <th>date</th>\n",
              "      <th>username</th>\n",
              "      <th>to</th>\n",
              "      <th>replies</th>\n",
              "      <th>retweets</th>\n",
              "      <th>favorites</th>\n",
              "      <th>text</th>\n",
              "      <th>geo</th>\n",
              "      <th>mentions</th>\n",
              "      <th>hashtags</th>\n",
              "      <th>id</th>\n",
              "      <th>permalink</th>\n",
              "      <th>sentences</th>\n",
              "      <th>text_tokenized</th>\n",
              "      <th>stemming_stopwordsRemoved</th>\n",
              "      <th>lemmatized_stopwordsRemoved</th>\n",
              "    </tr>\n",
              "  </thead>\n",
              "  <tbody>\n",
              "    <tr>\n",
              "      <th>0</th>\n",
              "      <td>2020-08-14 23:40:49</td>\n",
              "      <td>DalrympleWill</td>\n",
              "      <td>HearaichHerald</td>\n",
              "      <td>2</td>\n",
              "      <td>0</td>\n",
              "      <td>3</td>\n",
              "      <td>Andrew do send me a copy! Love to read it</td>\n",
              "      <td>NaN</td>\n",
              "      <td>NaN</td>\n",
              "      <td>NaN</td>\n",
              "      <td>1294418731251138562</td>\n",
              "      <td>https://twitter.com/DalrympleWill/status/12944...</td>\n",
              "      <td>Andrew do send me a copy! Love to read it</td>\n",
              "      <td>[Andrew, do, send, me, a, copy, !, Love, to, r...</td>\n",
              "      <td>andrew send copi love read</td>\n",
              "      <td>andrew send copy love read</td>\n",
              "    </tr>\n",
              "    <tr>\n",
              "      <th>1</th>\n",
              "      <td>2020-08-14 23:29:59</td>\n",
              "      <td>lostboy54</td>\n",
              "      <td>ishkarnBHANDARI</td>\n",
              "      <td>10</td>\n",
              "      <td>85</td>\n",
              "      <td>403</td>\n",
              "      <td>This is all coming true. You were right @ishka...</td>\n",
              "      <td>NaN</td>\n",
              "      <td>@ishkarnBHANDARIhttps</td>\n",
              "      <td>NaN</td>\n",
              "      <td>1294416005674889216</td>\n",
              "      <td>https://twitter.com/lostboy54/status/129441600...</td>\n",
              "      <td>This is all coming true. You were right @ishka...</td>\n",
              "      <td>[This, is, all, coming, true, ., You, were, ri...</td>\n",
              "      <td>come true right ishkarnbhandarihttp twitter co...</td>\n",
              "      <td>coming true right ishkarnbhandarihttps twitter...</td>\n",
              "    </tr>\n",
              "    <tr>\n",
              "      <th>2</th>\n",
              "      <td>2020-08-14 23:27:45</td>\n",
              "      <td>srijanpalsingh</td>\n",
              "      <td>NaN</td>\n",
              "      <td>3</td>\n",
              "      <td>34</td>\n",
              "      <td>151</td>\n",
              "      <td>Wishing everyone a very happy Independence Day...</td>\n",
              "      <td>NaN</td>\n",
              "      <td>NaN</td>\n",
              "      <td>#India #JaiHind #Kalam #IndependenceDay #Indep...</td>\n",
              "      <td>1294415445609472000</td>\n",
              "      <td>https://twitter.com/srijanpalsingh/status/1294...</td>\n",
              "      <td>Wishing everyone a very happy Independence Day...</td>\n",
              "      <td>[Wishing, everyone, a, very, happy, Independen...</td>\n",
              "      <td>wish everyon happi independ day time gratitud ...</td>\n",
              "      <td>wishing everyone happy independence day time g...</td>\n",
              "    </tr>\n",
              "    <tr>\n",
              "      <th>3</th>\n",
              "      <td>2020-08-14 23:09:49</td>\n",
              "      <td>AAlHamoud7</td>\n",
              "      <td>NaN</td>\n",
              "      <td>0</td>\n",
              "      <td>0</td>\n",
              "      <td>7</td>\n",
              "      <td>I don’t usually approach first, so when I do, ...</td>\n",
              "      <td>NaN</td>\n",
              "      <td>NaN</td>\n",
              "      <td>NaN</td>\n",
              "      <td>1294410930458173440</td>\n",
              "      <td>https://twitter.com/AAlHamoud7/status/12944109...</td>\n",
              "      <td>I don’t usually approach first, so when I do, ...</td>\n",
              "      <td>[I, don, ’, t, usually, approach, first, ,, so...</td>\n",
              "      <td>usual approach first probabl special</td>\n",
              "      <td>usually approach first probably special</td>\n",
              "    </tr>\n",
              "    <tr>\n",
              "      <th>4</th>\n",
              "      <td>2020-08-14 22:21:57</td>\n",
              "      <td>MeerraChopra</td>\n",
              "      <td>NaN</td>\n",
              "      <td>28</td>\n",
              "      <td>19</td>\n",
              "      <td>278</td>\n",
              "      <td>#GunjanSaxena is such a brilliant film that ul...</td>\n",
              "      <td>NaN</td>\n",
              "      <td>@TripathiiPankaj</td>\n",
              "      <td>#GunjanSaxena #jhanvikapoor #sharansharma</td>\n",
              "      <td>1294398885654220800</td>\n",
              "      <td>https://twitter.com/MeerraChopra/status/129439...</td>\n",
              "      <td>#GunjanSaxena is such a brilliant film that ul...</td>\n",
              "      <td>[#, GunjanSaxena, is, such, a, brilliant, film...</td>\n",
              "      <td>gunjansaxena brilliant film ull get adrenalin ...</td>\n",
              "      <td>gunjansaxena brilliant film ull get adrenaline...</td>\n",
              "    </tr>\n",
              "    <tr>\n",
              "      <th>...</th>\n",
              "      <td>...</td>\n",
              "      <td>...</td>\n",
              "      <td>...</td>\n",
              "      <td>...</td>\n",
              "      <td>...</td>\n",
              "      <td>...</td>\n",
              "      <td>...</td>\n",
              "      <td>...</td>\n",
              "      <td>...</td>\n",
              "      <td>...</td>\n",
              "      <td>...</td>\n",
              "      <td>...</td>\n",
              "      <td>...</td>\n",
              "      <td>...</td>\n",
              "      <td>...</td>\n",
              "      <td>...</td>\n",
              "    </tr>\n",
              "    <tr>\n",
              "      <th>266472</th>\n",
              "      <td>2010-09-14 07:26:25</td>\n",
              "      <td>krist0ph3r</td>\n",
              "      <td>NaN</td>\n",
              "      <td>0</td>\n",
              "      <td>0</td>\n",
              "      <td>0</td>\n",
              "      <td>I stand corrected. there is, indeed, a vaccine...</td>\n",
              "      <td>NaN</td>\n",
              "      <td>@mizarcle</td>\n",
              "      <td>NaN</td>\n",
              "      <td>24456504000</td>\n",
              "      <td>https://twitter.com/krist0ph3r/status/24456504000</td>\n",
              "      <td>I stand corrected. there is, indeed, a vaccine...</td>\n",
              "      <td>[I, stand, corrected, ., there, is, ,, indeed,...</td>\n",
              "      <td>stand correct inde vaccin cervic cancer except...</td>\n",
              "      <td>stand corrected indeed vaccine cervical cancer...</td>\n",
              "    </tr>\n",
              "    <tr>\n",
              "      <th>266473</th>\n",
              "      <td>2010-09-14 07:15:04</td>\n",
              "      <td>krist0ph3r</td>\n",
              "      <td>NaN</td>\n",
              "      <td>0</td>\n",
              "      <td>0</td>\n",
              "      <td>0</td>\n",
              "      <td>#iWant! RT @24HoursLoot The Four Elements of a...</td>\n",
              "      <td>NaN</td>\n",
              "      <td>@24HoursLoot</td>\n",
              "      <td>#iWant</td>\n",
              "      <td>24456008845</td>\n",
              "      <td>https://twitter.com/krist0ph3r/status/24456008845</td>\n",
              "      <td>#iWant! RT @24HoursLoot The Four Elements of a...</td>\n",
              "      <td>[#, iWant, !, RT, @, 24HoursLoot, The, Four, E...</td>\n",
              "      <td>iwant rt hoursloot four element human geek lif...</td>\n",
              "      <td>iwant rt hoursloot four element human geek lif...</td>\n",
              "    </tr>\n",
              "    <tr>\n",
              "      <th>266474</th>\n",
              "      <td>2010-09-14 07:12:15</td>\n",
              "      <td>krist0ph3r</td>\n",
              "      <td>NaN</td>\n",
              "      <td>0</td>\n",
              "      <td>0</td>\n",
              "      <td>0</td>\n",
              "      <td>there's a vaccine? don't think cancer can be v...</td>\n",
              "      <td>NaN</td>\n",
              "      <td>@mizarcle</td>\n",
              "      <td>NaN</td>\n",
              "      <td>24455883030</td>\n",
              "      <td>https://twitter.com/krist0ph3r/status/24455883030</td>\n",
              "      <td>there's a vaccine? don't think cancer can be v...</td>\n",
              "      <td>[there, 's, a, vaccine, ?, do, n't, think, can...</td>\n",
              "      <td>vaccin think cancer vaccin rt mizarcl anyon ta...</td>\n",
              "      <td>vaccine think cancer vaccinated rt mizarcle an...</td>\n",
              "    </tr>\n",
              "    <tr>\n",
              "      <th>266475</th>\n",
              "      <td>2010-09-14 07:10:56</td>\n",
              "      <td>krist0ph3r</td>\n",
              "      <td>NaN</td>\n",
              "      <td>0</td>\n",
              "      <td>0</td>\n",
              "      <td>0</td>\n",
              "      <td>#nowplaying gareth emery - exposure #awesomeness</td>\n",
              "      <td>NaN</td>\n",
              "      <td>NaN</td>\n",
              "      <td>#nowplaying #awesomeness</td>\n",
              "      <td>24455823620</td>\n",
              "      <td>https://twitter.com/krist0ph3r/status/24455823620</td>\n",
              "      <td>#nowplaying gareth emery - exposure #awesomeness</td>\n",
              "      <td>[#, nowplaying, gareth, emery, -, exposure, #,...</td>\n",
              "      <td>nowplay gareth emeri exposur awesom</td>\n",
              "      <td>nowplaying gareth emery exposure awesomeness</td>\n",
              "    </tr>\n",
              "    <tr>\n",
              "      <th>266476</th>\n",
              "      <td>2010-09-14 05:21:30</td>\n",
              "      <td>krist0ph3r</td>\n",
              "      <td>NaN</td>\n",
              "      <td>0</td>\n",
              "      <td>0</td>\n",
              "      <td>0</td>\n",
              "      <td>friend was waiting for me to step into office ...</td>\n",
              "      <td>NaN</td>\n",
              "      <td>NaN</td>\n",
              "      <td>NaN</td>\n",
              "      <td>24450570759</td>\n",
              "      <td>https://twitter.com/krist0ph3r/status/24450570759</td>\n",
              "      <td>friend was waiting for me to step into office ...</td>\n",
              "      <td>[friend, was, waiting, for, me, to, step, into...</td>\n",
              "      <td>friend wait step offic tell news suzuki firebl...</td>\n",
              "      <td>friend waiting step office tell news suzuki fi...</td>\n",
              "    </tr>\n",
              "  </tbody>\n",
              "</table>\n",
              "<p>266477 rows × 16 columns</p>\n",
              "</div>"
            ],
            "text/plain": [
              "                      date  ...                        lemmatized_stopwordsRemoved\n",
              "0      2020-08-14 23:40:49  ...                         andrew send copy love read\n",
              "1      2020-08-14 23:29:59  ...  coming true right ishkarnbhandarihttps twitter...\n",
              "2      2020-08-14 23:27:45  ...  wishing everyone happy independence day time g...\n",
              "3      2020-08-14 23:09:49  ...            usually approach first probably special\n",
              "4      2020-08-14 22:21:57  ...  gunjansaxena brilliant film ull get adrenaline...\n",
              "...                    ...  ...                                                ...\n",
              "266472 2010-09-14 07:26:25  ...  stand corrected indeed vaccine cervical cancer...\n",
              "266473 2010-09-14 07:15:04  ...  iwant rt hoursloot four element human geek lif...\n",
              "266474 2010-09-14 07:12:15  ...  vaccine think cancer vaccinated rt mizarcle an...\n",
              "266475 2010-09-14 07:10:56  ...       nowplaying gareth emery exposure awesomeness\n",
              "266476 2010-09-14 05:21:30  ...  friend waiting step office tell news suzuki fi...\n",
              "\n",
              "[266477 rows x 16 columns]"
            ]
          },
          "metadata": {
            "tags": []
          },
          "execution_count": 33
        }
      ]
    },
    {
      "cell_type": "markdown",
      "metadata": {
        "id": "QknOA4ApP1LS",
        "colab_type": "text"
      },
      "source": [
        "**PLOT**"
      ]
    },
    {
      "cell_type": "code",
      "metadata": {
        "id": "bs8aeMLPA-ME",
        "colab_type": "code",
        "colab": {
          "base_uri": "https://localhost:8080/",
          "height": 295
        },
        "outputId": "417f6bcf-61e2-417d-9288-9a86d8cf8e11"
      },
      "source": [
        "import matplotlib.pyplot as plt\n",
        "plt.plot(df_combined['date'],df_combined['replies'])\n",
        "plt.xlabel(\"Year\")\n",
        "plt.ylabel(\"Replies\")\n",
        "plt.title(\"Plot of variation of the number of replies over the years\")\n",
        "plt.show()"
      ],
      "execution_count": 34,
      "outputs": [
        {
          "output_type": "display_data",
          "data": {
            "image/png": "[encoded data removed]",
            "text/plain": [
              "<Figure size 432x288 with 1 Axes>"
            ]
          },
          "metadata": {
            "tags": [],
            "needs_background": "light"
          }
        }
      ]
    },
    {
      "cell_type": "code",
      "metadata": {
        "id": "boKhqxtZC1rE",
        "colab_type": "code",
        "colab": {
          "base_uri": "https://localhost:8080/",
          "height": 295
        },
        "outputId": "c0d3ce66-e534-47b5-d150-deee58c7912c"
      },
      "source": [
        "plt.plot(df_combined['date'],df_combined['favorites'])\n",
        "plt.xlabel(\"Year\")\n",
        "plt.ylabel(\"Favorites\")\n",
        "plt.title(\"Plot of variation of the number of favorites over the years\")\n",
        "plt.show()"
      ],
      "execution_count": 35,
      "outputs": [
        {
          "output_type": "display_data",
          "data": {
            "image/png": "[encoded data removed]",
            "text/plain": [
              "<Figure size 432x288 with 1 Axes>"
            ]
          },
          "metadata": {
            "tags": [],
            "needs_background": "light"
          }
        }
      ]
    },
    {
      "cell_type": "code",
      "metadata": {
        "id": "6f_cTp1niBPG",
        "colab_type": "code",
        "colab": {}
      },
      "source": [
        "df_combined.to_csv('pre_final1.csv',index=False)"
      ],
      "execution_count": 38,
      "outputs": []
    },
    {
      "cell_type": "code",
      "metadata": {
        "id": "TB4VEalFiPPA",
        "colab_type": "code",
        "colab": {}
      },
      "source": [
        ""
      ],
      "execution_count": null,
      "outputs": []
    }
  ]
}
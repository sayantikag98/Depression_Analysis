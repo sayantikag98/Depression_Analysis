{
  "nbformat": 4,
  "nbformat_minor": 0,
  "metadata": {
    "colab": {
      "name": "Depression analysis from tweets.ipynb",
      "provenance": [],
      "collapsed_sections": [],
      "mount_file_id": "1YzPBdYjviBYi263nEFuS_4OCnv4zafqJ",
      "authorship_tag": "ABX9TyMz70Yal3mCYqJIzlIg2Sok",
      "include_colab_link": true
    },
    "kernelspec": {
      "name": "python3",
      "display_name": "Python 3"
    }
  },
  "cells": [
    {
      "cell_type": "markdown",
      "metadata": {
        "id": "view-in-github",
        "colab_type": "text"
      },
      "source": [
        "<a href=\"https://colab.research.google.com/github/sayantikag98/Depression_Analysis/blob/master/Depression_analysis_from_tweets.ipynb\" target=\"_parent\"><img src=\"https://colab.research.google.com/assets/colab-badge.svg\" alt=\"Open In Colab\"/></a>"
      ]
    },
    {
      "cell_type": "code",
      "metadata": {
        "id": "XM3OV8Fo_zc9",
        "colab_type": "code",
        "colab": {
          "base_uri": "https://localhost:8080/",
          "height": 35
        },
        "outputId": "9a035531-e9f6-49d6-d086-807d74693ab3"
      },
      "source": [
        "from google.colab import drive\n",
        "drive.mount('/content/drive')"
      ],
      "execution_count": 42,
      "outputs": [
        {
          "output_type": "stream",
          "text": [
            "Drive already mounted at /content/drive; to attempt to forcibly remount, call drive.mount(\"/content/drive\", force_remount=True).\n"
          ],
          "name": "stdout"
        }
      ]
    },
    {
      "cell_type": "code",
      "metadata": {
        "id": "lP1pgxJDAHfM",
        "colab_type": "code",
        "colab": {}
      },
      "source": [
        "import pandas as pd\n",
        "import numpy as np\n",
        "\n",
        "df=pd.read_csv(\"drive/My Drive/data_depressed.csv\",parse_dates=['date'])\n",
        "df1=pd.read_csv(\"drive/My Drive/data_random.csv\",parse_dates=['date'])\n",
        "df2=pd.read_csv(\"drive/My Drive/data_depressed1.csv\",parse_dates=['date'])\n",
        "df3=pd.read_csv(\"drive/My Drive/data_random1.csv\",parse_dates=['date'])\n",
        "df4=pd.read_csv(\"drive/My Drive/data_random_1.csv\",parse_dates=['date'])"
      ],
      "execution_count": 43,
      "outputs": []
    },
    {
      "cell_type": "code",
      "metadata": {
        "id": "F8wx7z0nBOPf",
        "colab_type": "code",
        "colab": {}
      },
      "source": [
        "df_combined=pd.concat([df,df1,df2,df3,df4],ignore_index=True)\n",
        "df_combined.sort_values(by='date',ascending=False,ignore_index=True,inplace=True)\n"
      ],
      "execution_count": 44,
      "outputs": []
    },
    {
      "cell_type": "code",
      "metadata": {
        "id": "TDRyloc6DcYd",
        "colab_type": "code",
        "colab": {
          "base_uri": "https://localhost:8080/",
          "height": 225
        },
        "outputId": "36811648-5865-40b5-ff10-cf7638ea7c4c"
      },
      "source": [
        "df_combined.duplicated(subset=None,keep='first')"
      ],
      "execution_count": 45,
      "outputs": [
        {
          "output_type": "execute_result",
          "data": {
            "text/plain": [
              "0         False\n",
              "1         False\n",
              "2         False\n",
              "3         False\n",
              "4         False\n",
              "          ...  \n",
              "310082     True\n",
              "310083    False\n",
              "310084     True\n",
              "310085    False\n",
              "310086     True\n",
              "Length: 310087, dtype: bool"
            ]
          },
          "metadata": {
            "tags": []
          },
          "execution_count": 45
        }
      ]
    },
    {
      "cell_type": "code",
      "metadata": {
        "id": "RA1BdVkF0vFQ",
        "colab_type": "code",
        "colab": {
          "base_uri": "https://localhost:8080/",
          "height": 930
        },
        "outputId": "8edbc247-6472-4a38-f6ba-a2207a9618ea"
      },
      "source": [
        "df_combined.tail(10)"
      ],
      "execution_count": 46,
      "outputs": [
        {
          "output_type": "execute_result",
          "data": {
            "text/html": [
              "<div>\n",
              "<style scoped>\n",
              "    .dataframe tbody tr th:only-of-type {\n",
              "        vertical-align: middle;\n",
              "    }\n",
              "\n",
              "    .dataframe tbody tr th {\n",
              "        vertical-align: top;\n",
              "    }\n",
              "\n",
              "    .dataframe thead th {\n",
              "        text-align: right;\n",
              "    }\n",
              "</style>\n",
              "<table border=\"1\" class=\"dataframe\">\n",
              "  <thead>\n",
              "    <tr style=\"text-align: right;\">\n",
              "      <th></th>\n",
              "      <th>date</th>\n",
              "      <th>username</th>\n",
              "      <th>to</th>\n",
              "      <th>replies</th>\n",
              "      <th>retweets</th>\n",
              "      <th>favorites</th>\n",
              "      <th>text</th>\n",
              "      <th>geo</th>\n",
              "      <th>mentions</th>\n",
              "      <th>hashtags</th>\n",
              "      <th>id</th>\n",
              "      <th>permalink</th>\n",
              "    </tr>\n",
              "  </thead>\n",
              "  <tbody>\n",
              "    <tr>\n",
              "      <th>310077</th>\n",
              "      <td>2010-09-14 07:26:25</td>\n",
              "      <td>krist0ph3r</td>\n",
              "      <td>NaN</td>\n",
              "      <td>0</td>\n",
              "      <td>0</td>\n",
              "      <td>0</td>\n",
              "      <td>I stand corrected. there is, indeed, a vaccine...</td>\n",
              "      <td>NaN</td>\n",
              "      <td>@mizarcle</td>\n",
              "      <td>NaN</td>\n",
              "      <td>24456504000</td>\n",
              "      <td>https://twitter.com/krist0ph3r/status/24456504000</td>\n",
              "    </tr>\n",
              "    <tr>\n",
              "      <th>310078</th>\n",
              "      <td>2010-09-14 07:26:25</td>\n",
              "      <td>krist0ph3r</td>\n",
              "      <td>NaN</td>\n",
              "      <td>0</td>\n",
              "      <td>0</td>\n",
              "      <td>0</td>\n",
              "      <td>I stand corrected. there is, indeed, a vaccine...</td>\n",
              "      <td>NaN</td>\n",
              "      <td>@mizarcle</td>\n",
              "      <td>NaN</td>\n",
              "      <td>24456504000</td>\n",
              "      <td>https://twitter.com/krist0ph3r/status/24456504000</td>\n",
              "    </tr>\n",
              "    <tr>\n",
              "      <th>310079</th>\n",
              "      <td>2010-09-14 07:15:04</td>\n",
              "      <td>krist0ph3r</td>\n",
              "      <td>NaN</td>\n",
              "      <td>0</td>\n",
              "      <td>0</td>\n",
              "      <td>0</td>\n",
              "      <td>#iWant! RT @24HoursLoot The Four Elements of a...</td>\n",
              "      <td>NaN</td>\n",
              "      <td>@24HoursLoot</td>\n",
              "      <td>#iWant</td>\n",
              "      <td>24456008845</td>\n",
              "      <td>https://twitter.com/krist0ph3r/status/24456008845</td>\n",
              "    </tr>\n",
              "    <tr>\n",
              "      <th>310080</th>\n",
              "      <td>2010-09-14 07:15:04</td>\n",
              "      <td>krist0ph3r</td>\n",
              "      <td>NaN</td>\n",
              "      <td>0</td>\n",
              "      <td>0</td>\n",
              "      <td>0</td>\n",
              "      <td>#iWant! RT @24HoursLoot The Four Elements of a...</td>\n",
              "      <td>NaN</td>\n",
              "      <td>@24HoursLoot</td>\n",
              "      <td>#iWant</td>\n",
              "      <td>24456008845</td>\n",
              "      <td>https://twitter.com/krist0ph3r/status/24456008845</td>\n",
              "    </tr>\n",
              "    <tr>\n",
              "      <th>310081</th>\n",
              "      <td>2010-09-14 07:12:15</td>\n",
              "      <td>krist0ph3r</td>\n",
              "      <td>NaN</td>\n",
              "      <td>0</td>\n",
              "      <td>0</td>\n",
              "      <td>0</td>\n",
              "      <td>there's a vaccine? don't think cancer can be v...</td>\n",
              "      <td>NaN</td>\n",
              "      <td>@mizarcle</td>\n",
              "      <td>NaN</td>\n",
              "      <td>24455883030</td>\n",
              "      <td>https://twitter.com/krist0ph3r/status/24455883030</td>\n",
              "    </tr>\n",
              "    <tr>\n",
              "      <th>310082</th>\n",
              "      <td>2010-09-14 07:12:15</td>\n",
              "      <td>krist0ph3r</td>\n",
              "      <td>NaN</td>\n",
              "      <td>0</td>\n",
              "      <td>0</td>\n",
              "      <td>0</td>\n",
              "      <td>there's a vaccine? don't think cancer can be v...</td>\n",
              "      <td>NaN</td>\n",
              "      <td>@mizarcle</td>\n",
              "      <td>NaN</td>\n",
              "      <td>24455883030</td>\n",
              "      <td>https://twitter.com/krist0ph3r/status/24455883030</td>\n",
              "    </tr>\n",
              "    <tr>\n",
              "      <th>310083</th>\n",
              "      <td>2010-09-14 07:10:56</td>\n",
              "      <td>krist0ph3r</td>\n",
              "      <td>NaN</td>\n",
              "      <td>0</td>\n",
              "      <td>0</td>\n",
              "      <td>0</td>\n",
              "      <td>#nowplaying gareth emery - exposure #awesomeness</td>\n",
              "      <td>NaN</td>\n",
              "      <td>NaN</td>\n",
              "      <td>#nowplaying #awesomeness</td>\n",
              "      <td>24455823620</td>\n",
              "      <td>https://twitter.com/krist0ph3r/status/24455823620</td>\n",
              "    </tr>\n",
              "    <tr>\n",
              "      <th>310084</th>\n",
              "      <td>2010-09-14 07:10:56</td>\n",
              "      <td>krist0ph3r</td>\n",
              "      <td>NaN</td>\n",
              "      <td>0</td>\n",
              "      <td>0</td>\n",
              "      <td>0</td>\n",
              "      <td>#nowplaying gareth emery - exposure #awesomeness</td>\n",
              "      <td>NaN</td>\n",
              "      <td>NaN</td>\n",
              "      <td>#nowplaying #awesomeness</td>\n",
              "      <td>24455823620</td>\n",
              "      <td>https://twitter.com/krist0ph3r/status/24455823620</td>\n",
              "    </tr>\n",
              "    <tr>\n",
              "      <th>310085</th>\n",
              "      <td>2010-09-14 05:21:30</td>\n",
              "      <td>krist0ph3r</td>\n",
              "      <td>NaN</td>\n",
              "      <td>0</td>\n",
              "      <td>0</td>\n",
              "      <td>0</td>\n",
              "      <td>friend was waiting for me to step into office ...</td>\n",
              "      <td>NaN</td>\n",
              "      <td>NaN</td>\n",
              "      <td>NaN</td>\n",
              "      <td>24450570759</td>\n",
              "      <td>https://twitter.com/krist0ph3r/status/24450570759</td>\n",
              "    </tr>\n",
              "    <tr>\n",
              "      <th>310086</th>\n",
              "      <td>2010-09-14 05:21:30</td>\n",
              "      <td>krist0ph3r</td>\n",
              "      <td>NaN</td>\n",
              "      <td>0</td>\n",
              "      <td>0</td>\n",
              "      <td>0</td>\n",
              "      <td>friend was waiting for me to step into office ...</td>\n",
              "      <td>NaN</td>\n",
              "      <td>NaN</td>\n",
              "      <td>NaN</td>\n",
              "      <td>24450570759</td>\n",
              "      <td>https://twitter.com/krist0ph3r/status/24450570759</td>\n",
              "    </tr>\n",
              "  </tbody>\n",
              "</table>\n",
              "</div>"
            ],
            "text/plain": [
              "                      date  ...                                          permalink\n",
              "310077 2010-09-14 07:26:25  ...  https://twitter.com/krist0ph3r/status/24456504000\n",
              "310078 2010-09-14 07:26:25  ...  https://twitter.com/krist0ph3r/status/24456504000\n",
              "310079 2010-09-14 07:15:04  ...  https://twitter.com/krist0ph3r/status/24456008845\n",
              "310080 2010-09-14 07:15:04  ...  https://twitter.com/krist0ph3r/status/24456008845\n",
              "310081 2010-09-14 07:12:15  ...  https://twitter.com/krist0ph3r/status/24455883030\n",
              "310082 2010-09-14 07:12:15  ...  https://twitter.com/krist0ph3r/status/24455883030\n",
              "310083 2010-09-14 07:10:56  ...  https://twitter.com/krist0ph3r/status/24455823620\n",
              "310084 2010-09-14 07:10:56  ...  https://twitter.com/krist0ph3r/status/24455823620\n",
              "310085 2010-09-14 05:21:30  ...  https://twitter.com/krist0ph3r/status/24450570759\n",
              "310086 2010-09-14 05:21:30  ...  https://twitter.com/krist0ph3r/status/24450570759\n",
              "\n",
              "[10 rows x 12 columns]"
            ]
          },
          "metadata": {
            "tags": []
          },
          "execution_count": 46
        }
      ]
    },
    {
      "cell_type": "code",
      "metadata": {
        "id": "RqjFugDAx_6N",
        "colab_type": "code",
        "colab": {}
      },
      "source": [
        "df_combined.drop_duplicates(subset=None,ignore_index=True,inplace=True)"
      ],
      "execution_count": 47,
      "outputs": []
    },
    {
      "cell_type": "code",
      "metadata": {
        "id": "jBLiXlV20aK3",
        "colab_type": "code",
        "colab": {
          "base_uri": "https://localhost:8080/",
          "height": 499
        },
        "outputId": "d42038fa-3e9a-47d7-d0f1-cd30d3002ed6"
      },
      "source": [
        "df_combined.tail()"
      ],
      "execution_count": 48,
      "outputs": [
        {
          "output_type": "execute_result",
          "data": {
            "text/html": [
              "<div>\n",
              "<style scoped>\n",
              "    .dataframe tbody tr th:only-of-type {\n",
              "        vertical-align: middle;\n",
              "    }\n",
              "\n",
              "    .dataframe tbody tr th {\n",
              "        vertical-align: top;\n",
              "    }\n",
              "\n",
              "    .dataframe thead th {\n",
              "        text-align: right;\n",
              "    }\n",
              "</style>\n",
              "<table border=\"1\" class=\"dataframe\">\n",
              "  <thead>\n",
              "    <tr style=\"text-align: right;\">\n",
              "      <th></th>\n",
              "      <th>date</th>\n",
              "      <th>username</th>\n",
              "      <th>to</th>\n",
              "      <th>replies</th>\n",
              "      <th>retweets</th>\n",
              "      <th>favorites</th>\n",
              "      <th>text</th>\n",
              "      <th>geo</th>\n",
              "      <th>mentions</th>\n",
              "      <th>hashtags</th>\n",
              "      <th>id</th>\n",
              "      <th>permalink</th>\n",
              "    </tr>\n",
              "  </thead>\n",
              "  <tbody>\n",
              "    <tr>\n",
              "      <th>266472</th>\n",
              "      <td>2010-09-14 07:26:25</td>\n",
              "      <td>krist0ph3r</td>\n",
              "      <td>NaN</td>\n",
              "      <td>0</td>\n",
              "      <td>0</td>\n",
              "      <td>0</td>\n",
              "      <td>I stand corrected. there is, indeed, a vaccine...</td>\n",
              "      <td>NaN</td>\n",
              "      <td>@mizarcle</td>\n",
              "      <td>NaN</td>\n",
              "      <td>24456504000</td>\n",
              "      <td>https://twitter.com/krist0ph3r/status/24456504000</td>\n",
              "    </tr>\n",
              "    <tr>\n",
              "      <th>266473</th>\n",
              "      <td>2010-09-14 07:15:04</td>\n",
              "      <td>krist0ph3r</td>\n",
              "      <td>NaN</td>\n",
              "      <td>0</td>\n",
              "      <td>0</td>\n",
              "      <td>0</td>\n",
              "      <td>#iWant! RT @24HoursLoot The Four Elements of a...</td>\n",
              "      <td>NaN</td>\n",
              "      <td>@24HoursLoot</td>\n",
              "      <td>#iWant</td>\n",
              "      <td>24456008845</td>\n",
              "      <td>https://twitter.com/krist0ph3r/status/24456008845</td>\n",
              "    </tr>\n",
              "    <tr>\n",
              "      <th>266474</th>\n",
              "      <td>2010-09-14 07:12:15</td>\n",
              "      <td>krist0ph3r</td>\n",
              "      <td>NaN</td>\n",
              "      <td>0</td>\n",
              "      <td>0</td>\n",
              "      <td>0</td>\n",
              "      <td>there's a vaccine? don't think cancer can be v...</td>\n",
              "      <td>NaN</td>\n",
              "      <td>@mizarcle</td>\n",
              "      <td>NaN</td>\n",
              "      <td>24455883030</td>\n",
              "      <td>https://twitter.com/krist0ph3r/status/24455883030</td>\n",
              "    </tr>\n",
              "    <tr>\n",
              "      <th>266475</th>\n",
              "      <td>2010-09-14 07:10:56</td>\n",
              "      <td>krist0ph3r</td>\n",
              "      <td>NaN</td>\n",
              "      <td>0</td>\n",
              "      <td>0</td>\n",
              "      <td>0</td>\n",
              "      <td>#nowplaying gareth emery - exposure #awesomeness</td>\n",
              "      <td>NaN</td>\n",
              "      <td>NaN</td>\n",
              "      <td>#nowplaying #awesomeness</td>\n",
              "      <td>24455823620</td>\n",
              "      <td>https://twitter.com/krist0ph3r/status/24455823620</td>\n",
              "    </tr>\n",
              "    <tr>\n",
              "      <th>266476</th>\n",
              "      <td>2010-09-14 05:21:30</td>\n",
              "      <td>krist0ph3r</td>\n",
              "      <td>NaN</td>\n",
              "      <td>0</td>\n",
              "      <td>0</td>\n",
              "      <td>0</td>\n",
              "      <td>friend was waiting for me to step into office ...</td>\n",
              "      <td>NaN</td>\n",
              "      <td>NaN</td>\n",
              "      <td>NaN</td>\n",
              "      <td>24450570759</td>\n",
              "      <td>https://twitter.com/krist0ph3r/status/24450570759</td>\n",
              "    </tr>\n",
              "  </tbody>\n",
              "</table>\n",
              "</div>"
            ],
            "text/plain": [
              "                      date  ...                                          permalink\n",
              "266472 2010-09-14 07:26:25  ...  https://twitter.com/krist0ph3r/status/24456504000\n",
              "266473 2010-09-14 07:15:04  ...  https://twitter.com/krist0ph3r/status/24456008845\n",
              "266474 2010-09-14 07:12:15  ...  https://twitter.com/krist0ph3r/status/24455883030\n",
              "266475 2010-09-14 07:10:56  ...  https://twitter.com/krist0ph3r/status/24455823620\n",
              "266476 2010-09-14 05:21:30  ...  https://twitter.com/krist0ph3r/status/24450570759\n",
              "\n",
              "[5 rows x 12 columns]"
            ]
          },
          "metadata": {
            "tags": []
          },
          "execution_count": 48
        }
      ]
    },
    {
      "cell_type": "code",
      "metadata": {
        "id": "Vr1aHAVc1fkD",
        "colab_type": "code",
        "colab": {}
      },
      "source": [
        ""
      ],
      "execution_count": 48,
      "outputs": []
    }
  ]
}